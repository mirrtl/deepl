{
  "cells": [
    {
      "cell_type": "markdown",
      "metadata": {
        "id": "view-in-github",
        "colab_type": "text"
      },
      "source": [
        "<a href=\"https://colab.research.google.com/github/mirrtl/deepl/blob/main/Untitled2.ipynb\" target=\"_parent\"><img src=\"https://colab.research.google.com/assets/colab-badge.svg\" alt=\"Open In Colab\"/></a>"
      ]
    },
    {
      "cell_type": "markdown",
      "metadata": {
        "id": "N70aLsgAQXy2"
      },
      "source": [
        "# Библиотеки и создание данных\n"
      ]
    },
    {
      "cell_type": "code",
      "execution_count": 1,
      "metadata": {
        "id": "WXEdqSltPv76"
      },
      "outputs": [],
      "source": [
        "import torch\n",
        "import torchvision\n",
        "from torchvision.datasets import ImageFolder\n",
        "from torch.utils.data import  Dataset, DataLoader, random_split\n",
        "from torchvision import transforms\n",
        "from torchvision.transforms import v2\n",
        "from torch import nn\n",
        "\n",
        "import os\n",
        "import json\n",
        "import numpy as np\n",
        "import matplotlib.pyplot as plt\n",
        "from matplotlib.ticker import AutoMinorLocator, MultipleLocator\n",
        "from PIL import Image\n",
        "from tqdm import tqdm\n",
        "plt.style.use('dark_background')"
      ]
    },
    {
      "cell_type": "code",
      "execution_count": 2,
      "metadata": {
        "id": "UAjKlWk8QHkd"
      },
      "outputs": [],
      "source": [
        "import struct\n",
        "import sys\n",
        "\n",
        "from array import array\n",
        "from os import path"
      ]
    },
    {
      "cell_type": "code",
      "execution_count": 3,
      "metadata": {
        "colab": {
          "base_uri": "https://localhost:8080/"
        },
        "collapsed": true,
        "id": "yZScOUWAQI4P",
        "outputId": "45e175b6-723a-498a-934d-a9ef32c7fd82"
      },
      "outputs": [
        {
          "output_type": "stream",
          "name": "stdout",
          "text": [
            "Downloading http://yann.lecun.com/exdb/mnist/train-images-idx3-ubyte.gz\n",
            "Failed to download (trying next):\n",
            "HTTP Error 403: Forbidden\n",
            "\n",
            "Downloading https://ossci-datasets.s3.amazonaws.com/mnist/train-images-idx3-ubyte.gz\n",
            "Downloading https://ossci-datasets.s3.amazonaws.com/mnist/train-images-idx3-ubyte.gz to /content/sample_data/MNIST/raw/train-images-idx3-ubyte.gz\n"
          ]
        },
        {
          "output_type": "stream",
          "name": "stderr",
          "text": [
            "100%|██████████| 9912422/9912422 [00:00<00:00, 15248652.86it/s]\n"
          ]
        },
        {
          "output_type": "stream",
          "name": "stdout",
          "text": [
            "Extracting /content/sample_data/MNIST/raw/train-images-idx3-ubyte.gz to /content/sample_data/MNIST/raw\n",
            "\n",
            "Downloading http://yann.lecun.com/exdb/mnist/train-labels-idx1-ubyte.gz\n",
            "Failed to download (trying next):\n",
            "HTTP Error 403: Forbidden\n",
            "\n",
            "Downloading https://ossci-datasets.s3.amazonaws.com/mnist/train-labels-idx1-ubyte.gz\n",
            "Downloading https://ossci-datasets.s3.amazonaws.com/mnist/train-labels-idx1-ubyte.gz to /content/sample_data/MNIST/raw/train-labels-idx1-ubyte.gz\n"
          ]
        },
        {
          "output_type": "stream",
          "name": "stderr",
          "text": [
            "100%|██████████| 28881/28881 [00:00<00:00, 531807.72it/s]\n"
          ]
        },
        {
          "output_type": "stream",
          "name": "stdout",
          "text": [
            "Extracting /content/sample_data/MNIST/raw/train-labels-idx1-ubyte.gz to /content/sample_data/MNIST/raw\n",
            "\n",
            "Downloading http://yann.lecun.com/exdb/mnist/t10k-images-idx3-ubyte.gz\n",
            "Failed to download (trying next):\n",
            "HTTP Error 403: Forbidden\n",
            "\n",
            "Downloading https://ossci-datasets.s3.amazonaws.com/mnist/t10k-images-idx3-ubyte.gz\n",
            "Downloading https://ossci-datasets.s3.amazonaws.com/mnist/t10k-images-idx3-ubyte.gz to /content/sample_data/MNIST/raw/t10k-images-idx3-ubyte.gz\n"
          ]
        },
        {
          "output_type": "stream",
          "name": "stderr",
          "text": [
            "100%|██████████| 1648877/1648877 [00:00<00:00, 4552375.45it/s]\n"
          ]
        },
        {
          "output_type": "stream",
          "name": "stdout",
          "text": [
            "Extracting /content/sample_data/MNIST/raw/t10k-images-idx3-ubyte.gz to /content/sample_data/MNIST/raw\n",
            "\n",
            "Downloading http://yann.lecun.com/exdb/mnist/t10k-labels-idx1-ubyte.gz\n",
            "Failed to download (trying next):\n",
            "HTTP Error 403: Forbidden\n",
            "\n",
            "Downloading https://ossci-datasets.s3.amazonaws.com/mnist/t10k-labels-idx1-ubyte.gz\n",
            "Downloading https://ossci-datasets.s3.amazonaws.com/mnist/t10k-labels-idx1-ubyte.gz to /content/sample_data/MNIST/raw/t10k-labels-idx1-ubyte.gz\n"
          ]
        },
        {
          "output_type": "stream",
          "name": "stderr",
          "text": [
            "100%|██████████| 4542/4542 [00:00<00:00, 9037252.74it/s]\n"
          ]
        },
        {
          "output_type": "stream",
          "name": "stdout",
          "text": [
            "Extracting /content/sample_data/MNIST/raw/t10k-labels-idx1-ubyte.gz to /content/sample_data/MNIST/raw\n",
            "\n"
          ]
        }
      ],
      "source": [
        "train_dataset = torchvision.datasets.MNIST(root='/content/sample_data', train= True, download= True)\n",
        "test_dataset = torchvision.datasets.MNIST(root='/content/sample_data', train= False, download= True)"
      ]
    },
    {
      "cell_type": "code",
      "execution_count": 4,
      "metadata": {
        "collapsed": true,
        "id": "OtVOALyqQOQD"
      },
      "outputs": [],
      "source": [
        "def read(dataset):\n",
        "  # пути к данным, их открытие и получение сведений о данных\n",
        "  if dataset == \"training\":\n",
        "    path_img = \"/content/sample_data/MNIST/raw/train-images-idx3-ubyte\"\n",
        "    path_lbl = \"/content/sample_data/MNIST/raw/train-labels-idx1-ubyte\"\n",
        "  elif dataset == \"testing\":\n",
        "    path_img = \"/content/sample_data/MNIST/raw/t10k-images-idx3-ubyte\"\n",
        "    path_lbl = \"/content/sample_data/MNIST/raw/t10k-labels-idx1-ubyte\"\n",
        "  else:\n",
        "    raise ValueError(\"dataset must be 'testing' or 'training'\")\n",
        "  with open(path_lbl, 'rb') as f_lable:\n",
        "    _, size = struct.unpack(\">II\", f_lable.read(8))\n",
        "    lbl = array(\"b\", f_lable.read())\n",
        "\n",
        "  with open(path_img, 'rb') as f_img:\n",
        "    _, size, rows, cols = struct.unpack(\">IIII\", f_img.read(16))\n",
        "    img = array(\"B\", f_img.read())\n",
        "\n",
        "  return lbl, img, size, rows, cols\n",
        "\n",
        "# функция записи данных\n",
        "def write_dataset(labels, data, size, rows, cols, output_dir):\n",
        "  classes = {i : f\"class_{i}\" for i in range(10)}\n",
        "# список путей к папкам и их создание, если их нет\n",
        "  output_dirs = [\n",
        "    path.join(output_dir, classes[i])\n",
        "    for i in range(10)\n",
        "  ]\n",
        "  for dir in output_dirs:\n",
        "    if not path.exists(dir):\n",
        "      os.makedirs(dir)\n",
        "\n",
        "  # цикл для сохранения фотографий\n",
        "  # получаем метку и ее номер {i}, который соответствует номеру\n",
        "  # фотографии, у которой такая же метка\n",
        "  for (i, label) in enumerate(labels):\n",
        "    output_filename = path.join(output_dirs[label], str(i)+\".jpg\")\n",
        "    # print(\"writing \" + output_filename)\n",
        "# создается массив со срезами, в итоге получается матрица\n",
        "    with open(output_filename, \"wb\") as h:\n",
        "      data_i = [\n",
        "          data[ (i*rows*cols + j*cols):(i*rows*cols + (j+1)*cols) ]\n",
        "          for j in range(rows)\n",
        "      ]\n",
        "      data_array = np.asarray(data_i)\n",
        "# запись\n",
        "      im = Image.fromarray(data_array)\n",
        "      im.save(output_filename)\n",
        "\n",
        "\n",
        "output_path = \"/content/mnist\"\n",
        "for dataset in [\"training\", \"testing\"]:\n",
        "    write_dataset(*read(dataset), path.join(output_path, dataset))"
      ]
    },
    {
      "cell_type": "code",
      "execution_count": 5,
      "metadata": {
        "id": "aYn4Tg4OQWax"
      },
      "outputs": [],
      "source": [
        "if not os.path.isdir(\"dataset\"):\n",
        "  os.mkdir(\"dataset\")\n",
        "img = np.random.randint(0, 50, [100000, 64, 64], dtype = np.uint8)\n",
        "square = np.random.randint(100, 200, [100000, 15, 15], dtype=np.uint8)\n",
        "\n",
        "coords = np.empty([100000,2])\n",
        "data = {}\n",
        "\n",
        "for i in range(img.shape[0]):\n",
        "\n",
        "    x = np.random.randint(20,44)\n",
        "    y = np.random.randint(20,44)\n",
        "\n",
        "    img[i, (y-7):(y+8), (x-7):(x+8)] = square[i]\n",
        "\n",
        "    coords[i] = [y, x]\n",
        "\n",
        "    name_img = f'img_{i}.jpeg'\n",
        "    path_img = os.path.join('dataset/',name_img)\n",
        "\n",
        "    image = Image.fromarray(img[i])\n",
        "    image.save(path_img)\n",
        "\n",
        "    data[name_img] = [y,x]\n",
        "with open('dataset/coords.json', 'w') as f:\n",
        "  json.dump(data, f, indent = 2)"
      ]
    },
    {
      "cell_type": "markdown",
      "metadata": {
        "id": "kdeIgi_3Qhqu"
      },
      "source": [
        "# Класс mnist"
      ]
    },
    {
      "cell_type": "code",
      "execution_count": 6,
      "metadata": {
        "colab": {
          "base_uri": "https://localhost:8080/",
          "height": 36
        },
        "id": "1hvGMq1IQfJE",
        "outputId": "a1f27552-e6ff-4ea2-b386-c7edc49f732c"
      },
      "outputs": [
        {
          "output_type": "execute_result",
          "data": {
            "text/plain": [
              "'cuda'"
            ],
            "application/vnd.google.colaboratory.intrinsic+json": {
              "type": "string"
            }
          },
          "metadata": {},
          "execution_count": 6
        }
      ],
      "source": [
        "device = 'cuda' if torch.cuda.is_available() else 'cpu'\n",
        "device"
      ]
    },
    {
      "cell_type": "code",
      "execution_count": 7,
      "metadata": {
        "id": "oe5CRMT5RIGG"
      },
      "outputs": [],
      "source": [
        "class MNISTDataset(Dataset):\n",
        "  def __init__(self, path, transform = None):\n",
        "    self.path = path\n",
        "    self.transform = transform\n",
        "\n",
        "    self.len_dataset = 0\n",
        "    self.data_list = []\n",
        "\n",
        "    for path_dir, dir_list, file_list in os.walk(path):\n",
        "      if path_dir == path:\n",
        "        self.classes = sorted(dir_list)\n",
        "        self.class_to_idx = {\n",
        "            cls_name : i for i, cls_name in enumerate(self.classes)\n",
        "            }\n",
        "        continue\n",
        "      cls = path_dir.split('/')[-1]\n",
        "\n",
        "      for name_file in file_list:\n",
        "        file_path = os.path.join(path_dir,name_file)\n",
        "        self.data_list.append((file_path, self.class_to_idx[cls]))\n",
        "\n",
        "      self.len_dataset += len(file_list)\n",
        "\n",
        "  def __len__(self):\n",
        "    return self.len_dataset\n",
        "\n",
        "  def __getitem__(self, index):\n",
        "    file_path, target = self.data_list[index]\n",
        "    sample = np.array(Image.open(file_path))\n",
        "\n",
        "    if self.transform != None:\n",
        "      sample =self.transform(sample)\n",
        "\n",
        "    return sample, target"
      ]
    },
    {
      "cell_type": "code",
      "execution_count": 8,
      "metadata": {
        "id": "snc_l04bRKBR"
      },
      "outputs": [],
      "source": [
        "transform = v2.Compose(\n",
        "    [\n",
        "        v2.ToImage(),\n",
        "        v2.Grayscale(),\n",
        "        v2.ToDtype(torch.float32, scale = True),\n",
        "        v2.Normalize( mean=(0.5, ), std = (0.5, ))\n",
        "    ]\n",
        ")"
      ]
    },
    {
      "cell_type": "code",
      "execution_count": 9,
      "metadata": {
        "id": "QUBTkvPARPt3"
      },
      "outputs": [],
      "source": [
        "train_data = MNISTDataset('/content/mnist/training', transform = transform)\n",
        "test_data = MNISTDataset('/content/mnist/testing', transform = transform)"
      ]
    },
    {
      "cell_type": "code",
      "execution_count": 10,
      "metadata": {
        "id": "acsodIu3RSkv"
      },
      "outputs": [],
      "source": [
        "train_data, val_data = random_split(train_data, [0.7, 0.3])"
      ]
    },
    {
      "cell_type": "code",
      "execution_count": 44,
      "metadata": {
        "id": "_K-xiJzaRU3h"
      },
      "outputs": [],
      "source": [
        "train_loader = DataLoader(train_data, batch_size = 64, shuffle = True)\n",
        "val_loader = DataLoader(val_data, batch_size = 64, shuffle = False)\n",
        "test_loader = DataLoader(test_data, batch_size = 64, shuffle = False)"
      ]
    },
    {
      "cell_type": "markdown",
      "metadata": {
        "id": "9caa2AWBlY1p"
      },
      "source": [
        "# Класс для регрессии"
      ]
    },
    {
      "cell_type": "code",
      "execution_count": 12,
      "metadata": {
        "colab": {
          "base_uri": "https://localhost:8080/",
          "height": 36
        },
        "id": "QHcQ2ap1m3gN",
        "outputId": "f32970f5-37d7-4cd1-f0fb-a6f524ca9aea"
      },
      "outputs": [
        {
          "output_type": "execute_result",
          "data": {
            "text/plain": [
              "'cuda'"
            ],
            "application/vnd.google.colaboratory.intrinsic+json": {
              "type": "string"
            }
          },
          "metadata": {},
          "execution_count": 12
        }
      ],
      "source": [
        "device = 'cuda' if torch.cuda.is_available() else 'cpu'\n",
        "device"
      ]
    },
    {
      "cell_type": "code",
      "execution_count": 13,
      "metadata": {
        "id": "CUiLLm8mlhUF"
      },
      "outputs": [],
      "source": [
        "class DatasetReg(Dataset):\n",
        "  def __init__(self, path, transform = None):\n",
        "    self.path = path\n",
        "    self.transform = transform\n",
        "# возвращает список с именами файлов\n",
        "    self.list_name_file = os.listdir(path)\n",
        "    if 'coords.json' in self.list_name_file:\n",
        "      self.list_name_file.remove('coords.json')\n",
        "\n",
        "    self.len_dataset = len(self.list_name_file)\n",
        "\n",
        "    with open(os.path.join(self.path, 'coords.json'), 'r') as f:\n",
        "      self.dict_coords = json.load(f)\n",
        "  def __len__(self):\n",
        "    return self.len_dataset\n",
        "\n",
        "  def __getitem__(self, index):\n",
        "    name_file = self.list_name_file[index]\n",
        "    image_path = os.path.join(self.path, name_file)\n",
        "\n",
        "    image = Image.open(image_path)\n",
        "    coord = torch.tensor(self.dict_coords[name_file], dtype = torch.float32)\n",
        "\n",
        "    if self.transform != None:\n",
        "      image = self.transform(image)\n",
        "    return image, coord"
      ]
    },
    {
      "cell_type": "code",
      "execution_count": 14,
      "metadata": {
        "id": "M1ySGVO0lqHr"
      },
      "outputs": [],
      "source": [
        "transform = v2.Compose(\n",
        "    [\n",
        "        v2.ToImage(),\n",
        "        v2.ToDtype(torch.float32, scale = True),\n",
        "        v2.Normalize(mean = (0.5, ), std = (0.5, ))\n",
        "    ]\n",
        ")"
      ]
    },
    {
      "cell_type": "code",
      "execution_count": 15,
      "metadata": {
        "id": "4_HxSAg_lsc0"
      },
      "outputs": [],
      "source": [
        "dataset = DatasetReg('/content/dataset', transform = transform)"
      ]
    },
    {
      "cell_type": "code",
      "execution_count": 16,
      "metadata": {
        "id": "_nBqRAINKFQ8"
      },
      "outputs": [],
      "source": [
        "train_set, val_set, test_set = random_split(dataset, [0.7, 0.1, 0.2])"
      ]
    },
    {
      "cell_type": "code",
      "execution_count": 17,
      "metadata": {
        "id": "qg4hRX9WmBa9"
      },
      "outputs": [],
      "source": [
        "train_loader = DataLoader(train_set, batch_size = 16, shuffle = True )\n",
        "val_loader = DataLoader(val_set, batch_size = 16, shuffle = False )\n",
        "test_loader = DataLoader(test_set, batch_size = 16, shuffle = False )"
      ]
    },
    {
      "cell_type": "markdown",
      "metadata": {
        "id": "8wmBVVt3RhJL"
      },
      "source": [
        "# Класс модели нейронной сети mnist\n"
      ]
    },
    {
      "cell_type": "code",
      "execution_count": 28,
      "metadata": {
        "colab": {
          "base_uri": "https://localhost:8080/",
          "height": 0
        },
        "id": "ua8WtugvqO_n",
        "outputId": "8baa6c9d-2779-4b35-d271-33901e314788"
      },
      "outputs": [
        {
          "output_type": "execute_result",
          "data": {
            "text/plain": [
              "'cuda'"
            ],
            "application/vnd.google.colaboratory.intrinsic+json": {
              "type": "string"
            }
          },
          "metadata": {},
          "execution_count": 28
        }
      ],
      "source": [
        "device = 'cuda' if torch.cuda.is_available() else 'cpu'\n",
        "device"
      ]
    },
    {
      "cell_type": "code",
      "execution_count": 29,
      "metadata": {
        "colab": {
          "base_uri": "https://localhost:8080/"
        },
        "id": "TdKXRbWSqY2n",
        "outputId": "83f5a88b-3236-48e4-ecf4-7e8bf5e7be1d"
      },
      "outputs": [
        {
          "output_type": "execute_result",
          "data": {
            "text/plain": [
              "True"
            ]
          },
          "metadata": {},
          "execution_count": 29
        }
      ],
      "source": [
        "torch.cuda.is_available()"
      ]
    },
    {
      "cell_type": "code",
      "execution_count": 30,
      "metadata": {
        "id": "5d9pSFUiRiQB"
      },
      "outputs": [],
      "source": [
        "class MyModel(nn.Module):\n",
        "  def __init__(self, input, output):\n",
        "    super().__init__()\n",
        "    self.layer_1 = nn.Linear(input,256)\n",
        "    self.layer_2 = nn.Linear(256, output)\n",
        "    self.act = nn.ReLU()\n",
        "    self.dropout = nn.Dropout(0.5)\n",
        "\n",
        "  def forward(self, x):\n",
        "    x = self.layer_1(x)\n",
        "    x = self.act(x)\n",
        "    x = self.dropout(x)\n",
        "    out = self.layer_2(x)\n",
        "    return out"
      ]
    },
    {
      "cell_type": "code",
      "execution_count": 31,
      "metadata": {
        "id": "5pQhABUQSKQS"
      },
      "outputs": [],
      "source": [
        "loss_model = nn.CrossEntropyLoss()\n",
        "opt = torch.optim.Adam(model.parameters(), lr = 0.001)\n",
        "lr_scheduler = torch.optim.lr_scheduler.ReduceLROnPlateau(opt,\n",
        "                                                          mode = 'min',\n",
        "                                                          factor = 0.1,\n",
        "                                                          patience = 5)\n"
      ]
    },
    {
      "cell_type": "code",
      "execution_count": 32,
      "metadata": {
        "collapsed": true,
        "id": "pEHlQpywENak",
        "colab": {
          "base_uri": "https://localhost:8080/"
        },
        "outputId": "61257e6a-518c-48b2-a616-d7df1a164181"
      },
      "outputs": [
        {
          "output_type": "stream",
          "name": "stdout",
          "text": [
            "OrderedDict([('layer_1.weight', tensor([[-0.0144,  0.0082,  0.0065,  ...,  0.0082, -0.0084,  0.0103],\n",
            "        [-0.0088, -0.0061,  0.0023,  ...,  0.0006, -0.0109, -0.0092],\n",
            "        [-0.0154, -0.0110, -0.0118,  ..., -0.0098,  0.0046,  0.0086],\n",
            "        ...,\n",
            "        [ 0.0072, -0.0103, -0.0151,  ...,  0.0009, -0.0053, -0.0056],\n",
            "        [-0.0096, -0.0095,  0.0107,  ..., -0.0089,  0.0063, -0.0084],\n",
            "        [-0.0020, -0.0152, -0.0067,  ...,  0.0079,  0.0053, -0.0132]],\n",
            "       device='cuda:0')), ('layer_1.bias', tensor([ 9.6781e-03, -1.1472e-02, -1.4198e-02,  5.1588e-03,  1.4780e-02,\n",
            "        -5.1499e-03, -6.9191e-03, -1.3154e-02, -9.7697e-03, -2.4509e-05,\n",
            "        -8.8053e-03, -1.0731e-02, -1.6647e-03, -4.4988e-03, -1.4600e-02,\n",
            "         9.0809e-03,  1.9874e-03,  5.1569e-04,  7.4728e-03,  6.4020e-03,\n",
            "        -1.1291e-03,  1.4880e-02,  5.3959e-03, -1.1220e-02, -5.2143e-03,\n",
            "         5.0482e-03, -1.5000e-02,  1.0308e-02, -1.4194e-02,  1.1640e-02,\n",
            "         7.4908e-03, -1.5600e-02,  1.3439e-02, -3.1170e-03, -1.0651e-02,\n",
            "         2.0873e-03, -1.4444e-03,  1.9145e-03, -5.5504e-03,  7.4063e-03,\n",
            "        -9.9852e-03, -1.0309e-02,  1.0746e-02,  1.0888e-04, -1.3451e-02,\n",
            "        -1.3787e-02, -6.2612e-03,  2.6885e-03, -1.6318e-03, -1.2002e-02,\n",
            "        -3.4132e-03,  2.6079e-03, -8.8868e-03, -2.4484e-03,  2.1721e-03,\n",
            "         8.9475e-03,  1.0198e-02,  1.4787e-02,  1.0577e-02,  4.9435e-03,\n",
            "         5.5328e-03,  5.5924e-03,  1.4557e-02,  1.1283e-02, -4.0159e-03,\n",
            "         1.4928e-02, -1.1115e-02, -4.7721e-03, -6.8173e-03,  2.4275e-03,\n",
            "         3.0434e-03, -1.0456e-02,  1.0481e-02, -6.3631e-04,  5.8696e-03,\n",
            "         1.2111e-02,  7.0843e-03,  3.3214e-03,  4.4633e-03,  2.2391e-04,\n",
            "        -3.0253e-03,  5.3054e-03, -7.4550e-03, -3.0781e-03,  1.2001e-02,\n",
            "         1.0636e-02, -1.5111e-03,  8.2859e-03,  5.5653e-03, -1.1936e-03,\n",
            "         1.1778e-02,  9.5575e-03,  1.3272e-02,  1.2636e-02,  1.0833e-02,\n",
            "         1.3106e-02,  1.4657e-02, -1.2957e-02, -4.8393e-03, -1.4143e-02,\n",
            "        -7.7105e-03,  5.7227e-03,  1.4035e-02, -1.4766e-02,  3.9149e-03,\n",
            "        -7.1185e-03, -2.9760e-03,  1.0663e-02,  2.3026e-03,  1.3954e-02,\n",
            "         5.2961e-05,  2.2413e-04,  1.4267e-02,  1.3314e-02, -3.7640e-03,\n",
            "         4.4989e-03,  1.0468e-03,  4.2372e-03, -1.5250e-02, -1.0617e-02,\n",
            "         2.0584e-03,  1.5152e-02, -1.2386e-02,  3.7099e-03, -4.3902e-03,\n",
            "        -9.0763e-03,  1.3860e-02,  5.1145e-03], device='cuda:0')), ('layer_2.weight', tensor([[ 1.9696e-02, -8.5316e-05,  6.1887e-02, -1.1560e-02,  1.9838e-02,\n",
            "          5.8416e-03,  1.6735e-02,  7.6394e-02, -7.0623e-02, -3.3185e-02,\n",
            "         -5.8604e-02, -8.6773e-02, -7.9395e-02, -4.4658e-02, -6.9178e-02,\n",
            "          3.3482e-02, -3.1142e-02,  8.2447e-02,  6.2465e-02,  8.4840e-03,\n",
            "         -6.7682e-02,  3.3031e-02,  8.2593e-02,  7.7201e-02, -4.4171e-02,\n",
            "         -5.1102e-03,  2.0304e-02,  8.5953e-02, -3.2189e-02,  6.2494e-02,\n",
            "         -7.0272e-02, -3.8103e-02, -6.8729e-02, -6.5699e-02,  7.1569e-02,\n",
            "          5.2416e-02, -4.4935e-02,  1.2393e-02,  4.1557e-02, -5.5603e-03,\n",
            "         -2.0061e-02,  5.9996e-02, -7.8239e-02, -4.1305e-03, -2.5243e-02,\n",
            "         -6.5562e-02,  3.7211e-02, -1.6451e-02, -2.3436e-02,  9.7533e-03,\n",
            "         -6.8096e-02,  3.1878e-02, -2.4553e-02,  4.6201e-02,  7.3513e-02,\n",
            "          4.4652e-02,  1.6820e-02, -6.8222e-03, -1.1957e-02,  4.4509e-02,\n",
            "          2.6371e-02, -8.4876e-03, -2.1139e-02, -5.6025e-02, -4.0291e-02,\n",
            "         -2.2618e-03,  5.7080e-02, -8.4696e-02,  6.1033e-02, -4.6350e-02,\n",
            "         -4.9189e-02,  3.2752e-02,  1.7622e-02, -3.2590e-02,  6.4079e-02,\n",
            "         -7.4217e-02, -7.1739e-02, -7.9155e-02, -4.5125e-03,  8.3016e-02,\n",
            "         -3.4497e-02,  5.7356e-02,  3.8480e-02,  5.5189e-02,  4.1000e-02,\n",
            "         -7.8577e-02,  7.7348e-02,  5.7400e-02, -7.0113e-02, -6.3933e-02,\n",
            "          8.5238e-02, -7.7829e-02, -5.5451e-02, -1.1646e-02,  7.6433e-02,\n",
            "          6.5241e-02,  3.8041e-02,  3.5849e-02, -8.3383e-02, -5.3578e-02,\n",
            "          6.9808e-02,  7.8043e-03, -1.1290e-02, -6.9237e-02, -1.3170e-02,\n",
            "          5.5588e-02, -4.5649e-02, -6.7735e-02,  5.3116e-02, -3.5463e-02,\n",
            "         -9.8378e-03,  8.6705e-02,  8.0226e-02, -7.6806e-02, -2.8878e-02,\n",
            "         -8.0862e-02,  7.0056e-02,  1.5346e-03,  7.7482e-02, -8.7010e-02,\n",
            "          2.3444e-02, -6.5610e-02,  8.2033e-03,  7.3785e-02,  7.6858e-03,\n",
            "         -4.0743e-02, -1.1060e-03, -8.5441e-02],\n",
            "        [-7.1082e-03,  6.7705e-02,  2.6124e-02,  4.1873e-03, -6.7414e-02,\n",
            "         -4.3394e-03, -3.5300e-02, -5.9708e-02,  1.9702e-02, -1.1895e-02,\n",
            "          6.0360e-03, -8.4096e-02,  6.4996e-02, -2.4988e-02,  7.7022e-02,\n",
            "          8.2716e-02, -4.9857e-02,  4.3234e-02, -8.7155e-02,  1.6486e-02,\n",
            "         -4.5350e-02, -6.1170e-03, -3.3015e-02, -7.1643e-02, -2.8114e-02,\n",
            "         -9.4620e-03,  8.0008e-02,  2.7202e-02,  7.8969e-03, -1.8327e-02,\n",
            "         -5.6934e-02, -3.6000e-02,  5.6157e-02,  6.9375e-02, -7.9500e-02,\n",
            "          6.6197e-02, -7.6708e-02, -8.5968e-02,  2.3680e-02,  8.5569e-02,\n",
            "          3.7339e-02, -4.7992e-03, -1.8591e-02,  8.5744e-02, -5.8767e-02,\n",
            "         -3.3468e-02,  4.2218e-02,  7.5083e-02,  3.2351e-02,  2.5864e-02,\n",
            "          3.2585e-02,  5.7183e-03,  8.5534e-02, -3.6505e-02,  3.9320e-02,\n",
            "          5.0229e-02,  1.2184e-02,  2.0197e-02,  7.4134e-02, -4.3118e-02,\n",
            "          5.4647e-02, -8.1812e-02, -5.0261e-02, -1.6166e-02, -6.5136e-02,\n",
            "          3.6649e-02, -3.4192e-02, -8.6805e-03, -7.7042e-02,  3.1496e-02,\n",
            "          2.1046e-02, -5.6074e-02,  3.6912e-02, -5.6220e-02, -6.1063e-02,\n",
            "         -6.5916e-02,  2.8798e-02,  4.8748e-02,  6.7322e-02,  7.5239e-02,\n",
            "          4.8192e-02,  8.5310e-02,  5.6990e-03,  5.2468e-02,  5.8442e-03,\n",
            "          5.8983e-02, -2.5687e-02,  1.3959e-02,  2.6844e-02, -5.8963e-02,\n",
            "         -4.9447e-02,  7.4332e-02,  8.7837e-02,  3.3510e-03,  6.5625e-02,\n",
            "          1.4665e-02, -8.4071e-02, -6.2131e-02,  3.2742e-02,  7.6467e-02,\n",
            "          2.2538e-02, -2.5582e-02, -1.5787e-02,  5.0975e-02, -7.0812e-03,\n",
            "         -5.9987e-02,  6.4886e-02, -3.5097e-02,  3.0750e-02, -5.1035e-02,\n",
            "          1.9973e-03,  1.3360e-02,  4.7844e-02,  3.7075e-02,  1.4360e-03,\n",
            "         -2.8442e-02, -1.9421e-02,  5.0314e-02, -2.0849e-02,  1.5128e-02,\n",
            "          6.2882e-02, -7.7822e-02,  6.7568e-02, -3.0701e-02, -1.1114e-03,\n",
            "          6.7881e-02, -3.9994e-02,  5.0065e-02]], device='cuda:0')), ('layer_2.bias', tensor([-0.0594, -0.0678], device='cuda:0'))])\n",
            "\n",
            "\n",
            "\n",
            "Parameter containing:\n",
            "tensor([[-0.0144,  0.0082,  0.0065,  ...,  0.0082, -0.0084,  0.0103],\n",
            "        [-0.0088, -0.0061,  0.0023,  ...,  0.0006, -0.0109, -0.0092],\n",
            "        [-0.0154, -0.0110, -0.0118,  ..., -0.0098,  0.0046,  0.0086],\n",
            "        ...,\n",
            "        [ 0.0072, -0.0103, -0.0151,  ...,  0.0009, -0.0053, -0.0056],\n",
            "        [-0.0096, -0.0095,  0.0107,  ..., -0.0089,  0.0063, -0.0084],\n",
            "        [-0.0020, -0.0152, -0.0067,  ...,  0.0079,  0.0053, -0.0132]],\n",
            "       device='cuda:0', requires_grad=True)\n",
            "torch.Size([128, 4096])\n",
            "\n",
            "Parameter containing:\n",
            "tensor([ 9.6781e-03, -1.1472e-02, -1.4198e-02,  5.1588e-03,  1.4780e-02,\n",
            "        -5.1499e-03, -6.9191e-03, -1.3154e-02, -9.7697e-03, -2.4509e-05,\n",
            "        -8.8053e-03, -1.0731e-02, -1.6647e-03, -4.4988e-03, -1.4600e-02,\n",
            "         9.0809e-03,  1.9874e-03,  5.1569e-04,  7.4728e-03,  6.4020e-03,\n",
            "        -1.1291e-03,  1.4880e-02,  5.3959e-03, -1.1220e-02, -5.2143e-03,\n",
            "         5.0482e-03, -1.5000e-02,  1.0308e-02, -1.4194e-02,  1.1640e-02,\n",
            "         7.4908e-03, -1.5600e-02,  1.3439e-02, -3.1170e-03, -1.0651e-02,\n",
            "         2.0873e-03, -1.4444e-03,  1.9145e-03, -5.5504e-03,  7.4063e-03,\n",
            "        -9.9852e-03, -1.0309e-02,  1.0746e-02,  1.0888e-04, -1.3451e-02,\n",
            "        -1.3787e-02, -6.2612e-03,  2.6885e-03, -1.6318e-03, -1.2002e-02,\n",
            "        -3.4132e-03,  2.6079e-03, -8.8868e-03, -2.4484e-03,  2.1721e-03,\n",
            "         8.9475e-03,  1.0198e-02,  1.4787e-02,  1.0577e-02,  4.9435e-03,\n",
            "         5.5328e-03,  5.5924e-03,  1.4557e-02,  1.1283e-02, -4.0159e-03,\n",
            "         1.4928e-02, -1.1115e-02, -4.7721e-03, -6.8173e-03,  2.4275e-03,\n",
            "         3.0434e-03, -1.0456e-02,  1.0481e-02, -6.3631e-04,  5.8696e-03,\n",
            "         1.2111e-02,  7.0843e-03,  3.3214e-03,  4.4633e-03,  2.2391e-04,\n",
            "        -3.0253e-03,  5.3054e-03, -7.4550e-03, -3.0781e-03,  1.2001e-02,\n",
            "         1.0636e-02, -1.5111e-03,  8.2859e-03,  5.5653e-03, -1.1936e-03,\n",
            "         1.1778e-02,  9.5575e-03,  1.3272e-02,  1.2636e-02,  1.0833e-02,\n",
            "         1.3106e-02,  1.4657e-02, -1.2957e-02, -4.8393e-03, -1.4143e-02,\n",
            "        -7.7105e-03,  5.7227e-03,  1.4035e-02, -1.4766e-02,  3.9149e-03,\n",
            "        -7.1185e-03, -2.9760e-03,  1.0663e-02,  2.3026e-03,  1.3954e-02,\n",
            "         5.2961e-05,  2.2413e-04,  1.4267e-02,  1.3314e-02, -3.7640e-03,\n",
            "         4.4989e-03,  1.0468e-03,  4.2372e-03, -1.5250e-02, -1.0617e-02,\n",
            "         2.0584e-03,  1.5152e-02, -1.2386e-02,  3.7099e-03, -4.3902e-03,\n",
            "        -9.0763e-03,  1.3860e-02,  5.1145e-03], device='cuda:0',\n",
            "       requires_grad=True)\n",
            "torch.Size([128])\n",
            "\n",
            "Parameter containing:\n",
            "tensor([[ 1.9696e-02, -8.5316e-05,  6.1887e-02, -1.1560e-02,  1.9838e-02,\n",
            "          5.8416e-03,  1.6735e-02,  7.6394e-02, -7.0623e-02, -3.3185e-02,\n",
            "         -5.8604e-02, -8.6773e-02, -7.9395e-02, -4.4658e-02, -6.9178e-02,\n",
            "          3.3482e-02, -3.1142e-02,  8.2447e-02,  6.2465e-02,  8.4840e-03,\n",
            "         -6.7682e-02,  3.3031e-02,  8.2593e-02,  7.7201e-02, -4.4171e-02,\n",
            "         -5.1102e-03,  2.0304e-02,  8.5953e-02, -3.2189e-02,  6.2494e-02,\n",
            "         -7.0272e-02, -3.8103e-02, -6.8729e-02, -6.5699e-02,  7.1569e-02,\n",
            "          5.2416e-02, -4.4935e-02,  1.2393e-02,  4.1557e-02, -5.5603e-03,\n",
            "         -2.0061e-02,  5.9996e-02, -7.8239e-02, -4.1305e-03, -2.5243e-02,\n",
            "         -6.5562e-02,  3.7211e-02, -1.6451e-02, -2.3436e-02,  9.7533e-03,\n",
            "         -6.8096e-02,  3.1878e-02, -2.4553e-02,  4.6201e-02,  7.3513e-02,\n",
            "          4.4652e-02,  1.6820e-02, -6.8222e-03, -1.1957e-02,  4.4509e-02,\n",
            "          2.6371e-02, -8.4876e-03, -2.1139e-02, -5.6025e-02, -4.0291e-02,\n",
            "         -2.2618e-03,  5.7080e-02, -8.4696e-02,  6.1033e-02, -4.6350e-02,\n",
            "         -4.9189e-02,  3.2752e-02,  1.7622e-02, -3.2590e-02,  6.4079e-02,\n",
            "         -7.4217e-02, -7.1739e-02, -7.9155e-02, -4.5125e-03,  8.3016e-02,\n",
            "         -3.4497e-02,  5.7356e-02,  3.8480e-02,  5.5189e-02,  4.1000e-02,\n",
            "         -7.8577e-02,  7.7348e-02,  5.7400e-02, -7.0113e-02, -6.3933e-02,\n",
            "          8.5238e-02, -7.7829e-02, -5.5451e-02, -1.1646e-02,  7.6433e-02,\n",
            "          6.5241e-02,  3.8041e-02,  3.5849e-02, -8.3383e-02, -5.3578e-02,\n",
            "          6.9808e-02,  7.8043e-03, -1.1290e-02, -6.9237e-02, -1.3170e-02,\n",
            "          5.5588e-02, -4.5649e-02, -6.7735e-02,  5.3116e-02, -3.5463e-02,\n",
            "         -9.8378e-03,  8.6705e-02,  8.0226e-02, -7.6806e-02, -2.8878e-02,\n",
            "         -8.0862e-02,  7.0056e-02,  1.5346e-03,  7.7482e-02, -8.7010e-02,\n",
            "          2.3444e-02, -6.5610e-02,  8.2033e-03,  7.3785e-02,  7.6858e-03,\n",
            "         -4.0743e-02, -1.1060e-03, -8.5441e-02],\n",
            "        [-7.1082e-03,  6.7705e-02,  2.6124e-02,  4.1873e-03, -6.7414e-02,\n",
            "         -4.3394e-03, -3.5300e-02, -5.9708e-02,  1.9702e-02, -1.1895e-02,\n",
            "          6.0360e-03, -8.4096e-02,  6.4996e-02, -2.4988e-02,  7.7022e-02,\n",
            "          8.2716e-02, -4.9857e-02,  4.3234e-02, -8.7155e-02,  1.6486e-02,\n",
            "         -4.5350e-02, -6.1170e-03, -3.3015e-02, -7.1643e-02, -2.8114e-02,\n",
            "         -9.4620e-03,  8.0008e-02,  2.7202e-02,  7.8969e-03, -1.8327e-02,\n",
            "         -5.6934e-02, -3.6000e-02,  5.6157e-02,  6.9375e-02, -7.9500e-02,\n",
            "          6.6197e-02, -7.6708e-02, -8.5968e-02,  2.3680e-02,  8.5569e-02,\n",
            "          3.7339e-02, -4.7992e-03, -1.8591e-02,  8.5744e-02, -5.8767e-02,\n",
            "         -3.3468e-02,  4.2218e-02,  7.5083e-02,  3.2351e-02,  2.5864e-02,\n",
            "          3.2585e-02,  5.7183e-03,  8.5534e-02, -3.6505e-02,  3.9320e-02,\n",
            "          5.0229e-02,  1.2184e-02,  2.0197e-02,  7.4134e-02, -4.3118e-02,\n",
            "          5.4647e-02, -8.1812e-02, -5.0261e-02, -1.6166e-02, -6.5136e-02,\n",
            "          3.6649e-02, -3.4192e-02, -8.6805e-03, -7.7042e-02,  3.1496e-02,\n",
            "          2.1046e-02, -5.6074e-02,  3.6912e-02, -5.6220e-02, -6.1063e-02,\n",
            "         -6.5916e-02,  2.8798e-02,  4.8748e-02,  6.7322e-02,  7.5239e-02,\n",
            "          4.8192e-02,  8.5310e-02,  5.6990e-03,  5.2468e-02,  5.8442e-03,\n",
            "          5.8983e-02, -2.5687e-02,  1.3959e-02,  2.6844e-02, -5.8963e-02,\n",
            "         -4.9447e-02,  7.4332e-02,  8.7837e-02,  3.3510e-03,  6.5625e-02,\n",
            "          1.4665e-02, -8.4071e-02, -6.2131e-02,  3.2742e-02,  7.6467e-02,\n",
            "          2.2538e-02, -2.5582e-02, -1.5787e-02,  5.0975e-02, -7.0812e-03,\n",
            "         -5.9987e-02,  6.4886e-02, -3.5097e-02,  3.0750e-02, -5.1035e-02,\n",
            "          1.9973e-03,  1.3360e-02,  4.7844e-02,  3.7075e-02,  1.4360e-03,\n",
            "         -2.8442e-02, -1.9421e-02,  5.0314e-02, -2.0849e-02,  1.5128e-02,\n",
            "          6.2882e-02, -7.7822e-02,  6.7568e-02, -3.0701e-02, -1.1114e-03,\n",
            "          6.7881e-02, -3.9994e-02,  5.0065e-02]], device='cuda:0',\n",
            "       requires_grad=True)\n",
            "torch.Size([2, 128])\n",
            "\n",
            "Parameter containing:\n",
            "tensor([-0.0594, -0.0678], device='cuda:0', requires_grad=True)\n",
            "torch.Size([2])\n",
            "\n"
          ]
        }
      ],
      "source": [
        "# методы Модели\n",
        "print(model.state_dict())\n",
        "print('\\n\\n')\n",
        "# model.state_dict()['layer_1.weight']\n",
        "# model.state_dict()['layer_1.bias']\n",
        "for parametr in model.parameters():\n",
        "  print(parametr)\n",
        "  print(parametr.shape, end ='\\n\\n')\n",
        "# print(model.parameters())\n",
        "# model.train()\n",
        "# model.eval()"
      ]
    },
    {
      "cell_type": "markdown",
      "metadata": {
        "id": "yZZJz_FgSWew"
      },
      "source": [
        "# Тренировка модели"
      ]
    },
    {
      "cell_type": "code",
      "execution_count": null,
      "metadata": {
        "id": "1bxHC2gySaq9"
      },
      "outputs": [],
      "source": [
        "# Цикл обучения\n",
        "   #Тренировка модели\n",
        "      # Данные\n",
        "      # Прямой проход + расчет ошибки модели\n",
        "      # Обратный проход\n",
        "      # Шаг оптимизации\n",
        "    # Расчет значения метрики\n",
        "    # Сохранение значения функции потерь и метрики\n",
        "\n",
        "    # Проверка модели(валидация)\n",
        "      # Данные\n",
        "      # Прямой проход + расчет ошибки модели\n",
        "    # Расчет значения метрики\n",
        "    # Сохранение значения фукнции потерь и метрики"
      ]
    },
    {
      "cell_type": "markdown",
      "metadata": {
        "id": "mhVzL5dCVwic"
      },
      "source": [
        "# Нейронная сеть mnist"
      ]
    },
    {
      "cell_type": "code",
      "execution_count": null,
      "metadata": {
        "id": "asbLaIRxKNpo"
      },
      "outputs": [],
      "source": []
    },
    {
      "cell_type": "code",
      "execution_count": 34,
      "metadata": {
        "colab": {
          "base_uri": "https://localhost:8080/",
          "height": 211
        },
        "collapsed": true,
        "id": "HoCuevCBV1h-",
        "outputId": "99f9321d-f9ba-4ef3-ff48-2bc47fdb206d"
      },
      "outputs": [
        {
          "output_type": "stream",
          "name": "stderr",
          "text": []
        },
        {
          "output_type": "error",
          "ename": "RuntimeError",
          "evalue": "shape '[-1, 784]' is invalid for input of size 65536",
          "traceback": [
            "\u001b[0;31m---------------------------------------------------------------------------\u001b[0m",
            "\u001b[0;31mRuntimeError\u001b[0m                              Traceback (most recent call last)",
            "\u001b[0;32m<ipython-input-34-7f93ff3c8bf7>\u001b[0m in \u001b[0;36m<cell line: 9>\u001b[0;34m()\u001b[0m\n\u001b[1;32m     17\u001b[0m     \u001b[0;31m# Данные\u001b[0m\u001b[0;34m\u001b[0m\u001b[0;34m\u001b[0m\u001b[0m\n\u001b[1;32m     18\u001b[0m     \u001b[0;31m# (batch_size, 1, 28, 28) ->(batch_size, 784)\u001b[0m\u001b[0;34m\u001b[0m\u001b[0;34m\u001b[0m\u001b[0m\n\u001b[0;32m---> 19\u001b[0;31m     \u001b[0mx\u001b[0m \u001b[0;34m=\u001b[0m \u001b[0mx\u001b[0m\u001b[0;34m.\u001b[0m\u001b[0mreshape\u001b[0m \u001b[0;34m(\u001b[0m\u001b[0;34m-\u001b[0m\u001b[0;36m1\u001b[0m\u001b[0;34m,\u001b[0m \u001b[0;36m28\u001b[0m\u001b[0;34m*\u001b[0m\u001b[0;36m28\u001b[0m\u001b[0;34m)\u001b[0m\u001b[0;34m.\u001b[0m\u001b[0mto\u001b[0m\u001b[0;34m(\u001b[0m\u001b[0mdevice\u001b[0m\u001b[0;34m)\u001b[0m\u001b[0;34m\u001b[0m\u001b[0;34m\u001b[0m\u001b[0m\n\u001b[0m\u001b[1;32m     20\u001b[0m \u001b[0;34m\u001b[0m\u001b[0m\n\u001b[1;32m     21\u001b[0m     \u001b[0;31m# (batch_size, int) -> (batch_size, 10, dtype = float32)\u001b[0m\u001b[0;34m\u001b[0m\u001b[0;34m\u001b[0m\u001b[0m\n",
            "\u001b[0;31mRuntimeError\u001b[0m: shape '[-1, 784]' is invalid for input of size 65536"
          ]
        }
      ],
      "source": [
        "EPOCHS = 25\n",
        "train_loss = []\n",
        "train_acc = []\n",
        "val_loss = []\n",
        "val_acc = []\n",
        "lr_list = []\n",
        "best_loss = None\n",
        "# цикл обучения\n",
        "for epoch in range(EPOCHS):\n",
        "\n",
        "  # тренировка модели\n",
        "  model.train()\n",
        "  running_train_loss = []\n",
        "  true_answer = 0\n",
        "  train_loop = tqdm(train_loader, leave = False)\n",
        "  for x, targets in train_loop:\n",
        "    # Данные\n",
        "    # (batch_size, 1, 28, 28) ->(batch_size, 784)\n",
        "    x = x.reshape (-1, 28*28).to(device)\n",
        "\n",
        "    # (batch_size, int) -> (batch_size, 10, dtype = float32)\n",
        "    targets = targets.reshape(-1).to(torch.int32)\n",
        "    targets = torch.eye(10)[targets].to(device)\n",
        "\n",
        "    # Прямой проход + расчет ошибки модели\n",
        "    pred = model(x)\n",
        "    loss = loss_model(pred, targets)\n",
        "\n",
        "    # Обратный проход\n",
        "    opt.zero_grad()\n",
        "    loss.backward()\n",
        "    # Шаг оптимизации\n",
        "    opt.step()\n",
        "\n",
        "    running_train_loss.append(loss.item())\n",
        "    mean_train_loss = sum(running_train_loss)/len(running_train_loss)\n",
        "\n",
        "    true_answer +=(pred.argmax(dim=1) == targets.argmax(dim = 1)).sum().item()\n",
        "\n",
        "\n",
        "    train_loop.set_description(f'Epoch [{epoch+1}/{EPOCHS}], train_loss{mean_train_loss:.4f}')\n",
        "\n",
        " # Расчет значения метрики\n",
        "  running_train_acc = true_answer / len(train_data)\n",
        "\n",
        " # Сохранение значения фукнции потерь и метрики\n",
        "  train_loss.append(mean_train_loss)\n",
        "  train_acc.append(running_train_acc)\n",
        "\n",
        "\n",
        " # Проверка модели(валидация)\n",
        "  model.eval()\n",
        "  with torch.no_grad():\n",
        "    running_val_loss = []\n",
        "    true_answer = 0\n",
        "    for x, targets in val_loader:\n",
        "      # Данные\n",
        "      # (batch_size, 1, 28, 28) ->(batch_size, 784)\n",
        "      x = x.reshape (-1, 28*28).to(device)\n",
        "\n",
        "      # (batch_size, int) -> (batch_size, 10, dtype = float32)\n",
        "      targets = targets.reshape(-1).to(torch.int32)\n",
        "      targets = torch.eye(10)[targets].to(device)\n",
        "\n",
        "      # Прямой проход + расчет ошибки модели\n",
        "      pred = model(x)\n",
        "      loss = loss_model(pred, targets)\n",
        "\n",
        "      running_val_loss.append(loss.item())\n",
        "      mean_val_loss = sum(running_val_loss)/len(running_val_loss)\n",
        "      true_answer += (pred.argmax(dim=1) == targets.argmax(dim = 1)).sum().item()\n",
        "\n",
        "    #  Расчет значения метрики\n",
        "    running_val_acc = true_answer / len(val_data)\n",
        "    #  Сохранение занчения функции потерь и метрики\n",
        "    val_loss.append(mean_val_loss)\n",
        "    val_acc.append(running_val_acc)\n",
        "\n",
        "  lr_scheduler.step(mean_val_loss)\n",
        "  lr = lr_scheduler._last_lr[0]\n",
        "  lr_list.append(lr)\n",
        "\n",
        "  print(f' Epoch [{epoch+1}/{EPOCHS}], train_loss = {mean_train_loss:.4f}, train_acc = {running_train_acc:.4f}, val_loss = {mean_val_loss:.4f}, val_acc = {running_val_acc:.4f}, lr = {lr:.7f}')\n",
        "\n",
        "  if best_loss == None:\n",
        "    best_loss = mean_val_loss\n",
        "\n",
        "  if mean_val_loss < best_loss:\n",
        "    best_loss = mean_val_loss\n",
        "\n",
        "    torch.save(model.state_dict(), f'model_state_dict_epoch____{epoch}.pt')\n",
        "    print(f'на эпохе {epoch} была сохранена модель со значение функции потерь на валидации - {mean_val_loss}', end = '\\n\\n')\n"
      ]
    },
    {
      "cell_type": "code",
      "execution_count": null,
      "metadata": {
        "colab": {
          "base_uri": "https://localhost:8080/",
          "height": 599
        },
        "collapsed": true,
        "id": "53udcWsdY9x9",
        "outputId": "1f7a030a-6773-420b-8911-0d71d1c7a545"
      },
      "outputs": [
        {
          "data": {
            "text/html": [
              "<div style=\"max-width:800px; border: 1px solid var(--colab-border-color);\"><style>\n",
              "      pre.function-repr-contents {\n",
              "        overflow-x: auto;\n",
              "        padding: 8px 12px;\n",
              "        max-height: 500px;\n",
              "      }\n",
              "\n",
              "      pre.function-repr-contents.function-repr-contents-collapsed {\n",
              "        cursor: pointer;\n",
              "        max-height: 100px;\n",
              "      }\n",
              "    </style>\n",
              "    <pre style=\"white-space: initial; background:\n",
              "         var(--colab-secondary-surface-color); padding: 8px 12px;\n",
              "         border-bottom: 1px solid var(--colab-border-color);\"><b>matplotlib.pyplot.show</b><br/>def show(*args, **kwargs)</pre><pre class=\"function-repr-contents function-repr-contents-collapsed\" style=\"\"><a class=\"filepath\" style=\"display:none\" href=\"#\">/usr/local/lib/python3.10/dist-packages/matplotlib/pyplot.py</a>Display all open figures.\n",
              "\n",
              "Parameters\n",
              "----------\n",
              "block : bool, optional\n",
              "    Whether to wait for all figures to be closed before returning.\n",
              "\n",
              "    If `True` block and run the GUI main loop until all figure windows\n",
              "    are closed.\n",
              "\n",
              "    If `False` ensure that all figure windows are displayed and return\n",
              "    immediately.  In this case, you are responsible for ensuring\n",
              "    that the event loop is running to have responsive figures.\n",
              "\n",
              "    Defaults to True in non-interactive mode and to False in interactive\n",
              "    mode (see `.pyplot.isinteractive`).\n",
              "\n",
              "See Also\n",
              "--------\n",
              "ion : Enable interactive mode, which shows / updates the figure after\n",
              "      every plotting command, so that calling ``show()`` is not necessary.\n",
              "ioff : Disable interactive mode.\n",
              "savefig : Save the figure to an image file instead of showing it on screen.\n",
              "\n",
              "Notes\n",
              "-----\n",
              "**Saving figures to file and showing a window at the same time**\n",
              "\n",
              "If you want an image file as well as a user interface window, use\n",
              "`.pyplot.savefig` before `.pyplot.show`. At the end of (a blocking)\n",
              "``show()`` the figure is closed and thus unregistered from pyplot. Calling\n",
              "`.pyplot.savefig` afterwards would save a new and thus empty figure. This\n",
              "limitation of command order does not apply if the show is non-blocking or\n",
              "if you keep a reference to the figure and use `.Figure.savefig`.\n",
              "\n",
              "**Auto-show in jupyter notebooks**\n",
              "\n",
              "The jupyter backends (activated via ``%matplotlib inline``,\n",
              "``%matplotlib notebook``, or ``%matplotlib widget``), call ``show()`` at\n",
              "the end of every cell by default. Thus, you usually don&#x27;t have to call it\n",
              "explicitly there.</pre>\n",
              "      <script>\n",
              "      if (google.colab.kernel.accessAllowed && google.colab.files && google.colab.files.view) {\n",
              "        for (const element of document.querySelectorAll('.filepath')) {\n",
              "          element.style.display = 'block'\n",
              "          element.onclick = (event) => {\n",
              "            event.preventDefault();\n",
              "            event.stopPropagation();\n",
              "            google.colab.files.view(element.textContent, 401);\n",
              "          };\n",
              "        }\n",
              "      }\n",
              "      for (const element of document.querySelectorAll('.function-repr-contents')) {\n",
              "        element.onclick = (event) => {\n",
              "          event.preventDefault();\n",
              "          event.stopPropagation();\n",
              "          element.classList.toggle('function-repr-contents-collapsed');\n",
              "        };\n",
              "      }\n",
              "      </script>\n",
              "      </div>"
            ],
            "text/plain": [
              "<function matplotlib.pyplot.show(close=None, block=None)>"
            ]
          },
          "execution_count": 41,
          "metadata": {},
          "output_type": "execute_result"
        },
        {
          "data": {
            "image/png": "[encoded data removed]",
            "text/plain": [
              "<Figure size 640x480 with 1 Axes>"
            ]
          },
          "metadata": {},
          "output_type": "display_data"
        }
      ],
      "source": [
        "plt.plot(train_loss)\n",
        "plt.plot(val_loss)\n",
        "plt.legend(['loss_train', 'loss_val'])\n",
        "plt.show"
      ]
    },
    {
      "cell_type": "code",
      "execution_count": null,
      "metadata": {
        "colab": {
          "base_uri": "https://localhost:8080/",
          "height": 430
        },
        "collapsed": true,
        "id": "PoQT0XWrZsZV",
        "outputId": "77deca08-e228-4e68-9a1d-f8dff96eaa78"
      },
      "outputs": [
        {
          "data": {
            "image/png": "[encoded data removed]",
            "text/plain": [
              "<Figure size 640x480 with 1 Axes>"
            ]
          },
          "metadata": {},
          "output_type": "display_data"
        }
      ],
      "source": [
        "plt.plot(train_acc)\n",
        "plt.plot(val_acc)\n",
        "plt.legend(['acc_train', ' acc_val'])\n",
        "plt.show()"
      ]
    },
    {
      "cell_type": "code",
      "execution_count": null,
      "metadata": {
        "colab": {
          "base_uri": "https://localhost:8080/",
          "height": 1000
        },
        "collapsed": true,
        "id": "2uRafFMIXubp",
        "outputId": "57f1fb40-c4a5-4150-dba6-761eea371cfe"
      },
      "outputs": [
        {
          "name": "stdout",
          "output_type": "stream",
          "text": [
            "torch.Size([64])\n",
            "torch.Size([64])\n",
            "torch.Size([64])\n",
            "torch.Size([64])\n",
            "torch.Size([64])\n",
            "torch.Size([64])\n",
            "torch.Size([64])\n",
            "torch.Size([64])\n",
            "torch.Size([64])\n",
            "torch.Size([64])\n",
            "torch.Size([64])\n",
            "torch.Size([64])\n",
            "torch.Size([64])\n",
            "torch.Size([64])\n",
            "torch.Size([64])\n",
            "torch.Size([64])\n",
            "torch.Size([64])\n",
            "torch.Size([64])\n",
            "torch.Size([64])\n",
            "torch.Size([64])\n",
            "torch.Size([64])\n",
            "torch.Size([64])\n",
            "torch.Size([64])\n",
            "torch.Size([64])\n",
            "torch.Size([64])\n",
            "torch.Size([64])\n",
            "torch.Size([64])\n",
            "torch.Size([64])\n",
            "torch.Size([64])\n",
            "torch.Size([64])\n",
            "torch.Size([64])\n",
            "torch.Size([64])\n",
            "torch.Size([64])\n",
            "torch.Size([64])\n",
            "torch.Size([64])\n",
            "torch.Size([64])\n",
            "torch.Size([64])\n",
            "torch.Size([64])\n",
            "torch.Size([64])\n",
            "torch.Size([64])\n",
            "torch.Size([64])\n",
            "torch.Size([64])\n"
          ]
        },
        {
          "ename": "KeyboardInterrupt",
          "evalue": "",
          "output_type": "error",
          "traceback": [
            "\u001b[0;31m---------------------------------------------------------------------------\u001b[0m",
            "\u001b[0;31mKeyboardInterrupt\u001b[0m                         Traceback (most recent call last)",
            "\u001b[0;32m<ipython-input-14-f76fe2dd8d19>\u001b[0m in \u001b[0;36m<cell line: 2>\u001b[0;34m()\u001b[0m\n\u001b[1;32m      1\u001b[0m \u001b[0;31m# targets = torch.tensor([1,2,3,0,4,5,6,3,1,2])\u001b[0m\u001b[0;34m\u001b[0m\u001b[0;34m\u001b[0m\u001b[0m\n\u001b[0;32m----> 2\u001b[0;31m \u001b[0;32mfor\u001b[0m \u001b[0my\u001b[0m\u001b[0;34m,\u001b[0m \u001b[0mtargets\u001b[0m \u001b[0;32min\u001b[0m \u001b[0mtrain_loader\u001b[0m\u001b[0;34m:\u001b[0m\u001b[0;34m\u001b[0m\u001b[0;34m\u001b[0m\u001b[0m\n\u001b[0m\u001b[1;32m      3\u001b[0m \u001b[0;31m#   print(targets)\u001b[0m\u001b[0;34m\u001b[0m\u001b[0;34m\u001b[0m\u001b[0m\n\u001b[1;32m      4\u001b[0m    \u001b[0mprint\u001b[0m\u001b[0;34m(\u001b[0m\u001b[0mtargets\u001b[0m\u001b[0;34m.\u001b[0m\u001b[0mshape\u001b[0m\u001b[0;34m)\u001b[0m\u001b[0;34m\u001b[0m\u001b[0;34m\u001b[0m\u001b[0m\n\u001b[1;32m      5\u001b[0m \u001b[0;31m#   targets = targets.to(torch.int32)\u001b[0m\u001b[0;34m\u001b[0m\u001b[0;34m\u001b[0m\u001b[0m\n",
            "\u001b[0;32m/usr/local/lib/python3.10/dist-packages/torch/utils/data/dataloader.py\u001b[0m in \u001b[0;36m__next__\u001b[0;34m(self)\u001b[0m\n\u001b[1;32m    629\u001b[0m                 \u001b[0;31m# TODO(https://github.com/pytorch/pytorch/issues/76750)\u001b[0m\u001b[0;34m\u001b[0m\u001b[0;34m\u001b[0m\u001b[0m\n\u001b[1;32m    630\u001b[0m                 \u001b[0mself\u001b[0m\u001b[0;34m.\u001b[0m\u001b[0m_reset\u001b[0m\u001b[0;34m(\u001b[0m\u001b[0;34m)\u001b[0m  \u001b[0;31m# type: ignore[call-arg]\u001b[0m\u001b[0;34m\u001b[0m\u001b[0;34m\u001b[0m\u001b[0m\n\u001b[0;32m--> 631\u001b[0;31m             \u001b[0mdata\u001b[0m \u001b[0;34m=\u001b[0m \u001b[0mself\u001b[0m\u001b[0;34m.\u001b[0m\u001b[0m_next_data\u001b[0m\u001b[0;34m(\u001b[0m\u001b[0;34m)\u001b[0m\u001b[0;34m\u001b[0m\u001b[0;34m\u001b[0m\u001b[0m\n\u001b[0m\u001b[1;32m    632\u001b[0m             \u001b[0mself\u001b[0m\u001b[0;34m.\u001b[0m\u001b[0m_num_yielded\u001b[0m \u001b[0;34m+=\u001b[0m \u001b[0;36m1\u001b[0m\u001b[0;34m\u001b[0m\u001b[0;34m\u001b[0m\u001b[0m\n\u001b[1;32m    633\u001b[0m             \u001b[0;32mif\u001b[0m \u001b[0mself\u001b[0m\u001b[0;34m.\u001b[0m\u001b[0m_dataset_kind\u001b[0m \u001b[0;34m==\u001b[0m \u001b[0m_DatasetKind\u001b[0m\u001b[0;34m.\u001b[0m\u001b[0mIterable\u001b[0m \u001b[0;32mand\u001b[0m\u001b[0;31m \u001b[0m\u001b[0;31m\\\u001b[0m\u001b[0;34m\u001b[0m\u001b[0;34m\u001b[0m\u001b[0m\n",
            "\u001b[0;32m/usr/local/lib/python3.10/dist-packages/torch/utils/data/dataloader.py\u001b[0m in \u001b[0;36m_next_data\u001b[0;34m(self)\u001b[0m\n\u001b[1;32m    673\u001b[0m     \u001b[0;32mdef\u001b[0m \u001b[0m_next_data\u001b[0m\u001b[0;34m(\u001b[0m\u001b[0mself\u001b[0m\u001b[0;34m)\u001b[0m\u001b[0;34m:\u001b[0m\u001b[0;34m\u001b[0m\u001b[0;34m\u001b[0m\u001b[0m\n\u001b[1;32m    674\u001b[0m         \u001b[0mindex\u001b[0m \u001b[0;34m=\u001b[0m \u001b[0mself\u001b[0m\u001b[0;34m.\u001b[0m\u001b[0m_next_index\u001b[0m\u001b[0;34m(\u001b[0m\u001b[0;34m)\u001b[0m  \u001b[0;31m# may raise StopIteration\u001b[0m\u001b[0;34m\u001b[0m\u001b[0;34m\u001b[0m\u001b[0m\n\u001b[0;32m--> 675\u001b[0;31m         \u001b[0mdata\u001b[0m \u001b[0;34m=\u001b[0m \u001b[0mself\u001b[0m\u001b[0;34m.\u001b[0m\u001b[0m_dataset_fetcher\u001b[0m\u001b[0;34m.\u001b[0m\u001b[0mfetch\u001b[0m\u001b[0;34m(\u001b[0m\u001b[0mindex\u001b[0m\u001b[0;34m)\u001b[0m  \u001b[0;31m# may raise StopIteration\u001b[0m\u001b[0;34m\u001b[0m\u001b[0;34m\u001b[0m\u001b[0m\n\u001b[0m\u001b[1;32m    676\u001b[0m         \u001b[0;32mif\u001b[0m \u001b[0mself\u001b[0m\u001b[0;34m.\u001b[0m\u001b[0m_pin_memory\u001b[0m\u001b[0;34m:\u001b[0m\u001b[0;34m\u001b[0m\u001b[0;34m\u001b[0m\u001b[0m\n\u001b[1;32m    677\u001b[0m             \u001b[0mdata\u001b[0m \u001b[0;34m=\u001b[0m \u001b[0m_utils\u001b[0m\u001b[0;34m.\u001b[0m\u001b[0mpin_memory\u001b[0m\u001b[0;34m.\u001b[0m\u001b[0mpin_memory\u001b[0m\u001b[0;34m(\u001b[0m\u001b[0mdata\u001b[0m\u001b[0;34m,\u001b[0m \u001b[0mself\u001b[0m\u001b[0;34m.\u001b[0m\u001b[0m_pin_memory_device\u001b[0m\u001b[0;34m)\u001b[0m\u001b[0;34m\u001b[0m\u001b[0;34m\u001b[0m\u001b[0m\n",
            "\u001b[0;32m/usr/local/lib/python3.10/dist-packages/torch/utils/data/_utils/fetch.py\u001b[0m in \u001b[0;36mfetch\u001b[0;34m(self, possibly_batched_index)\u001b[0m\n\u001b[1;32m     47\u001b[0m         \u001b[0;32mif\u001b[0m \u001b[0mself\u001b[0m\u001b[0;34m.\u001b[0m\u001b[0mauto_collation\u001b[0m\u001b[0;34m:\u001b[0m\u001b[0;34m\u001b[0m\u001b[0;34m\u001b[0m\u001b[0m\n\u001b[1;32m     48\u001b[0m             \u001b[0;32mif\u001b[0m \u001b[0mhasattr\u001b[0m\u001b[0;34m(\u001b[0m\u001b[0mself\u001b[0m\u001b[0;34m.\u001b[0m\u001b[0mdataset\u001b[0m\u001b[0;34m,\u001b[0m \u001b[0;34m\"__getitems__\"\u001b[0m\u001b[0;34m)\u001b[0m \u001b[0;32mand\u001b[0m \u001b[0mself\u001b[0m\u001b[0;34m.\u001b[0m\u001b[0mdataset\u001b[0m\u001b[0;34m.\u001b[0m\u001b[0m__getitems__\u001b[0m\u001b[0;34m:\u001b[0m\u001b[0;34m\u001b[0m\u001b[0;34m\u001b[0m\u001b[0m\n\u001b[0;32m---> 49\u001b[0;31m                 \u001b[0mdata\u001b[0m \u001b[0;34m=\u001b[0m \u001b[0mself\u001b[0m\u001b[0;34m.\u001b[0m\u001b[0mdataset\u001b[0m\u001b[0;34m.\u001b[0m\u001b[0m__getitems__\u001b[0m\u001b[0;34m(\u001b[0m\u001b[0mpossibly_batched_index\u001b[0m\u001b[0;34m)\u001b[0m\u001b[0;34m\u001b[0m\u001b[0;34m\u001b[0m\u001b[0m\n\u001b[0m\u001b[1;32m     50\u001b[0m             \u001b[0;32melse\u001b[0m\u001b[0;34m:\u001b[0m\u001b[0;34m\u001b[0m\u001b[0;34m\u001b[0m\u001b[0m\n\u001b[1;32m     51\u001b[0m                 \u001b[0mdata\u001b[0m \u001b[0;34m=\u001b[0m \u001b[0;34m[\u001b[0m\u001b[0mself\u001b[0m\u001b[0;34m.\u001b[0m\u001b[0mdataset\u001b[0m\u001b[0;34m[\u001b[0m\u001b[0midx\u001b[0m\u001b[0;34m]\u001b[0m \u001b[0;32mfor\u001b[0m \u001b[0midx\u001b[0m \u001b[0;32min\u001b[0m \u001b[0mpossibly_batched_index\u001b[0m\u001b[0;34m]\u001b[0m\u001b[0;34m\u001b[0m\u001b[0;34m\u001b[0m\u001b[0m\n",
            "\u001b[0;32m/usr/local/lib/python3.10/dist-packages/torch/utils/data/dataset.py\u001b[0m in \u001b[0;36m__getitems__\u001b[0;34m(self, indices)\u001b[0m\n\u001b[1;32m    417\u001b[0m             \u001b[0;32mreturn\u001b[0m \u001b[0mself\u001b[0m\u001b[0;34m.\u001b[0m\u001b[0mdataset\u001b[0m\u001b[0;34m.\u001b[0m\u001b[0m__getitems__\u001b[0m\u001b[0;34m(\u001b[0m\u001b[0;34m[\u001b[0m\u001b[0mself\u001b[0m\u001b[0;34m.\u001b[0m\u001b[0mindices\u001b[0m\u001b[0;34m[\u001b[0m\u001b[0midx\u001b[0m\u001b[0;34m]\u001b[0m \u001b[0;32mfor\u001b[0m \u001b[0midx\u001b[0m \u001b[0;32min\u001b[0m \u001b[0mindices\u001b[0m\u001b[0;34m]\u001b[0m\u001b[0;34m)\u001b[0m  \u001b[0;31m# type: ignore[attr-defined]\u001b[0m\u001b[0;34m\u001b[0m\u001b[0;34m\u001b[0m\u001b[0m\n\u001b[1;32m    418\u001b[0m         \u001b[0;32melse\u001b[0m\u001b[0;34m:\u001b[0m\u001b[0;34m\u001b[0m\u001b[0;34m\u001b[0m\u001b[0m\n\u001b[0;32m--> 419\u001b[0;31m             \u001b[0;32mreturn\u001b[0m \u001b[0;34m[\u001b[0m\u001b[0mself\u001b[0m\u001b[0;34m.\u001b[0m\u001b[0mdataset\u001b[0m\u001b[0;34m[\u001b[0m\u001b[0mself\u001b[0m\u001b[0;34m.\u001b[0m\u001b[0mindices\u001b[0m\u001b[0;34m[\u001b[0m\u001b[0midx\u001b[0m\u001b[0;34m]\u001b[0m\u001b[0;34m]\u001b[0m \u001b[0;32mfor\u001b[0m \u001b[0midx\u001b[0m \u001b[0;32min\u001b[0m \u001b[0mindices\u001b[0m\u001b[0;34m]\u001b[0m\u001b[0;34m\u001b[0m\u001b[0;34m\u001b[0m\u001b[0m\n\u001b[0m\u001b[1;32m    420\u001b[0m \u001b[0;34m\u001b[0m\u001b[0m\n\u001b[1;32m    421\u001b[0m     \u001b[0;32mdef\u001b[0m \u001b[0m__len__\u001b[0m\u001b[0;34m(\u001b[0m\u001b[0mself\u001b[0m\u001b[0;34m)\u001b[0m\u001b[0;34m:\u001b[0m\u001b[0;34m\u001b[0m\u001b[0;34m\u001b[0m\u001b[0m\n",
            "\u001b[0;32m/usr/local/lib/python3.10/dist-packages/torch/utils/data/dataset.py\u001b[0m in \u001b[0;36m<listcomp>\u001b[0;34m(.0)\u001b[0m\n\u001b[1;32m    417\u001b[0m             \u001b[0;32mreturn\u001b[0m \u001b[0mself\u001b[0m\u001b[0;34m.\u001b[0m\u001b[0mdataset\u001b[0m\u001b[0;34m.\u001b[0m\u001b[0m__getitems__\u001b[0m\u001b[0;34m(\u001b[0m\u001b[0;34m[\u001b[0m\u001b[0mself\u001b[0m\u001b[0;34m.\u001b[0m\u001b[0mindices\u001b[0m\u001b[0;34m[\u001b[0m\u001b[0midx\u001b[0m\u001b[0;34m]\u001b[0m \u001b[0;32mfor\u001b[0m \u001b[0midx\u001b[0m \u001b[0;32min\u001b[0m \u001b[0mindices\u001b[0m\u001b[0;34m]\u001b[0m\u001b[0;34m)\u001b[0m  \u001b[0;31m# type: ignore[attr-defined]\u001b[0m\u001b[0;34m\u001b[0m\u001b[0;34m\u001b[0m\u001b[0m\n\u001b[1;32m    418\u001b[0m         \u001b[0;32melse\u001b[0m\u001b[0;34m:\u001b[0m\u001b[0;34m\u001b[0m\u001b[0;34m\u001b[0m\u001b[0m\n\u001b[0;32m--> 419\u001b[0;31m             \u001b[0;32mreturn\u001b[0m \u001b[0;34m[\u001b[0m\u001b[0mself\u001b[0m\u001b[0;34m.\u001b[0m\u001b[0mdataset\u001b[0m\u001b[0;34m[\u001b[0m\u001b[0mself\u001b[0m\u001b[0;34m.\u001b[0m\u001b[0mindices\u001b[0m\u001b[0;34m[\u001b[0m\u001b[0midx\u001b[0m\u001b[0;34m]\u001b[0m\u001b[0;34m]\u001b[0m \u001b[0;32mfor\u001b[0m \u001b[0midx\u001b[0m \u001b[0;32min\u001b[0m \u001b[0mindices\u001b[0m\u001b[0;34m]\u001b[0m\u001b[0;34m\u001b[0m\u001b[0;34m\u001b[0m\u001b[0m\n\u001b[0m\u001b[1;32m    420\u001b[0m \u001b[0;34m\u001b[0m\u001b[0m\n\u001b[1;32m    421\u001b[0m     \u001b[0;32mdef\u001b[0m \u001b[0m__len__\u001b[0m\u001b[0;34m(\u001b[0m\u001b[0mself\u001b[0m\u001b[0;34m)\u001b[0m\u001b[0;34m:\u001b[0m\u001b[0;34m\u001b[0m\u001b[0;34m\u001b[0m\u001b[0m\n",
            "\u001b[0;32m<ipython-input-8-52d397e09af0>\u001b[0m in \u001b[0;36m__getitem__\u001b[0;34m(self, index)\u001b[0m\n\u001b[1;32m     30\u001b[0m \u001b[0;34m\u001b[0m\u001b[0m\n\u001b[1;32m     31\u001b[0m     \u001b[0;32mif\u001b[0m \u001b[0mself\u001b[0m\u001b[0;34m.\u001b[0m\u001b[0mtransform\u001b[0m \u001b[0;34m!=\u001b[0m \u001b[0;32mNone\u001b[0m\u001b[0;34m:\u001b[0m\u001b[0;34m\u001b[0m\u001b[0;34m\u001b[0m\u001b[0m\n\u001b[0;32m---> 32\u001b[0;31m       \u001b[0msample\u001b[0m \u001b[0;34m=\u001b[0m\u001b[0mself\u001b[0m\u001b[0;34m.\u001b[0m\u001b[0mtransform\u001b[0m\u001b[0;34m(\u001b[0m\u001b[0msample\u001b[0m\u001b[0;34m)\u001b[0m\u001b[0;34m\u001b[0m\u001b[0;34m\u001b[0m\u001b[0m\n\u001b[0m\u001b[1;32m     33\u001b[0m \u001b[0;34m\u001b[0m\u001b[0m\n\u001b[1;32m     34\u001b[0m     \u001b[0;32mreturn\u001b[0m \u001b[0msample\u001b[0m\u001b[0;34m,\u001b[0m \u001b[0mtarget\u001b[0m\u001b[0;34m\u001b[0m\u001b[0;34m\u001b[0m\u001b[0m\n",
            "\u001b[0;32m/usr/local/lib/python3.10/dist-packages/torch/nn/modules/module.py\u001b[0m in \u001b[0;36m_wrapped_call_impl\u001b[0;34m(self, *args, **kwargs)\u001b[0m\n\u001b[1;32m   1530\u001b[0m             \u001b[0;32mreturn\u001b[0m \u001b[0mself\u001b[0m\u001b[0;34m.\u001b[0m\u001b[0m_compiled_call_impl\u001b[0m\u001b[0;34m(\u001b[0m\u001b[0;34m*\u001b[0m\u001b[0margs\u001b[0m\u001b[0;34m,\u001b[0m \u001b[0;34m**\u001b[0m\u001b[0mkwargs\u001b[0m\u001b[0;34m)\u001b[0m  \u001b[0;31m# type: ignore[misc]\u001b[0m\u001b[0;34m\u001b[0m\u001b[0;34m\u001b[0m\u001b[0m\n\u001b[1;32m   1531\u001b[0m         \u001b[0;32melse\u001b[0m\u001b[0;34m:\u001b[0m\u001b[0;34m\u001b[0m\u001b[0;34m\u001b[0m\u001b[0m\n\u001b[0;32m-> 1532\u001b[0;31m             \u001b[0;32mreturn\u001b[0m \u001b[0mself\u001b[0m\u001b[0;34m.\u001b[0m\u001b[0m_call_impl\u001b[0m\u001b[0;34m(\u001b[0m\u001b[0;34m*\u001b[0m\u001b[0margs\u001b[0m\u001b[0;34m,\u001b[0m \u001b[0;34m**\u001b[0m\u001b[0mkwargs\u001b[0m\u001b[0;34m)\u001b[0m\u001b[0;34m\u001b[0m\u001b[0;34m\u001b[0m\u001b[0m\n\u001b[0m\u001b[1;32m   1533\u001b[0m \u001b[0;34m\u001b[0m\u001b[0m\n\u001b[1;32m   1534\u001b[0m     \u001b[0;32mdef\u001b[0m \u001b[0m_call_impl\u001b[0m\u001b[0;34m(\u001b[0m\u001b[0mself\u001b[0m\u001b[0;34m,\u001b[0m \u001b[0;34m*\u001b[0m\u001b[0margs\u001b[0m\u001b[0;34m,\u001b[0m \u001b[0;34m**\u001b[0m\u001b[0mkwargs\u001b[0m\u001b[0;34m)\u001b[0m\u001b[0;34m:\u001b[0m\u001b[0;34m\u001b[0m\u001b[0;34m\u001b[0m\u001b[0m\n",
            "\u001b[0;32m/usr/local/lib/python3.10/dist-packages/torch/nn/modules/module.py\u001b[0m in \u001b[0;36m_call_impl\u001b[0;34m(self, *args, **kwargs)\u001b[0m\n\u001b[1;32m   1539\u001b[0m                 \u001b[0;32mor\u001b[0m \u001b[0m_global_backward_pre_hooks\u001b[0m \u001b[0;32mor\u001b[0m \u001b[0m_global_backward_hooks\u001b[0m\u001b[0;34m\u001b[0m\u001b[0;34m\u001b[0m\u001b[0m\n\u001b[1;32m   1540\u001b[0m                 or _global_forward_hooks or _global_forward_pre_hooks):\n\u001b[0;32m-> 1541\u001b[0;31m             \u001b[0;32mreturn\u001b[0m \u001b[0mforward_call\u001b[0m\u001b[0;34m(\u001b[0m\u001b[0;34m*\u001b[0m\u001b[0margs\u001b[0m\u001b[0;34m,\u001b[0m \u001b[0;34m**\u001b[0m\u001b[0mkwargs\u001b[0m\u001b[0;34m)\u001b[0m\u001b[0;34m\u001b[0m\u001b[0;34m\u001b[0m\u001b[0m\n\u001b[0m\u001b[1;32m   1542\u001b[0m \u001b[0;34m\u001b[0m\u001b[0m\n\u001b[1;32m   1543\u001b[0m         \u001b[0;32mtry\u001b[0m\u001b[0;34m:\u001b[0m\u001b[0;34m\u001b[0m\u001b[0;34m\u001b[0m\u001b[0m\n",
            "\u001b[0;32m/usr/local/lib/python3.10/dist-packages/torchvision/transforms/v2/_container.py\u001b[0m in \u001b[0;36mforward\u001b[0;34m(self, *inputs)\u001b[0m\n\u001b[1;32m     49\u001b[0m         \u001b[0mneeds_unpacking\u001b[0m \u001b[0;34m=\u001b[0m \u001b[0mlen\u001b[0m\u001b[0;34m(\u001b[0m\u001b[0minputs\u001b[0m\u001b[0;34m)\u001b[0m \u001b[0;34m>\u001b[0m \u001b[0;36m1\u001b[0m\u001b[0;34m\u001b[0m\u001b[0;34m\u001b[0m\u001b[0m\n\u001b[1;32m     50\u001b[0m         \u001b[0;32mfor\u001b[0m \u001b[0mtransform\u001b[0m \u001b[0;32min\u001b[0m \u001b[0mself\u001b[0m\u001b[0;34m.\u001b[0m\u001b[0mtransforms\u001b[0m\u001b[0;34m:\u001b[0m\u001b[0;34m\u001b[0m\u001b[0;34m\u001b[0m\u001b[0m\n\u001b[0;32m---> 51\u001b[0;31m             \u001b[0moutputs\u001b[0m \u001b[0;34m=\u001b[0m \u001b[0mtransform\u001b[0m\u001b[0;34m(\u001b[0m\u001b[0;34m*\u001b[0m\u001b[0minputs\u001b[0m\u001b[0;34m)\u001b[0m\u001b[0;34m\u001b[0m\u001b[0;34m\u001b[0m\u001b[0m\n\u001b[0m\u001b[1;32m     52\u001b[0m             \u001b[0minputs\u001b[0m \u001b[0;34m=\u001b[0m \u001b[0moutputs\u001b[0m \u001b[0;32mif\u001b[0m \u001b[0mneeds_unpacking\u001b[0m \u001b[0;32melse\u001b[0m \u001b[0;34m(\u001b[0m\u001b[0moutputs\u001b[0m\u001b[0;34m,\u001b[0m\u001b[0;34m)\u001b[0m\u001b[0;34m\u001b[0m\u001b[0;34m\u001b[0m\u001b[0m\n\u001b[1;32m     53\u001b[0m         \u001b[0;32mreturn\u001b[0m \u001b[0moutputs\u001b[0m\u001b[0;34m\u001b[0m\u001b[0;34m\u001b[0m\u001b[0m\n",
            "\u001b[0;32m/usr/local/lib/python3.10/dist-packages/torch/nn/modules/module.py\u001b[0m in \u001b[0;36m_wrapped_call_impl\u001b[0;34m(self, *args, **kwargs)\u001b[0m\n\u001b[1;32m   1527\u001b[0m \u001b[0;34m\u001b[0m\u001b[0m\n\u001b[1;32m   1528\u001b[0m     \u001b[0;32mdef\u001b[0m \u001b[0m_wrapped_call_impl\u001b[0m\u001b[0;34m(\u001b[0m\u001b[0mself\u001b[0m\u001b[0;34m,\u001b[0m \u001b[0;34m*\u001b[0m\u001b[0margs\u001b[0m\u001b[0;34m,\u001b[0m \u001b[0;34m**\u001b[0m\u001b[0mkwargs\u001b[0m\u001b[0;34m)\u001b[0m\u001b[0;34m:\u001b[0m\u001b[0;34m\u001b[0m\u001b[0;34m\u001b[0m\u001b[0m\n\u001b[0;32m-> 1529\u001b[0;31m         \u001b[0;32mif\u001b[0m \u001b[0mself\u001b[0m\u001b[0;34m.\u001b[0m\u001b[0m_compiled_call_impl\u001b[0m \u001b[0;32mis\u001b[0m \u001b[0;32mnot\u001b[0m \u001b[0;32mNone\u001b[0m\u001b[0;34m:\u001b[0m\u001b[0;34m\u001b[0m\u001b[0;34m\u001b[0m\u001b[0m\n\u001b[0m\u001b[1;32m   1530\u001b[0m             \u001b[0;32mreturn\u001b[0m \u001b[0mself\u001b[0m\u001b[0;34m.\u001b[0m\u001b[0m_compiled_call_impl\u001b[0m\u001b[0;34m(\u001b[0m\u001b[0;34m*\u001b[0m\u001b[0margs\u001b[0m\u001b[0;34m,\u001b[0m \u001b[0;34m**\u001b[0m\u001b[0mkwargs\u001b[0m\u001b[0;34m)\u001b[0m  \u001b[0;31m# type: ignore[misc]\u001b[0m\u001b[0;34m\u001b[0m\u001b[0;34m\u001b[0m\u001b[0m\n\u001b[1;32m   1531\u001b[0m         \u001b[0;32melse\u001b[0m\u001b[0;34m:\u001b[0m\u001b[0;34m\u001b[0m\u001b[0;34m\u001b[0m\u001b[0m\n",
            "\u001b[0;31mKeyboardInterrupt\u001b[0m: "
          ]
        }
      ],
      "source": [
        "# targets = torch.tensor([1,2,3,0,4,5,6,3,1,2])\n",
        "for y, targets in train_loader:\n",
        "#   print(targets)\n",
        "   print(targets.shape)\n",
        "#   targets = targets.to(torch.int32)\n",
        "#   targets = torch.eye(10)[targets]\n",
        "#   print(targets)\n",
        "#   break"
      ]
    },
    {
      "cell_type": "code",
      "execution_count": null,
      "metadata": {
        "colab": {
          "base_uri": "https://localhost:8080/"
        },
        "id": "0XQv4NIqZRdT",
        "outputId": "a1f07cc6-4a46-45c7-9276-8154260fed7a"
      },
      "outputs": [
        {
          "name": "stdout",
          "output_type": "stream",
          "text": [
            "torch.Size([16000, 10])\n",
            "torch.Size([16000, 10])\n",
            "torch.Size([64, 10])\n",
            "torch.Size([160000, 10])\n"
          ]
        }
      ],
      "source": [
        "for x, target in val_loader:\n",
        "      # Данные\n",
        "      print(targets.shape)\n",
        "      # (batch_size, 1, 28, 28) ->(batch_size, 784)\n",
        "      x = x.reshape (-1, 28*28).to(device)\n",
        "      print(targets.shape)\n",
        "\n",
        "      # (batch_size, int) -> (batch_size, 10, dtype = float32)\n",
        "      targets = targets.reshape(-1).to(torch.int32)\n",
        "      targets = torch.eye(10)[targets].to(device)\n",
        "      pred = model(x)\n",
        "\n",
        "      print(pred.shape)\n",
        "      print(targets.shape)\n",
        "      break"
      ]
    },
    {
      "cell_type": "markdown",
      "metadata": {
        "id": "_BqXpr6wmgxb"
      },
      "source": [
        "# Класс модели нейронной сети для регрессии"
      ]
    },
    {
      "cell_type": "code",
      "execution_count": 24,
      "metadata": {
        "id": "2ZMITo1pmmM0"
      },
      "outputs": [],
      "source": [
        "class MyModel(nn.Module):\n",
        "  def __init__(self, input, output):\n",
        "    super().__init__()\n",
        "    self.layer_1 = nn.Linear(input,128)\n",
        "    self.layer_2 = nn.Linear(128, output)\n",
        "    self.act = nn.ReLU()\n",
        "\n",
        "  def forward(self, x):\n",
        "    x = self.layer_1(x)\n",
        "    x = self.act(x)\n",
        "    out = self.layer_2(x)\n",
        "    return out\n",
        "\n",
        "model = MyModel(64*64, 2).to(device)"
      ]
    },
    {
      "cell_type": "code",
      "execution_count": 25,
      "metadata": {
        "colab": {
          "base_uri": "https://localhost:8080/"
        },
        "id": "28U2dQFCnATu",
        "outputId": "fc89bb51-70d6-45a8-c1c0-347bfaee0836"
      },
      "outputs": [
        {
          "output_type": "execute_result",
          "data": {
            "text/plain": [
              "torch.Size([16, 2])"
            ]
          },
          "metadata": {},
          "execution_count": 25
        }
      ],
      "source": [
        "# Проверяем правильность построения модели\n",
        "input = torch.rand([16, 64*64], dtype = torch.float32).to(device)\n",
        "\n",
        "out = model(input)\n",
        "out.shape #(16,2)"
      ]
    },
    {
      "cell_type": "code",
      "execution_count": 26,
      "metadata": {
        "id": "BrcPetkonWHJ"
      },
      "outputs": [],
      "source": [
        "loss_model = nn.MSELoss()\n",
        "opt = torch.optim.Adam(model.parameters(), lr = 0.001)"
      ]
    },
    {
      "cell_type": "markdown",
      "metadata": {
        "id": "9-SJodDLlN5_"
      },
      "source": [
        "# Нейронная сеть для регрессии\n"
      ]
    },
    {
      "cell_type": "code",
      "execution_count": null,
      "metadata": {
        "id": "GrnKexzun0yW"
      },
      "outputs": [],
      "source": [
        "train_loss = []\n",
        "train_acc = []\n",
        "val_loss = []\n",
        "val_acc = []"
      ]
    },
    {
      "cell_type": "code",
      "execution_count": null,
      "metadata": {
        "colab": {
          "base_uri": "https://localhost:8080/",
          "height": 480
        },
        "id": "p9dbmPOCmJp_",
        "outputId": "34b74a21-aab9-48d8-ec67-8c2c319af5c5"
      },
      "outputs": [
        {
          "name": "stderr",
          "output_type": "stream",
          "text": []
        },
        {
          "name": "stdout",
          "output_type": "stream",
          "text": [
            " Epoch [1/10], train_loss = 0.0478, train_acc = 0.9528, val_loss = 0.0440, val_acc = 0.9572\n"
          ]
        },
        {
          "name": "stderr",
          "output_type": "stream",
          "text": []
        },
        {
          "ename": "KeyboardInterrupt",
          "evalue": "",
          "output_type": "error",
          "traceback": [
            "\u001b[0;31m---------------------------------------------------------------------------\u001b[0m",
            "\u001b[0;31mKeyboardInterrupt\u001b[0m                         Traceback (most recent call last)",
            "\u001b[0;32m<ipython-input-66-870fb6e6b351>\u001b[0m in \u001b[0;36m<cell line: 4>\u001b[0;34m()\u001b[0m\n\u001b[1;32m     23\u001b[0m     \u001b[0mloss\u001b[0m\u001b[0;34m.\u001b[0m\u001b[0mbackward\u001b[0m\u001b[0;34m(\u001b[0m\u001b[0;34m)\u001b[0m\u001b[0;34m\u001b[0m\u001b[0;34m\u001b[0m\u001b[0m\n\u001b[1;32m     24\u001b[0m     \u001b[0;31m# Шаг оптимизации\u001b[0m\u001b[0;34m\u001b[0m\u001b[0;34m\u001b[0m\u001b[0m\n\u001b[0;32m---> 25\u001b[0;31m     \u001b[0mopt\u001b[0m\u001b[0;34m.\u001b[0m\u001b[0mstep\u001b[0m\u001b[0;34m(\u001b[0m\u001b[0;34m)\u001b[0m\u001b[0;34m\u001b[0m\u001b[0;34m\u001b[0m\u001b[0m\n\u001b[0m\u001b[1;32m     26\u001b[0m \u001b[0;34m\u001b[0m\u001b[0m\n\u001b[1;32m     27\u001b[0m     \u001b[0mrunning_train_loss\u001b[0m\u001b[0;34m.\u001b[0m\u001b[0mappend\u001b[0m\u001b[0;34m(\u001b[0m\u001b[0mloss\u001b[0m\u001b[0;34m.\u001b[0m\u001b[0mitem\u001b[0m\u001b[0;34m(\u001b[0m\u001b[0;34m)\u001b[0m\u001b[0;34m)\u001b[0m\u001b[0;34m\u001b[0m\u001b[0;34m\u001b[0m\u001b[0m\n",
            "\u001b[0;32m/usr/local/lib/python3.10/dist-packages/torch/optim/optimizer.py\u001b[0m in \u001b[0;36mwrapper\u001b[0;34m(*args, **kwargs)\u001b[0m\n\u001b[1;32m    389\u001b[0m                             )\n\u001b[1;32m    390\u001b[0m \u001b[0;34m\u001b[0m\u001b[0m\n\u001b[0;32m--> 391\u001b[0;31m                 \u001b[0mout\u001b[0m \u001b[0;34m=\u001b[0m \u001b[0mfunc\u001b[0m\u001b[0;34m(\u001b[0m\u001b[0;34m*\u001b[0m\u001b[0margs\u001b[0m\u001b[0;34m,\u001b[0m \u001b[0;34m**\u001b[0m\u001b[0mkwargs\u001b[0m\u001b[0;34m)\u001b[0m\u001b[0;34m\u001b[0m\u001b[0;34m\u001b[0m\u001b[0m\n\u001b[0m\u001b[1;32m    392\u001b[0m                 \u001b[0mself\u001b[0m\u001b[0;34m.\u001b[0m\u001b[0m_optimizer_step_code\u001b[0m\u001b[0;34m(\u001b[0m\u001b[0;34m)\u001b[0m\u001b[0;34m\u001b[0m\u001b[0;34m\u001b[0m\u001b[0m\n\u001b[1;32m    393\u001b[0m \u001b[0;34m\u001b[0m\u001b[0m\n",
            "\u001b[0;32m/usr/local/lib/python3.10/dist-packages/torch/optim/optimizer.py\u001b[0m in \u001b[0;36m_use_grad\u001b[0;34m(self, *args, **kwargs)\u001b[0m\n\u001b[1;32m     74\u001b[0m             \u001b[0mtorch\u001b[0m\u001b[0;34m.\u001b[0m\u001b[0mset_grad_enabled\u001b[0m\u001b[0;34m(\u001b[0m\u001b[0mself\u001b[0m\u001b[0;34m.\u001b[0m\u001b[0mdefaults\u001b[0m\u001b[0;34m[\u001b[0m\u001b[0;34m'differentiable'\u001b[0m\u001b[0;34m]\u001b[0m\u001b[0;34m)\u001b[0m\u001b[0;34m\u001b[0m\u001b[0;34m\u001b[0m\u001b[0m\n\u001b[1;32m     75\u001b[0m             \u001b[0mtorch\u001b[0m\u001b[0;34m.\u001b[0m\u001b[0m_dynamo\u001b[0m\u001b[0;34m.\u001b[0m\u001b[0mgraph_break\u001b[0m\u001b[0;34m(\u001b[0m\u001b[0;34m)\u001b[0m\u001b[0;34m\u001b[0m\u001b[0;34m\u001b[0m\u001b[0m\n\u001b[0;32m---> 76\u001b[0;31m             \u001b[0mret\u001b[0m \u001b[0;34m=\u001b[0m \u001b[0mfunc\u001b[0m\u001b[0;34m(\u001b[0m\u001b[0mself\u001b[0m\u001b[0;34m,\u001b[0m \u001b[0;34m*\u001b[0m\u001b[0margs\u001b[0m\u001b[0;34m,\u001b[0m \u001b[0;34m**\u001b[0m\u001b[0mkwargs\u001b[0m\u001b[0;34m)\u001b[0m\u001b[0;34m\u001b[0m\u001b[0;34m\u001b[0m\u001b[0m\n\u001b[0m\u001b[1;32m     77\u001b[0m         \u001b[0;32mfinally\u001b[0m\u001b[0;34m:\u001b[0m\u001b[0;34m\u001b[0m\u001b[0;34m\u001b[0m\u001b[0m\n\u001b[1;32m     78\u001b[0m             \u001b[0mtorch\u001b[0m\u001b[0;34m.\u001b[0m\u001b[0m_dynamo\u001b[0m\u001b[0;34m.\u001b[0m\u001b[0mgraph_break\u001b[0m\u001b[0;34m(\u001b[0m\u001b[0;34m)\u001b[0m\u001b[0;34m\u001b[0m\u001b[0;34m\u001b[0m\u001b[0m\n",
            "\u001b[0;32m/usr/local/lib/python3.10/dist-packages/torch/optim/adam.py\u001b[0m in \u001b[0;36mstep\u001b[0;34m(self, closure)\u001b[0m\n\u001b[1;32m    166\u001b[0m                 state_steps)\n\u001b[1;32m    167\u001b[0m \u001b[0;34m\u001b[0m\u001b[0m\n\u001b[0;32m--> 168\u001b[0;31m             adam(\n\u001b[0m\u001b[1;32m    169\u001b[0m                 \u001b[0mparams_with_grad\u001b[0m\u001b[0;34m,\u001b[0m\u001b[0;34m\u001b[0m\u001b[0;34m\u001b[0m\u001b[0m\n\u001b[1;32m    170\u001b[0m                 \u001b[0mgrads\u001b[0m\u001b[0;34m,\u001b[0m\u001b[0;34m\u001b[0m\u001b[0;34m\u001b[0m\u001b[0m\n",
            "\u001b[0;32m/usr/local/lib/python3.10/dist-packages/torch/optim/adam.py\u001b[0m in \u001b[0;36madam\u001b[0;34m(params, grads, exp_avgs, exp_avg_sqs, max_exp_avg_sqs, state_steps, foreach, capturable, differentiable, fused, grad_scale, found_inf, has_complex, amsgrad, beta1, beta2, lr, weight_decay, eps, maximize)\u001b[0m\n\u001b[1;32m    316\u001b[0m         \u001b[0mfunc\u001b[0m \u001b[0;34m=\u001b[0m \u001b[0m_single_tensor_adam\u001b[0m\u001b[0;34m\u001b[0m\u001b[0;34m\u001b[0m\u001b[0m\n\u001b[1;32m    317\u001b[0m \u001b[0;34m\u001b[0m\u001b[0m\n\u001b[0;32m--> 318\u001b[0;31m     func(params,\n\u001b[0m\u001b[1;32m    319\u001b[0m          \u001b[0mgrads\u001b[0m\u001b[0;34m,\u001b[0m\u001b[0;34m\u001b[0m\u001b[0;34m\u001b[0m\u001b[0m\n\u001b[1;32m    320\u001b[0m          \u001b[0mexp_avgs\u001b[0m\u001b[0;34m,\u001b[0m\u001b[0;34m\u001b[0m\u001b[0;34m\u001b[0m\u001b[0m\n",
            "\u001b[0;32m/usr/local/lib/python3.10/dist-packages/torch/optim/adam.py\u001b[0m in \u001b[0;36m_single_tensor_adam\u001b[0;34m(params, grads, exp_avgs, exp_avg_sqs, max_exp_avg_sqs, state_steps, grad_scale, found_inf, amsgrad, has_complex, beta1, beta2, lr, weight_decay, eps, maximize, capturable, differentiable)\u001b[0m\n\u001b[1;32m    439\u001b[0m                 \u001b[0mdenom\u001b[0m \u001b[0;34m=\u001b[0m \u001b[0;34m(\u001b[0m\u001b[0mmax_exp_avg_sqs\u001b[0m\u001b[0;34m[\u001b[0m\u001b[0mi\u001b[0m\u001b[0;34m]\u001b[0m\u001b[0;34m.\u001b[0m\u001b[0msqrt\u001b[0m\u001b[0;34m(\u001b[0m\u001b[0;34m)\u001b[0m \u001b[0;34m/\u001b[0m \u001b[0mbias_correction2_sqrt\u001b[0m\u001b[0;34m)\u001b[0m\u001b[0;34m.\u001b[0m\u001b[0madd_\u001b[0m\u001b[0;34m(\u001b[0m\u001b[0meps\u001b[0m\u001b[0;34m)\u001b[0m\u001b[0;34m\u001b[0m\u001b[0;34m\u001b[0m\u001b[0m\n\u001b[1;32m    440\u001b[0m             \u001b[0;32melse\u001b[0m\u001b[0;34m:\u001b[0m\u001b[0;34m\u001b[0m\u001b[0;34m\u001b[0m\u001b[0m\n\u001b[0;32m--> 441\u001b[0;31m                 \u001b[0mdenom\u001b[0m \u001b[0;34m=\u001b[0m \u001b[0;34m(\u001b[0m\u001b[0mexp_avg_sq\u001b[0m\u001b[0;34m.\u001b[0m\u001b[0msqrt\u001b[0m\u001b[0;34m(\u001b[0m\u001b[0;34m)\u001b[0m \u001b[0;34m/\u001b[0m \u001b[0mbias_correction2_sqrt\u001b[0m\u001b[0;34m)\u001b[0m\u001b[0;34m.\u001b[0m\u001b[0madd_\u001b[0m\u001b[0;34m(\u001b[0m\u001b[0meps\u001b[0m\u001b[0;34m)\u001b[0m\u001b[0;34m\u001b[0m\u001b[0;34m\u001b[0m\u001b[0m\n\u001b[0m\u001b[1;32m    442\u001b[0m \u001b[0;34m\u001b[0m\u001b[0m\n\u001b[1;32m    443\u001b[0m             \u001b[0mparam\u001b[0m\u001b[0;34m.\u001b[0m\u001b[0maddcdiv_\u001b[0m\u001b[0;34m(\u001b[0m\u001b[0mexp_avg\u001b[0m\u001b[0;34m,\u001b[0m \u001b[0mdenom\u001b[0m\u001b[0;34m,\u001b[0m \u001b[0mvalue\u001b[0m\u001b[0;34m=\u001b[0m\u001b[0;34m-\u001b[0m\u001b[0mstep_size\u001b[0m\u001b[0;34m)\u001b[0m\u001b[0;34m\u001b[0m\u001b[0;34m\u001b[0m\u001b[0m\n",
            "\u001b[0;31mKeyboardInterrupt\u001b[0m: "
          ]
        }
      ],
      "source": [
        "EPOCHS = 10\n",
        "\n",
        "# цикл обучения\n",
        "for epoch in range(EPOCHS):\n",
        "\n",
        "  # тренировка модели\n",
        "  model.train()\n",
        "  running_train_loss = []\n",
        "  true_answer = 0\n",
        "  train_loop = tqdm(train_loader, leave = False)\n",
        "  for x, targets in train_loop:\n",
        "    # Данные\n",
        "    # (batch_size, 1, 64, 64) ->(batch_size, 64*64)\n",
        "    x = x.reshape (-1, 64*64).to(device)\n",
        "\n",
        "    targets = targets.to(device)\n",
        "    # Прямой проход + расчет ошибки модели\n",
        "    preda = model(x)\n",
        "    loss = loss_model(preda, targets)\n",
        "\n",
        "    # Обратный проход\n",
        "    opt.zero_grad()\n",
        "    loss.backward()\n",
        "    # Шаг оптимизации\n",
        "    opt.step()\n",
        "\n",
        "    running_train_loss.append(loss.item())\n",
        "    mean_train_loss = sum(running_train_loss)/len(running_train_loss)\n",
        "    true_answer += (torch.round(preda) == targets).all(dim = 1).sum().item()\n",
        "\n",
        "\n",
        "    train_loop.set_description(f'Epoch [{epoch+1}/{EPOCHS}], train_loss{mean_train_loss:.4f}')\n",
        " # Расчет значения метрики\n",
        "  running_train_acc = true_answer / len(train_set)\n",
        "\n",
        " # Сохранение значения фукнции потерь и метрики\n",
        "  train_loss.append(mean_train_loss)\n",
        "  train_acc.append(running_train_acc)\n",
        "\n",
        "\n",
        " # Проверка модели(валидация)\n",
        "  model.eval()\n",
        "  with torch.no_grad():\n",
        "    running_val_loss = []\n",
        "    tru_answer = 0\n",
        "    for x, target in val_loader:\n",
        "      # Данные\n",
        "      # (batch_size, 1, 64, 64) ->(batch_size, 64*64)\n",
        "      x = x.reshape (-1, 64*64).to(device)\n",
        "\n",
        "      target = target.to(device)\n",
        "\n",
        "      # Прямой проход + расчет ошибки модели\n",
        "      pred = model(x)\n",
        "      loss = loss_model(pred, target)\n",
        "\n",
        "      running_val_loss.append(loss.item())\n",
        "      mean_val_loss = sum(running_val_loss)/len(running_val_loss)\n",
        "      tru_answer +=(torch.round(pred) == target).all(dim = 1).sum().item()\n",
        "\n",
        "    #  Расчет значения метрики\n",
        "    running_val_acc = tru_answer / len(val_set)\n",
        "    #  Сохранение занчения функции потерь и метрики\n",
        "    val_loss.append(mean_val_loss)\n",
        "    val_acc.append(running_val_acc)\n",
        "\n",
        "    print(f' Epoch [{epoch+1}/{EPOCHS}], train_loss = {mean_train_loss:.4f}, train_acc = {running_train_acc:.4f}, val_loss = {mean_val_loss:.4f}, val_acc = {running_val_acc:.4f}')"
      ]
    },
    {
      "cell_type": "markdown",
      "metadata": {
        "id": "8gV-XUj9LF0l"
      },
      "source": [
        "# LR_Schduler\n"
      ]
    },
    {
      "cell_type": "code",
      "execution_count": 40,
      "metadata": {
        "collapsed": true,
        "id": "8o8sW8gfua_D"
      },
      "outputs": [],
      "source": [
        "class MyModel(nn.Module):\n",
        "  def __init__(self, input, output):\n",
        "    super().__init__()\n",
        "    self.layer_1 = nn.Linear(input,128)\n",
        "    self.layer_2 = nn.Linear(128, output)\n",
        "    self.act = nn.ReLU()\n",
        "\n",
        "  def forward(self, x):\n",
        "    x = self.layer_1(x)\n",
        "    x = self.act(x)\n",
        "    out = self.layer_2(x)\n",
        "    return out"
      ]
    },
    {
      "cell_type": "code",
      "execution_count": 41,
      "metadata": {
        "id": "ML7OS207LdUF"
      },
      "outputs": [],
      "source": [
        "model = MyModel(784, 10)\n",
        "\n",
        "loss_model = nn.CrossEntropyLoss()\n",
        "opt = torch.optim.Adam(model.parameters(), lr =0.1)"
      ]
    },
    {
      "cell_type": "code",
      "execution_count": null,
      "metadata": {
        "colab": {
          "base_uri": "https://localhost:8080/",
          "height": 430
        },
        "collapsed": true,
        "id": "by9eZLyiMKpD",
        "outputId": "52c0bdfe-35f6-49b4-b5ae-b4fd3b100422"
      },
      "outputs": [
        {
          "data": {
            "image/png": "[encoded data removed]",
            "text/plain": [
              "<Figure size 640x480 with 1 Axes>"
            ]
          },
          "metadata": {},
          "output_type": "display_data"
        }
      ],
      "source": [
        "# LambdaLR\n",
        "lr_lambda = lambda step: 0.1 if step %10 == 0 else 1\n",
        "lr_scheduler = torch.optim.lr_scheduler.LambdaLR(opt, lr_lambda = lr_lambda)\n",
        "\n",
        "list_ = []\n",
        "for epoch in range(100):\n",
        "  # Train\n",
        "  for _ in range(1):\n",
        "    # forward pass\n",
        "    # backward pass\n",
        "    opt.step()\n",
        "\n",
        "  lr_scheduler.step()\n",
        "  lr = lr_scheduler.get_last_lr()\n",
        "  list_.append(lr)\n",
        "plt.plot(list_)\n",
        "plt.show()\n",
        "\n"
      ]
    },
    {
      "cell_type": "code",
      "execution_count": null,
      "metadata": {
        "colab": {
          "base_uri": "https://localhost:8080/",
          "height": 430
        },
        "collapsed": true,
        "id": "IJjCcoNKqNJV",
        "outputId": "39dc3a24-db6c-4e53-dd02-5e3eeeb0e0d5"
      },
      "outputs": [
        {
          "data": {
            "image/png": "[encoded data removed]",
            "text/plain": [
              "<Figure size 640x480 with 1 Axes>"
            ]
          },
          "metadata": {},
          "output_type": "display_data"
        }
      ],
      "source": [
        "# MultiStepLR\n",
        "lr_scheduler = torch.optim.lr_scheduler.MultiStepLR(opt, milestones=[10,20,90], gamma = 0.1)\n",
        "\n",
        "list_ = []\n",
        "for epoch in range(100):\n",
        "  # Train\n",
        "  for _ in range(1):\n",
        "    # forward pass\n",
        "    # backward pass\n",
        "    opt.step()\n",
        "\n",
        "  lr_scheduler.step()\n",
        "  lr = lr_scheduler.get_last_lr()\n",
        "  list_.append(lr)\n",
        "plt.plot(list_)\n",
        "plt.show()"
      ]
    },
    {
      "cell_type": "code",
      "execution_count": null,
      "metadata": {
        "colab": {
          "base_uri": "https://localhost:8080/",
          "height": 445
        },
        "collapsed": true,
        "id": "-AZQVpAvrJo9",
        "outputId": "9e25dc1d-f139-4a95-8c85-32ce6ab093c2"
      },
      "outputs": [
        {
          "data": {
            "image/png": "[encoded data removed]",
            "text/plain": [
              "<Figure size 640x480 with 1 Axes>"
            ]
          },
          "metadata": {},
          "output_type": "display_data"
        }
      ],
      "source": [
        "# StepLR\n",
        "lr_scheduler = torch.optim.lr_scheduler.StepLR(opt, step_size=30, gamma = 0.1)\n",
        "\n",
        "list_ = []\n",
        "for epoch in range(100):\n",
        "  # Train\n",
        "  for _ in range(1):\n",
        "    # forward pass\n",
        "    # backward pass\n",
        "    opt.step()\n",
        "\n",
        "  lr_scheduler.step()\n",
        "  lr = lr_scheduler.get_last_lr()\n",
        "  list_.append(lr)\n",
        "plt.plot(list_)\n",
        "plt.show()"
      ]
    },
    {
      "cell_type": "code",
      "execution_count": null,
      "metadata": {
        "colab": {
          "base_uri": "https://localhost:8080/",
          "height": 430
        },
        "collapsed": true,
        "id": "591OHSb7sRYk",
        "outputId": "e32dfaa4-883a-4302-a5b9-f05a725b9a2c"
      },
      "outputs": [
        {
          "data": {
            "image/png": "[encoded data removed]",
            "text/plain": [
              "<Figure size 640x480 with 1 Axes>"
            ]
          },
          "metadata": {},
          "output_type": "display_data"
        }
      ],
      "source": [
        "# ExponentialLR\n",
        "lr_scheduler = torch.optim.lr_scheduler.ExponentialLR(opt, gamma = 0.9)\n",
        "\n",
        "list_ = []\n",
        "for epoch in range(100):\n",
        "  # Train\n",
        "  for _ in range(1):\n",
        "    # forward pass\n",
        "    # backward pass\n",
        "    opt.step()\n",
        "  if epoch % 5 == 0:\n",
        "     lr_scheduler.step()\n",
        "  lr = lr_scheduler.get_last_lr()\n",
        "  list_.append(lr)\n",
        "plt.plot(list_)\n",
        "plt.show()"
      ]
    },
    {
      "cell_type": "code",
      "execution_count": 42,
      "metadata": {
        "id": "Pn9iAJqWxD8J"
      },
      "outputs": [],
      "source": [
        "model = MyModel(784, 10)\n",
        "\n",
        "loss_model = nn.CrossEntropyLoss()\n",
        "opt = torch.optim.Adam(model.parameters(), lr =0.1)\n",
        "lr_scheduler = torch.optim.lr_scheduler.ReduceLROnPlateau(opt,\n",
        "                                                          mode = 'min',#'max' или 'min' - следим чтобы отслеживаемый параметр увеличивался или рос\n",
        "                                                          factor = 0.1, #коэффициент на который будет умножаться lr\n",
        "                                                          patience = 10, #кол-во эпох без улучшения отслеживаемого параметра\n",
        "                                                          threshold = 0.0001, #порог, на который должен измениться отслеживаемый параметр\n",
        "                                                          threshold_mode = 'rel', # 'rel' или 'abs'. Если 'rel', то отслеживаемый параметр должен измениться\n",
        "                                                          # на treshold процентов, если 'abc', то просто на число\n",
        "                                                           cooldown = 0, #кол-во периодов ожидания после уменьшения lr\n",
        "                                                          min_lr = 0, # минимальное значение скорости обучения\n",
        "                                                          eps = 1e-8 # минимальное значение между новым и старым lr\n",
        "                                                          )"
      ]
    },
    {
      "cell_type": "code",
      "execution_count": null,
      "metadata": {
        "colab": {
          "base_uri": "https://localhost:8080/"
        },
        "collapsed": true,
        "id": "UfzNLDrCIgcB",
        "outputId": "7e0bb7a7-0523-4695-e6b5-1a39eab27733"
      },
      "outputs": [
        {
          "name": "stdout",
          "output_type": "stream",
          "text": [
            "tensor([[0.1000, 0.1000, 0.1000, 0.1000, 0.1000, 0.1000, 0.1000, 0.1000, 0.1000,\n",
            "         0.1000],\n",
            "        [0.1000, 0.1000, 0.1000, 0.1000, 0.1000, 0.1000, 0.1000, 0.1000, 0.1000,\n",
            "         0.1000],\n",
            "        [0.1000, 0.1000, 0.1000, 0.1000, 0.1000, 0.1000, 0.1000, 0.1000, 0.1000,\n",
            "         0.1000],\n",
            "        [0.1000, 0.1000, 0.1000, 0.1000, 0.1000, 0.1000, 0.1000, 0.1000, 0.1000,\n",
            "         0.1000],\n",
            "        [0.1000, 0.1000, 0.1000, 0.1000, 0.1000, 0.1000, 0.1000, 0.1000, 0.1000,\n",
            "         0.1000]])\n",
            "tensor([[1.0000],\n",
            "        [0.5000],\n",
            "        [0.3333],\n",
            "        [0.2500],\n",
            "        [0.2000]])\n",
            "tensor([[0.1000, 0.1000, 0.1000, 0.1000, 0.1000, 0.1000, 0.1000, 0.1000, 0.1000,\n",
            "         0.1000],\n",
            "        [0.0500, 0.0500, 0.0500, 0.0500, 0.0500, 0.0500, 0.0500, 0.0500, 0.0500,\n",
            "         0.0500],\n",
            "        [0.0333, 0.0333, 0.0333, 0.0333, 0.0333, 0.0333, 0.0333, 0.0333, 0.0333,\n",
            "         0.0333],\n",
            "        [0.0250, 0.0250, 0.0250, 0.0250, 0.0250, 0.0250, 0.0250, 0.0250, 0.0250,\n",
            "         0.0250],\n",
            "        [0.0200, 0.0200, 0.0200, 0.0200, 0.0200, 0.0200, 0.0200, 0.0200, 0.0200,\n",
            "         0.0200]])\n",
            "tensor([0.1000, 0.1000, 0.1000, 0.1000, 0.1000, 0.1000, 0.1000, 0.1000, 0.1000,\n",
            "        0.1000, 0.0500, 0.0500, 0.0500, 0.0500, 0.0500, 0.0500, 0.0500, 0.0500,\n",
            "        0.0500, 0.0500, 0.0333, 0.0333, 0.0333, 0.0333, 0.0333, 0.0333, 0.0333,\n",
            "        0.0333, 0.0333, 0.0333, 0.0250, 0.0250, 0.0250, 0.0250, 0.0250, 0.0250,\n",
            "        0.0250, 0.0250, 0.0250, 0.0250, 0.0200, 0.0200, 0.0200, 0.0200, 0.0200,\n",
            "        0.0200, 0.0200, 0.0200, 0.0200, 0.0200])\n"
          ]
        }
      ],
      "source": [
        "loss = torch.full([5, 10], 0.1)\n",
        "print(loss)\n",
        "a = torch.tensor([1/i for i in range(1,6)]).reshape([5,1])\n",
        "print(a)\n",
        "loss = loss * a\n",
        "print(loss)\n",
        "loss = loss.reshape([50])\n",
        "print(loss)"
      ]
    },
    {
      "cell_type": "code",
      "execution_count": null,
      "metadata": {
        "colab": {
          "base_uri": "https://localhost:8080/",
          "height": 430
        },
        "id": "ojxXriMqJbfO",
        "outputId": "d9be7bca-d813-466f-da5a-29a5d81c8a28"
      },
      "outputs": [
        {
          "data": {
            "image/png": "[encoded data removed]",
            "text/plain": [
              "<Figure size 640x480 with 1 Axes>"
            ]
          },
          "metadata": {},
          "output_type": "display_data"
        }
      ],
      "source": [
        "list_ = []\n",
        "lost = []\n",
        "for epoch in range(50):\n",
        "  # Train\n",
        "  for _ in range(1):\n",
        "    # forward pass\n",
        "    # backward pass\n",
        "    opt.step()\n",
        "  idx = epoch\n",
        "  lr_scheduler.step(loss[idx])\n",
        "  lost.append(loss[idx])\n",
        "  lr = lr_scheduler._last_lr[0]\n",
        "  list_.append(lr)\n",
        "plt.plot(lost)\n",
        "plt.plot(list_)\n",
        "plt.show()"
      ]
    },
    {
      "cell_type": "markdown",
      "metadata": {
        "id": "h7R-BNf8xZ8Z"
      },
      "source": [
        "# Load paramaters"
      ]
    },
    {
      "cell_type": "code",
      "execution_count": 39,
      "metadata": {
        "colab": {
          "base_uri": "https://localhost:8080/",
          "height": 359
        },
        "collapsed": true,
        "id": "HSKEkWeOpkDi",
        "outputId": "5861fd6f-e4dc-42fc-876b-f93e08de051a"
      },
      "outputs": [
        {
          "output_type": "stream",
          "name": "stderr",
          "text": [
            "<ipython-input-39-940c23fffeb1>:1: FutureWarning: You are using `torch.load` with `weights_only=False` (the current default value), which uses the default pickle module implicitly. It is possible to construct malicious pickle data which will execute arbitrary code during unpickling (See https://github.com/pytorch/pytorch/blob/main/SECURITY.md#untrusted-models for more details). In a future release, the default value for `weights_only` will be flipped to `True`. This limits the functions that could be executed during unpickling. Arbitrary objects will no longer be allowed to be loaded via this mode unless they are explicitly allowlisted by the user via `torch.serialization.add_safe_globals`. We recommend you start setting `weights_only=True` for any use case where you don't have full control of the loaded file. Please open an issue on GitHub for any issues related to this experimental feature.\n",
            "  param_model = torch.load('model_state_dict_epoch_15.pt')\n"
          ]
        },
        {
          "output_type": "error",
          "ename": "FileNotFoundError",
          "evalue": "[Errno 2] No such file or directory: 'model_state_dict_epoch_15.pt'",
          "traceback": [
            "\u001b[0;31m---------------------------------------------------------------------------\u001b[0m",
            "\u001b[0;31mFileNotFoundError\u001b[0m                         Traceback (most recent call last)",
            "\u001b[0;32m<ipython-input-39-940c23fffeb1>\u001b[0m in \u001b[0;36m<cell line: 1>\u001b[0;34m()\u001b[0m\n\u001b[0;32m----> 1\u001b[0;31m \u001b[0mparam_model\u001b[0m \u001b[0;34m=\u001b[0m \u001b[0mtorch\u001b[0m\u001b[0;34m.\u001b[0m\u001b[0mload\u001b[0m\u001b[0;34m(\u001b[0m\u001b[0;34m'model_state_dict_epoch_15.pt'\u001b[0m\u001b[0;34m)\u001b[0m\u001b[0;34m\u001b[0m\u001b[0;34m\u001b[0m\u001b[0m\n\u001b[0m\u001b[1;32m      2\u001b[0m \u001b[0mparam_model\u001b[0m\u001b[0;34m\u001b[0m\u001b[0;34m\u001b[0m\u001b[0m\n",
            "\u001b[0;32m/usr/local/lib/python3.10/dist-packages/torch/serialization.py\u001b[0m in \u001b[0;36mload\u001b[0;34m(f, map_location, pickle_module, weights_only, mmap, **pickle_load_args)\u001b[0m\n\u001b[1;32m   1063\u001b[0m         \u001b[0mpickle_load_args\u001b[0m\u001b[0;34m[\u001b[0m\u001b[0;34m'encoding'\u001b[0m\u001b[0;34m]\u001b[0m \u001b[0;34m=\u001b[0m \u001b[0;34m'utf-8'\u001b[0m\u001b[0;34m\u001b[0m\u001b[0;34m\u001b[0m\u001b[0m\n\u001b[1;32m   1064\u001b[0m \u001b[0;34m\u001b[0m\u001b[0m\n\u001b[0;32m-> 1065\u001b[0;31m     \u001b[0;32mwith\u001b[0m \u001b[0m_open_file_like\u001b[0m\u001b[0;34m(\u001b[0m\u001b[0mf\u001b[0m\u001b[0;34m,\u001b[0m \u001b[0;34m'rb'\u001b[0m\u001b[0;34m)\u001b[0m \u001b[0;32mas\u001b[0m \u001b[0mopened_file\u001b[0m\u001b[0;34m:\u001b[0m\u001b[0;34m\u001b[0m\u001b[0;34m\u001b[0m\u001b[0m\n\u001b[0m\u001b[1;32m   1066\u001b[0m         \u001b[0;32mif\u001b[0m \u001b[0m_is_zipfile\u001b[0m\u001b[0;34m(\u001b[0m\u001b[0mopened_file\u001b[0m\u001b[0;34m)\u001b[0m\u001b[0;34m:\u001b[0m\u001b[0;34m\u001b[0m\u001b[0;34m\u001b[0m\u001b[0m\n\u001b[1;32m   1067\u001b[0m             \u001b[0;31m# The zipfile reader is going to advance the current file position.\u001b[0m\u001b[0;34m\u001b[0m\u001b[0;34m\u001b[0m\u001b[0m\n",
            "\u001b[0;32m/usr/local/lib/python3.10/dist-packages/torch/serialization.py\u001b[0m in \u001b[0;36m_open_file_like\u001b[0;34m(name_or_buffer, mode)\u001b[0m\n\u001b[1;32m    466\u001b[0m \u001b[0;32mdef\u001b[0m \u001b[0m_open_file_like\u001b[0m\u001b[0;34m(\u001b[0m\u001b[0mname_or_buffer\u001b[0m\u001b[0;34m,\u001b[0m \u001b[0mmode\u001b[0m\u001b[0;34m)\u001b[0m\u001b[0;34m:\u001b[0m\u001b[0;34m\u001b[0m\u001b[0;34m\u001b[0m\u001b[0m\n\u001b[1;32m    467\u001b[0m     \u001b[0;32mif\u001b[0m \u001b[0m_is_path\u001b[0m\u001b[0;34m(\u001b[0m\u001b[0mname_or_buffer\u001b[0m\u001b[0;34m)\u001b[0m\u001b[0;34m:\u001b[0m\u001b[0;34m\u001b[0m\u001b[0;34m\u001b[0m\u001b[0m\n\u001b[0;32m--> 468\u001b[0;31m         \u001b[0;32mreturn\u001b[0m \u001b[0m_open_file\u001b[0m\u001b[0;34m(\u001b[0m\u001b[0mname_or_buffer\u001b[0m\u001b[0;34m,\u001b[0m \u001b[0mmode\u001b[0m\u001b[0;34m)\u001b[0m\u001b[0;34m\u001b[0m\u001b[0;34m\u001b[0m\u001b[0m\n\u001b[0m\u001b[1;32m    469\u001b[0m     \u001b[0;32melse\u001b[0m\u001b[0;34m:\u001b[0m\u001b[0;34m\u001b[0m\u001b[0;34m\u001b[0m\u001b[0m\n\u001b[1;32m    470\u001b[0m         \u001b[0;32mif\u001b[0m \u001b[0;34m'w'\u001b[0m \u001b[0;32min\u001b[0m \u001b[0mmode\u001b[0m\u001b[0;34m:\u001b[0m\u001b[0;34m\u001b[0m\u001b[0;34m\u001b[0m\u001b[0m\n",
            "\u001b[0;32m/usr/local/lib/python3.10/dist-packages/torch/serialization.py\u001b[0m in \u001b[0;36m__init__\u001b[0;34m(self, name, mode)\u001b[0m\n\u001b[1;32m    447\u001b[0m \u001b[0;32mclass\u001b[0m \u001b[0m_open_file\u001b[0m\u001b[0;34m(\u001b[0m\u001b[0m_opener\u001b[0m\u001b[0;34m)\u001b[0m\u001b[0;34m:\u001b[0m\u001b[0;34m\u001b[0m\u001b[0;34m\u001b[0m\u001b[0m\n\u001b[1;32m    448\u001b[0m     \u001b[0;32mdef\u001b[0m \u001b[0m__init__\u001b[0m\u001b[0;34m(\u001b[0m\u001b[0mself\u001b[0m\u001b[0;34m,\u001b[0m \u001b[0mname\u001b[0m\u001b[0;34m,\u001b[0m \u001b[0mmode\u001b[0m\u001b[0;34m)\u001b[0m\u001b[0;34m:\u001b[0m\u001b[0;34m\u001b[0m\u001b[0;34m\u001b[0m\u001b[0m\n\u001b[0;32m--> 449\u001b[0;31m         \u001b[0msuper\u001b[0m\u001b[0;34m(\u001b[0m\u001b[0;34m)\u001b[0m\u001b[0;34m.\u001b[0m\u001b[0m__init__\u001b[0m\u001b[0;34m(\u001b[0m\u001b[0mopen\u001b[0m\u001b[0;34m(\u001b[0m\u001b[0mname\u001b[0m\u001b[0;34m,\u001b[0m \u001b[0mmode\u001b[0m\u001b[0;34m)\u001b[0m\u001b[0;34m)\u001b[0m\u001b[0;34m\u001b[0m\u001b[0;34m\u001b[0m\u001b[0m\n\u001b[0m\u001b[1;32m    450\u001b[0m \u001b[0;34m\u001b[0m\u001b[0m\n\u001b[1;32m    451\u001b[0m     \u001b[0;32mdef\u001b[0m \u001b[0m__exit__\u001b[0m\u001b[0;34m(\u001b[0m\u001b[0mself\u001b[0m\u001b[0;34m,\u001b[0m \u001b[0;34m*\u001b[0m\u001b[0margs\u001b[0m\u001b[0;34m)\u001b[0m\u001b[0;34m:\u001b[0m\u001b[0;34m\u001b[0m\u001b[0;34m\u001b[0m\u001b[0m\n",
            "\u001b[0;31mFileNotFoundError\u001b[0m: [Errno 2] No such file or directory: 'model_state_dict_epoch_15.pt'"
          ]
        }
      ],
      "source": [
        "param_model = torch.load('model_state_dict_epoch_15.pt')\n",
        "param_model"
      ]
    },
    {
      "cell_type": "code",
      "execution_count": 38,
      "metadata": {
        "colab": {
          "base_uri": "https://localhost:8080/",
          "height": 158
        },
        "id": "qksq3Y0Ip78h",
        "outputId": "c3f24571-af44-47b4-8715-c5cde8e65f96"
      },
      "outputs": [
        {
          "output_type": "error",
          "ename": "NameError",
          "evalue": "name 'param_model' is not defined",
          "traceback": [
            "\u001b[0;31m---------------------------------------------------------------------------\u001b[0m",
            "\u001b[0;31mNameError\u001b[0m                                 Traceback (most recent call last)",
            "\u001b[0;32m<ipython-input-38-59884506a211>\u001b[0m in \u001b[0;36m<cell line: 2>\u001b[0;34m()\u001b[0m\n\u001b[1;32m      1\u001b[0m \u001b[0mnew_model\u001b[0m \u001b[0;34m=\u001b[0m \u001b[0mMyModel\u001b[0m\u001b[0;34m(\u001b[0m\u001b[0;36m784\u001b[0m\u001b[0;34m,\u001b[0m\u001b[0;36m10\u001b[0m\u001b[0;34m)\u001b[0m\u001b[0;34m.\u001b[0m\u001b[0mto\u001b[0m\u001b[0;34m(\u001b[0m\u001b[0mdevice\u001b[0m\u001b[0;34m)\u001b[0m\u001b[0;34m\u001b[0m\u001b[0;34m\u001b[0m\u001b[0m\n\u001b[0;32m----> 2\u001b[0;31m \u001b[0mnew_model\u001b[0m\u001b[0;34m.\u001b[0m\u001b[0mload_state_dict\u001b[0m\u001b[0;34m(\u001b[0m\u001b[0mparam_model\u001b[0m\u001b[0;34m)\u001b[0m\u001b[0;34m\u001b[0m\u001b[0;34m\u001b[0m\u001b[0m\n\u001b[0m",
            "\u001b[0;31mNameError\u001b[0m: name 'param_model' is not defined"
          ]
        }
      ],
      "source": [
        "new_model = MyModel(784,10).to(device)\n",
        "new_model.load_state_dict(param_model)"
      ]
    },
    {
      "cell_type": "code",
      "execution_count": null,
      "metadata": {
        "colab": {
          "base_uri": "https://localhost:8080/"
        },
        "id": "SPqcNRbfrUWQ",
        "outputId": "5dfc11e2-c036-485c-f701-61d4fcbaae59"
      },
      "outputs": [
        {
          "name": "stdout",
          "output_type": "stream",
          "text": [
            "val_loss = 0.084787, val_acc = 0.9799444444444444\n"
          ]
        }
      ],
      "source": [
        " # Проверка модели(валидация)\n",
        "new_model.eval()\n",
        " with torch.no_grad():\n",
        "    running_val_loss = []\n",
        "    true_answer = 0\n",
        "    for x, targets in val_loader:\n",
        "      # Данные\n",
        "      # (batch_size, 1, 28, 28) ->(batch_size, 784)\n",
        "      x = x.reshape (-1, 28*28).to(device)\n",
        "\n",
        "      # (batch_size, int) -> (batch_size, 10, dtype = float32)\n",
        "      targets = targets.reshape(-1).to(torch.int32)\n",
        "      targets = torch.eye(10)[targets].to(device)\n",
        "\n",
        "      # Прямой проход + расчет ошибки модели\n",
        "      pred = new_model(x)\n",
        "      loss = loss_model(pred, targets)\n",
        "\n",
        "      running_val_loss.append(loss.item())\n",
        "      mean_val_loss = sum(running_val_loss)/len(running_val_loss)\n",
        "      true_answer += (pred.argmax(dim=1) == targets.argmax(dim = 1)).sum().item()\n",
        "\n",
        "    #  Расчет значения метрики\n",
        "    running_val_acc = true_answer / len(val_data)\n",
        "print(f'val_loss = {mean_val_loss:4f}, val_acc = {running_val_acc}')"
      ]
    },
    {
      "cell_type": "code",
      "execution_count": null,
      "metadata": {
        "id": "Yj3jOAu3zzil"
      },
      "outputs": [],
      "source": [
        "str_info = '''\n",
        "class MyModel(nn.Model):\n",
        "  def __init__(self, input, output):\n",
        "    super().__init__()\n",
        "    self.layer_1 = nn.Linera(input, 128)\n",
        "    self.layer_2 = nn.Linear(128,10)\n",
        "    self.act = nn.ReLU()\n",
        "\n",
        "  def forward(self, x):\n",
        "    x = self.layer_1(x)\n",
        "    x = self.act(x)\n",
        "    out = self.layer(x)\n",
        "    return out\n",
        "\n",
        "new_model = MyModel(784, 2)\n",
        "'''\n",
        "\n",
        "EPOCHS =30\n",
        "save_epoch = 14\n",
        "best_loss = None"
      ]
    },
    {
      "cell_type": "code",
      "execution_count": null,
      "metadata": {
        "id": "_1JpvpIixipI"
      },
      "outputs": [],
      "source": [
        "checkpoint = {\n",
        "    'info' : str_info,\n",
        "    'state_model' : model.state_dict(),\n",
        "    'state_opt': opt.state_dict(),\n",
        "    'state_lr_scheduler': lr_scheduler.state_dict(),\n",
        "    'loss':{\n",
        "      'train_loss': train_loss,\n",
        "      'val_loss': val_loss,\n",
        "      'best_loss': best_loss\n",
        "    },\n",
        "    'metric':{\n",
        "      'train_acc': train_acc,\n",
        "      'val_acc' : val_acc,\n",
        "    },\n",
        "    'lr' : lr_list,\n",
        "    'epoch':{\n",
        "        'EPOCHS': EPOCHS,\n",
        "        'save_epoch' : save_epoch\n",
        "    }\n",
        "\n",
        "}\n",
        "torch.save(checkpoint, 'model_state_dict_aboba.pt')"
      ]
    },
    {
      "cell_type": "code",
      "execution_count": null,
      "metadata": {
        "id": "kTTxr5KA8DjB"
      },
      "outputs": [],
      "source": [
        "load_model_state = torch.load('model_state_dict_aboba.pt')"
      ]
    },
    {
      "cell_type": "code",
      "execution_count": null,
      "metadata": {
        "id": "KkllFLbFy6pn"
      },
      "outputs": [],
      "source": [
        "new_model_1 = MyModel(784,10).to(device)\n",
        "\n",
        "loss_model = nn.CrossEntropyLoss()\n",
        "new_opt = torch.optim.Adam(new_model_1.parameters(), lr = 0.001)\n",
        "new_lr_scheduler = torch.optim.lr_scheduler.ReduceLROnPlateau(new_opt)"
      ]
    },
    {
      "cell_type": "code",
      "execution_count": null,
      "metadata": {
        "id": "I_HWnLAA7p7J"
      },
      "outputs": [],
      "source": [
        "new_model_1.load_state_dict(load_model_state['state_model'])\n",
        "new_opt.load_state_dict(load_model_state['state_opt'])\n",
        "new_lr_scheduler.load_state_dict(load_model_state['state_lr_scheduler'])"
      ]
    },
    {
      "cell_type": "code",
      "execution_count": null,
      "metadata": {
        "colab": {
          "base_uri": "https://localhost:8080/"
        },
        "id": "QLPiHmWeOwbU",
        "outputId": "e0f01f0e-a9b1-476a-a5f2-8b0cfda63436"
      },
      "outputs": [
        {
          "name": "stderr",
          "output_type": "stream",
          "text": []
        },
        {
          "name": "stdout",
          "output_type": "stream",
          "text": [
            " Epoch [16/30], train_loss = 0.0058, train_acc = 0.9987, val_loss = 0.0848, val_acc = 0.9799, lr = 0.0000010\n"
          ]
        },
        {
          "name": "stderr",
          "output_type": "stream",
          "text": []
        },
        {
          "name": "stdout",
          "output_type": "stream",
          "text": [
            " Epoch [17/30], train_loss = 0.0058, train_acc = 0.9987, val_loss = 0.0848, val_acc = 0.9799, lr = 0.0000010\n"
          ]
        },
        {
          "name": "stderr",
          "output_type": "stream",
          "text": []
        },
        {
          "name": "stdout",
          "output_type": "stream",
          "text": [
            " Epoch [18/30], train_loss = 0.0058, train_acc = 0.9987, val_loss = 0.0848, val_acc = 0.9799, lr = 0.0000001\n"
          ]
        },
        {
          "name": "stderr",
          "output_type": "stream",
          "text": []
        },
        {
          "name": "stdout",
          "output_type": "stream",
          "text": [
            " Epoch [19/30], train_loss = 0.0058, train_acc = 0.9987, val_loss = 0.0848, val_acc = 0.9799, lr = 0.0000001\n"
          ]
        },
        {
          "name": "stderr",
          "output_type": "stream",
          "text": [
            "Epoch [20/30], train_loss0.0056:  31%|███▏      | 206/657 [00:11<00:22, 20.08it/s]"
          ]
        }
      ],
      "source": [
        "EPOCHS = load_model_state['epoch']['EPOCHS']\n",
        "save_epoch = load_model_state['epoch']['save_epoch']\n",
        "\n",
        "train_loss = load_model_state['loss']['train_loss']\n",
        "train_acc = load_model_state['metric']['train_acc']\n",
        "val_loss = load_model_state['loss']['val_loss']\n",
        "val_acc = load_model_state['metric']['val_acc']\n",
        "lr_list = load_model_state['lr']\n",
        "\n",
        "best_loss = load_model_state['loss']['best_loss']\n",
        "\n",
        "for epoch in range(save_epoch +1, EPOCHS):\n",
        "   new_model.train()\n",
        "   running_train_loss = []\n",
        "   true_answer = 0\n",
        "   train_loop = tqdm(train_loader, leave = False)\n",
        "   for x, targets in train_loop:\n",
        "    # Данные\n",
        "    # (batch_size, 1, 28, 28) ->(batch_size, 784)\n",
        "     x = x.reshape (-1, 28*28).to(device)\n",
        "\n",
        "    # (batch_size, int) -> (batch_size, 10, dtype = float32)\n",
        "     targets = targets.reshape(-1).to(torch.int32)\n",
        "     targets = torch.eye(10)[targets].to(device)\n",
        "\n",
        "    # Прямой проход + расчет ошибки модели\n",
        "     pred = new_model(x)\n",
        "     new_loss = loss_model(pred, targets)\n",
        "\n",
        "    # Обратный проход\n",
        "     new_opt.zero_grad()\n",
        "     new_loss.backward()\n",
        "    # Шаг оптимизации\n",
        "     new_opt.step()\n",
        "\n",
        "     running_train_loss.append(new_loss.item())\n",
        "     mean_train_loss = sum(running_train_loss)/len(running_train_loss)\n",
        "\n",
        "     true_answer +=(pred.argmax(dim=1) == targets.argmax(dim = 1)).sum().item()\n",
        "\n",
        "\n",
        "     train_loop.set_description(f'Epoch [{epoch+1}/{EPOCHS}], train_loss{mean_train_loss:.4f}')\n",
        "\n",
        " # Расчет значения метрики\n",
        "   running_train_acc = true_answer / len(train_data)\n",
        "\n",
        " # Сохранение значения фукнции потерь и метрики\n",
        "   train_loss.append(mean_train_loss)\n",
        "   train_acc.append(running_train_acc)\n",
        "\n",
        "\n",
        " # Проверка модели(валидация)\n",
        "   new_model.eval()\n",
        "   with torch.no_grad():\n",
        "     running_val_loss = []\n",
        "     true_answer = 0\n",
        "     for x, targets in val_loader:\n",
        "       # Данные\n",
        "       # (batch_size, 1, 28, 28) ->(batch_size, 784)\n",
        "       x = x.reshape (-1, 28*28).to(device)\n",
        "\n",
        "      # (batch_size, int) -> (batch_size, 10, dtype = float32)\n",
        "       targets = targets.reshape(-1).to(torch.int32)\n",
        "       targets = torch.eye(10)[targets].to(device)\n",
        "\n",
        "      # Прямой проход + расчет ошибки модели\n",
        "       pred = new_model(x)\n",
        "       new_loss = loss_model(pred, targets)\n",
        "\n",
        "       running_val_loss.append(new_loss.item())\n",
        "       mean_val_loss = sum(running_val_loss)/len(running_val_loss)\n",
        "       true_answer += (pred.argmax(dim=1) == targets.argmax(dim = 1)).sum().item()\n",
        "\n",
        "    #  Расчет значения метрики\n",
        "     running_val_acc = true_answer / len(val_data)\n",
        "     #  Сохранение занчения функции потерь и метрики\n",
        "     val_loss.append(mean_val_loss)\n",
        "     val_acc.append(running_val_acc)\n",
        "\n",
        "   lr_scheduler.step(mean_val_loss)\n",
        "   lr = lr_scheduler._last_lr[0]\n",
        "   lr_list.append(lr)\n",
        "\n",
        "   print(f' Epoch [{epoch+1}/{EPOCHS}], train_loss = {mean_train_loss:.4f}, train_acc = {running_train_acc:.4f}, val_loss = {mean_val_loss:.4f}, val_acc = {running_val_acc:.4f}, lr = {lr:.7f}')\n",
        "\n",
        "   if best_loss == None:\n",
        "     best_loss = mean_val_loss\n",
        "\n",
        "   if mean_val_loss < best_loss:\n",
        "     best_loss = mean_val_loss\n",
        "\n",
        "     checkpoint = {\n",
        "      'info' : str_info,\n",
        "      'state_model' : model.state_dict(),\n",
        "      'state_opt': opt.state_dict(),\n",
        "      'state_lr_scheduler': lr_scheduler.state_dict(),\n",
        "      'loss':{\n",
        "        'train_loss': train_loss,\n",
        "        'val_loss': val_loss,\n",
        "        'best_loss': best_loss\n",
        "      },\n",
        "      'metric':{\n",
        "        'train_acc': train_acc,\n",
        "        'val_acc' : val_acc,\n",
        "      },\n",
        "      'lr' : lr_list,\n",
        "      'epoch':{\n",
        "          'EPOCHS': EPOCHS,\n",
        "          'save_epoch' : save_epoch\n",
        "      }\n",
        "\n",
        "    }\n",
        "     torch.save(checkpoint, 'model_state_dict_aboba.pt')\n",
        "     print(f'на эпохе {epoch+1} была сохранена модель со всеми данными', end = '\\n\\n')\n",
        "\n"
      ]
    },
    {
      "cell_type": "markdown",
      "metadata": {
        "id": "oihAEohazlQ1"
      },
      "source": [
        "# Early Stopping"
      ]
    },
    {
      "cell_type": "code",
      "execution_count": 35,
      "metadata": {
        "id": "KKYHTcIQkOvc"
      },
      "outputs": [],
      "source": [
        "class EarlyStopping:\n",
        "  def __init__(self, mode ='min', patience = 10, threshold = 0.001, threshold_mode = 'rel'):\n",
        "    if mode not in {'min', 'max'}:\n",
        "     raise ValueError(f'Параметр mode может принимать только значения max и min')\n",
        "    if threshold_mode not in {'rel', 'abs'}:\n",
        "     raise ValueError(f'Параметр threshold_mode может принимать только значения rel и abs')\n",
        "    if not isinstance(patience, int):\n",
        "      raise TypeError(f'Параметр patience должен быть целым числом')\n",
        "    if not isinstance(threshold, float):\n",
        "      raise TypeError(f'Параметр trhershold должен быть float и меньше 1,0')\n",
        "    if threshold >= 1.0:\n",
        "      raise ValueError(f'Параметр threshold должен быть меньше 1,0')\n",
        "\n",
        "    self.mode = mode\n",
        "    self.patience = patience\n",
        "    self.threshold = threshold\n",
        "    self.threshold_mode = threshold_mode\n",
        "    self.count = 0\n",
        "    self.best =  None\n",
        "  def __call__(self, tracked_parameter):\n",
        "    current = float(tracked_parameter)\n",
        "    if self.best == None:\n",
        "      self.best = current\n",
        "      return False\n",
        "    if self.changed_better(current, self.best):\n",
        "      self.best = current\n",
        "      self.count = 0\n",
        "    else:\n",
        "      self.count +=1\n",
        "\n",
        "    if self.count >= self.patience:\n",
        "      self.count = 0\n",
        "      return True\n",
        "    return False\n",
        "\n",
        "  def changed_better(self, current, best):\n",
        "    if self.mode == 'min' and self.threshold_mode == 'rel':\n",
        "      return current < best - best * self.threshold\n",
        "    elif self.mode == 'min' and self.threshold_mode == 'abs':\n",
        "      return current < best - self.threshold\n",
        "    elif self.mode == 'max' and self.threshold_mode == 'rel':\n",
        "      return current > best + best*self.threshold\n",
        "    else:\n",
        "      return current > best + self.threshold\n",
        "\n",
        "\n",
        "\n"
      ]
    },
    {
      "cell_type": "code",
      "execution_count": 36,
      "metadata": {
        "id": "Nex0ZcSxtQyY"
      },
      "outputs": [],
      "source": [
        "new_model = MyModel(784,10).to(device)\n",
        "\n",
        "loss_model = nn.CrossEntropyLoss()\n",
        "new_opt = torch.optim.Adam(new_model.parameters(), lr = 0.001)\n",
        "new_lr_scheduler = torch.optim.lr_scheduler.ReduceLROnPlateau(new_opt, patience=5)\n",
        "early_stopping = EarlyStopping()"
      ]
    },
    {
      "cell_type": "code",
      "execution_count": 45,
      "metadata": {
        "colab": {
          "base_uri": "https://localhost:8080/",
          "height": 425
        },
        "id": "NVj9uCfYzj-q",
        "outputId": "41c834dd-1511-4cbb-ce19-d8f5d99b94c6"
      },
      "outputs": [
        {
          "output_type": "stream",
          "name": "stderr",
          "text": []
        },
        {
          "output_type": "stream",
          "name": "stdout",
          "text": [
            " Epoch [1/50], train_loss = 2.3176, train_acc = 0.1165, val_loss = 2.2990, val_acc = 0.1471, lr = 0.0010000\n"
          ]
        },
        {
          "output_type": "stream",
          "name": "stderr",
          "text": []
        },
        {
          "output_type": "stream",
          "name": "stdout",
          "text": [
            " Epoch [2/50], train_loss = 2.3181, train_acc = 0.1178, val_loss = 2.2990, val_acc = 0.1471, lr = 0.0010000\n"
          ]
        },
        {
          "output_type": "stream",
          "name": "stderr",
          "text": []
        },
        {
          "output_type": "stream",
          "name": "stdout",
          "text": [
            " Epoch [3/50], train_loss = 2.3176, train_acc = 0.1193, val_loss = 2.2990, val_acc = 0.1471, lr = 0.0010000\n"
          ]
        },
        {
          "output_type": "stream",
          "name": "stderr",
          "text": []
        },
        {
          "output_type": "stream",
          "name": "stdout",
          "text": [
            " Epoch [4/50], train_loss = 2.3176, train_acc = 0.1175, val_loss = 2.2990, val_acc = 0.1471, lr = 0.0010000\n"
          ]
        },
        {
          "output_type": "stream",
          "name": "stderr",
          "text": []
        },
        {
          "output_type": "error",
          "ename": "KeyboardInterrupt",
          "evalue": "",
          "traceback": [
            "\u001b[0;31m---------------------------------------------------------------------------\u001b[0m",
            "\u001b[0;31mKeyboardInterrupt\u001b[0m                         Traceback (most recent call last)",
            "\u001b[0;32m<ipython-input-45-b1e4d4710580>\u001b[0m in \u001b[0;36m<cell line: 11>\u001b[0;34m()\u001b[0m\n\u001b[1;32m     14\u001b[0m    \u001b[0mtrue_answer\u001b[0m \u001b[0;34m=\u001b[0m \u001b[0;36m0\u001b[0m\u001b[0;34m\u001b[0m\u001b[0;34m\u001b[0m\u001b[0m\n\u001b[1;32m     15\u001b[0m    \u001b[0mtrain_loop\u001b[0m \u001b[0;34m=\u001b[0m \u001b[0mtqdm\u001b[0m\u001b[0;34m(\u001b[0m\u001b[0mtrain_loader\u001b[0m\u001b[0;34m,\u001b[0m \u001b[0mleave\u001b[0m \u001b[0;34m=\u001b[0m \u001b[0;32mFalse\u001b[0m\u001b[0;34m)\u001b[0m\u001b[0;34m\u001b[0m\u001b[0;34m\u001b[0m\u001b[0m\n\u001b[0;32m---> 16\u001b[0;31m    \u001b[0;32mfor\u001b[0m \u001b[0mx\u001b[0m\u001b[0;34m,\u001b[0m \u001b[0mtargets\u001b[0m \u001b[0;32min\u001b[0m \u001b[0mtrain_loop\u001b[0m\u001b[0;34m:\u001b[0m\u001b[0;34m\u001b[0m\u001b[0;34m\u001b[0m\u001b[0m\n\u001b[0m\u001b[1;32m     17\u001b[0m     \u001b[0;31m# Данные\u001b[0m\u001b[0;34m\u001b[0m\u001b[0;34m\u001b[0m\u001b[0m\n\u001b[1;32m     18\u001b[0m     \u001b[0;31m# (batch_size, 1, 28, 28) ->(batch_size, 784)\u001b[0m\u001b[0;34m\u001b[0m\u001b[0;34m\u001b[0m\u001b[0m\n",
            "\u001b[0;32m/usr/local/lib/python3.10/dist-packages/tqdm/std.py\u001b[0m in \u001b[0;36m__iter__\u001b[0;34m(self)\u001b[0m\n\u001b[1;32m   1179\u001b[0m \u001b[0;34m\u001b[0m\u001b[0m\n\u001b[1;32m   1180\u001b[0m         \u001b[0;32mtry\u001b[0m\u001b[0;34m:\u001b[0m\u001b[0;34m\u001b[0m\u001b[0;34m\u001b[0m\u001b[0m\n\u001b[0;32m-> 1181\u001b[0;31m             \u001b[0;32mfor\u001b[0m \u001b[0mobj\u001b[0m \u001b[0;32min\u001b[0m \u001b[0miterable\u001b[0m\u001b[0;34m:\u001b[0m\u001b[0;34m\u001b[0m\u001b[0;34m\u001b[0m\u001b[0m\n\u001b[0m\u001b[1;32m   1182\u001b[0m                 \u001b[0;32myield\u001b[0m \u001b[0mobj\u001b[0m\u001b[0;34m\u001b[0m\u001b[0;34m\u001b[0m\u001b[0m\n\u001b[1;32m   1183\u001b[0m                 \u001b[0;31m# Update and possibly print the progressbar.\u001b[0m\u001b[0;34m\u001b[0m\u001b[0;34m\u001b[0m\u001b[0m\n",
            "\u001b[0;32m/usr/local/lib/python3.10/dist-packages/torch/utils/data/dataloader.py\u001b[0m in \u001b[0;36m__next__\u001b[0;34m(self)\u001b[0m\n\u001b[1;32m    628\u001b[0m                 \u001b[0;31m# TODO(https://github.com/pytorch/pytorch/issues/76750)\u001b[0m\u001b[0;34m\u001b[0m\u001b[0;34m\u001b[0m\u001b[0m\n\u001b[1;32m    629\u001b[0m                 \u001b[0mself\u001b[0m\u001b[0;34m.\u001b[0m\u001b[0m_reset\u001b[0m\u001b[0;34m(\u001b[0m\u001b[0;34m)\u001b[0m  \u001b[0;31m# type: ignore[call-arg]\u001b[0m\u001b[0;34m\u001b[0m\u001b[0;34m\u001b[0m\u001b[0m\n\u001b[0;32m--> 630\u001b[0;31m             \u001b[0mdata\u001b[0m \u001b[0;34m=\u001b[0m \u001b[0mself\u001b[0m\u001b[0;34m.\u001b[0m\u001b[0m_next_data\u001b[0m\u001b[0;34m(\u001b[0m\u001b[0;34m)\u001b[0m\u001b[0;34m\u001b[0m\u001b[0;34m\u001b[0m\u001b[0m\n\u001b[0m\u001b[1;32m    631\u001b[0m             \u001b[0mself\u001b[0m\u001b[0;34m.\u001b[0m\u001b[0m_num_yielded\u001b[0m \u001b[0;34m+=\u001b[0m \u001b[0;36m1\u001b[0m\u001b[0;34m\u001b[0m\u001b[0;34m\u001b[0m\u001b[0m\n\u001b[1;32m    632\u001b[0m             \u001b[0;32mif\u001b[0m \u001b[0mself\u001b[0m\u001b[0;34m.\u001b[0m\u001b[0m_dataset_kind\u001b[0m \u001b[0;34m==\u001b[0m \u001b[0m_DatasetKind\u001b[0m\u001b[0;34m.\u001b[0m\u001b[0mIterable\u001b[0m \u001b[0;32mand\u001b[0m\u001b[0;31m \u001b[0m\u001b[0;31m\\\u001b[0m\u001b[0;34m\u001b[0m\u001b[0;34m\u001b[0m\u001b[0m\n",
            "\u001b[0;32m/usr/local/lib/python3.10/dist-packages/torch/utils/data/dataloader.py\u001b[0m in \u001b[0;36m_next_data\u001b[0;34m(self)\u001b[0m\n\u001b[1;32m    671\u001b[0m     \u001b[0;32mdef\u001b[0m \u001b[0m_next_data\u001b[0m\u001b[0;34m(\u001b[0m\u001b[0mself\u001b[0m\u001b[0;34m)\u001b[0m\u001b[0;34m:\u001b[0m\u001b[0;34m\u001b[0m\u001b[0;34m\u001b[0m\u001b[0m\n\u001b[1;32m    672\u001b[0m         \u001b[0mindex\u001b[0m \u001b[0;34m=\u001b[0m \u001b[0mself\u001b[0m\u001b[0;34m.\u001b[0m\u001b[0m_next_index\u001b[0m\u001b[0;34m(\u001b[0m\u001b[0;34m)\u001b[0m  \u001b[0;31m# may raise StopIteration\u001b[0m\u001b[0;34m\u001b[0m\u001b[0;34m\u001b[0m\u001b[0m\n\u001b[0;32m--> 673\u001b[0;31m         \u001b[0mdata\u001b[0m \u001b[0;34m=\u001b[0m \u001b[0mself\u001b[0m\u001b[0;34m.\u001b[0m\u001b[0m_dataset_fetcher\u001b[0m\u001b[0;34m.\u001b[0m\u001b[0mfetch\u001b[0m\u001b[0;34m(\u001b[0m\u001b[0mindex\u001b[0m\u001b[0;34m)\u001b[0m  \u001b[0;31m# may raise StopIteration\u001b[0m\u001b[0;34m\u001b[0m\u001b[0;34m\u001b[0m\u001b[0m\n\u001b[0m\u001b[1;32m    674\u001b[0m         \u001b[0;32mif\u001b[0m \u001b[0mself\u001b[0m\u001b[0;34m.\u001b[0m\u001b[0m_pin_memory\u001b[0m\u001b[0;34m:\u001b[0m\u001b[0;34m\u001b[0m\u001b[0;34m\u001b[0m\u001b[0m\n\u001b[1;32m    675\u001b[0m             \u001b[0mdata\u001b[0m \u001b[0;34m=\u001b[0m \u001b[0m_utils\u001b[0m\u001b[0;34m.\u001b[0m\u001b[0mpin_memory\u001b[0m\u001b[0;34m.\u001b[0m\u001b[0mpin_memory\u001b[0m\u001b[0;34m(\u001b[0m\u001b[0mdata\u001b[0m\u001b[0;34m,\u001b[0m \u001b[0mself\u001b[0m\u001b[0;34m.\u001b[0m\u001b[0m_pin_memory_device\u001b[0m\u001b[0;34m)\u001b[0m\u001b[0;34m\u001b[0m\u001b[0;34m\u001b[0m\u001b[0m\n",
            "\u001b[0;32m/usr/local/lib/python3.10/dist-packages/torch/utils/data/_utils/fetch.py\u001b[0m in \u001b[0;36mfetch\u001b[0;34m(self, possibly_batched_index)\u001b[0m\n\u001b[1;32m     48\u001b[0m         \u001b[0;32mif\u001b[0m \u001b[0mself\u001b[0m\u001b[0;34m.\u001b[0m\u001b[0mauto_collation\u001b[0m\u001b[0;34m:\u001b[0m\u001b[0;34m\u001b[0m\u001b[0;34m\u001b[0m\u001b[0m\n\u001b[1;32m     49\u001b[0m             \u001b[0;32mif\u001b[0m \u001b[0mhasattr\u001b[0m\u001b[0;34m(\u001b[0m\u001b[0mself\u001b[0m\u001b[0;34m.\u001b[0m\u001b[0mdataset\u001b[0m\u001b[0;34m,\u001b[0m \u001b[0;34m\"__getitems__\"\u001b[0m\u001b[0;34m)\u001b[0m \u001b[0;32mand\u001b[0m \u001b[0mself\u001b[0m\u001b[0;34m.\u001b[0m\u001b[0mdataset\u001b[0m\u001b[0;34m.\u001b[0m\u001b[0m__getitems__\u001b[0m\u001b[0;34m:\u001b[0m\u001b[0;34m\u001b[0m\u001b[0;34m\u001b[0m\u001b[0m\n\u001b[0;32m---> 50\u001b[0;31m                 \u001b[0mdata\u001b[0m \u001b[0;34m=\u001b[0m \u001b[0mself\u001b[0m\u001b[0;34m.\u001b[0m\u001b[0mdataset\u001b[0m\u001b[0;34m.\u001b[0m\u001b[0m__getitems__\u001b[0m\u001b[0;34m(\u001b[0m\u001b[0mpossibly_batched_index\u001b[0m\u001b[0;34m)\u001b[0m\u001b[0;34m\u001b[0m\u001b[0;34m\u001b[0m\u001b[0m\n\u001b[0m\u001b[1;32m     51\u001b[0m             \u001b[0;32melse\u001b[0m\u001b[0;34m:\u001b[0m\u001b[0;34m\u001b[0m\u001b[0;34m\u001b[0m\u001b[0m\n\u001b[1;32m     52\u001b[0m                 \u001b[0mdata\u001b[0m \u001b[0;34m=\u001b[0m \u001b[0;34m[\u001b[0m\u001b[0mself\u001b[0m\u001b[0;34m.\u001b[0m\u001b[0mdataset\u001b[0m\u001b[0;34m[\u001b[0m\u001b[0midx\u001b[0m\u001b[0;34m]\u001b[0m \u001b[0;32mfor\u001b[0m \u001b[0midx\u001b[0m \u001b[0;32min\u001b[0m \u001b[0mpossibly_batched_index\u001b[0m\u001b[0;34m]\u001b[0m\u001b[0;34m\u001b[0m\u001b[0;34m\u001b[0m\u001b[0m\n",
            "\u001b[0;32m/usr/local/lib/python3.10/dist-packages/torch/utils/data/dataset.py\u001b[0m in \u001b[0;36m__getitems__\u001b[0;34m(self, indices)\u001b[0m\n\u001b[1;32m    418\u001b[0m             \u001b[0;32mreturn\u001b[0m \u001b[0mself\u001b[0m\u001b[0;34m.\u001b[0m\u001b[0mdataset\u001b[0m\u001b[0;34m.\u001b[0m\u001b[0m__getitems__\u001b[0m\u001b[0;34m(\u001b[0m\u001b[0;34m[\u001b[0m\u001b[0mself\u001b[0m\u001b[0;34m.\u001b[0m\u001b[0mindices\u001b[0m\u001b[0;34m[\u001b[0m\u001b[0midx\u001b[0m\u001b[0;34m]\u001b[0m \u001b[0;32mfor\u001b[0m \u001b[0midx\u001b[0m \u001b[0;32min\u001b[0m \u001b[0mindices\u001b[0m\u001b[0;34m]\u001b[0m\u001b[0;34m)\u001b[0m  \u001b[0;31m# type: ignore[attr-defined]\u001b[0m\u001b[0;34m\u001b[0m\u001b[0;34m\u001b[0m\u001b[0m\n\u001b[1;32m    419\u001b[0m         \u001b[0;32melse\u001b[0m\u001b[0;34m:\u001b[0m\u001b[0;34m\u001b[0m\u001b[0;34m\u001b[0m\u001b[0m\n\u001b[0;32m--> 420\u001b[0;31m             \u001b[0;32mreturn\u001b[0m \u001b[0;34m[\u001b[0m\u001b[0mself\u001b[0m\u001b[0;34m.\u001b[0m\u001b[0mdataset\u001b[0m\u001b[0;34m[\u001b[0m\u001b[0mself\u001b[0m\u001b[0;34m.\u001b[0m\u001b[0mindices\u001b[0m\u001b[0;34m[\u001b[0m\u001b[0midx\u001b[0m\u001b[0;34m]\u001b[0m\u001b[0;34m]\u001b[0m \u001b[0;32mfor\u001b[0m \u001b[0midx\u001b[0m \u001b[0;32min\u001b[0m \u001b[0mindices\u001b[0m\u001b[0;34m]\u001b[0m\u001b[0;34m\u001b[0m\u001b[0;34m\u001b[0m\u001b[0m\n\u001b[0m\u001b[1;32m    421\u001b[0m \u001b[0;34m\u001b[0m\u001b[0m\n\u001b[1;32m    422\u001b[0m     \u001b[0;32mdef\u001b[0m \u001b[0m__len__\u001b[0m\u001b[0;34m(\u001b[0m\u001b[0mself\u001b[0m\u001b[0;34m)\u001b[0m\u001b[0;34m:\u001b[0m\u001b[0;34m\u001b[0m\u001b[0;34m\u001b[0m\u001b[0m\n",
            "\u001b[0;32m/usr/local/lib/python3.10/dist-packages/torch/utils/data/dataset.py\u001b[0m in \u001b[0;36m<listcomp>\u001b[0;34m(.0)\u001b[0m\n\u001b[1;32m    418\u001b[0m             \u001b[0;32mreturn\u001b[0m \u001b[0mself\u001b[0m\u001b[0;34m.\u001b[0m\u001b[0mdataset\u001b[0m\u001b[0;34m.\u001b[0m\u001b[0m__getitems__\u001b[0m\u001b[0;34m(\u001b[0m\u001b[0;34m[\u001b[0m\u001b[0mself\u001b[0m\u001b[0;34m.\u001b[0m\u001b[0mindices\u001b[0m\u001b[0;34m[\u001b[0m\u001b[0midx\u001b[0m\u001b[0;34m]\u001b[0m \u001b[0;32mfor\u001b[0m \u001b[0midx\u001b[0m \u001b[0;32min\u001b[0m \u001b[0mindices\u001b[0m\u001b[0;34m]\u001b[0m\u001b[0;34m)\u001b[0m  \u001b[0;31m# type: ignore[attr-defined]\u001b[0m\u001b[0;34m\u001b[0m\u001b[0;34m\u001b[0m\u001b[0m\n\u001b[1;32m    419\u001b[0m         \u001b[0;32melse\u001b[0m\u001b[0;34m:\u001b[0m\u001b[0;34m\u001b[0m\u001b[0;34m\u001b[0m\u001b[0m\n\u001b[0;32m--> 420\u001b[0;31m             \u001b[0;32mreturn\u001b[0m \u001b[0;34m[\u001b[0m\u001b[0mself\u001b[0m\u001b[0;34m.\u001b[0m\u001b[0mdataset\u001b[0m\u001b[0;34m[\u001b[0m\u001b[0mself\u001b[0m\u001b[0;34m.\u001b[0m\u001b[0mindices\u001b[0m\u001b[0;34m[\u001b[0m\u001b[0midx\u001b[0m\u001b[0;34m]\u001b[0m\u001b[0;34m]\u001b[0m \u001b[0;32mfor\u001b[0m \u001b[0midx\u001b[0m \u001b[0;32min\u001b[0m \u001b[0mindices\u001b[0m\u001b[0;34m]\u001b[0m\u001b[0;34m\u001b[0m\u001b[0;34m\u001b[0m\u001b[0m\n\u001b[0m\u001b[1;32m    421\u001b[0m \u001b[0;34m\u001b[0m\u001b[0m\n\u001b[1;32m    422\u001b[0m     \u001b[0;32mdef\u001b[0m \u001b[0m__len__\u001b[0m\u001b[0;34m(\u001b[0m\u001b[0mself\u001b[0m\u001b[0;34m)\u001b[0m\u001b[0;34m:\u001b[0m\u001b[0;34m\u001b[0m\u001b[0;34m\u001b[0m\u001b[0m\n",
            "\u001b[0;32m<ipython-input-7-52d397e09af0>\u001b[0m in \u001b[0;36m__getitem__\u001b[0;34m(self, index)\u001b[0m\n\u001b[1;32m     30\u001b[0m \u001b[0;34m\u001b[0m\u001b[0m\n\u001b[1;32m     31\u001b[0m     \u001b[0;32mif\u001b[0m \u001b[0mself\u001b[0m\u001b[0;34m.\u001b[0m\u001b[0mtransform\u001b[0m \u001b[0;34m!=\u001b[0m \u001b[0;32mNone\u001b[0m\u001b[0;34m:\u001b[0m\u001b[0;34m\u001b[0m\u001b[0;34m\u001b[0m\u001b[0m\n\u001b[0;32m---> 32\u001b[0;31m       \u001b[0msample\u001b[0m \u001b[0;34m=\u001b[0m\u001b[0mself\u001b[0m\u001b[0;34m.\u001b[0m\u001b[0mtransform\u001b[0m\u001b[0;34m(\u001b[0m\u001b[0msample\u001b[0m\u001b[0;34m)\u001b[0m\u001b[0;34m\u001b[0m\u001b[0;34m\u001b[0m\u001b[0m\n\u001b[0m\u001b[1;32m     33\u001b[0m \u001b[0;34m\u001b[0m\u001b[0m\n\u001b[1;32m     34\u001b[0m     \u001b[0;32mreturn\u001b[0m \u001b[0msample\u001b[0m\u001b[0;34m,\u001b[0m \u001b[0mtarget\u001b[0m\u001b[0;34m\u001b[0m\u001b[0;34m\u001b[0m\u001b[0m\n",
            "\u001b[0;32m/usr/local/lib/python3.10/dist-packages/torch/nn/modules/module.py\u001b[0m in \u001b[0;36m_wrapped_call_impl\u001b[0;34m(self, *args, **kwargs)\u001b[0m\n\u001b[1;32m   1551\u001b[0m             \u001b[0;32mreturn\u001b[0m \u001b[0mself\u001b[0m\u001b[0;34m.\u001b[0m\u001b[0m_compiled_call_impl\u001b[0m\u001b[0;34m(\u001b[0m\u001b[0;34m*\u001b[0m\u001b[0margs\u001b[0m\u001b[0;34m,\u001b[0m \u001b[0;34m**\u001b[0m\u001b[0mkwargs\u001b[0m\u001b[0;34m)\u001b[0m  \u001b[0;31m# type: ignore[misc]\u001b[0m\u001b[0;34m\u001b[0m\u001b[0;34m\u001b[0m\u001b[0m\n\u001b[1;32m   1552\u001b[0m         \u001b[0;32melse\u001b[0m\u001b[0;34m:\u001b[0m\u001b[0;34m\u001b[0m\u001b[0;34m\u001b[0m\u001b[0m\n\u001b[0;32m-> 1553\u001b[0;31m             \u001b[0;32mreturn\u001b[0m \u001b[0mself\u001b[0m\u001b[0;34m.\u001b[0m\u001b[0m_call_impl\u001b[0m\u001b[0;34m(\u001b[0m\u001b[0;34m*\u001b[0m\u001b[0margs\u001b[0m\u001b[0;34m,\u001b[0m \u001b[0;34m**\u001b[0m\u001b[0mkwargs\u001b[0m\u001b[0;34m)\u001b[0m\u001b[0;34m\u001b[0m\u001b[0;34m\u001b[0m\u001b[0m\n\u001b[0m\u001b[1;32m   1554\u001b[0m \u001b[0;34m\u001b[0m\u001b[0m\n\u001b[1;32m   1555\u001b[0m     \u001b[0;32mdef\u001b[0m \u001b[0m_call_impl\u001b[0m\u001b[0;34m(\u001b[0m\u001b[0mself\u001b[0m\u001b[0;34m,\u001b[0m \u001b[0;34m*\u001b[0m\u001b[0margs\u001b[0m\u001b[0;34m,\u001b[0m \u001b[0;34m**\u001b[0m\u001b[0mkwargs\u001b[0m\u001b[0;34m)\u001b[0m\u001b[0;34m:\u001b[0m\u001b[0;34m\u001b[0m\u001b[0;34m\u001b[0m\u001b[0m\n",
            "\u001b[0;32m/usr/local/lib/python3.10/dist-packages/torch/nn/modules/module.py\u001b[0m in \u001b[0;36m_call_impl\u001b[0;34m(self, *args, **kwargs)\u001b[0m\n\u001b[1;32m   1560\u001b[0m                 \u001b[0;32mor\u001b[0m \u001b[0m_global_backward_pre_hooks\u001b[0m \u001b[0;32mor\u001b[0m \u001b[0m_global_backward_hooks\u001b[0m\u001b[0;34m\u001b[0m\u001b[0;34m\u001b[0m\u001b[0m\n\u001b[1;32m   1561\u001b[0m                 or _global_forward_hooks or _global_forward_pre_hooks):\n\u001b[0;32m-> 1562\u001b[0;31m             \u001b[0;32mreturn\u001b[0m \u001b[0mforward_call\u001b[0m\u001b[0;34m(\u001b[0m\u001b[0;34m*\u001b[0m\u001b[0margs\u001b[0m\u001b[0;34m,\u001b[0m \u001b[0;34m**\u001b[0m\u001b[0mkwargs\u001b[0m\u001b[0;34m)\u001b[0m\u001b[0;34m\u001b[0m\u001b[0;34m\u001b[0m\u001b[0m\n\u001b[0m\u001b[1;32m   1563\u001b[0m \u001b[0;34m\u001b[0m\u001b[0m\n\u001b[1;32m   1564\u001b[0m         \u001b[0;32mtry\u001b[0m\u001b[0;34m:\u001b[0m\u001b[0;34m\u001b[0m\u001b[0;34m\u001b[0m\u001b[0m\n",
            "\u001b[0;32m/usr/local/lib/python3.10/dist-packages/torchvision/transforms/v2/_container.py\u001b[0m in \u001b[0;36mforward\u001b[0;34m(self, *inputs)\u001b[0m\n\u001b[1;32m     49\u001b[0m         \u001b[0mneeds_unpacking\u001b[0m \u001b[0;34m=\u001b[0m \u001b[0mlen\u001b[0m\u001b[0;34m(\u001b[0m\u001b[0minputs\u001b[0m\u001b[0;34m)\u001b[0m \u001b[0;34m>\u001b[0m \u001b[0;36m1\u001b[0m\u001b[0;34m\u001b[0m\u001b[0;34m\u001b[0m\u001b[0m\n\u001b[1;32m     50\u001b[0m         \u001b[0;32mfor\u001b[0m \u001b[0mtransform\u001b[0m \u001b[0;32min\u001b[0m \u001b[0mself\u001b[0m\u001b[0;34m.\u001b[0m\u001b[0mtransforms\u001b[0m\u001b[0;34m:\u001b[0m\u001b[0;34m\u001b[0m\u001b[0;34m\u001b[0m\u001b[0m\n\u001b[0;32m---> 51\u001b[0;31m             \u001b[0moutputs\u001b[0m \u001b[0;34m=\u001b[0m \u001b[0mtransform\u001b[0m\u001b[0;34m(\u001b[0m\u001b[0;34m*\u001b[0m\u001b[0minputs\u001b[0m\u001b[0;34m)\u001b[0m\u001b[0;34m\u001b[0m\u001b[0;34m\u001b[0m\u001b[0m\n\u001b[0m\u001b[1;32m     52\u001b[0m             \u001b[0minputs\u001b[0m \u001b[0;34m=\u001b[0m \u001b[0moutputs\u001b[0m \u001b[0;32mif\u001b[0m \u001b[0mneeds_unpacking\u001b[0m \u001b[0;32melse\u001b[0m \u001b[0;34m(\u001b[0m\u001b[0moutputs\u001b[0m\u001b[0;34m,\u001b[0m\u001b[0;34m)\u001b[0m\u001b[0;34m\u001b[0m\u001b[0;34m\u001b[0m\u001b[0m\n\u001b[1;32m     53\u001b[0m         \u001b[0;32mreturn\u001b[0m \u001b[0moutputs\u001b[0m\u001b[0;34m\u001b[0m\u001b[0;34m\u001b[0m\u001b[0m\n",
            "\u001b[0;32m/usr/local/lib/python3.10/dist-packages/torch/nn/modules/module.py\u001b[0m in \u001b[0;36m_wrapped_call_impl\u001b[0;34m(self, *args, **kwargs)\u001b[0m\n\u001b[1;32m   1551\u001b[0m             \u001b[0;32mreturn\u001b[0m \u001b[0mself\u001b[0m\u001b[0;34m.\u001b[0m\u001b[0m_compiled_call_impl\u001b[0m\u001b[0;34m(\u001b[0m\u001b[0;34m*\u001b[0m\u001b[0margs\u001b[0m\u001b[0;34m,\u001b[0m \u001b[0;34m**\u001b[0m\u001b[0mkwargs\u001b[0m\u001b[0;34m)\u001b[0m  \u001b[0;31m# type: ignore[misc]\u001b[0m\u001b[0;34m\u001b[0m\u001b[0;34m\u001b[0m\u001b[0m\n\u001b[1;32m   1552\u001b[0m         \u001b[0;32melse\u001b[0m\u001b[0;34m:\u001b[0m\u001b[0;34m\u001b[0m\u001b[0;34m\u001b[0m\u001b[0m\n\u001b[0;32m-> 1553\u001b[0;31m             \u001b[0;32mreturn\u001b[0m \u001b[0mself\u001b[0m\u001b[0;34m.\u001b[0m\u001b[0m_call_impl\u001b[0m\u001b[0;34m(\u001b[0m\u001b[0;34m*\u001b[0m\u001b[0margs\u001b[0m\u001b[0;34m,\u001b[0m \u001b[0;34m**\u001b[0m\u001b[0mkwargs\u001b[0m\u001b[0;34m)\u001b[0m\u001b[0;34m\u001b[0m\u001b[0;34m\u001b[0m\u001b[0m\n\u001b[0m\u001b[1;32m   1554\u001b[0m \u001b[0;34m\u001b[0m\u001b[0m\n\u001b[1;32m   1555\u001b[0m     \u001b[0;32mdef\u001b[0m \u001b[0m_call_impl\u001b[0m\u001b[0;34m(\u001b[0m\u001b[0mself\u001b[0m\u001b[0;34m,\u001b[0m \u001b[0;34m*\u001b[0m\u001b[0margs\u001b[0m\u001b[0;34m,\u001b[0m \u001b[0;34m**\u001b[0m\u001b[0mkwargs\u001b[0m\u001b[0;34m)\u001b[0m\u001b[0;34m:\u001b[0m\u001b[0;34m\u001b[0m\u001b[0;34m\u001b[0m\u001b[0m\n",
            "\u001b[0;32m/usr/local/lib/python3.10/dist-packages/torch/nn/modules/module.py\u001b[0m in \u001b[0;36m_call_impl\u001b[0;34m(self, *args, **kwargs)\u001b[0m\n\u001b[1;32m   1560\u001b[0m                 \u001b[0;32mor\u001b[0m \u001b[0m_global_backward_pre_hooks\u001b[0m \u001b[0;32mor\u001b[0m \u001b[0m_global_backward_hooks\u001b[0m\u001b[0;34m\u001b[0m\u001b[0;34m\u001b[0m\u001b[0m\n\u001b[1;32m   1561\u001b[0m                 or _global_forward_hooks or _global_forward_pre_hooks):\n\u001b[0;32m-> 1562\u001b[0;31m             \u001b[0;32mreturn\u001b[0m \u001b[0mforward_call\u001b[0m\u001b[0;34m(\u001b[0m\u001b[0;34m*\u001b[0m\u001b[0margs\u001b[0m\u001b[0;34m,\u001b[0m \u001b[0;34m**\u001b[0m\u001b[0mkwargs\u001b[0m\u001b[0;34m)\u001b[0m\u001b[0;34m\u001b[0m\u001b[0;34m\u001b[0m\u001b[0m\n\u001b[0m\u001b[1;32m   1563\u001b[0m \u001b[0;34m\u001b[0m\u001b[0m\n\u001b[1;32m   1564\u001b[0m         \u001b[0;32mtry\u001b[0m\u001b[0;34m:\u001b[0m\u001b[0;34m\u001b[0m\u001b[0;34m\u001b[0m\u001b[0m\n",
            "\u001b[0;32m/usr/local/lib/python3.10/dist-packages/torchvision/transforms/v2/_transform.py\u001b[0m in \u001b[0;36mforward\u001b[0;34m(self, *inputs)\u001b[0m\n\u001b[1;32m     38\u001b[0m         \u001b[0;32mraise\u001b[0m \u001b[0mNotImplementedError\u001b[0m\u001b[0;34m\u001b[0m\u001b[0;34m\u001b[0m\u001b[0m\n\u001b[1;32m     39\u001b[0m \u001b[0;34m\u001b[0m\u001b[0m\n\u001b[0;32m---> 40\u001b[0;31m     \u001b[0;32mdef\u001b[0m \u001b[0mforward\u001b[0m\u001b[0;34m(\u001b[0m\u001b[0mself\u001b[0m\u001b[0;34m,\u001b[0m \u001b[0;34m*\u001b[0m\u001b[0minputs\u001b[0m\u001b[0;34m:\u001b[0m \u001b[0mAny\u001b[0m\u001b[0;34m)\u001b[0m \u001b[0;34m->\u001b[0m \u001b[0mAny\u001b[0m\u001b[0;34m:\u001b[0m\u001b[0;34m\u001b[0m\u001b[0;34m\u001b[0m\u001b[0m\n\u001b[0m\u001b[1;32m     41\u001b[0m         \u001b[0mflat_inputs\u001b[0m\u001b[0;34m,\u001b[0m \u001b[0mspec\u001b[0m \u001b[0;34m=\u001b[0m \u001b[0mtree_flatten\u001b[0m\u001b[0;34m(\u001b[0m\u001b[0minputs\u001b[0m \u001b[0;32mif\u001b[0m \u001b[0mlen\u001b[0m\u001b[0;34m(\u001b[0m\u001b[0minputs\u001b[0m\u001b[0;34m)\u001b[0m \u001b[0;34m>\u001b[0m \u001b[0;36m1\u001b[0m \u001b[0;32melse\u001b[0m \u001b[0minputs\u001b[0m\u001b[0;34m[\u001b[0m\u001b[0;36m0\u001b[0m\u001b[0;34m]\u001b[0m\u001b[0;34m)\u001b[0m\u001b[0;34m\u001b[0m\u001b[0;34m\u001b[0m\u001b[0m\n\u001b[1;32m     42\u001b[0m \u001b[0;34m\u001b[0m\u001b[0m\n",
            "\u001b[0;31mKeyboardInterrupt\u001b[0m: "
          ]
        }
      ],
      "source": [
        "EPOCHS = 50\n",
        "train_loss = []\n",
        "train_acc = []\n",
        "val_loss = []\n",
        "val_acc = []\n",
        "lr_list = []\n",
        "best_loss = None\n",
        "\n",
        "death_epoch = 0\n",
        "\n",
        "for epoch in range(EPOCHS):\n",
        "   new_model.train()\n",
        "   running_train_loss = []\n",
        "   true_answer = 0\n",
        "   train_loop = tqdm(train_loader, leave = False)\n",
        "   for x, targets in train_loop:\n",
        "    # Данные\n",
        "    # (batch_size, 1, 28, 28) ->(batch_size, 784)\n",
        "     x = x.reshape (-1, 28*28).to(device)\n",
        "\n",
        "    # (batch_size, int) -> (batch_size, 10, dtype = float32)\n",
        "     targets = targets.reshape(-1).to(torch.int32)\n",
        "     targets = torch.eye(10)[targets].to(device)\n",
        "\n",
        "    # Прямой проход + расчет ошибки модели\n",
        "     pred = new_model(x)\n",
        "     new_loss = loss_model(pred, targets)\n",
        "\n",
        "    # Обратный проход\n",
        "     new_opt.zero_grad()\n",
        "     new_loss.backward()\n",
        "    # Шаг оптимизации\n",
        "     new_opt.step()\n",
        "\n",
        "     running_train_loss.append(new_loss.item())\n",
        "     mean_train_loss = sum(running_train_loss)/len(running_train_loss)\n",
        "\n",
        "     true_answer +=(pred.argmax(dim=1) == targets.argmax(dim = 1)).sum().item()\n",
        "\n",
        "\n",
        "     train_loop.set_description(f'Epoch [{epoch+1}/{EPOCHS}], train_loss{mean_train_loss:.4f}')\n",
        "\n",
        " # Расчет значения метрики\n",
        "   running_train_acc = true_answer / len(train_data)\n",
        "\n",
        " # Сохранение значения фукнции потерь и метрики\n",
        "   train_loss.append(mean_train_loss)\n",
        "   train_acc.append(running_train_acc)\n",
        "\n",
        "\n",
        " # Проверка модели(валидация)\n",
        "   new_model.eval()\n",
        "   with torch.no_grad():\n",
        "     running_val_loss = []\n",
        "     true_answer = 0\n",
        "     for x, targets in val_loader:\n",
        "       # Данные\n",
        "       # (batch_size, 1, 28, 28) ->(batch_size, 784)\n",
        "       x = x.reshape (-1, 28*28).to(device)\n",
        "\n",
        "      # (batch_size, int) -> (batch_size, 10, dtype = float32)\n",
        "       targets = targets.reshape(-1).to(torch.int32)\n",
        "       targets = torch.eye(10)[targets].to(device)\n",
        "\n",
        "      # Прямой проход + расчет ошибки модели\n",
        "       pred = new_model(x)\n",
        "       new_loss = loss_model(pred, targets)\n",
        "\n",
        "       running_val_loss.append(new_loss.item())\n",
        "       mean_val_loss = sum(running_val_loss)/len(running_val_loss)\n",
        "       true_answer += (pred.argmax(dim=1) == targets.argmax(dim = 1)).sum().item()\n",
        "\n",
        "    #  Расчет значения метрики\n",
        "     running_val_acc = true_answer / len(val_data)\n",
        "     #  Сохранение занчения функции потерь и метрики\n",
        "     val_loss.append(mean_val_loss)\n",
        "     val_acc.append(running_val_acc)\n",
        "\n",
        "   new_lr_scheduler.step(mean_val_loss)\n",
        "   lr = new_lr_scheduler._last_lr[0]\n",
        "   lr_list.append(lr)\n",
        "\n",
        "   print(f' Epoch [{epoch+1}/{EPOCHS}], train_loss = {mean_train_loss:.4f}, train_acc = {running_train_acc:.4f}, val_loss = {mean_val_loss:.4f}, val_acc = {running_val_acc:.4f}, lr = {lr:.7f}')\n",
        "\n",
        "   if best_loss == None:\n",
        "     best_loss = mean_val_loss\n",
        "\n",
        "   if mean_val_loss < best_loss:\n",
        "     best_loss = mean_val_loss\n",
        "     checkpoint = {\n",
        "      'state_model' : new_model.state_dict(),\n",
        "      'state_opt': new_opt.state_dict(),\n",
        "      'state_lr_scheduler': new_lr_scheduler.state_dict(),\n",
        "      'loss':{\n",
        "        'train_loss': train_loss,\n",
        "        'val_loss': val_loss,\n",
        "        'best_loss': best_loss\n",
        "      },\n",
        "      'metric':{\n",
        "        'train_acc': train_acc,\n",
        "        'val_acc' : val_acc,\n",
        "      },\n",
        "      'lr' : lr_list,\n",
        "      'epoch':{\n",
        "          'EPOCHS': EPOCHS,\n",
        "          'save_epoch' : epoch\n",
        "      }\n",
        "\n",
        "    }\n",
        "\n",
        "     torch.save(checkpoint, 'model_state_dict_aboba.pt')\n",
        "     print(f'на эпохе {epoch+1} была сохранена модель со всеми данными', end = '\\n\\n')\n",
        "   if early_stopping(mean_val_loss):\n",
        "    print(f'Обучение было остановлено на эпохе - {epoch}')\n",
        "    break\n"
      ]
    }
  ],
  "metadata": {
    "accelerator": "GPU",
    "colab": {
      "collapsed_sections": [
        "kdeIgi_3Qhqu",
        "9caa2AWBlY1p",
        "yZZJz_FgSWew",
        "9-SJodDLlN5_",
        "8gV-XUj9LF0l"
      ],
      "gpuType": "T4",
      "provenance": [],
      "authorship_tag": "ABX9TyO9zbs4lWaGDqt+G8uPcT1q",
      "include_colab_link": true
    },
    "kernelspec": {
      "display_name": "Python 3",
      "name": "python3"
    },
    "language_info": {
      "name": "python"
    }
  },
  "nbformat": 4,
  "nbformat_minor": 0
}