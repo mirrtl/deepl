{
  "cells": [
    {
      "cell_type": "markdown",
      "metadata": {
        "id": "view-in-github",
        "colab_type": "text"
      },
      "source": [
        "<a href=\"https://colab.research.google.com/github/mirrtl/deepl/blob/main/Untitled5.ipynb\" target=\"_parent\"><img src=\"https://colab.research.google.com/assets/colab-badge.svg\" alt=\"Open In Colab\"/></a>"
      ]
    },
    {
      "cell_type": "code",
      "execution_count": null,
      "metadata": {
        "id": "bfwTZh0nPuwA"
      },
      "outputs": [],
      "source": []
    },
    {
      "cell_type": "code",
      "execution_count": null,
      "metadata": {
        "colab": {
          "base_uri": "https://localhost:8080/"
        },
        "collapsed": true,
        "id": "afy2O24lPx9h",
        "outputId": "baeb25c1-c42a-4cfa-a1c5-008fef3bf830"
      },
      "outputs": [
        {
          "output_type": "stream",
          "name": "stdout",
          "text": [
            "Collecting roboflow\n",
            "  Downloading roboflow-1.1.49-py3-none-any.whl.metadata (9.7 kB)\n",
            "Requirement already satisfied: certifi in /usr/local/lib/python3.10/dist-packages (from roboflow) (2024.8.30)\n",
            "Collecting idna==3.7 (from roboflow)\n",
            "  Downloading idna-3.7-py3-none-any.whl.metadata (9.9 kB)\n",
            "Requirement already satisfied: cycler in /usr/local/lib/python3.10/dist-packages (from roboflow) (0.12.1)\n",
            "Requirement already satisfied: kiwisolver>=1.3.1 in /usr/local/lib/python3.10/dist-packages (from roboflow) (1.4.7)\n",
            "Requirement already satisfied: matplotlib in /usr/local/lib/python3.10/dist-packages (from roboflow) (3.8.0)\n",
            "Requirement already satisfied: numpy>=1.18.5 in /usr/local/lib/python3.10/dist-packages (from roboflow) (1.26.4)\n",
            "Requirement already satisfied: opencv-python-headless==4.10.0.84 in /usr/local/lib/python3.10/dist-packages (from roboflow) (4.10.0.84)\n",
            "Requirement already satisfied: Pillow>=7.1.2 in /usr/local/lib/python3.10/dist-packages (from roboflow) (10.4.0)\n",
            "Requirement already satisfied: python-dateutil in /usr/local/lib/python3.10/dist-packages (from roboflow) (2.8.2)\n",
            "Collecting python-dotenv (from roboflow)\n",
            "  Downloading python_dotenv-1.0.1-py3-none-any.whl.metadata (23 kB)\n",
            "Requirement already satisfied: requests in /usr/local/lib/python3.10/dist-packages (from roboflow) (2.32.3)\n",
            "Requirement already satisfied: six in /usr/local/lib/python3.10/dist-packages (from roboflow) (1.16.0)\n",
            "Requirement already satisfied: urllib3>=1.26.6 in /usr/local/lib/python3.10/dist-packages (from roboflow) (2.2.3)\n",
            "Requirement already satisfied: tqdm>=4.41.0 in /usr/local/lib/python3.10/dist-packages (from roboflow) (4.66.6)\n",
            "Requirement already satisfied: PyYAML>=5.3.1 in /usr/local/lib/python3.10/dist-packages (from roboflow) (6.0.2)\n",
            "Requirement already satisfied: requests-toolbelt in /usr/local/lib/python3.10/dist-packages (from roboflow) (1.0.0)\n",
            "Collecting filetype (from roboflow)\n",
            "  Downloading filetype-1.2.0-py2.py3-none-any.whl.metadata (6.5 kB)\n",
            "Requirement already satisfied: contourpy>=1.0.1 in /usr/local/lib/python3.10/dist-packages (from matplotlib->roboflow) (1.3.0)\n",
            "Requirement already satisfied: fonttools>=4.22.0 in /usr/local/lib/python3.10/dist-packages (from matplotlib->roboflow) (4.54.1)\n",
            "Requirement already satisfied: packaging>=20.0 in /usr/local/lib/python3.10/dist-packages (from matplotlib->roboflow) (24.1)\n",
            "Requirement already satisfied: pyparsing>=2.3.1 in /usr/local/lib/python3.10/dist-packages (from matplotlib->roboflow) (3.2.0)\n",
            "Requirement already satisfied: charset-normalizer<4,>=2 in /usr/local/lib/python3.10/dist-packages (from requests->roboflow) (3.4.0)\n",
            "Downloading roboflow-1.1.49-py3-none-any.whl (80 kB)\n",
            "\u001b[2K   \u001b[90m━━━━━━━━━━━━━━━━━━━━━━━━━━━━━━━━━━━━━━━━\u001b[0m \u001b[32m80.9/80.9 kB\u001b[0m \u001b[31m7.2 MB/s\u001b[0m eta \u001b[36m0:00:00\u001b[0m\n",
            "\u001b[?25hDownloading idna-3.7-py3-none-any.whl (66 kB)\n",
            "\u001b[2K   \u001b[90m━━━━━━━━━━━━━━━━━━━━━━━━━━━━━━━━━━━━━━━━\u001b[0m \u001b[32m66.8/66.8 kB\u001b[0m \u001b[31m6.0 MB/s\u001b[0m eta \u001b[36m0:00:00\u001b[0m\n",
            "\u001b[?25hDownloading filetype-1.2.0-py2.py3-none-any.whl (19 kB)\n",
            "Downloading python_dotenv-1.0.1-py3-none-any.whl (19 kB)\n",
            "Installing collected packages: filetype, python-dotenv, idna, roboflow\n",
            "  Attempting uninstall: idna\n",
            "    Found existing installation: idna 3.10\n",
            "    Uninstalling idna-3.10:\n",
            "      Successfully uninstalled idna-3.10\n",
            "Successfully installed filetype-1.2.0 idna-3.7 python-dotenv-1.0.1 roboflow-1.1.49\n",
            "loading Roboflow workspace...\n",
            "loading Roboflow project...\n"
          ]
        },
        {
          "output_type": "stream",
          "name": "stderr",
          "text": [
            "Downloading Dataset Version Zip in First_project-1 to yolov8:: 100%|██████████| 8462/8462 [00:00<00:00, 8730.66it/s] "
          ]
        },
        {
          "output_type": "stream",
          "name": "stdout",
          "text": [
            "\n"
          ]
        },
        {
          "output_type": "stream",
          "name": "stderr",
          "text": [
            "\n",
            "Extracting Dataset Version Zip to First_project-1 in yolov8:: 100%|██████████| 394/394 [00:00<00:00, 6413.61it/s]\n"
          ]
        }
      ],
      "source": [
        "#Загрузка размеченного датасета с сайта roboflow\n",
        "!pip install roboflow\n",
        "from roboflow import Roboflow\n",
        "rf = Roboflow(api_key=\"g30D9XayqBGyQMlR5ILf\")\n",
        "project = rf.workspace(\"typ-toyue\").project(\"first_project-srdac\")\n",
        "version = project.version(1)\n",
        "dataset = version.download(\"yolov8\")"
      ]
    },
    {
      "cell_type": "code",
      "source": [
        "!pip install ultralytics"
      ],
      "metadata": {
        "colab": {
          "base_uri": "https://localhost:8080/"
        },
        "collapsed": true,
        "id": "g1nBZtdumkGh",
        "outputId": "8693e22c-430c-46cc-90dd-b8b4eb7457da"
      },
      "execution_count": null,
      "outputs": [
        {
          "output_type": "stream",
          "name": "stdout",
          "text": [
            "Collecting ultralytics\n",
            "  Downloading ultralytics-8.3.28-py3-none-any.whl.metadata (35 kB)\n",
            "Requirement already satisfied: numpy>=1.23.0 in /usr/local/lib/python3.10/dist-packages (from ultralytics) (1.26.4)\n",
            "Requirement already satisfied: matplotlib>=3.3.0 in /usr/local/lib/python3.10/dist-packages (from ultralytics) (3.8.0)\n",
            "Requirement already satisfied: opencv-python>=4.6.0 in /usr/local/lib/python3.10/dist-packages (from ultralytics) (4.10.0.84)\n",
            "Requirement already satisfied: pillow>=7.1.2 in /usr/local/lib/python3.10/dist-packages (from ultralytics) (10.4.0)\n",
            "Requirement already satisfied: pyyaml>=5.3.1 in /usr/local/lib/python3.10/dist-packages (from ultralytics) (6.0.2)\n",
            "Requirement already satisfied: requests>=2.23.0 in /usr/local/lib/python3.10/dist-packages (from ultralytics) (2.32.3)\n",
            "Requirement already satisfied: scipy>=1.4.1 in /usr/local/lib/python3.10/dist-packages (from ultralytics) (1.13.1)\n",
            "Requirement already satisfied: torch>=1.8.0 in /usr/local/lib/python3.10/dist-packages (from ultralytics) (2.5.0+cu121)\n",
            "Requirement already satisfied: torchvision>=0.9.0 in /usr/local/lib/python3.10/dist-packages (from ultralytics) (0.20.0+cu121)\n",
            "Requirement already satisfied: tqdm>=4.64.0 in /usr/local/lib/python3.10/dist-packages (from ultralytics) (4.66.6)\n",
            "Requirement already satisfied: psutil in /usr/local/lib/python3.10/dist-packages (from ultralytics) (5.9.5)\n",
            "Requirement already satisfied: py-cpuinfo in /usr/local/lib/python3.10/dist-packages (from ultralytics) (9.0.0)\n",
            "Requirement already satisfied: pandas>=1.1.4 in /usr/local/lib/python3.10/dist-packages (from ultralytics) (2.2.2)\n",
            "Requirement already satisfied: seaborn>=0.11.0 in /usr/local/lib/python3.10/dist-packages (from ultralytics) (0.13.2)\n",
            "Collecting ultralytics-thop>=2.0.0 (from ultralytics)\n",
            "  Downloading ultralytics_thop-2.0.11-py3-none-any.whl.metadata (9.4 kB)\n",
            "Requirement already satisfied: contourpy>=1.0.1 in /usr/local/lib/python3.10/dist-packages (from matplotlib>=3.3.0->ultralytics) (1.3.0)\n",
            "Requirement already satisfied: cycler>=0.10 in /usr/local/lib/python3.10/dist-packages (from matplotlib>=3.3.0->ultralytics) (0.12.1)\n",
            "Requirement already satisfied: fonttools>=4.22.0 in /usr/local/lib/python3.10/dist-packages (from matplotlib>=3.3.0->ultralytics) (4.54.1)\n",
            "Requirement already satisfied: kiwisolver>=1.0.1 in /usr/local/lib/python3.10/dist-packages (from matplotlib>=3.3.0->ultralytics) (1.4.7)\n",
            "Requirement already satisfied: packaging>=20.0 in /usr/local/lib/python3.10/dist-packages (from matplotlib>=3.3.0->ultralytics) (24.1)\n",
            "Requirement already satisfied: pyparsing>=2.3.1 in /usr/local/lib/python3.10/dist-packages (from matplotlib>=3.3.0->ultralytics) (3.2.0)\n",
            "Requirement already satisfied: python-dateutil>=2.7 in /usr/local/lib/python3.10/dist-packages (from matplotlib>=3.3.0->ultralytics) (2.8.2)\n",
            "Requirement already satisfied: pytz>=2020.1 in /usr/local/lib/python3.10/dist-packages (from pandas>=1.1.4->ultralytics) (2024.2)\n",
            "Requirement already satisfied: tzdata>=2022.7 in /usr/local/lib/python3.10/dist-packages (from pandas>=1.1.4->ultralytics) (2024.2)\n",
            "Requirement already satisfied: charset-normalizer<4,>=2 in /usr/local/lib/python3.10/dist-packages (from requests>=2.23.0->ultralytics) (3.4.0)\n",
            "Requirement already satisfied: idna<4,>=2.5 in /usr/local/lib/python3.10/dist-packages (from requests>=2.23.0->ultralytics) (3.10)\n",
            "Requirement already satisfied: urllib3<3,>=1.21.1 in /usr/local/lib/python3.10/dist-packages (from requests>=2.23.0->ultralytics) (2.2.3)\n",
            "Requirement already satisfied: certifi>=2017.4.17 in /usr/local/lib/python3.10/dist-packages (from requests>=2.23.0->ultralytics) (2024.8.30)\n",
            "Requirement already satisfied: filelock in /usr/local/lib/python3.10/dist-packages (from torch>=1.8.0->ultralytics) (3.16.1)\n",
            "Requirement already satisfied: typing-extensions>=4.8.0 in /usr/local/lib/python3.10/dist-packages (from torch>=1.8.0->ultralytics) (4.12.2)\n",
            "Requirement already satisfied: networkx in /usr/local/lib/python3.10/dist-packages (from torch>=1.8.0->ultralytics) (3.4.2)\n",
            "Requirement already satisfied: jinja2 in /usr/local/lib/python3.10/dist-packages (from torch>=1.8.0->ultralytics) (3.1.4)\n",
            "Requirement already satisfied: fsspec in /usr/local/lib/python3.10/dist-packages (from torch>=1.8.0->ultralytics) (2024.10.0)\n",
            "Requirement already satisfied: sympy==1.13.1 in /usr/local/lib/python3.10/dist-packages (from torch>=1.8.0->ultralytics) (1.13.1)\n",
            "Requirement already satisfied: mpmath<1.4,>=1.1.0 in /usr/local/lib/python3.10/dist-packages (from sympy==1.13.1->torch>=1.8.0->ultralytics) (1.3.0)\n",
            "Requirement already satisfied: six>=1.5 in /usr/local/lib/python3.10/dist-packages (from python-dateutil>=2.7->matplotlib>=3.3.0->ultralytics) (1.16.0)\n",
            "Requirement already satisfied: MarkupSafe>=2.0 in /usr/local/lib/python3.10/dist-packages (from jinja2->torch>=1.8.0->ultralytics) (3.0.2)\n",
            "Downloading ultralytics-8.3.28-py3-none-any.whl (881 kB)\n",
            "\u001b[2K   \u001b[90m━━━━━━━━━━━━━━━━━━━━━━━━━━━━━━━━━━━━━━━━\u001b[0m \u001b[32m881.2/881.2 kB\u001b[0m \u001b[31m36.5 MB/s\u001b[0m eta \u001b[36m0:00:00\u001b[0m\n",
            "\u001b[?25hDownloading ultralytics_thop-2.0.11-py3-none-any.whl (26 kB)\n",
            "Installing collected packages: ultralytics-thop, ultralytics\n",
            "Successfully installed ultralytics-8.3.28 ultralytics-thop-2.0.11\n"
          ]
        }
      ]
    },
    {
      "cell_type": "code",
      "source": [
        "from ultralytics import YOLO\n",
        "from IPython.display import display, Image"
      ],
      "metadata": {
        "colab": {
          "base_uri": "https://localhost:8080/"
        },
        "id": "xawiJCckhi9w",
        "outputId": "a520b1e2-8350-4086-fe41-031e1ec4b3b5"
      },
      "execution_count": null,
      "outputs": [
        {
          "output_type": "stream",
          "name": "stdout",
          "text": [
            "Creating new Ultralytics Settings v0.0.6 file ✅ \n",
            "View Ultralytics Settings with 'yolo settings' or at '/root/.config/Ultralytics/settings.json'\n",
            "Update Settings with 'yolo settings key=value', i.e. 'yolo settings runs_dir=path/to/dir'. For help see https://docs.ultralytics.com/quickstart/#ultralytics-settings.\n"
          ]
        }
      ]
    },
    {
      "cell_type": "code",
      "source": [
        "model = YOLO('yolov8n.pt')\n",
        "results = model.predict(source='https://media.roboflow.com/notebooks/examples/dog.jpeg', conf=0.25)"
      ],
      "metadata": {
        "colab": {
          "base_uri": "https://localhost:8080/"
        },
        "id": "Ag2-AxO6jUb7",
        "outputId": "c57eb988-9fae-49e6-a274-fdc7c6666678",
        "collapsed": true
      },
      "execution_count": null,
      "outputs": [
        {
          "output_type": "stream",
          "name": "stdout",
          "text": [
            "\n",
            "Found https://media.roboflow.com/notebooks/examples/dog.jpeg locally at dog.jpeg\n",
            "image 1/1 /content/dog.jpeg: 640x384 1 person, 1 car, 1 dog, 39.5ms\n",
            "Speed: 1.5ms preprocess, 39.5ms inference, 1.3ms postprocess per image at shape (1, 3, 640, 384)\n"
          ]
        }
      ]
    },
    {
      "cell_type": "code",
      "source": [
        "model.train(data='/content/First_project-1/data.yaml', epochs=150, imgsz=640, batch=8)"
      ],
      "metadata": {
        "colab": {
          "base_uri": "https://localhost:8080/"
        },
        "id": "WsdhpO1QjpVB",
        "outputId": "5b70e5c8-220b-40de-9706-95c3c0bbf027",
        "collapsed": true
      },
      "execution_count": null,
      "outputs": [
        {
          "output_type": "stream",
          "name": "stdout",
          "text": [
            "Ultralytics 8.3.28 🚀 Python-3.10.12 torch-2.5.0+cu121 CUDA:0 (Tesla T4, 15102MiB)\n",
            "\u001b[34m\u001b[1mengine/trainer: \u001b[0mtask=detect, mode=train, model=yolov8n.pt, data=/content/First_project-1/data.yaml, epochs=150, time=None, patience=100, batch=8, imgsz=640, save=True, save_period=-1, cache=False, device=None, workers=8, project=None, name=train3, exist_ok=False, pretrained=True, optimizer=auto, verbose=True, seed=0, deterministic=True, single_cls=False, rect=False, cos_lr=False, close_mosaic=10, resume=False, amp=True, fraction=1.0, profile=False, freeze=None, multi_scale=False, overlap_mask=True, mask_ratio=4, dropout=0.0, val=True, split=val, save_json=False, save_hybrid=False, conf=None, iou=0.7, max_det=300, half=False, dnn=False, plots=True, source=None, vid_stride=1, stream_buffer=False, visualize=False, augment=False, agnostic_nms=False, classes=None, retina_masks=False, embed=None, show=False, save_frames=False, save_txt=False, save_conf=False, save_crop=False, show_labels=True, show_conf=True, show_boxes=True, line_width=None, format=torchscript, keras=False, optimize=False, int8=False, dynamic=False, simplify=True, opset=None, workspace=4, nms=False, lr0=0.01, lrf=0.01, momentum=0.937, weight_decay=0.0005, warmup_epochs=3.0, warmup_momentum=0.8, warmup_bias_lr=0.1, box=7.5, cls=0.5, dfl=1.5, pose=12.0, kobj=1.0, label_smoothing=0.0, nbs=64, hsv_h=0.015, hsv_s=0.7, hsv_v=0.4, degrees=0.0, translate=0.1, scale=0.5, shear=0.0, perspective=0.0, flipud=0.0, fliplr=0.5, bgr=0.0, mosaic=1.0, mixup=0.0, copy_paste=0.0, copy_paste_mode=flip, auto_augment=randaugment, erasing=0.4, crop_fraction=1.0, cfg=None, tracker=botsort.yaml, save_dir=runs/detect/train3\n",
            "Overriding model.yaml nc=80 with nc=3\n",
            "\n",
            "                   from  n    params  module                                       arguments                     \n",
            "  0                  -1  1       464  ultralytics.nn.modules.conv.Conv             [3, 16, 3, 2]                 \n",
            "  1                  -1  1      4672  ultralytics.nn.modules.conv.Conv             [16, 32, 3, 2]                \n",
            "  2                  -1  1      7360  ultralytics.nn.modules.block.C2f             [32, 32, 1, True]             \n",
            "  3                  -1  1     18560  ultralytics.nn.modules.conv.Conv             [32, 64, 3, 2]                \n",
            "  4                  -1  2     49664  ultralytics.nn.modules.block.C2f             [64, 64, 2, True]             \n",
            "  5                  -1  1     73984  ultralytics.nn.modules.conv.Conv             [64, 128, 3, 2]               \n",
            "  6                  -1  2    197632  ultralytics.nn.modules.block.C2f             [128, 128, 2, True]           \n",
            "  7                  -1  1    295424  ultralytics.nn.modules.conv.Conv             [128, 256, 3, 2]              \n",
            "  8                  -1  1    460288  ultralytics.nn.modules.block.C2f             [256, 256, 1, True]           \n",
            "  9                  -1  1    164608  ultralytics.nn.modules.block.SPPF            [256, 256, 5]                 \n",
            " 10                  -1  1         0  torch.nn.modules.upsampling.Upsample         [None, 2, 'nearest']          \n",
            " 11             [-1, 6]  1         0  ultralytics.nn.modules.conv.Concat           [1]                           \n",
            " 12                  -1  1    148224  ultralytics.nn.modules.block.C2f             [384, 128, 1]                 \n",
            " 13                  -1  1         0  torch.nn.modules.upsampling.Upsample         [None, 2, 'nearest']          \n",
            " 14             [-1, 4]  1         0  ultralytics.nn.modules.conv.Concat           [1]                           \n",
            " 15                  -1  1     37248  ultralytics.nn.modules.block.C2f             [192, 64, 1]                  \n",
            " 16                  -1  1     36992  ultralytics.nn.modules.conv.Conv             [64, 64, 3, 2]                \n",
            " 17            [-1, 12]  1         0  ultralytics.nn.modules.conv.Concat           [1]                           \n",
            " 18                  -1  1    123648  ultralytics.nn.modules.block.C2f             [192, 128, 1]                 \n",
            " 19                  -1  1    147712  ultralytics.nn.modules.conv.Conv             [128, 128, 3, 2]              \n",
            " 20             [-1, 9]  1         0  ultralytics.nn.modules.conv.Concat           [1]                           \n",
            " 21                  -1  1    493056  ultralytics.nn.modules.block.C2f             [384, 256, 1]                 \n",
            " 22        [15, 18, 21]  1    751897  ultralytics.nn.modules.head.Detect           [3, [64, 128, 256]]           \n",
            "Model summary: 225 layers, 3,011,433 parameters, 3,011,417 gradients, 8.2 GFLOPs\n",
            "\n",
            "Transferred 58/355 items from pretrained weights\n",
            "\u001b[34m\u001b[1mTensorBoard: \u001b[0mStart with 'tensorboard --logdir runs/detect/train3', view at http://localhost:6006/\n",
            "Freezing layer 'model.22.dfl.conv.weight'\n",
            "\u001b[34m\u001b[1mAMP: \u001b[0mrunning Automatic Mixed Precision (AMP) checks...\n",
            "\u001b[34m\u001b[1mAMP: \u001b[0mchecks passed ✅\n"
          ]
        },
        {
          "output_type": "stream",
          "name": "stderr",
          "text": [
            "\u001b[34m\u001b[1mtrain: \u001b[0mScanning /content/First_project-1/train/labels.cache... 169 images, 0 backgrounds, 0 corrupt: 100%|██████████| 169/169 [00:00<?, ?it/s]"
          ]
        },
        {
          "output_type": "stream",
          "name": "stdout",
          "text": [
            "\u001b[34m\u001b[1malbumentations: \u001b[0mBlur(p=0.01, blur_limit=(3, 7)), MedianBlur(p=0.01, blur_limit=(3, 7)), ToGray(p=0.01, num_output_channels=3, method='weighted_average'), CLAHE(p=0.01, clip_limit=(1.0, 4.0), tile_grid_size=(8, 8))\n"
          ]
        },
        {
          "output_type": "stream",
          "name": "stderr",
          "text": [
            "\n",
            "\u001b[34m\u001b[1mval: \u001b[0mScanning /content/First_project-1/valid/labels.cache... 12 images, 0 backgrounds, 0 corrupt: 100%|██████████| 12/12 [00:00<?, ?it/s]\n"
          ]
        },
        {
          "output_type": "stream",
          "name": "stdout",
          "text": [
            "Plotting labels to runs/detect/train3/labels.jpg... \n",
            "\u001b[34m\u001b[1moptimizer:\u001b[0m 'optimizer=auto' found, ignoring 'lr0=0.01' and 'momentum=0.937' and determining best 'optimizer', 'lr0' and 'momentum' automatically... \n",
            "\u001b[34m\u001b[1moptimizer:\u001b[0m AdamW(lr=0.001429, momentum=0.9) with parameter groups 57 weight(decay=0.0), 64 weight(decay=0.0005), 63 bias(decay=0.0)\n",
            "\u001b[34m\u001b[1mTensorBoard: \u001b[0mmodel graph visualization added ✅\n",
            "Image sizes 640 train, 640 val\n",
            "Using 2 dataloader workers\n",
            "Logging results to \u001b[1mruns/detect/train3\u001b[0m\n",
            "Starting training for 150 epochs...\n",
            "\n",
            "      Epoch    GPU_mem   box_loss   cls_loss   dfl_loss  Instances       Size\n"
          ]
        },
        {
          "output_type": "stream",
          "name": "stderr",
          "text": [
            "      1/150      1.34G      2.763      4.765      2.342          8        640: 100%|██████████| 22/22 [00:04<00:00,  4.60it/s]\n",
            "                 Class     Images  Instances      Box(P          R      mAP50  mAP50-95): 100%|██████████| 1/1 [00:00<00:00,  6.31it/s]\n"
          ]
        },
        {
          "output_type": "stream",
          "name": "stdout",
          "text": [
            "                   all         12         25    0.00159      0.292    0.00767    0.00239\n",
            "\n",
            "      Epoch    GPU_mem   box_loss   cls_loss   dfl_loss  Instances       Size\n"
          ]
        },
        {
          "output_type": "stream",
          "name": "stderr",
          "text": [
            "      2/150      1.31G      2.212      3.519       1.84          6        640: 100%|██████████| 22/22 [00:05<00:00,  4.25it/s]\n",
            "                 Class     Images  Instances      Box(P          R      mAP50  mAP50-95): 100%|██████████| 1/1 [00:00<00:00,  4.95it/s]"
          ]
        },
        {
          "output_type": "stream",
          "name": "stdout",
          "text": [
            "                   all         12         25    0.00195      0.333      0.101      0.032\n"
          ]
        },
        {
          "output_type": "stream",
          "name": "stderr",
          "text": [
            "\n"
          ]
        },
        {
          "output_type": "stream",
          "name": "stdout",
          "text": [
            "\n",
            "      Epoch    GPU_mem   box_loss   cls_loss   dfl_loss  Instances       Size\n"
          ]
        },
        {
          "output_type": "stream",
          "name": "stderr",
          "text": [
            "      3/150       1.3G      1.976       3.44      1.521          0        640: 100%|██████████| 22/22 [00:03<00:00,  6.67it/s]\n",
            "                 Class     Images  Instances      Box(P          R      mAP50  mAP50-95): 100%|██████████| 1/1 [00:00<00:00,  8.26it/s]"
          ]
        },
        {
          "output_type": "stream",
          "name": "stdout",
          "text": [
            "                   all         12         25       0.55      0.176      0.339      0.156\n"
          ]
        },
        {
          "output_type": "stream",
          "name": "stderr",
          "text": [
            "\n"
          ]
        },
        {
          "output_type": "stream",
          "name": "stdout",
          "text": [
            "\n",
            "      Epoch    GPU_mem   box_loss   cls_loss   dfl_loss  Instances       Size\n"
          ]
        },
        {
          "output_type": "stream",
          "name": "stderr",
          "text": [
            "      4/150      1.31G      1.972       2.77      1.543          2        640: 100%|██████████| 22/22 [00:03<00:00,  6.98it/s]\n",
            "                 Class     Images  Instances      Box(P          R      mAP50  mAP50-95): 100%|██████████| 1/1 [00:00<00:00,  7.44it/s]"
          ]
        },
        {
          "output_type": "stream",
          "name": "stdout",
          "text": [
            "                   all         12         25      0.687      0.402      0.494      0.255\n"
          ]
        },
        {
          "output_type": "stream",
          "name": "stderr",
          "text": [
            "\n"
          ]
        },
        {
          "output_type": "stream",
          "name": "stdout",
          "text": [
            "\n",
            "      Epoch    GPU_mem   box_loss   cls_loss   dfl_loss  Instances       Size\n"
          ]
        },
        {
          "output_type": "stream",
          "name": "stderr",
          "text": [
            "      5/150      1.31G      1.882      2.623      1.484          2        640: 100%|██████████| 22/22 [00:05<00:00,  4.15it/s]\n",
            "                 Class     Images  Instances      Box(P          R      mAP50  mAP50-95): 100%|██████████| 1/1 [00:00<00:00,  3.66it/s]"
          ]
        },
        {
          "output_type": "stream",
          "name": "stdout",
          "text": [
            "                   all         12         25      0.826      0.452      0.547        0.3\n"
          ]
        },
        {
          "output_type": "stream",
          "name": "stderr",
          "text": [
            "\n"
          ]
        },
        {
          "output_type": "stream",
          "name": "stdout",
          "text": [
            "\n",
            "      Epoch    GPU_mem   box_loss   cls_loss   dfl_loss  Instances       Size\n"
          ]
        },
        {
          "output_type": "stream",
          "name": "stderr",
          "text": [
            "      6/150       1.3G      1.856      2.421      1.428          2        640: 100%|██████████| 22/22 [00:03<00:00,  5.67it/s]\n",
            "                 Class     Images  Instances      Box(P          R      mAP50  mAP50-95): 100%|██████████| 1/1 [00:00<00:00,  8.61it/s]"
          ]
        },
        {
          "output_type": "stream",
          "name": "stdout",
          "text": [
            "                   all         12         25      0.562      0.649      0.593      0.336\n"
          ]
        },
        {
          "output_type": "stream",
          "name": "stderr",
          "text": [
            "\n"
          ]
        },
        {
          "output_type": "stream",
          "name": "stdout",
          "text": [
            "\n",
            "      Epoch    GPU_mem   box_loss   cls_loss   dfl_loss  Instances       Size\n"
          ]
        },
        {
          "output_type": "stream",
          "name": "stderr",
          "text": [
            "      7/150      1.31G      1.647       2.21      1.319          1        640: 100%|██████████| 22/22 [00:03<00:00,  6.96it/s]\n",
            "                 Class     Images  Instances      Box(P          R      mAP50  mAP50-95): 100%|██████████| 1/1 [00:00<00:00,  9.45it/s]"
          ]
        },
        {
          "output_type": "stream",
          "name": "stdout",
          "text": [
            "                   all         12         25      0.627      0.635      0.626      0.363\n"
          ]
        },
        {
          "output_type": "stream",
          "name": "stderr",
          "text": [
            "\n"
          ]
        },
        {
          "output_type": "stream",
          "name": "stdout",
          "text": [
            "\n",
            "      Epoch    GPU_mem   box_loss   cls_loss   dfl_loss  Instances       Size\n"
          ]
        },
        {
          "output_type": "stream",
          "name": "stderr",
          "text": [
            "      8/150      1.31G      1.585      1.995      1.261          1        640: 100%|██████████| 22/22 [00:03<00:00,  6.26it/s]\n",
            "                 Class     Images  Instances      Box(P          R      mAP50  mAP50-95): 100%|██████████| 1/1 [00:00<00:00,  3.61it/s]"
          ]
        },
        {
          "output_type": "stream",
          "name": "stdout",
          "text": [
            "                   all         12         25      0.829      0.533      0.641      0.382\n"
          ]
        },
        {
          "output_type": "stream",
          "name": "stderr",
          "text": [
            "\n"
          ]
        },
        {
          "output_type": "stream",
          "name": "stdout",
          "text": [
            "\n",
            "      Epoch    GPU_mem   box_loss   cls_loss   dfl_loss  Instances       Size\n"
          ]
        },
        {
          "output_type": "stream",
          "name": "stderr",
          "text": [
            "      9/150      1.31G      1.608      1.972       1.31          5        640: 100%|██████████| 22/22 [00:05<00:00,  3.96it/s]\n",
            "                 Class     Images  Instances      Box(P          R      mAP50  mAP50-95): 100%|██████████| 1/1 [00:00<00:00,  7.23it/s]"
          ]
        },
        {
          "output_type": "stream",
          "name": "stdout",
          "text": [
            "                   all         12         25      0.677      0.492      0.621      0.347\n"
          ]
        },
        {
          "output_type": "stream",
          "name": "stderr",
          "text": [
            "\n"
          ]
        },
        {
          "output_type": "stream",
          "name": "stdout",
          "text": [
            "\n",
            "      Epoch    GPU_mem   box_loss   cls_loss   dfl_loss  Instances       Size\n"
          ]
        },
        {
          "output_type": "stream",
          "name": "stderr",
          "text": [
            "     10/150       1.3G      1.542      1.941      1.297          1        640: 100%|██████████| 22/22 [00:03<00:00,  6.82it/s]\n",
            "                 Class     Images  Instances      Box(P          R      mAP50  mAP50-95): 100%|██████████| 1/1 [00:00<00:00,  7.77it/s]"
          ]
        },
        {
          "output_type": "stream",
          "name": "stdout",
          "text": [
            "                   all         12         25      0.781      0.643      0.658      0.353\n"
          ]
        },
        {
          "output_type": "stream",
          "name": "stderr",
          "text": [
            "\n"
          ]
        },
        {
          "output_type": "stream",
          "name": "stdout",
          "text": [
            "\n",
            "      Epoch    GPU_mem   box_loss   cls_loss   dfl_loss  Instances       Size\n"
          ]
        },
        {
          "output_type": "stream",
          "name": "stderr",
          "text": [
            "     11/150      1.31G      1.637      1.857      1.285         12        640: 100%|██████████| 22/22 [00:03<00:00,  6.74it/s]\n",
            "                 Class     Images  Instances      Box(P          R      mAP50  mAP50-95): 100%|██████████| 1/1 [00:00<00:00,  9.25it/s]"
          ]
        },
        {
          "output_type": "stream",
          "name": "stdout",
          "text": [
            "                   all         12         25      0.688      0.728      0.684      0.365\n"
          ]
        },
        {
          "output_type": "stream",
          "name": "stderr",
          "text": [
            "\n"
          ]
        },
        {
          "output_type": "stream",
          "name": "stdout",
          "text": [
            "\n",
            "      Epoch    GPU_mem   box_loss   cls_loss   dfl_loss  Instances       Size\n"
          ]
        },
        {
          "output_type": "stream",
          "name": "stderr",
          "text": [
            "     12/150      1.31G      1.637      1.804      1.303          2        640: 100%|██████████| 22/22 [00:04<00:00,  4.55it/s]\n",
            "                 Class     Images  Instances      Box(P          R      mAP50  mAP50-95): 100%|██████████| 1/1 [00:00<00:00,  5.04it/s]"
          ]
        },
        {
          "output_type": "stream",
          "name": "stdout",
          "text": [
            "                   all         12         25      0.696        0.7      0.662      0.431\n"
          ]
        },
        {
          "output_type": "stream",
          "name": "stderr",
          "text": [
            "\n"
          ]
        },
        {
          "output_type": "stream",
          "name": "stdout",
          "text": [
            "\n",
            "      Epoch    GPU_mem   box_loss   cls_loss   dfl_loss  Instances       Size\n"
          ]
        },
        {
          "output_type": "stream",
          "name": "stderr",
          "text": [
            "     13/150      1.31G      1.416       1.65      1.159          1        640: 100%|██████████| 22/22 [00:04<00:00,  4.90it/s]\n",
            "                 Class     Images  Instances      Box(P          R      mAP50  mAP50-95): 100%|██████████| 1/1 [00:00<00:00,  8.99it/s]"
          ]
        },
        {
          "output_type": "stream",
          "name": "stdout",
          "text": [
            "                   all         12         25      0.659       0.71      0.692      0.421\n"
          ]
        },
        {
          "output_type": "stream",
          "name": "stderr",
          "text": [
            "\n"
          ]
        },
        {
          "output_type": "stream",
          "name": "stdout",
          "text": [
            "\n",
            "      Epoch    GPU_mem   box_loss   cls_loss   dfl_loss  Instances       Size\n"
          ]
        },
        {
          "output_type": "stream",
          "name": "stderr",
          "text": [
            "     14/150       1.3G      1.438      1.555      1.206         14        640: 100%|██████████| 22/22 [00:03<00:00,  6.77it/s]\n",
            "                 Class     Images  Instances      Box(P          R      mAP50  mAP50-95): 100%|██████████| 1/1 [00:00<00:00,  8.27it/s]"
          ]
        },
        {
          "output_type": "stream",
          "name": "stdout",
          "text": [
            "                   all         12         25       0.76      0.753      0.716       0.39\n"
          ]
        },
        {
          "output_type": "stream",
          "name": "stderr",
          "text": [
            "\n"
          ]
        },
        {
          "output_type": "stream",
          "name": "stdout",
          "text": [
            "\n",
            "      Epoch    GPU_mem   box_loss   cls_loss   dfl_loss  Instances       Size\n"
          ]
        },
        {
          "output_type": "stream",
          "name": "stderr",
          "text": [
            "     15/150      1.31G      1.411      1.494      1.208          1        640: 100%|██████████| 22/22 [00:03<00:00,  6.85it/s]\n",
            "                 Class     Images  Instances      Box(P          R      mAP50  mAP50-95): 100%|██████████| 1/1 [00:00<00:00,  8.32it/s]"
          ]
        },
        {
          "output_type": "stream",
          "name": "stdout",
          "text": [
            "                   all         12         25      0.672      0.779      0.735      0.387\n"
          ]
        },
        {
          "output_type": "stream",
          "name": "stderr",
          "text": [
            "\n"
          ]
        },
        {
          "output_type": "stream",
          "name": "stdout",
          "text": [
            "\n",
            "      Epoch    GPU_mem   box_loss   cls_loss   dfl_loss  Instances       Size\n"
          ]
        },
        {
          "output_type": "stream",
          "name": "stderr",
          "text": [
            "     16/150      1.31G      1.428      1.461      1.156          5        640: 100%|██████████| 22/22 [00:05<00:00,  3.93it/s]\n",
            "                 Class     Images  Instances      Box(P          R      mAP50  mAP50-95): 100%|██████████| 1/1 [00:00<00:00,  5.81it/s]"
          ]
        },
        {
          "output_type": "stream",
          "name": "stdout",
          "text": [
            "                   all         12         25      0.715      0.728      0.726      0.356\n"
          ]
        },
        {
          "output_type": "stream",
          "name": "stderr",
          "text": [
            "\n"
          ]
        },
        {
          "output_type": "stream",
          "name": "stdout",
          "text": [
            "\n",
            "      Epoch    GPU_mem   box_loss   cls_loss   dfl_loss  Instances       Size\n"
          ]
        },
        {
          "output_type": "stream",
          "name": "stderr",
          "text": [
            "     17/150      1.31G       1.44      1.368      1.186          2        640: 100%|██████████| 22/22 [00:03<00:00,  6.41it/s]\n",
            "                 Class     Images  Instances      Box(P          R      mAP50  mAP50-95): 100%|██████████| 1/1 [00:00<00:00,  6.05it/s]\n"
          ]
        },
        {
          "output_type": "stream",
          "name": "stdout",
          "text": [
            "                   all         12         25      0.824      0.564      0.684      0.463\n",
            "\n",
            "      Epoch    GPU_mem   box_loss   cls_loss   dfl_loss  Instances       Size\n"
          ]
        },
        {
          "output_type": "stream",
          "name": "stderr",
          "text": [
            "     18/150       1.3G      1.418      1.372      1.161         10        640: 100%|██████████| 22/22 [00:03<00:00,  6.72it/s]\n",
            "                 Class     Images  Instances      Box(P          R      mAP50  mAP50-95): 100%|██████████| 1/1 [00:00<00:00,  8.28it/s]"
          ]
        },
        {
          "output_type": "stream",
          "name": "stdout",
          "text": [
            "                   all         12         25      0.946      0.584      0.728      0.454\n"
          ]
        },
        {
          "output_type": "stream",
          "name": "stderr",
          "text": [
            "\n"
          ]
        },
        {
          "output_type": "stream",
          "name": "stdout",
          "text": [
            "\n",
            "      Epoch    GPU_mem   box_loss   cls_loss   dfl_loss  Instances       Size\n"
          ]
        },
        {
          "output_type": "stream",
          "name": "stderr",
          "text": [
            "     19/150      1.33G      1.371      1.363       1.14          2        640: 100%|██████████| 22/22 [00:03<00:00,  6.13it/s]\n",
            "                 Class     Images  Instances      Box(P          R      mAP50  mAP50-95): 100%|██████████| 1/1 [00:00<00:00,  6.62it/s]\n"
          ]
        },
        {
          "output_type": "stream",
          "name": "stdout",
          "text": [
            "                   all         12         25      0.801      0.712       0.75      0.472\n",
            "\n",
            "      Epoch    GPU_mem   box_loss   cls_loss   dfl_loss  Instances       Size\n"
          ]
        },
        {
          "output_type": "stream",
          "name": "stderr",
          "text": [
            "     20/150      1.31G      1.328      1.313      1.143          2        640: 100%|██████████| 22/22 [00:05<00:00,  4.28it/s]\n",
            "                 Class     Images  Instances      Box(P          R      mAP50  mAP50-95): 100%|██████████| 1/1 [00:00<00:00,  7.74it/s]"
          ]
        },
        {
          "output_type": "stream",
          "name": "stdout",
          "text": [
            "                   all         12         25      0.816      0.619      0.697      0.419\n"
          ]
        },
        {
          "output_type": "stream",
          "name": "stderr",
          "text": [
            "\n"
          ]
        },
        {
          "output_type": "stream",
          "name": "stdout",
          "text": [
            "\n",
            "      Epoch    GPU_mem   box_loss   cls_loss   dfl_loss  Instances       Size\n"
          ]
        },
        {
          "output_type": "stream",
          "name": "stderr",
          "text": [
            "     21/150      1.31G      1.388      1.303      1.145          3        640: 100%|██████████| 22/22 [00:03<00:00,  6.73it/s]\n",
            "                 Class     Images  Instances      Box(P          R      mAP50  mAP50-95): 100%|██████████| 1/1 [00:00<00:00,  8.36it/s]"
          ]
        },
        {
          "output_type": "stream",
          "name": "stdout",
          "text": [
            "                   all         12         25      0.651      0.712       0.73      0.482\n"
          ]
        },
        {
          "output_type": "stream",
          "name": "stderr",
          "text": [
            "\n"
          ]
        },
        {
          "output_type": "stream",
          "name": "stdout",
          "text": [
            "\n",
            "      Epoch    GPU_mem   box_loss   cls_loss   dfl_loss  Instances       Size\n"
          ]
        },
        {
          "output_type": "stream",
          "name": "stderr",
          "text": [
            "     22/150       1.3G      1.253      1.399       1.06          0        640: 100%|██████████| 22/22 [00:03<00:00,  6.56it/s]\n",
            "                 Class     Images  Instances      Box(P          R      mAP50  mAP50-95): 100%|██████████| 1/1 [00:00<00:00,  7.20it/s]"
          ]
        },
        {
          "output_type": "stream",
          "name": "stdout",
          "text": [
            "                   all         12         25       0.83      0.677      0.755      0.448\n"
          ]
        },
        {
          "output_type": "stream",
          "name": "stderr",
          "text": [
            "\n"
          ]
        },
        {
          "output_type": "stream",
          "name": "stdout",
          "text": [
            "\n",
            "      Epoch    GPU_mem   box_loss   cls_loss   dfl_loss  Instances       Size\n"
          ]
        },
        {
          "output_type": "stream",
          "name": "stderr",
          "text": [
            "     23/150      1.31G      1.317      1.154      1.096          5        640: 100%|██████████| 22/22 [00:05<00:00,  4.28it/s]\n",
            "                 Class     Images  Instances      Box(P          R      mAP50  mAP50-95): 100%|██████████| 1/1 [00:00<00:00,  3.41it/s]"
          ]
        },
        {
          "output_type": "stream",
          "name": "stdout",
          "text": [
            "                   all         12         25      0.862      0.706      0.744      0.384\n"
          ]
        },
        {
          "output_type": "stream",
          "name": "stderr",
          "text": [
            "\n"
          ]
        },
        {
          "output_type": "stream",
          "name": "stdout",
          "text": [
            "\n",
            "      Epoch    GPU_mem   box_loss   cls_loss   dfl_loss  Instances       Size\n"
          ]
        },
        {
          "output_type": "stream",
          "name": "stderr",
          "text": [
            "     24/150      1.31G      1.298      1.244      1.109          3        640: 100%|██████████| 22/22 [00:03<00:00,  5.84it/s]\n",
            "                 Class     Images  Instances      Box(P          R      mAP50  mAP50-95): 100%|██████████| 1/1 [00:00<00:00,  6.55it/s]"
          ]
        },
        {
          "output_type": "stream",
          "name": "stdout",
          "text": [
            "                   all         12         25      0.603      0.686      0.732      0.414\n"
          ]
        },
        {
          "output_type": "stream",
          "name": "stderr",
          "text": [
            "\n"
          ]
        },
        {
          "output_type": "stream",
          "name": "stdout",
          "text": [
            "\n",
            "      Epoch    GPU_mem   box_loss   cls_loss   dfl_loss  Instances       Size\n"
          ]
        },
        {
          "output_type": "stream",
          "name": "stderr",
          "text": [
            "     25/150      1.31G      1.317      1.287      1.144          3        640: 100%|██████████| 22/22 [00:03<00:00,  6.95it/s]\n",
            "                 Class     Images  Instances      Box(P          R      mAP50  mAP50-95): 100%|██████████| 1/1 [00:00<00:00,  7.80it/s]"
          ]
        },
        {
          "output_type": "stream",
          "name": "stdout",
          "text": [
            "                   all         12         25      0.811      0.771      0.769      0.409\n"
          ]
        },
        {
          "output_type": "stream",
          "name": "stderr",
          "text": [
            "\n"
          ]
        },
        {
          "output_type": "stream",
          "name": "stdout",
          "text": [
            "\n",
            "      Epoch    GPU_mem   box_loss   cls_loss   dfl_loss  Instances       Size\n"
          ]
        },
        {
          "output_type": "stream",
          "name": "stderr",
          "text": [
            "     26/150       1.3G      1.182       1.05      1.047          5        640: 100%|██████████| 22/22 [00:03<00:00,  6.27it/s]\n",
            "                 Class     Images  Instances      Box(P          R      mAP50  mAP50-95): 100%|██████████| 1/1 [00:00<00:00,  3.92it/s]"
          ]
        },
        {
          "output_type": "stream",
          "name": "stdout",
          "text": [
            "                   all         12         25      0.761      0.763      0.742      0.418\n"
          ]
        },
        {
          "output_type": "stream",
          "name": "stderr",
          "text": [
            "\n"
          ]
        },
        {
          "output_type": "stream",
          "name": "stdout",
          "text": [
            "\n",
            "      Epoch    GPU_mem   box_loss   cls_loss   dfl_loss  Instances       Size\n"
          ]
        },
        {
          "output_type": "stream",
          "name": "stderr",
          "text": [
            "     27/150      1.31G       1.18      1.079      1.071          5        640: 100%|██████████| 22/22 [00:05<00:00,  3.87it/s]\n",
            "                 Class     Images  Instances      Box(P          R      mAP50  mAP50-95): 100%|██████████| 1/1 [00:00<00:00,  8.13it/s]"
          ]
        },
        {
          "output_type": "stream",
          "name": "stdout",
          "text": [
            "                   all         12         25      0.909      0.735      0.795      0.414\n"
          ]
        },
        {
          "output_type": "stream",
          "name": "stderr",
          "text": [
            "\n"
          ]
        },
        {
          "output_type": "stream",
          "name": "stdout",
          "text": [
            "\n",
            "      Epoch    GPU_mem   box_loss   cls_loss   dfl_loss  Instances       Size\n"
          ]
        },
        {
          "output_type": "stream",
          "name": "stderr",
          "text": [
            "     28/150      1.31G      1.241      1.145      1.111          7        640: 100%|██████████| 22/22 [00:03<00:00,  6.54it/s]\n",
            "                 Class     Images  Instances      Box(P          R      mAP50  mAP50-95): 100%|██████████| 1/1 [00:00<00:00,  8.53it/s]"
          ]
        },
        {
          "output_type": "stream",
          "name": "stdout",
          "text": [
            "                   all         12         25      0.829      0.789      0.804      0.411\n"
          ]
        },
        {
          "output_type": "stream",
          "name": "stderr",
          "text": [
            "\n"
          ]
        },
        {
          "output_type": "stream",
          "name": "stdout",
          "text": [
            "\n",
            "      Epoch    GPU_mem   box_loss   cls_loss   dfl_loss  Instances       Size\n"
          ]
        },
        {
          "output_type": "stream",
          "name": "stderr",
          "text": [
            "     29/150      1.31G      1.179      1.094      1.074          2        640: 100%|██████████| 22/22 [00:03<00:00,  6.96it/s]\n",
            "                 Class     Images  Instances      Box(P          R      mAP50  mAP50-95): 100%|██████████| 1/1 [00:00<00:00,  5.18it/s]\n"
          ]
        },
        {
          "output_type": "stream",
          "name": "stdout",
          "text": [
            "                   all         12         25      0.914      0.753      0.792       0.43\n",
            "\n",
            "      Epoch    GPU_mem   box_loss   cls_loss   dfl_loss  Instances       Size\n"
          ]
        },
        {
          "output_type": "stream",
          "name": "stderr",
          "text": [
            "     30/150       1.3G      1.251      1.112      1.093          1        640: 100%|██████████| 22/22 [00:04<00:00,  4.73it/s]\n",
            "                 Class     Images  Instances      Box(P          R      mAP50  mAP50-95): 100%|██████████| 1/1 [00:00<00:00,  5.28it/s]"
          ]
        },
        {
          "output_type": "stream",
          "name": "stdout",
          "text": [
            "                   all         12         25      0.933      0.686      0.749      0.384\n"
          ]
        },
        {
          "output_type": "stream",
          "name": "stderr",
          "text": [
            "\n"
          ]
        },
        {
          "output_type": "stream",
          "name": "stdout",
          "text": [
            "\n",
            "      Epoch    GPU_mem   box_loss   cls_loss   dfl_loss  Instances       Size\n"
          ]
        },
        {
          "output_type": "stream",
          "name": "stderr",
          "text": [
            "     31/150      1.31G      1.144     0.9991      1.052          4        640: 100%|██████████| 22/22 [00:03<00:00,  5.56it/s]\n",
            "                 Class     Images  Instances      Box(P          R      mAP50  mAP50-95): 100%|██████████| 1/1 [00:00<00:00,  8.96it/s]"
          ]
        },
        {
          "output_type": "stream",
          "name": "stdout",
          "text": [
            "                   all         12         25      0.909      0.686      0.788      0.393\n"
          ]
        },
        {
          "output_type": "stream",
          "name": "stderr",
          "text": [
            "\n"
          ]
        },
        {
          "output_type": "stream",
          "name": "stdout",
          "text": [
            "\n",
            "      Epoch    GPU_mem   box_loss   cls_loss   dfl_loss  Instances       Size\n"
          ]
        },
        {
          "output_type": "stream",
          "name": "stderr",
          "text": [
            "     32/150      1.31G      1.252      1.082      1.115          7        640: 100%|██████████| 22/22 [00:03<00:00,  6.80it/s]\n",
            "                 Class     Images  Instances      Box(P          R      mAP50  mAP50-95): 100%|██████████| 1/1 [00:00<00:00, 10.97it/s]"
          ]
        },
        {
          "output_type": "stream",
          "name": "stdout",
          "text": [
            "                   all         12         25      0.952      0.709       0.81      0.433\n"
          ]
        },
        {
          "output_type": "stream",
          "name": "stderr",
          "text": [
            "\n"
          ]
        },
        {
          "output_type": "stream",
          "name": "stdout",
          "text": [
            "\n",
            "      Epoch    GPU_mem   box_loss   cls_loss   dfl_loss  Instances       Size\n"
          ]
        },
        {
          "output_type": "stream",
          "name": "stderr",
          "text": [
            "     33/150      1.31G      1.102     0.9587      1.026          5        640: 100%|██████████| 22/22 [00:03<00:00,  6.88it/s]\n",
            "                 Class     Images  Instances      Box(P          R      mAP50  mAP50-95): 100%|██████████| 1/1 [00:00<00:00,  6.32it/s]"
          ]
        },
        {
          "output_type": "stream",
          "name": "stdout",
          "text": [
            "                   all         12         25      0.824      0.739      0.774        0.4\n"
          ]
        },
        {
          "output_type": "stream",
          "name": "stderr",
          "text": [
            "\n"
          ]
        },
        {
          "output_type": "stream",
          "name": "stdout",
          "text": [
            "\n",
            "      Epoch    GPU_mem   box_loss   cls_loss   dfl_loss  Instances       Size\n"
          ]
        },
        {
          "output_type": "stream",
          "name": "stderr",
          "text": [
            "     34/150       1.3G      1.103     0.9194      1.036          1        640: 100%|██████████| 22/22 [00:05<00:00,  3.88it/s]\n",
            "                 Class     Images  Instances      Box(P          R      mAP50  mAP50-95): 100%|██████████| 1/1 [00:00<00:00,  3.45it/s]"
          ]
        },
        {
          "output_type": "stream",
          "name": "stdout",
          "text": [
            "                   all         12         25       0.87      0.626      0.725       0.39\n"
          ]
        },
        {
          "output_type": "stream",
          "name": "stderr",
          "text": [
            "\n"
          ]
        },
        {
          "output_type": "stream",
          "name": "stdout",
          "text": [
            "\n",
            "      Epoch    GPU_mem   box_loss   cls_loss   dfl_loss  Instances       Size\n"
          ]
        },
        {
          "output_type": "stream",
          "name": "stderr",
          "text": [
            "     35/150      1.31G      1.087      1.044      1.009          0        640: 100%|██████████| 22/22 [00:03<00:00,  6.82it/s]\n",
            "                 Class     Images  Instances      Box(P          R      mAP50  mAP50-95): 100%|██████████| 1/1 [00:00<00:00,  6.89it/s]"
          ]
        },
        {
          "output_type": "stream",
          "name": "stdout",
          "text": [
            "                   all         12         25      0.932      0.726      0.781        0.4\n"
          ]
        },
        {
          "output_type": "stream",
          "name": "stderr",
          "text": [
            "\n"
          ]
        },
        {
          "output_type": "stream",
          "name": "stdout",
          "text": [
            "\n",
            "      Epoch    GPU_mem   box_loss   cls_loss   dfl_loss  Instances       Size\n"
          ]
        },
        {
          "output_type": "stream",
          "name": "stderr",
          "text": [
            "     36/150      1.31G       1.14     0.9596      1.042          3        640: 100%|██████████| 22/22 [00:03<00:00,  6.52it/s]\n",
            "                 Class     Images  Instances      Box(P          R      mAP50  mAP50-95): 100%|██████████| 1/1 [00:00<00:00, 10.56it/s]"
          ]
        },
        {
          "output_type": "stream",
          "name": "stdout",
          "text": [
            "                   all         12         25      0.946      0.737      0.776      0.423\n"
          ]
        },
        {
          "output_type": "stream",
          "name": "stderr",
          "text": [
            "\n"
          ]
        },
        {
          "output_type": "stream",
          "name": "stdout",
          "text": [
            "\n",
            "      Epoch    GPU_mem   box_loss   cls_loss   dfl_loss  Instances       Size\n"
          ]
        },
        {
          "output_type": "stream",
          "name": "stderr",
          "text": [
            "     37/150      1.31G      1.149     0.9581      1.053          5        640: 100%|██████████| 22/22 [00:03<00:00,  5.74it/s]\n",
            "                 Class     Images  Instances      Box(P          R      mAP50  mAP50-95): 100%|██████████| 1/1 [00:00<00:00,  7.77it/s]"
          ]
        },
        {
          "output_type": "stream",
          "name": "stdout",
          "text": [
            "                   all         12         25      0.921      0.737      0.775      0.476\n"
          ]
        },
        {
          "output_type": "stream",
          "name": "stderr",
          "text": [
            "\n"
          ]
        },
        {
          "output_type": "stream",
          "name": "stdout",
          "text": [
            "\n",
            "      Epoch    GPU_mem   box_loss   cls_loss   dfl_loss  Instances       Size\n"
          ]
        },
        {
          "output_type": "stream",
          "name": "stderr",
          "text": [
            "     38/150       1.3G      1.091     0.8869      1.012          5        640: 100%|██████████| 22/22 [00:05<00:00,  4.21it/s]\n",
            "                 Class     Images  Instances      Box(P          R      mAP50  mAP50-95): 100%|██████████| 1/1 [00:00<00:00,  9.37it/s]"
          ]
        },
        {
          "output_type": "stream",
          "name": "stdout",
          "text": [
            "                   all         12         25      0.951      0.737      0.783      0.505\n"
          ]
        },
        {
          "output_type": "stream",
          "name": "stderr",
          "text": [
            "\n"
          ]
        },
        {
          "output_type": "stream",
          "name": "stdout",
          "text": [
            "\n",
            "      Epoch    GPU_mem   box_loss   cls_loss   dfl_loss  Instances       Size\n"
          ]
        },
        {
          "output_type": "stream",
          "name": "stderr",
          "text": [
            "     39/150      1.31G      1.099     0.9198      1.034          1        640: 100%|██████████| 22/22 [00:03<00:00,  6.94it/s]\n",
            "                 Class     Images  Instances      Box(P          R      mAP50  mAP50-95): 100%|██████████| 1/1 [00:00<00:00,  9.70it/s]"
          ]
        },
        {
          "output_type": "stream",
          "name": "stdout",
          "text": [
            "                   all         12         25      0.886      0.737      0.774      0.512\n"
          ]
        },
        {
          "output_type": "stream",
          "name": "stderr",
          "text": [
            "\n"
          ]
        },
        {
          "output_type": "stream",
          "name": "stdout",
          "text": [
            "\n",
            "      Epoch    GPU_mem   box_loss   cls_loss   dfl_loss  Instances       Size\n"
          ]
        },
        {
          "output_type": "stream",
          "name": "stderr",
          "text": [
            "     40/150      1.31G      1.111     0.8763      1.054          4        640: 100%|██████████| 22/22 [00:03<00:00,  6.83it/s]\n",
            "                 Class     Images  Instances      Box(P          R      mAP50  mAP50-95): 100%|██████████| 1/1 [00:00<00:00,  6.55it/s]\n"
          ]
        },
        {
          "output_type": "stream",
          "name": "stdout",
          "text": [
            "                   all         12         25      0.882      0.733      0.794      0.499\n",
            "\n",
            "      Epoch    GPU_mem   box_loss   cls_loss   dfl_loss  Instances       Size\n"
          ]
        },
        {
          "output_type": "stream",
          "name": "stderr",
          "text": [
            "     41/150      1.31G      1.158     0.8742      1.053          3        640: 100%|██████████| 22/22 [00:04<00:00,  4.47it/s]\n",
            "                 Class     Images  Instances      Box(P          R      mAP50  mAP50-95): 100%|██████████| 1/1 [00:00<00:00,  5.90it/s]"
          ]
        },
        {
          "output_type": "stream",
          "name": "stdout",
          "text": [
            "                   all         12         25      0.814      0.696      0.793      0.436\n"
          ]
        },
        {
          "output_type": "stream",
          "name": "stderr",
          "text": [
            "\n"
          ]
        },
        {
          "output_type": "stream",
          "name": "stdout",
          "text": [
            "\n",
            "      Epoch    GPU_mem   box_loss   cls_loss   dfl_loss  Instances       Size\n"
          ]
        },
        {
          "output_type": "stream",
          "name": "stderr",
          "text": [
            "     42/150       1.3G      1.169     0.8727      1.062          1        640: 100%|██████████| 22/22 [00:03<00:00,  5.93it/s]\n",
            "                 Class     Images  Instances      Box(P          R      mAP50  mAP50-95): 100%|██████████| 1/1 [00:00<00:00,  9.56it/s]"
          ]
        },
        {
          "output_type": "stream",
          "name": "stdout",
          "text": [
            "                   all         12         25      0.901      0.679      0.824       0.42\n"
          ]
        },
        {
          "output_type": "stream",
          "name": "stderr",
          "text": [
            "\n"
          ]
        },
        {
          "output_type": "stream",
          "name": "stdout",
          "text": [
            "\n",
            "      Epoch    GPU_mem   box_loss   cls_loss   dfl_loss  Instances       Size\n"
          ]
        },
        {
          "output_type": "stream",
          "name": "stderr",
          "text": [
            "     43/150      1.31G      1.052     0.8284      1.016          4        640: 100%|██████████| 22/22 [00:03<00:00,  7.03it/s]\n",
            "                 Class     Images  Instances      Box(P          R      mAP50  mAP50-95): 100%|██████████| 1/1 [00:00<00:00,  8.94it/s]"
          ]
        },
        {
          "output_type": "stream",
          "name": "stdout",
          "text": [
            "                   all         12         25      0.908      0.719      0.806      0.406\n"
          ]
        },
        {
          "output_type": "stream",
          "name": "stderr",
          "text": [
            "\n"
          ]
        },
        {
          "output_type": "stream",
          "name": "stdout",
          "text": [
            "\n",
            "      Epoch    GPU_mem   box_loss   cls_loss   dfl_loss  Instances       Size\n"
          ]
        },
        {
          "output_type": "stream",
          "name": "stderr",
          "text": [
            "     44/150      1.31G      1.084     0.8752      1.028          1        640: 100%|██████████| 22/22 [00:03<00:00,  6.93it/s]\n",
            "                 Class     Images  Instances      Box(P          R      mAP50  mAP50-95): 100%|██████████| 1/1 [00:00<00:00,  5.42it/s]"
          ]
        },
        {
          "output_type": "stream",
          "name": "stdout",
          "text": [
            "                   all         12         25      0.933      0.768      0.812      0.443\n"
          ]
        },
        {
          "output_type": "stream",
          "name": "stderr",
          "text": [
            "\n"
          ]
        },
        {
          "output_type": "stream",
          "name": "stdout",
          "text": [
            "\n",
            "      Epoch    GPU_mem   box_loss   cls_loss   dfl_loss  Instances       Size\n"
          ]
        },
        {
          "output_type": "stream",
          "name": "stderr",
          "text": [
            "     45/150      1.31G      1.078     0.8557      1.036          5        640: 100%|██████████| 22/22 [00:05<00:00,  3.84it/s]\n",
            "                 Class     Images  Instances      Box(P          R      mAP50  mAP50-95): 100%|██████████| 1/1 [00:00<00:00,  3.86it/s]"
          ]
        },
        {
          "output_type": "stream",
          "name": "stdout",
          "text": [
            "                   all         12         25      0.886      0.702      0.739      0.431\n"
          ]
        },
        {
          "output_type": "stream",
          "name": "stderr",
          "text": [
            "\n"
          ]
        },
        {
          "output_type": "stream",
          "name": "stdout",
          "text": [
            "\n",
            "      Epoch    GPU_mem   box_loss   cls_loss   dfl_loss  Instances       Size\n"
          ]
        },
        {
          "output_type": "stream",
          "name": "stderr",
          "text": [
            "     46/150       1.3G      1.095     0.8413      1.027          2        640: 100%|██████████| 22/22 [00:03<00:00,  6.98it/s]\n",
            "                 Class     Images  Instances      Box(P          R      mAP50  mAP50-95): 100%|██████████| 1/1 [00:00<00:00,  8.31it/s]"
          ]
        },
        {
          "output_type": "stream",
          "name": "stdout",
          "text": [
            "                   all         12         25        0.9      0.651      0.722      0.418\n"
          ]
        },
        {
          "output_type": "stream",
          "name": "stderr",
          "text": [
            "\n"
          ]
        },
        {
          "output_type": "stream",
          "name": "stdout",
          "text": [
            "\n",
            "      Epoch    GPU_mem   box_loss   cls_loss   dfl_loss  Instances       Size\n"
          ]
        },
        {
          "output_type": "stream",
          "name": "stderr",
          "text": [
            "     47/150      1.31G      1.018     0.7942      1.002          1        640: 100%|██████████| 22/22 [00:03<00:00,  6.63it/s]\n",
            "                 Class     Images  Instances      Box(P          R      mAP50  mAP50-95): 100%|██████████| 1/1 [00:00<00:00,  8.52it/s]"
          ]
        },
        {
          "output_type": "stream",
          "name": "stdout",
          "text": [
            "                   all         12         25      0.733      0.797      0.745       0.45\n"
          ]
        },
        {
          "output_type": "stream",
          "name": "stderr",
          "text": [
            "\n"
          ]
        },
        {
          "output_type": "stream",
          "name": "stdout",
          "text": [
            "\n",
            "      Epoch    GPU_mem   box_loss   cls_loss   dfl_loss  Instances       Size\n"
          ]
        },
        {
          "output_type": "stream",
          "name": "stderr",
          "text": [
            "     48/150      1.31G      1.079     0.8104      1.001         16        640: 100%|██████████| 22/22 [00:03<00:00,  6.05it/s]\n",
            "                 Class     Images  Instances      Box(P          R      mAP50  mAP50-95): 100%|██████████| 1/1 [00:00<00:00,  3.48it/s]"
          ]
        },
        {
          "output_type": "stream",
          "name": "stdout",
          "text": [
            "                   all         12         25      0.737      0.753       0.77       0.42\n"
          ]
        },
        {
          "output_type": "stream",
          "name": "stderr",
          "text": [
            "\n"
          ]
        },
        {
          "output_type": "stream",
          "name": "stdout",
          "text": [
            "\n",
            "      Epoch    GPU_mem   box_loss   cls_loss   dfl_loss  Instances       Size\n"
          ]
        },
        {
          "output_type": "stream",
          "name": "stderr",
          "text": [
            "     49/150      1.31G       1.02     0.7389     0.9877          1        640: 100%|██████████| 22/22 [00:05<00:00,  4.24it/s]\n",
            "                 Class     Images  Instances      Box(P          R      mAP50  mAP50-95): 100%|██████████| 1/1 [00:00<00:00, 10.84it/s]"
          ]
        },
        {
          "output_type": "stream",
          "name": "stdout",
          "text": [
            "                   all         12         25      0.676      0.763       0.76      0.423\n"
          ]
        },
        {
          "output_type": "stream",
          "name": "stderr",
          "text": [
            "\n"
          ]
        },
        {
          "output_type": "stream",
          "name": "stdout",
          "text": [
            "\n",
            "      Epoch    GPU_mem   box_loss   cls_loss   dfl_loss  Instances       Size\n"
          ]
        },
        {
          "output_type": "stream",
          "name": "stderr",
          "text": [
            "     50/150       1.3G       1.01     0.8978     0.9735          0        640: 100%|██████████| 22/22 [00:03<00:00,  6.97it/s]\n",
            "                 Class     Images  Instances      Box(P          R      mAP50  mAP50-95): 100%|██████████| 1/1 [00:00<00:00, 11.54it/s]"
          ]
        },
        {
          "output_type": "stream",
          "name": "stdout",
          "text": [
            "                   all         12         25      0.746       0.79      0.785      0.472\n"
          ]
        },
        {
          "output_type": "stream",
          "name": "stderr",
          "text": [
            "\n"
          ]
        },
        {
          "output_type": "stream",
          "name": "stdout",
          "text": [
            "\n",
            "      Epoch    GPU_mem   box_loss   cls_loss   dfl_loss  Instances       Size\n"
          ]
        },
        {
          "output_type": "stream",
          "name": "stderr",
          "text": [
            "     51/150      1.31G      1.046     0.8181      1.006          1        640: 100%|██████████| 22/22 [00:03<00:00,  6.76it/s]\n",
            "                 Class     Images  Instances      Box(P          R      mAP50  mAP50-95): 100%|██████████| 1/1 [00:00<00:00, 10.81it/s]"
          ]
        },
        {
          "output_type": "stream",
          "name": "stdout",
          "text": [
            "                   all         12         25      0.874      0.659      0.783      0.463\n"
          ]
        },
        {
          "output_type": "stream",
          "name": "stderr",
          "text": [
            "\n"
          ]
        },
        {
          "output_type": "stream",
          "name": "stdout",
          "text": [
            "\n",
            "      Epoch    GPU_mem   box_loss   cls_loss   dfl_loss  Instances       Size\n"
          ]
        },
        {
          "output_type": "stream",
          "name": "stderr",
          "text": [
            "     52/150      1.31G      1.042     0.7929      0.992          2        640: 100%|██████████| 22/22 [00:05<00:00,  4.38it/s]\n",
            "                 Class     Images  Instances      Box(P          R      mAP50  mAP50-95): 100%|██████████| 1/1 [00:00<00:00,  4.85it/s]"
          ]
        },
        {
          "output_type": "stream",
          "name": "stdout",
          "text": [
            "                   all         12         25      0.656      0.747      0.742      0.427\n"
          ]
        },
        {
          "output_type": "stream",
          "name": "stderr",
          "text": [
            "\n"
          ]
        },
        {
          "output_type": "stream",
          "name": "stdout",
          "text": [
            "\n",
            "      Epoch    GPU_mem   box_loss   cls_loss   dfl_loss  Instances       Size\n"
          ]
        },
        {
          "output_type": "stream",
          "name": "stderr",
          "text": [
            "     53/150      1.31G      1.023     0.7529      1.018          4        640: 100%|██████████| 22/22 [00:03<00:00,  5.75it/s]\n",
            "                 Class     Images  Instances      Box(P          R      mAP50  mAP50-95): 100%|██████████| 1/1 [00:00<00:00, 10.23it/s]"
          ]
        },
        {
          "output_type": "stream",
          "name": "stdout",
          "text": [
            "                   all         12         25      0.841      0.735      0.766      0.408\n"
          ]
        },
        {
          "output_type": "stream",
          "name": "stderr",
          "text": [
            "\n"
          ]
        },
        {
          "output_type": "stream",
          "name": "stdout",
          "text": [
            "\n",
            "      Epoch    GPU_mem   box_loss   cls_loss   dfl_loss  Instances       Size\n"
          ]
        },
        {
          "output_type": "stream",
          "name": "stderr",
          "text": [
            "     54/150       1.3G     0.9721     0.7356     0.9855         10        640: 100%|██████████| 22/22 [00:03<00:00,  6.88it/s]\n",
            "                 Class     Images  Instances      Box(P          R      mAP50  mAP50-95): 100%|██████████| 1/1 [00:00<00:00,  9.02it/s]"
          ]
        },
        {
          "output_type": "stream",
          "name": "stdout",
          "text": [
            "                   all         12         25      0.739      0.712      0.754      0.389\n"
          ]
        },
        {
          "output_type": "stream",
          "name": "stderr",
          "text": [
            "\n"
          ]
        },
        {
          "output_type": "stream",
          "name": "stdout",
          "text": [
            "\n",
            "      Epoch    GPU_mem   box_loss   cls_loss   dfl_loss  Instances       Size\n"
          ]
        },
        {
          "output_type": "stream",
          "name": "stderr",
          "text": [
            "     55/150      1.31G     0.9655     0.7232     0.9834          3        640: 100%|██████████| 22/22 [00:03<00:00,  6.28it/s]\n",
            "                 Class     Images  Instances      Box(P          R      mAP50  mAP50-95): 100%|██████████| 1/1 [00:00<00:00,  4.52it/s]"
          ]
        },
        {
          "output_type": "stream",
          "name": "stdout",
          "text": [
            "                   all         12         25      0.797      0.756      0.768      0.401\n"
          ]
        },
        {
          "output_type": "stream",
          "name": "stderr",
          "text": [
            "\n"
          ]
        },
        {
          "output_type": "stream",
          "name": "stdout",
          "text": [
            "\n",
            "      Epoch    GPU_mem   box_loss   cls_loss   dfl_loss  Instances       Size\n"
          ]
        },
        {
          "output_type": "stream",
          "name": "stderr",
          "text": [
            "     56/150      1.31G      1.006     0.7445     0.9976          2        640: 100%|██████████| 22/22 [00:05<00:00,  3.73it/s]\n",
            "                 Class     Images  Instances      Box(P          R      mAP50  mAP50-95): 100%|██████████| 1/1 [00:00<00:00,  3.98it/s]"
          ]
        },
        {
          "output_type": "stream",
          "name": "stdout",
          "text": [
            "                   all         12         25      0.927      0.581      0.747      0.405\n"
          ]
        },
        {
          "output_type": "stream",
          "name": "stderr",
          "text": [
            "\n"
          ]
        },
        {
          "output_type": "stream",
          "name": "stdout",
          "text": [
            "\n",
            "      Epoch    GPU_mem   box_loss   cls_loss   dfl_loss  Instances       Size\n"
          ]
        },
        {
          "output_type": "stream",
          "name": "stderr",
          "text": [
            "     57/150      1.31G      1.015     0.7434      1.005          4        640: 100%|██████████| 22/22 [00:03<00:00,  7.05it/s]\n",
            "                 Class     Images  Instances      Box(P          R      mAP50  mAP50-95): 100%|██████████| 1/1 [00:00<00:00,  6.09it/s]"
          ]
        },
        {
          "output_type": "stream",
          "name": "stdout",
          "text": [
            "                   all         12         25      0.868      0.793      0.788       0.39\n"
          ]
        },
        {
          "output_type": "stream",
          "name": "stderr",
          "text": [
            "\n"
          ]
        },
        {
          "output_type": "stream",
          "name": "stdout",
          "text": [
            "\n",
            "      Epoch    GPU_mem   box_loss   cls_loss   dfl_loss  Instances       Size\n"
          ]
        },
        {
          "output_type": "stream",
          "name": "stderr",
          "text": [
            "     58/150       1.3G     0.9399     0.6882     0.9817          2        640: 100%|██████████| 22/22 [00:03<00:00,  6.87it/s]\n",
            "                 Class     Images  Instances      Box(P          R      mAP50  mAP50-95): 100%|██████████| 1/1 [00:00<00:00,  5.82it/s]\n"
          ]
        },
        {
          "output_type": "stream",
          "name": "stdout",
          "text": [
            "                   all         12         25       0.79      0.779      0.812      0.392\n",
            "\n",
            "      Epoch    GPU_mem   box_loss   cls_loss   dfl_loss  Instances       Size\n"
          ]
        },
        {
          "output_type": "stream",
          "name": "stderr",
          "text": [
            "     59/150      1.31G     0.9248     0.7115      0.977          1        640: 100%|██████████| 22/22 [00:04<00:00,  5.11it/s]\n",
            "                 Class     Images  Instances      Box(P          R      mAP50  mAP50-95): 100%|██████████| 1/1 [00:00<00:00,  5.41it/s]"
          ]
        },
        {
          "output_type": "stream",
          "name": "stdout",
          "text": [
            "                   all         12         25      0.845      0.779      0.823      0.415\n"
          ]
        },
        {
          "output_type": "stream",
          "name": "stderr",
          "text": [
            "\n"
          ]
        },
        {
          "output_type": "stream",
          "name": "stdout",
          "text": [
            "\n",
            "      Epoch    GPU_mem   box_loss   cls_loss   dfl_loss  Instances       Size\n"
          ]
        },
        {
          "output_type": "stream",
          "name": "stderr",
          "text": [
            "     60/150      1.31G     0.9735     0.7294     0.9801          1        640: 100%|██████████| 22/22 [00:04<00:00,  4.58it/s]\n",
            "                 Class     Images  Instances      Box(P          R      mAP50  mAP50-95): 100%|██████████| 1/1 [00:00<00:00,  6.33it/s]\n"
          ]
        },
        {
          "output_type": "stream",
          "name": "stdout",
          "text": [
            "                   all         12         25      0.835      0.845      0.862      0.399\n",
            "\n",
            "      Epoch    GPU_mem   box_loss   cls_loss   dfl_loss  Instances       Size\n"
          ]
        },
        {
          "output_type": "stream",
          "name": "stderr",
          "text": [
            "     61/150      1.31G     0.9701     0.7244     0.9852          3        640: 100%|██████████| 22/22 [00:03<00:00,  6.92it/s]\n",
            "                 Class     Images  Instances      Box(P          R      mAP50  mAP50-95): 100%|██████████| 1/1 [00:00<00:00,  6.14it/s]"
          ]
        },
        {
          "output_type": "stream",
          "name": "stdout",
          "text": [
            "                   all         12         25      0.852      0.746      0.832      0.347\n"
          ]
        },
        {
          "output_type": "stream",
          "name": "stderr",
          "text": [
            "\n"
          ]
        },
        {
          "output_type": "stream",
          "name": "stdout",
          "text": [
            "\n",
            "      Epoch    GPU_mem   box_loss   cls_loss   dfl_loss  Instances       Size\n"
          ]
        },
        {
          "output_type": "stream",
          "name": "stderr",
          "text": [
            "     62/150       1.3G     0.9325     0.6957     0.9712          1        640: 100%|██████████| 22/22 [00:03<00:00,  6.94it/s]\n",
            "                 Class     Images  Instances      Box(P          R      mAP50  mAP50-95): 100%|██████████| 1/1 [00:00<00:00, 10.55it/s]"
          ]
        },
        {
          "output_type": "stream",
          "name": "stdout",
          "text": [
            "                   all         12         25      0.829      0.791      0.816      0.405\n"
          ]
        },
        {
          "output_type": "stream",
          "name": "stderr",
          "text": [
            "\n"
          ]
        },
        {
          "output_type": "stream",
          "name": "stdout",
          "text": [
            "\n",
            "      Epoch    GPU_mem   box_loss   cls_loss   dfl_loss  Instances       Size\n"
          ]
        },
        {
          "output_type": "stream",
          "name": "stderr",
          "text": [
            "     63/150      1.31G     0.9337     0.6771     0.9719          5        640: 100%|██████████| 22/22 [00:05<00:00,  4.25it/s]\n",
            "                 Class     Images  Instances      Box(P          R      mAP50  mAP50-95): 100%|██████████| 1/1 [00:00<00:00,  3.98it/s]"
          ]
        },
        {
          "output_type": "stream",
          "name": "stdout",
          "text": [
            "                   all         12         25      0.899      0.729      0.805      0.427\n"
          ]
        },
        {
          "output_type": "stream",
          "name": "stderr",
          "text": [
            "\n"
          ]
        },
        {
          "output_type": "stream",
          "name": "stdout",
          "text": [
            "\n",
            "      Epoch    GPU_mem   box_loss   cls_loss   dfl_loss  Instances       Size\n"
          ]
        },
        {
          "output_type": "stream",
          "name": "stderr",
          "text": [
            "     64/150      1.31G     0.9327     0.6943     0.9699          3        640: 100%|██████████| 22/22 [00:04<00:00,  5.44it/s]\n",
            "                 Class     Images  Instances      Box(P          R      mAP50  mAP50-95): 100%|██████████| 1/1 [00:00<00:00,  9.98it/s]"
          ]
        },
        {
          "output_type": "stream",
          "name": "stdout",
          "text": [
            "                   all         12         25      0.937      0.737      0.793       0.39\n"
          ]
        },
        {
          "output_type": "stream",
          "name": "stderr",
          "text": [
            "\n"
          ]
        },
        {
          "output_type": "stream",
          "name": "stdout",
          "text": [
            "\n",
            "      Epoch    GPU_mem   box_loss   cls_loss   dfl_loss  Instances       Size\n"
          ]
        },
        {
          "output_type": "stream",
          "name": "stderr",
          "text": [
            "     65/150      1.31G     0.9349      0.653      0.972          1        640: 100%|██████████| 22/22 [00:03<00:00,  6.86it/s]\n",
            "                 Class     Images  Instances      Box(P          R      mAP50  mAP50-95): 100%|██████████| 1/1 [00:00<00:00,  6.57it/s]"
          ]
        },
        {
          "output_type": "stream",
          "name": "stdout",
          "text": [
            "                   all         12         25      0.899       0.69      0.777      0.445\n"
          ]
        },
        {
          "output_type": "stream",
          "name": "stderr",
          "text": [
            "\n"
          ]
        },
        {
          "output_type": "stream",
          "name": "stdout",
          "text": [
            "\n",
            "      Epoch    GPU_mem   box_loss   cls_loss   dfl_loss  Instances       Size\n"
          ]
        },
        {
          "output_type": "stream",
          "name": "stderr",
          "text": [
            "     66/150       1.3G     0.9517      0.684      0.975          5        640: 100%|██████████| 22/22 [00:03<00:00,  6.29it/s]\n",
            "                 Class     Images  Instances      Box(P          R      mAP50  mAP50-95): 100%|██████████| 1/1 [00:00<00:00,  4.46it/s]"
          ]
        },
        {
          "output_type": "stream",
          "name": "stdout",
          "text": [
            "                   all         12         25      0.883      0.729      0.784      0.415\n"
          ]
        },
        {
          "output_type": "stream",
          "name": "stderr",
          "text": [
            "\n"
          ]
        },
        {
          "output_type": "stream",
          "name": "stdout",
          "text": [
            "\n",
            "      Epoch    GPU_mem   box_loss   cls_loss   dfl_loss  Instances       Size\n"
          ]
        },
        {
          "output_type": "stream",
          "name": "stderr",
          "text": [
            "     67/150      1.31G      0.944     0.6785     0.9845          5        640: 100%|██████████| 22/22 [00:05<00:00,  3.89it/s]\n",
            "                 Class     Images  Instances      Box(P          R      mAP50  mAP50-95): 100%|██████████| 1/1 [00:00<00:00,  3.39it/s]"
          ]
        },
        {
          "output_type": "stream",
          "name": "stdout",
          "text": [
            "                   all         12         25      0.824      0.801      0.797      0.379\n"
          ]
        },
        {
          "output_type": "stream",
          "name": "stderr",
          "text": [
            "\n"
          ]
        },
        {
          "output_type": "stream",
          "name": "stdout",
          "text": [
            "\n",
            "      Epoch    GPU_mem   box_loss   cls_loss   dfl_loss  Instances       Size\n"
          ]
        },
        {
          "output_type": "stream",
          "name": "stderr",
          "text": [
            "     68/150      1.31G     0.9306     0.6569     0.9936          7        640: 100%|██████████| 22/22 [00:03<00:00,  6.74it/s]\n",
            "                 Class     Images  Instances      Box(P          R      mAP50  mAP50-95): 100%|██████████| 1/1 [00:00<00:00,  9.07it/s]"
          ]
        },
        {
          "output_type": "stream",
          "name": "stdout",
          "text": [
            "                   all         12         25      0.901      0.696      0.805      0.408\n"
          ]
        },
        {
          "output_type": "stream",
          "name": "stderr",
          "text": [
            "\n"
          ]
        },
        {
          "output_type": "stream",
          "name": "stdout",
          "text": [
            "\n",
            "      Epoch    GPU_mem   box_loss   cls_loss   dfl_loss  Instances       Size\n"
          ]
        },
        {
          "output_type": "stream",
          "name": "stderr",
          "text": [
            "     69/150      1.31G     0.9592     0.6859     0.9646          4        640: 100%|██████████| 22/22 [00:03<00:00,  6.74it/s]\n",
            "                 Class     Images  Instances      Box(P          R      mAP50  mAP50-95): 100%|██████████| 1/1 [00:00<00:00,  9.16it/s]"
          ]
        },
        {
          "output_type": "stream",
          "name": "stdout",
          "text": [
            "                   all         12         25      0.786      0.747      0.817      0.413\n"
          ]
        },
        {
          "output_type": "stream",
          "name": "stderr",
          "text": [
            "\n"
          ]
        },
        {
          "output_type": "stream",
          "name": "stdout",
          "text": [
            "\n",
            "      Epoch    GPU_mem   box_loss   cls_loss   dfl_loss  Instances       Size\n"
          ]
        },
        {
          "output_type": "stream",
          "name": "stderr",
          "text": [
            "     70/150       1.3G     0.9521      0.687     0.9899          3        640: 100%|██████████| 22/22 [00:04<00:00,  5.37it/s]\n",
            "                 Class     Images  Instances      Box(P          R      mAP50  mAP50-95): 100%|██████████| 1/1 [00:00<00:00,  5.36it/s]\n"
          ]
        },
        {
          "output_type": "stream",
          "name": "stdout",
          "text": [
            "                   all         12         25      0.914      0.731      0.807      0.425\n",
            "\n",
            "      Epoch    GPU_mem   box_loss   cls_loss   dfl_loss  Instances       Size\n"
          ]
        },
        {
          "output_type": "stream",
          "name": "stderr",
          "text": [
            "     71/150      1.31G     0.9093      0.638     0.9365          2        640: 100%|██████████| 22/22 [00:04<00:00,  4.90it/s]\n",
            "                 Class     Images  Instances      Box(P          R      mAP50  mAP50-95): 100%|██████████| 1/1 [00:00<00:00,  8.04it/s]"
          ]
        },
        {
          "output_type": "stream",
          "name": "stdout",
          "text": [
            "                   all         12         25      0.836      0.779      0.783      0.424\n"
          ]
        },
        {
          "output_type": "stream",
          "name": "stderr",
          "text": [
            "\n"
          ]
        },
        {
          "output_type": "stream",
          "name": "stdout",
          "text": [
            "\n",
            "      Epoch    GPU_mem   box_loss   cls_loss   dfl_loss  Instances       Size\n"
          ]
        },
        {
          "output_type": "stream",
          "name": "stderr",
          "text": [
            "     72/150      1.31G     0.8985      0.655     0.9784          6        640: 100%|██████████| 22/22 [00:03<00:00,  6.76it/s]\n",
            "                 Class     Images  Instances      Box(P          R      mAP50  mAP50-95): 100%|██████████| 1/1 [00:00<00:00, 11.21it/s]"
          ]
        },
        {
          "output_type": "stream",
          "name": "stdout",
          "text": [
            "                   all         12         25      0.866      0.779      0.802      0.433\n"
          ]
        },
        {
          "output_type": "stream",
          "name": "stderr",
          "text": [
            "\n"
          ]
        },
        {
          "output_type": "stream",
          "name": "stdout",
          "text": [
            "\n",
            "      Epoch    GPU_mem   box_loss   cls_loss   dfl_loss  Instances       Size\n"
          ]
        },
        {
          "output_type": "stream",
          "name": "stderr",
          "text": [
            "     73/150      1.31G     0.8509      0.616     0.9458         15        640: 100%|██████████| 22/22 [00:03<00:00,  6.91it/s]\n",
            "                 Class     Images  Instances      Box(P          R      mAP50  mAP50-95): 100%|██████████| 1/1 [00:00<00:00,  6.96it/s]"
          ]
        },
        {
          "output_type": "stream",
          "name": "stdout",
          "text": [
            "                   all         12         25      0.764      0.768      0.768      0.397\n"
          ]
        },
        {
          "output_type": "stream",
          "name": "stderr",
          "text": [
            "\n"
          ]
        },
        {
          "output_type": "stream",
          "name": "stdout",
          "text": [
            "\n",
            "      Epoch    GPU_mem   box_loss   cls_loss   dfl_loss  Instances       Size\n"
          ]
        },
        {
          "output_type": "stream",
          "name": "stderr",
          "text": [
            "     74/150       1.3G     0.9166     0.6401     0.9676          1        640: 100%|██████████| 22/22 [00:05<00:00,  3.97it/s]\n",
            "                 Class     Images  Instances      Box(P          R      mAP50  mAP50-95): 100%|██████████| 1/1 [00:00<00:00,  3.55it/s]"
          ]
        },
        {
          "output_type": "stream",
          "name": "stdout",
          "text": [
            "                   all         12         25      0.864      0.763      0.798      0.391\n"
          ]
        },
        {
          "output_type": "stream",
          "name": "stderr",
          "text": [
            "\n"
          ]
        },
        {
          "output_type": "stream",
          "name": "stdout",
          "text": [
            "\n",
            "      Epoch    GPU_mem   box_loss   cls_loss   dfl_loss  Instances       Size\n"
          ]
        },
        {
          "output_type": "stream",
          "name": "stderr",
          "text": [
            "     75/150      1.31G     0.8641     0.6193     0.9538          1        640: 100%|██████████| 22/22 [00:03<00:00,  5.64it/s]\n",
            "                 Class     Images  Instances      Box(P          R      mAP50  mAP50-95): 100%|██████████| 1/1 [00:00<00:00,  8.15it/s]"
          ]
        },
        {
          "output_type": "stream",
          "name": "stdout",
          "text": [
            "                   all         12         25      0.874      0.755      0.795      0.444\n"
          ]
        },
        {
          "output_type": "stream",
          "name": "stderr",
          "text": [
            "\n"
          ]
        },
        {
          "output_type": "stream",
          "name": "stdout",
          "text": [
            "\n",
            "      Epoch    GPU_mem   box_loss   cls_loss   dfl_loss  Instances       Size\n"
          ]
        },
        {
          "output_type": "stream",
          "name": "stderr",
          "text": [
            "     76/150      1.31G     0.8765     0.6173     0.9348          2        640: 100%|██████████| 22/22 [00:03<00:00,  6.72it/s]\n",
            "                 Class     Images  Instances      Box(P          R      mAP50  mAP50-95): 100%|██████████| 1/1 [00:00<00:00,  7.88it/s]"
          ]
        },
        {
          "output_type": "stream",
          "name": "stdout",
          "text": [
            "                   all         12         25      0.906      0.756      0.791      0.454\n"
          ]
        },
        {
          "output_type": "stream",
          "name": "stderr",
          "text": [
            "\n"
          ]
        },
        {
          "output_type": "stream",
          "name": "stdout",
          "text": [
            "\n",
            "      Epoch    GPU_mem   box_loss   cls_loss   dfl_loss  Instances       Size\n"
          ]
        },
        {
          "output_type": "stream",
          "name": "stderr",
          "text": [
            "     77/150      1.31G     0.9057     0.6444     0.9435          5        640: 100%|██████████| 22/22 [00:03<00:00,  6.42it/s]\n",
            "                 Class     Images  Instances      Box(P          R      mAP50  mAP50-95): 100%|██████████| 1/1 [00:00<00:00,  6.14it/s]\n"
          ]
        },
        {
          "output_type": "stream",
          "name": "stdout",
          "text": [
            "                   all         12         25      0.911      0.734      0.784      0.459\n",
            "\n",
            "      Epoch    GPU_mem   box_loss   cls_loss   dfl_loss  Instances       Size\n"
          ]
        },
        {
          "output_type": "stream",
          "name": "stderr",
          "text": [
            "     78/150       1.3G     0.8446     0.6144      0.921          2        640: 100%|██████████| 22/22 [00:05<00:00,  4.01it/s]\n",
            "                 Class     Images  Instances      Box(P          R      mAP50  mAP50-95): 100%|██████████| 1/1 [00:00<00:00,  6.11it/s]"
          ]
        },
        {
          "output_type": "stream",
          "name": "stdout",
          "text": [
            "                   all         12         25      0.897      0.737      0.781      0.438\n"
          ]
        },
        {
          "output_type": "stream",
          "name": "stderr",
          "text": [
            "\n"
          ]
        },
        {
          "output_type": "stream",
          "name": "stdout",
          "text": [
            "\n",
            "      Epoch    GPU_mem   box_loss   cls_loss   dfl_loss  Instances       Size\n"
          ]
        },
        {
          "output_type": "stream",
          "name": "stderr",
          "text": [
            "     79/150      1.31G      0.916     0.6223     0.9448          4        640: 100%|██████████| 22/22 [00:03<00:00,  6.91it/s]\n",
            "                 Class     Images  Instances      Box(P          R      mAP50  mAP50-95): 100%|██████████| 1/1 [00:00<00:00,  9.32it/s]"
          ]
        },
        {
          "output_type": "stream",
          "name": "stdout",
          "text": [
            "                   all         12         25      0.901      0.737      0.783      0.415\n"
          ]
        },
        {
          "output_type": "stream",
          "name": "stderr",
          "text": [
            "\n"
          ]
        },
        {
          "output_type": "stream",
          "name": "stdout",
          "text": [
            "\n",
            "      Epoch    GPU_mem   box_loss   cls_loss   dfl_loss  Instances       Size\n"
          ]
        },
        {
          "output_type": "stream",
          "name": "stderr",
          "text": [
            "     80/150      1.31G     0.8243     0.6706     0.8827          0        640: 100%|██████████| 22/22 [00:03<00:00,  6.78it/s]\n",
            "                 Class     Images  Instances      Box(P          R      mAP50  mAP50-95): 100%|██████████| 1/1 [00:00<00:00,  8.11it/s]"
          ]
        },
        {
          "output_type": "stream",
          "name": "stdout",
          "text": [
            "                   all         12         25      0.789      0.779      0.781      0.414\n"
          ]
        },
        {
          "output_type": "stream",
          "name": "stderr",
          "text": [
            "\n"
          ]
        },
        {
          "output_type": "stream",
          "name": "stdout",
          "text": [
            "\n",
            "      Epoch    GPU_mem   box_loss   cls_loss   dfl_loss  Instances       Size\n"
          ]
        },
        {
          "output_type": "stream",
          "name": "stderr",
          "text": [
            "     81/150      1.33G     0.8781     0.5921     0.9534          1        640: 100%|██████████| 22/22 [00:03<00:00,  5.57it/s]\n",
            "                 Class     Images  Instances      Box(P          R      mAP50  mAP50-95): 100%|██████████| 1/1 [00:00<00:00,  4.53it/s]"
          ]
        },
        {
          "output_type": "stream",
          "name": "stdout",
          "text": [
            "                   all         12         25      0.864      0.804      0.797      0.463\n"
          ]
        },
        {
          "output_type": "stream",
          "name": "stderr",
          "text": [
            "\n"
          ]
        },
        {
          "output_type": "stream",
          "name": "stdout",
          "text": [
            "\n",
            "      Epoch    GPU_mem   box_loss   cls_loss   dfl_loss  Instances       Size\n"
          ]
        },
        {
          "output_type": "stream",
          "name": "stderr",
          "text": [
            "     82/150       1.3G     0.8928       0.61     0.9502          3        640: 100%|██████████| 22/22 [00:05<00:00,  4.31it/s]\n",
            "                 Class     Images  Instances      Box(P          R      mAP50  mAP50-95): 100%|██████████| 1/1 [00:00<00:00, 10.32it/s]"
          ]
        },
        {
          "output_type": "stream",
          "name": "stdout",
          "text": [
            "                   all         12         25      0.933      0.756      0.799      0.475\n"
          ]
        },
        {
          "output_type": "stream",
          "name": "stderr",
          "text": [
            "\n"
          ]
        },
        {
          "output_type": "stream",
          "name": "stdout",
          "text": [
            "\n",
            "      Epoch    GPU_mem   box_loss   cls_loss   dfl_loss  Instances       Size\n"
          ]
        },
        {
          "output_type": "stream",
          "name": "stderr",
          "text": [
            "     83/150      1.33G     0.8529      0.612     0.9519          1        640: 100%|██████████| 22/22 [00:03<00:00,  6.82it/s]\n",
            "                 Class     Images  Instances      Box(P          R      mAP50  mAP50-95): 100%|██████████| 1/1 [00:00<00:00,  7.96it/s]"
          ]
        },
        {
          "output_type": "stream",
          "name": "stdout",
          "text": [
            "                   all         12         25       0.94      0.779      0.807      0.481\n"
          ]
        },
        {
          "output_type": "stream",
          "name": "stderr",
          "text": [
            "\n"
          ]
        },
        {
          "output_type": "stream",
          "name": "stdout",
          "text": [
            "\n",
            "      Epoch    GPU_mem   box_loss   cls_loss   dfl_loss  Instances       Size\n"
          ]
        },
        {
          "output_type": "stream",
          "name": "stderr",
          "text": [
            "     84/150      1.31G     0.8551     0.5959      0.928          3        640: 100%|██████████| 22/22 [00:03<00:00,  6.85it/s]\n",
            "                 Class     Images  Instances      Box(P          R      mAP50  mAP50-95): 100%|██████████| 1/1 [00:00<00:00,  8.88it/s]"
          ]
        },
        {
          "output_type": "stream",
          "name": "stdout",
          "text": [
            "                   all         12         25       0.89      0.798      0.792      0.444\n"
          ]
        },
        {
          "output_type": "stream",
          "name": "stderr",
          "text": [
            "\n"
          ]
        },
        {
          "output_type": "stream",
          "name": "stdout",
          "text": [
            "\n",
            "      Epoch    GPU_mem   box_loss   cls_loss   dfl_loss  Instances       Size\n"
          ]
        },
        {
          "output_type": "stream",
          "name": "stderr",
          "text": [
            "     85/150      1.31G     0.8398     0.6396     0.9191          0        640: 100%|██████████| 22/22 [00:04<00:00,  4.44it/s]\n",
            "                 Class     Images  Instances      Box(P          R      mAP50  mAP50-95): 100%|██████████| 1/1 [00:00<00:00,  3.70it/s]"
          ]
        },
        {
          "output_type": "stream",
          "name": "stdout",
          "text": [
            "                   all         12         25      0.808      0.783      0.789      0.415\n"
          ]
        },
        {
          "output_type": "stream",
          "name": "stderr",
          "text": [
            "\n"
          ]
        },
        {
          "output_type": "stream",
          "name": "stdout",
          "text": [
            "\n",
            "      Epoch    GPU_mem   box_loss   cls_loss   dfl_loss  Instances       Size\n"
          ]
        },
        {
          "output_type": "stream",
          "name": "stderr",
          "text": [
            "     86/150       1.3G      0.924     0.6671     0.9673          1        640: 100%|██████████| 22/22 [00:03<00:00,  5.51it/s]\n",
            "                 Class     Images  Instances      Box(P          R      mAP50  mAP50-95): 100%|██████████| 1/1 [00:00<00:00, 10.89it/s]"
          ]
        },
        {
          "output_type": "stream",
          "name": "stdout",
          "text": [
            "                   all         12         25      0.941      0.659      0.788      0.419\n"
          ]
        },
        {
          "output_type": "stream",
          "name": "stderr",
          "text": [
            "\n"
          ]
        },
        {
          "output_type": "stream",
          "name": "stdout",
          "text": [
            "\n",
            "      Epoch    GPU_mem   box_loss   cls_loss   dfl_loss  Instances       Size\n"
          ]
        },
        {
          "output_type": "stream",
          "name": "stderr",
          "text": [
            "     87/150      1.31G     0.8678     0.6533     0.9458          3        640: 100%|██████████| 22/22 [00:03<00:00,  6.70it/s]\n",
            "                 Class     Images  Instances      Box(P          R      mAP50  mAP50-95): 100%|██████████| 1/1 [00:00<00:00,  8.77it/s]"
          ]
        },
        {
          "output_type": "stream",
          "name": "stdout",
          "text": [
            "                   all         12         25      0.932      0.667      0.789      0.435\n"
          ]
        },
        {
          "output_type": "stream",
          "name": "stderr",
          "text": [
            "\n"
          ]
        },
        {
          "output_type": "stream",
          "name": "stdout",
          "text": [
            "\n",
            "      Epoch    GPU_mem   box_loss   cls_loss   dfl_loss  Instances       Size\n"
          ]
        },
        {
          "output_type": "stream",
          "name": "stderr",
          "text": [
            "     88/150      1.31G     0.8092     0.5624     0.9199          3        640: 100%|██████████| 22/22 [00:03<00:00,  6.61it/s]\n",
            "                 Class     Images  Instances      Box(P          R      mAP50  mAP50-95): 100%|██████████| 1/1 [00:00<00:00,  3.71it/s]"
          ]
        },
        {
          "output_type": "stream",
          "name": "stdout",
          "text": [
            "                   all         12         25      0.852      0.726      0.782      0.465\n"
          ]
        },
        {
          "output_type": "stream",
          "name": "stderr",
          "text": [
            "\n"
          ]
        },
        {
          "output_type": "stream",
          "name": "stdout",
          "text": [
            "\n",
            "      Epoch    GPU_mem   box_loss   cls_loss   dfl_loss  Instances       Size\n"
          ]
        },
        {
          "output_type": "stream",
          "name": "stderr",
          "text": [
            "     89/150      1.31G     0.8586     0.6053     0.9392          1        640: 100%|██████████| 22/22 [00:05<00:00,  3.70it/s]\n",
            "                 Class     Images  Instances      Box(P          R      mAP50  mAP50-95): 100%|██████████| 1/1 [00:00<00:00,  5.96it/s]"
          ]
        },
        {
          "output_type": "stream",
          "name": "stdout",
          "text": [
            "                   all         12         25      0.909      0.654      0.774       0.46\n"
          ]
        },
        {
          "output_type": "stream",
          "name": "stderr",
          "text": [
            "\n"
          ]
        },
        {
          "output_type": "stream",
          "name": "stdout",
          "text": [
            "\n",
            "      Epoch    GPU_mem   box_loss   cls_loss   dfl_loss  Instances       Size\n"
          ]
        },
        {
          "output_type": "stream",
          "name": "stderr",
          "text": [
            "     90/150       1.3G     0.8429     0.5664     0.9341         17        640: 100%|██████████| 22/22 [00:03<00:00,  6.78it/s]\n",
            "                 Class     Images  Instances      Box(P          R      mAP50  mAP50-95): 100%|██████████| 1/1 [00:00<00:00,  8.23it/s]"
          ]
        },
        {
          "output_type": "stream",
          "name": "stdout",
          "text": [
            "                   all         12         25      0.799      0.725      0.797      0.476\n"
          ]
        },
        {
          "output_type": "stream",
          "name": "stderr",
          "text": [
            "\n"
          ]
        },
        {
          "output_type": "stream",
          "name": "stdout",
          "text": [
            "\n",
            "      Epoch    GPU_mem   box_loss   cls_loss   dfl_loss  Instances       Size\n"
          ]
        },
        {
          "output_type": "stream",
          "name": "stderr",
          "text": [
            "     91/150      1.31G      0.819     0.5838      0.945          2        640: 100%|██████████| 22/22 [00:03<00:00,  6.44it/s]\n",
            "                 Class     Images  Instances      Box(P          R      mAP50  mAP50-95): 100%|██████████| 1/1 [00:00<00:00,  6.97it/s]"
          ]
        },
        {
          "output_type": "stream",
          "name": "stdout",
          "text": [
            "                   all         12         25      0.805      0.779      0.799      0.492\n"
          ]
        },
        {
          "output_type": "stream",
          "name": "stderr",
          "text": [
            "\n"
          ]
        },
        {
          "output_type": "stream",
          "name": "stdout",
          "text": [
            "\n",
            "      Epoch    GPU_mem   box_loss   cls_loss   dfl_loss  Instances       Size\n"
          ]
        },
        {
          "output_type": "stream",
          "name": "stderr",
          "text": [
            "     92/150      1.31G     0.7999     0.5613     0.9149          1        640: 100%|██████████| 22/22 [00:04<00:00,  4.95it/s]\n",
            "                 Class     Images  Instances      Box(P          R      mAP50  mAP50-95): 100%|██████████| 1/1 [00:00<00:00,  3.77it/s]"
          ]
        },
        {
          "output_type": "stream",
          "name": "stdout",
          "text": [
            "                   all         12         25      0.934      0.764      0.796      0.453\n"
          ]
        },
        {
          "output_type": "stream",
          "name": "stderr",
          "text": [
            "\n"
          ]
        },
        {
          "output_type": "stream",
          "name": "stdout",
          "text": [
            "\n",
            "      Epoch    GPU_mem   box_loss   cls_loss   dfl_loss  Instances       Size\n"
          ]
        },
        {
          "output_type": "stream",
          "name": "stderr",
          "text": [
            "     93/150      1.31G     0.8104     0.5565      0.947          1        640: 100%|██████████| 22/22 [00:04<00:00,  4.62it/s]\n",
            "                 Class     Images  Instances      Box(P          R      mAP50  mAP50-95): 100%|██████████| 1/1 [00:00<00:00, 10.69it/s]"
          ]
        },
        {
          "output_type": "stream",
          "name": "stdout",
          "text": [
            "                   all         12         25      0.933      0.779      0.791      0.479\n"
          ]
        },
        {
          "output_type": "stream",
          "name": "stderr",
          "text": [
            "\n"
          ]
        },
        {
          "output_type": "stream",
          "name": "stdout",
          "text": [
            "\n",
            "      Epoch    GPU_mem   box_loss   cls_loss   dfl_loss  Instances       Size\n"
          ]
        },
        {
          "output_type": "stream",
          "name": "stderr",
          "text": [
            "     94/150       1.3G     0.8234     0.5768     0.9332          6        640: 100%|██████████| 22/22 [00:03<00:00,  6.66it/s]\n",
            "                 Class     Images  Instances      Box(P          R      mAP50  mAP50-95): 100%|██████████| 1/1 [00:00<00:00, 11.44it/s]"
          ]
        },
        {
          "output_type": "stream",
          "name": "stdout",
          "text": [
            "                   all         12         25      0.914        0.8       0.83       0.49\n"
          ]
        },
        {
          "output_type": "stream",
          "name": "stderr",
          "text": [
            "\n"
          ]
        },
        {
          "output_type": "stream",
          "name": "stdout",
          "text": [
            "\n",
            "      Epoch    GPU_mem   box_loss   cls_loss   dfl_loss  Instances       Size\n"
          ]
        },
        {
          "output_type": "stream",
          "name": "stderr",
          "text": [
            "     95/150      1.31G     0.8373     0.5764     0.9293          4        640: 100%|██████████| 22/22 [00:03<00:00,  6.87it/s]\n",
            "                 Class     Images  Instances      Box(P          R      mAP50  mAP50-95): 100%|██████████| 1/1 [00:00<00:00,  8.16it/s]"
          ]
        },
        {
          "output_type": "stream",
          "name": "stdout",
          "text": [
            "                   all         12         25      0.905      0.779      0.811        0.5\n"
          ]
        },
        {
          "output_type": "stream",
          "name": "stderr",
          "text": [
            "\n"
          ]
        },
        {
          "output_type": "stream",
          "name": "stdout",
          "text": [
            "\n",
            "      Epoch    GPU_mem   box_loss   cls_loss   dfl_loss  Instances       Size\n"
          ]
        },
        {
          "output_type": "stream",
          "name": "stderr",
          "text": [
            "     96/150      1.31G     0.8368     0.5656     0.9408          4        640: 100%|██████████| 22/22 [00:05<00:00,  3.98it/s]\n",
            "                 Class     Images  Instances      Box(P          R      mAP50  mAP50-95): 100%|██████████| 1/1 [00:00<00:00,  4.03it/s]"
          ]
        },
        {
          "output_type": "stream",
          "name": "stdout",
          "text": [
            "                   all         12         25      0.861      0.779      0.817      0.499\n"
          ]
        },
        {
          "output_type": "stream",
          "name": "stderr",
          "text": [
            "\n"
          ]
        },
        {
          "output_type": "stream",
          "name": "stdout",
          "text": [
            "\n",
            "      Epoch    GPU_mem   box_loss   cls_loss   dfl_loss  Instances       Size\n"
          ]
        },
        {
          "output_type": "stream",
          "name": "stderr",
          "text": [
            "     97/150      1.31G     0.8138     0.5495     0.9203          9        640: 100%|██████████| 22/22 [00:03<00:00,  6.16it/s]\n",
            "                 Class     Images  Instances      Box(P          R      mAP50  mAP50-95): 100%|██████████| 1/1 [00:00<00:00, 10.80it/s]"
          ]
        },
        {
          "output_type": "stream",
          "name": "stdout",
          "text": [
            "                   all         12         25      0.836      0.775      0.816      0.507\n"
          ]
        },
        {
          "output_type": "stream",
          "name": "stderr",
          "text": [
            "\n"
          ]
        },
        {
          "output_type": "stream",
          "name": "stdout",
          "text": [
            "\n",
            "      Epoch    GPU_mem   box_loss   cls_loss   dfl_loss  Instances       Size\n"
          ]
        },
        {
          "output_type": "stream",
          "name": "stderr",
          "text": [
            "     98/150       1.3G     0.7872     0.5548     0.9244          1        640: 100%|██████████| 22/22 [00:03<00:00,  6.94it/s]\n",
            "                 Class     Images  Instances      Box(P          R      mAP50  mAP50-95): 100%|██████████| 1/1 [00:00<00:00,  9.32it/s]"
          ]
        },
        {
          "output_type": "stream",
          "name": "stdout",
          "text": [
            "                   all         12         25      0.899      0.737      0.815      0.503\n"
          ]
        },
        {
          "output_type": "stream",
          "name": "stderr",
          "text": [
            "\n"
          ]
        },
        {
          "output_type": "stream",
          "name": "stdout",
          "text": [
            "\n",
            "      Epoch    GPU_mem   box_loss   cls_loss   dfl_loss  Instances       Size\n"
          ]
        },
        {
          "output_type": "stream",
          "name": "stderr",
          "text": [
            "     99/150      1.33G     0.8958      0.574     0.9364          3        640: 100%|██████████| 22/22 [00:03<00:00,  5.98it/s]\n",
            "                 Class     Images  Instances      Box(P          R      mAP50  mAP50-95): 100%|██████████| 1/1 [00:00<00:00,  4.64it/s]"
          ]
        },
        {
          "output_type": "stream",
          "name": "stdout",
          "text": [
            "                   all         12         25       0.92      0.688      0.815      0.455\n"
          ]
        },
        {
          "output_type": "stream",
          "name": "stderr",
          "text": [
            "\n"
          ]
        },
        {
          "output_type": "stream",
          "name": "stdout",
          "text": [
            "\n",
            "      Epoch    GPU_mem   box_loss   cls_loss   dfl_loss  Instances       Size\n"
          ]
        },
        {
          "output_type": "stream",
          "name": "stderr",
          "text": [
            "    100/150      1.31G     0.8304     0.5628     0.9374          1        640: 100%|██████████| 22/22 [00:05<00:00,  3.86it/s]\n",
            "                 Class     Images  Instances      Box(P          R      mAP50  mAP50-95): 100%|██████████| 1/1 [00:00<00:00,  7.26it/s]"
          ]
        },
        {
          "output_type": "stream",
          "name": "stdout",
          "text": [
            "                   all         12         25      0.799      0.756      0.798       0.45\n"
          ]
        },
        {
          "output_type": "stream",
          "name": "stderr",
          "text": [
            "\n"
          ]
        },
        {
          "output_type": "stream",
          "name": "stdout",
          "text": [
            "\n",
            "      Epoch    GPU_mem   box_loss   cls_loss   dfl_loss  Instances       Size\n"
          ]
        },
        {
          "output_type": "stream",
          "name": "stderr",
          "text": [
            "    101/150      1.31G     0.8406     0.5734      0.959          3        640: 100%|██████████| 22/22 [00:03<00:00,  6.92it/s]\n",
            "                 Class     Images  Instances      Box(P          R      mAP50  mAP50-95): 100%|██████████| 1/1 [00:00<00:00,  8.26it/s]"
          ]
        },
        {
          "output_type": "stream",
          "name": "stdout",
          "text": [
            "                   all         12         25      0.799      0.756      0.799      0.478\n"
          ]
        },
        {
          "output_type": "stream",
          "name": "stderr",
          "text": [
            "\n"
          ]
        },
        {
          "output_type": "stream",
          "name": "stdout",
          "text": [
            "\n",
            "      Epoch    GPU_mem   box_loss   cls_loss   dfl_loss  Instances       Size\n"
          ]
        },
        {
          "output_type": "stream",
          "name": "stderr",
          "text": [
            "    102/150       1.3G      0.751     0.5285     0.9128          2        640: 100%|██████████| 22/22 [00:03<00:00,  6.71it/s]\n",
            "                 Class     Images  Instances      Box(P          R      mAP50  mAP50-95): 100%|██████████| 1/1 [00:00<00:00,  7.78it/s]"
          ]
        },
        {
          "output_type": "stream",
          "name": "stdout",
          "text": [
            "                   all         12         25      0.857      0.744      0.834      0.479\n"
          ]
        },
        {
          "output_type": "stream",
          "name": "stderr",
          "text": [
            "\n"
          ]
        },
        {
          "output_type": "stream",
          "name": "stdout",
          "text": [
            "\n",
            "      Epoch    GPU_mem   box_loss   cls_loss   dfl_loss  Instances       Size\n"
          ]
        },
        {
          "output_type": "stream",
          "name": "stderr",
          "text": [
            "    103/150      1.31G     0.7553     0.5058     0.9159          3        640: 100%|██████████| 22/22 [00:04<00:00,  4.69it/s]\n",
            "                 Class     Images  Instances      Box(P          R      mAP50  mAP50-95): 100%|██████████| 1/1 [00:00<00:00,  4.55it/s]"
          ]
        },
        {
          "output_type": "stream",
          "name": "stdout",
          "text": [
            "                   all         12         25      0.935      0.716      0.827      0.483\n"
          ]
        },
        {
          "output_type": "stream",
          "name": "stderr",
          "text": [
            "\n"
          ]
        },
        {
          "output_type": "stream",
          "name": "stdout",
          "text": [
            "\n",
            "      Epoch    GPU_mem   box_loss   cls_loss   dfl_loss  Instances       Size\n"
          ]
        },
        {
          "output_type": "stream",
          "name": "stderr",
          "text": [
            "    104/150      1.31G     0.8138     0.5568     0.9408          1        640: 100%|██████████| 22/22 [00:04<00:00,  5.19it/s]\n",
            "                 Class     Images  Instances      Box(P          R      mAP50  mAP50-95): 100%|██████████| 1/1 [00:00<00:00,  8.22it/s]"
          ]
        },
        {
          "output_type": "stream",
          "name": "stdout",
          "text": [
            "                   all         12         25      0.889      0.712      0.823      0.488\n"
          ]
        },
        {
          "output_type": "stream",
          "name": "stderr",
          "text": [
            "\n"
          ]
        },
        {
          "output_type": "stream",
          "name": "stdout",
          "text": [
            "\n",
            "      Epoch    GPU_mem   box_loss   cls_loss   dfl_loss  Instances       Size\n"
          ]
        },
        {
          "output_type": "stream",
          "name": "stderr",
          "text": [
            "    105/150      1.31G     0.7733     0.5168     0.8949          1        640: 100%|██████████| 22/22 [00:03<00:00,  6.95it/s]\n",
            "                 Class     Images  Instances      Box(P          R      mAP50  mAP50-95): 100%|██████████| 1/1 [00:00<00:00,  6.65it/s]"
          ]
        },
        {
          "output_type": "stream",
          "name": "stdout",
          "text": [
            "                   all         12         25      0.811      0.791      0.823      0.496\n"
          ]
        },
        {
          "output_type": "stream",
          "name": "stderr",
          "text": [
            "\n"
          ]
        },
        {
          "output_type": "stream",
          "name": "stdout",
          "text": [
            "\n",
            "      Epoch    GPU_mem   box_loss   cls_loss   dfl_loss  Instances       Size\n"
          ]
        },
        {
          "output_type": "stream",
          "name": "stderr",
          "text": [
            "    106/150       1.3G     0.7547     0.5293     0.9046          7        640: 100%|██████████| 22/22 [00:03<00:00,  6.79it/s]\n",
            "                 Class     Images  Instances      Box(P          R      mAP50  mAP50-95): 100%|██████████| 1/1 [00:00<00:00,  8.00it/s]"
          ]
        },
        {
          "output_type": "stream",
          "name": "stdout",
          "text": [
            "                   all         12         25      0.885      0.819      0.832      0.488\n"
          ]
        },
        {
          "output_type": "stream",
          "name": "stderr",
          "text": [
            "\n"
          ]
        },
        {
          "output_type": "stream",
          "name": "stdout",
          "text": [
            "\n",
            "      Epoch    GPU_mem   box_loss   cls_loss   dfl_loss  Instances       Size\n"
          ]
        },
        {
          "output_type": "stream",
          "name": "stderr",
          "text": [
            "    107/150      1.31G     0.7487     0.5226     0.9058          8        640: 100%|██████████| 22/22 [00:05<00:00,  4.05it/s]\n",
            "                 Class     Images  Instances      Box(P          R      mAP50  mAP50-95): 100%|██████████| 1/1 [00:00<00:00,  4.76it/s]"
          ]
        },
        {
          "output_type": "stream",
          "name": "stdout",
          "text": [
            "                   all         12         25      0.855      0.779      0.803      0.483\n"
          ]
        },
        {
          "output_type": "stream",
          "name": "stderr",
          "text": [
            "\n"
          ]
        },
        {
          "output_type": "stream",
          "name": "stdout",
          "text": [
            "\n",
            "      Epoch    GPU_mem   box_loss   cls_loss   dfl_loss  Instances       Size\n"
          ]
        },
        {
          "output_type": "stream",
          "name": "stderr",
          "text": [
            "    108/150      1.31G     0.7863     0.5469     0.9055          2        640: 100%|██████████| 22/22 [00:03<00:00,  6.47it/s]\n",
            "                 Class     Images  Instances      Box(P          R      mAP50  mAP50-95): 100%|██████████| 1/1 [00:00<00:00,  8.17it/s]"
          ]
        },
        {
          "output_type": "stream",
          "name": "stdout",
          "text": [
            "                   all         12         25      0.868      0.776      0.831      0.491\n"
          ]
        },
        {
          "output_type": "stream",
          "name": "stderr",
          "text": [
            "\n"
          ]
        },
        {
          "output_type": "stream",
          "name": "stdout",
          "text": [
            "\n",
            "      Epoch    GPU_mem   box_loss   cls_loss   dfl_loss  Instances       Size\n"
          ]
        },
        {
          "output_type": "stream",
          "name": "stderr",
          "text": [
            "    109/150      1.31G     0.7619     0.5604     0.9179          1        640: 100%|██████████| 22/22 [00:03<00:00,  6.53it/s]\n",
            "                 Class     Images  Instances      Box(P          R      mAP50  mAP50-95): 100%|██████████| 1/1 [00:00<00:00,  8.77it/s]"
          ]
        },
        {
          "output_type": "stream",
          "name": "stdout",
          "text": [
            "                   all         12         25      0.793      0.822      0.818       0.47\n"
          ]
        },
        {
          "output_type": "stream",
          "name": "stderr",
          "text": [
            "\n"
          ]
        },
        {
          "output_type": "stream",
          "name": "stdout",
          "text": [
            "\n",
            "      Epoch    GPU_mem   box_loss   cls_loss   dfl_loss  Instances       Size\n"
          ]
        },
        {
          "output_type": "stream",
          "name": "stderr",
          "text": [
            "    110/150      1.32G     0.7339     0.5074     0.9072          7        640: 100%|██████████| 22/22 [00:03<00:00,  5.63it/s]\n",
            "                 Class     Images  Instances      Box(P          R      mAP50  mAP50-95): 100%|██████████| 1/1 [00:00<00:00,  5.26it/s]\n"
          ]
        },
        {
          "output_type": "stream",
          "name": "stdout",
          "text": [
            "                   all         12         25      0.931      0.756       0.84      0.472\n",
            "\n",
            "      Epoch    GPU_mem   box_loss   cls_loss   dfl_loss  Instances       Size\n"
          ]
        },
        {
          "output_type": "stream",
          "name": "stderr",
          "text": [
            "    111/150      1.31G     0.7972     0.5433     0.9171          3        640: 100%|██████████| 22/22 [00:05<00:00,  4.40it/s]\n",
            "                 Class     Images  Instances      Box(P          R      mAP50  mAP50-95): 100%|██████████| 1/1 [00:00<00:00,  8.86it/s]"
          ]
        },
        {
          "output_type": "stream",
          "name": "stdout",
          "text": [
            "                   all         12         25      0.943      0.728      0.808       0.52\n"
          ]
        },
        {
          "output_type": "stream",
          "name": "stderr",
          "text": [
            "\n"
          ]
        },
        {
          "output_type": "stream",
          "name": "stdout",
          "text": [
            "\n",
            "      Epoch    GPU_mem   box_loss   cls_loss   dfl_loss  Instances       Size\n"
          ]
        },
        {
          "output_type": "stream",
          "name": "stderr",
          "text": [
            "    112/150      1.31G     0.7486     0.5262     0.9084          4        640: 100%|██████████| 22/22 [00:03<00:00,  6.74it/s]\n",
            "                 Class     Images  Instances      Box(P          R      mAP50  mAP50-95): 100%|██████████| 1/1 [00:00<00:00,  6.51it/s]"
          ]
        },
        {
          "output_type": "stream",
          "name": "stdout",
          "text": [
            "                   all         12         25      0.875      0.737      0.799      0.508\n"
          ]
        },
        {
          "output_type": "stream",
          "name": "stderr",
          "text": [
            "\n"
          ]
        },
        {
          "output_type": "stream",
          "name": "stdout",
          "text": [
            "\n",
            "      Epoch    GPU_mem   box_loss   cls_loss   dfl_loss  Instances       Size\n"
          ]
        },
        {
          "output_type": "stream",
          "name": "stderr",
          "text": [
            "    113/150      1.31G     0.7277     0.5066     0.9003          1        640: 100%|██████████| 22/22 [00:03<00:00,  6.79it/s]\n",
            "                 Class     Images  Instances      Box(P          R      mAP50  mAP50-95): 100%|██████████| 1/1 [00:00<00:00,  8.25it/s]"
          ]
        },
        {
          "output_type": "stream",
          "name": "stdout",
          "text": [
            "                   all         12         25      0.813      0.737      0.779      0.494\n"
          ]
        },
        {
          "output_type": "stream",
          "name": "stderr",
          "text": [
            "\n"
          ]
        },
        {
          "output_type": "stream",
          "name": "stdout",
          "text": [
            "\n",
            "      Epoch    GPU_mem   box_loss   cls_loss   dfl_loss  Instances       Size\n"
          ]
        },
        {
          "output_type": "stream",
          "name": "stderr",
          "text": [
            "    114/150       1.3G     0.7938     0.5374     0.9197          3        640: 100%|██████████| 22/22 [00:04<00:00,  4.48it/s]\n",
            "                 Class     Images  Instances      Box(P          R      mAP50  mAP50-95): 100%|██████████| 1/1 [00:00<00:00,  4.40it/s]"
          ]
        },
        {
          "output_type": "stream",
          "name": "stdout",
          "text": [
            "                   all         12         25      0.835      0.735      0.796      0.498\n"
          ]
        },
        {
          "output_type": "stream",
          "name": "stderr",
          "text": [
            "\n"
          ]
        },
        {
          "output_type": "stream",
          "name": "stdout",
          "text": [
            "\n",
            "      Epoch    GPU_mem   box_loss   cls_loss   dfl_loss  Instances       Size\n"
          ]
        },
        {
          "output_type": "stream",
          "name": "stderr",
          "text": [
            "    115/150      1.31G     0.8046     0.5636     0.9141          3        640: 100%|██████████| 22/22 [00:03<00:00,  6.17it/s]\n",
            "                 Class     Images  Instances      Box(P          R      mAP50  mAP50-95): 100%|██████████| 1/1 [00:00<00:00,  7.66it/s]\n"
          ]
        },
        {
          "output_type": "stream",
          "name": "stdout",
          "text": [
            "                   all         12         25      0.796      0.749      0.802      0.512\n",
            "\n",
            "      Epoch    GPU_mem   box_loss   cls_loss   dfl_loss  Instances       Size\n"
          ]
        },
        {
          "output_type": "stream",
          "name": "stderr",
          "text": [
            "    116/150      1.31G     0.7285      0.529     0.9195          8        640: 100%|██████████| 22/22 [00:03<00:00,  6.34it/s]\n",
            "                 Class     Images  Instances      Box(P          R      mAP50  mAP50-95): 100%|██████████| 1/1 [00:00<00:00, 10.01it/s]"
          ]
        },
        {
          "output_type": "stream",
          "name": "stdout",
          "text": [
            "                   all         12         25      0.778      0.789      0.793      0.511\n"
          ]
        },
        {
          "output_type": "stream",
          "name": "stderr",
          "text": [
            "\n"
          ]
        },
        {
          "output_type": "stream",
          "name": "stdout",
          "text": [
            "\n",
            "      Epoch    GPU_mem   box_loss   cls_loss   dfl_loss  Instances       Size\n"
          ]
        },
        {
          "output_type": "stream",
          "name": "stderr",
          "text": [
            "    117/150      1.31G      0.773     0.5335     0.9155          7        640: 100%|██████████| 22/22 [00:03<00:00,  5.58it/s]\n",
            "                 Class     Images  Instances      Box(P          R      mAP50  mAP50-95): 100%|██████████| 1/1 [00:00<00:00,  5.63it/s]"
          ]
        },
        {
          "output_type": "stream",
          "name": "stdout",
          "text": [
            "                   all         12         25      0.855      0.731      0.794      0.505\n"
          ]
        },
        {
          "output_type": "stream",
          "name": "stderr",
          "text": [
            "\n"
          ]
        },
        {
          "output_type": "stream",
          "name": "stdout",
          "text": [
            "\n",
            "      Epoch    GPU_mem   box_loss   cls_loss   dfl_loss  Instances       Size\n"
          ]
        },
        {
          "output_type": "stream",
          "name": "stderr",
          "text": [
            "    118/150       1.3G     0.7613     0.5304     0.9072          3        640: 100%|██████████| 22/22 [00:04<00:00,  4.60it/s]\n",
            "                 Class     Images  Instances      Box(P          R      mAP50  mAP50-95): 100%|██████████| 1/1 [00:00<00:00,  8.54it/s]"
          ]
        },
        {
          "output_type": "stream",
          "name": "stdout",
          "text": [
            "                   all         12         25      0.746      0.786      0.794      0.497\n"
          ]
        },
        {
          "output_type": "stream",
          "name": "stderr",
          "text": [
            "\n"
          ]
        },
        {
          "output_type": "stream",
          "name": "stdout",
          "text": [
            "\n",
            "      Epoch    GPU_mem   box_loss   cls_loss   dfl_loss  Instances       Size\n"
          ]
        },
        {
          "output_type": "stream",
          "name": "stderr",
          "text": [
            "    119/150      1.31G     0.7907     0.5194      0.889          7        640: 100%|██████████| 22/22 [00:03<00:00,  6.79it/s]\n",
            "                 Class     Images  Instances      Box(P          R      mAP50  mAP50-95): 100%|██████████| 1/1 [00:00<00:00,  7.90it/s]"
          ]
        },
        {
          "output_type": "stream",
          "name": "stdout",
          "text": [
            "                   all         12         25      0.745      0.797      0.793      0.531\n"
          ]
        },
        {
          "output_type": "stream",
          "name": "stderr",
          "text": [
            "\n"
          ]
        },
        {
          "output_type": "stream",
          "name": "stdout",
          "text": [
            "\n",
            "      Epoch    GPU_mem   box_loss   cls_loss   dfl_loss  Instances       Size\n"
          ]
        },
        {
          "output_type": "stream",
          "name": "stderr",
          "text": [
            "    120/150      1.33G     0.7295      0.518     0.9018          2        640: 100%|██████████| 22/22 [00:03<00:00,  6.83it/s]\n",
            "                 Class     Images  Instances      Box(P          R      mAP50  mAP50-95): 100%|██████████| 1/1 [00:00<00:00, 11.63it/s]"
          ]
        },
        {
          "output_type": "stream",
          "name": "stdout",
          "text": [
            "                   all         12         25      0.719      0.781      0.809       0.54\n"
          ]
        },
        {
          "output_type": "stream",
          "name": "stderr",
          "text": [
            "\n"
          ]
        },
        {
          "output_type": "stream",
          "name": "stdout",
          "text": [
            "\n",
            "      Epoch    GPU_mem   box_loss   cls_loss   dfl_loss  Instances       Size\n"
          ]
        },
        {
          "output_type": "stream",
          "name": "stderr",
          "text": [
            "    121/150      1.31G     0.7263      0.502     0.8863          9        640: 100%|██████████| 22/22 [00:05<00:00,  4.02it/s]\n",
            "                 Class     Images  Instances      Box(P          R      mAP50  mAP50-95): 100%|██████████| 1/1 [00:00<00:00,  5.48it/s]"
          ]
        },
        {
          "output_type": "stream",
          "name": "stdout",
          "text": [
            "                   all         12         25      0.816      0.733      0.809      0.516\n"
          ]
        },
        {
          "output_type": "stream",
          "name": "stderr",
          "text": [
            "\n"
          ]
        },
        {
          "output_type": "stream",
          "name": "stdout",
          "text": [
            "\n",
            "      Epoch    GPU_mem   box_loss   cls_loss   dfl_loss  Instances       Size\n"
          ]
        },
        {
          "output_type": "stream",
          "name": "stderr",
          "text": [
            "    122/150       1.3G     0.7062     0.4932     0.8907          7        640: 100%|██████████| 22/22 [00:03<00:00,  5.99it/s]\n",
            "                 Class     Images  Instances      Box(P          R      mAP50  mAP50-95): 100%|██████████| 1/1 [00:00<00:00,  8.82it/s]"
          ]
        },
        {
          "output_type": "stream",
          "name": "stdout",
          "text": [
            "                   all         12         25       0.83      0.737      0.812      0.535\n"
          ]
        },
        {
          "output_type": "stream",
          "name": "stderr",
          "text": [
            "\n"
          ]
        },
        {
          "output_type": "stream",
          "name": "stdout",
          "text": [
            "\n",
            "      Epoch    GPU_mem   box_loss   cls_loss   dfl_loss  Instances       Size\n"
          ]
        },
        {
          "output_type": "stream",
          "name": "stderr",
          "text": [
            "    123/150      1.31G     0.7084        0.5     0.8911          2        640: 100%|██████████| 22/22 [00:03<00:00,  6.69it/s]\n",
            "                 Class     Images  Instances      Box(P          R      mAP50  mAP50-95): 100%|██████████| 1/1 [00:00<00:00,  8.95it/s]"
          ]
        },
        {
          "output_type": "stream",
          "name": "stdout",
          "text": [
            "                   all         12         25      0.839      0.728       0.81      0.531\n"
          ]
        },
        {
          "output_type": "stream",
          "name": "stderr",
          "text": [
            "\n"
          ]
        },
        {
          "output_type": "stream",
          "name": "stdout",
          "text": [
            "\n",
            "      Epoch    GPU_mem   box_loss   cls_loss   dfl_loss  Instances       Size\n"
          ]
        },
        {
          "output_type": "stream",
          "name": "stderr",
          "text": [
            "    124/150      1.31G     0.7222     0.4975     0.8856          1        640: 100%|██████████| 22/22 [00:03<00:00,  5.91it/s]\n",
            "                 Class     Images  Instances      Box(P          R      mAP50  mAP50-95): 100%|██████████| 1/1 [00:00<00:00,  3.43it/s]"
          ]
        },
        {
          "output_type": "stream",
          "name": "stdout",
          "text": [
            "                   all         12         25      0.873      0.737      0.786       0.51\n"
          ]
        },
        {
          "output_type": "stream",
          "name": "stderr",
          "text": [
            "\n"
          ]
        },
        {
          "output_type": "stream",
          "name": "stdout",
          "text": [
            "\n",
            "      Epoch    GPU_mem   box_loss   cls_loss   dfl_loss  Instances       Size\n"
          ]
        },
        {
          "output_type": "stream",
          "name": "stderr",
          "text": [
            "    125/150      1.31G     0.7354     0.5025     0.9055         12        640: 100%|██████████| 22/22 [00:05<00:00,  4.37it/s]\n",
            "                 Class     Images  Instances      Box(P          R      mAP50  mAP50-95): 100%|██████████| 1/1 [00:00<00:00,  6.51it/s]\n"
          ]
        },
        {
          "output_type": "stream",
          "name": "stdout",
          "text": [
            "                   all         12         25      0.866      0.696      0.773      0.489\n",
            "\n",
            "      Epoch    GPU_mem   box_loss   cls_loss   dfl_loss  Instances       Size\n"
          ]
        },
        {
          "output_type": "stream",
          "name": "stderr",
          "text": [
            "    126/150       1.3G     0.7038      0.486     0.8948          5        640: 100%|██████████| 22/22 [00:03<00:00,  6.60it/s]\n",
            "                 Class     Images  Instances      Box(P          R      mAP50  mAP50-95): 100%|██████████| 1/1 [00:00<00:00, 10.79it/s]"
          ]
        },
        {
          "output_type": "stream",
          "name": "stdout",
          "text": [
            "                   all         12         25      0.846      0.728      0.788      0.489\n"
          ]
        },
        {
          "output_type": "stream",
          "name": "stderr",
          "text": [
            "\n"
          ]
        },
        {
          "output_type": "stream",
          "name": "stdout",
          "text": [
            "\n",
            "      Epoch    GPU_mem   box_loss   cls_loss   dfl_loss  Instances       Size\n"
          ]
        },
        {
          "output_type": "stream",
          "name": "stderr",
          "text": [
            "    127/150      1.31G     0.7347     0.5002     0.9242          4        640: 100%|██████████| 22/22 [00:03<00:00,  6.64it/s]\n",
            "                 Class     Images  Instances      Box(P          R      mAP50  mAP50-95): 100%|██████████| 1/1 [00:00<00:00,  8.04it/s]"
          ]
        },
        {
          "output_type": "stream",
          "name": "stdout",
          "text": [
            "                   all         12         25      0.854      0.733      0.788       0.49\n"
          ]
        },
        {
          "output_type": "stream",
          "name": "stderr",
          "text": [
            "\n"
          ]
        },
        {
          "output_type": "stream",
          "name": "stdout",
          "text": [
            "\n",
            "      Epoch    GPU_mem   box_loss   cls_loss   dfl_loss  Instances       Size\n"
          ]
        },
        {
          "output_type": "stream",
          "name": "stderr",
          "text": [
            "    128/150      1.31G     0.6578     0.4591     0.8767          4        640: 100%|██████████| 22/22 [00:04<00:00,  4.44it/s]\n",
            "                 Class     Images  Instances      Box(P          R      mAP50  mAP50-95): 100%|██████████| 1/1 [00:00<00:00,  4.09it/s]"
          ]
        },
        {
          "output_type": "stream",
          "name": "stdout",
          "text": [
            "                   all         12         25      0.861      0.737      0.802      0.494\n"
          ]
        },
        {
          "output_type": "stream",
          "name": "stderr",
          "text": [
            "\n"
          ]
        },
        {
          "output_type": "stream",
          "name": "stdout",
          "text": [
            "\n",
            "      Epoch    GPU_mem   box_loss   cls_loss   dfl_loss  Instances       Size\n"
          ]
        },
        {
          "output_type": "stream",
          "name": "stderr",
          "text": [
            "    129/150      1.31G     0.7078     0.4894     0.9112          2        640: 100%|██████████| 22/22 [00:03<00:00,  6.28it/s]\n",
            "                 Class     Images  Instances      Box(P          R      mAP50  mAP50-95): 100%|██████████| 1/1 [00:00<00:00,  8.19it/s]"
          ]
        },
        {
          "output_type": "stream",
          "name": "stdout",
          "text": [
            "                   all         12         25      0.862      0.737      0.778      0.489\n"
          ]
        },
        {
          "output_type": "stream",
          "name": "stderr",
          "text": [
            "\n"
          ]
        },
        {
          "output_type": "stream",
          "name": "stdout",
          "text": [
            "\n",
            "      Epoch    GPU_mem   box_loss   cls_loss   dfl_loss  Instances       Size\n"
          ]
        },
        {
          "output_type": "stream",
          "name": "stderr",
          "text": [
            "    130/150       1.3G     0.7904     0.5326     0.9159          5        640: 100%|██████████| 22/22 [00:03<00:00,  6.86it/s]\n",
            "                 Class     Images  Instances      Box(P          R      mAP50  mAP50-95): 100%|██████████| 1/1 [00:00<00:00,  6.37it/s]"
          ]
        },
        {
          "output_type": "stream",
          "name": "stdout",
          "text": [
            "                   all         12         25      0.865      0.737      0.784      0.494\n"
          ]
        },
        {
          "output_type": "stream",
          "name": "stderr",
          "text": [
            "\n"
          ]
        },
        {
          "output_type": "stream",
          "name": "stdout",
          "text": [
            "\n",
            "      Epoch    GPU_mem   box_loss   cls_loss   dfl_loss  Instances       Size\n"
          ]
        },
        {
          "output_type": "stream",
          "name": "stderr",
          "text": [
            "    131/150      1.31G     0.7344     0.5075     0.9103          1        640: 100%|██████████| 22/22 [00:03<00:00,  5.94it/s]\n",
            "                 Class     Images  Instances      Box(P          R      mAP50  mAP50-95): 100%|██████████| 1/1 [00:00<00:00,  3.74it/s]"
          ]
        },
        {
          "output_type": "stream",
          "name": "stdout",
          "text": [
            "                   all         12         25      0.877      0.734      0.789      0.488\n"
          ]
        },
        {
          "output_type": "stream",
          "name": "stderr",
          "text": [
            "\n"
          ]
        },
        {
          "output_type": "stream",
          "name": "stdout",
          "text": [
            "\n",
            "      Epoch    GPU_mem   box_loss   cls_loss   dfl_loss  Instances       Size\n"
          ]
        },
        {
          "output_type": "stream",
          "name": "stderr",
          "text": [
            "    132/150      1.31G     0.7177     0.5106     0.9009         17        640: 100%|██████████| 22/22 [00:05<00:00,  3.81it/s]\n",
            "                 Class     Images  Instances      Box(P          R      mAP50  mAP50-95): 100%|██████████| 1/1 [00:00<00:00,  8.00it/s]"
          ]
        },
        {
          "output_type": "stream",
          "name": "stdout",
          "text": [
            "                   all         12         25      0.903       0.73      0.822      0.488\n"
          ]
        },
        {
          "output_type": "stream",
          "name": "stderr",
          "text": [
            "\n"
          ]
        },
        {
          "output_type": "stream",
          "name": "stdout",
          "text": [
            "\n",
            "      Epoch    GPU_mem   box_loss   cls_loss   dfl_loss  Instances       Size\n"
          ]
        },
        {
          "output_type": "stream",
          "name": "stderr",
          "text": [
            "    133/150      1.31G     0.7385     0.4981     0.8841          9        640: 100%|██████████| 22/22 [00:03<00:00,  7.03it/s]\n",
            "                 Class     Images  Instances      Box(P          R      mAP50  mAP50-95): 100%|██████████| 1/1 [00:00<00:00,  6.74it/s]\n"
          ]
        },
        {
          "output_type": "stream",
          "name": "stdout",
          "text": [
            "                   all         12         25      0.865      0.737      0.828      0.488\n",
            "\n",
            "      Epoch    GPU_mem   box_loss   cls_loss   dfl_loss  Instances       Size\n"
          ]
        },
        {
          "output_type": "stream",
          "name": "stderr",
          "text": [
            "    134/150       1.3G     0.7292     0.5362     0.8961          1        640: 100%|██████████| 22/22 [00:03<00:00,  6.75it/s]\n",
            "                 Class     Images  Instances      Box(P          R      mAP50  mAP50-95): 100%|██████████| 1/1 [00:00<00:00,  7.69it/s]"
          ]
        },
        {
          "output_type": "stream",
          "name": "stdout",
          "text": [
            "                   all         12         25      0.863      0.737      0.816      0.504\n"
          ]
        },
        {
          "output_type": "stream",
          "name": "stderr",
          "text": [
            "\n"
          ]
        },
        {
          "output_type": "stream",
          "name": "stdout",
          "text": [
            "\n",
            "      Epoch    GPU_mem   box_loss   cls_loss   dfl_loss  Instances       Size\n"
          ]
        },
        {
          "output_type": "stream",
          "name": "stderr",
          "text": [
            "    135/150      1.31G      0.676     0.5055     0.8614          0        640: 100%|██████████| 22/22 [00:04<00:00,  4.87it/s]\n",
            "                 Class     Images  Instances      Box(P          R      mAP50  mAP50-95): 100%|██████████| 1/1 [00:00<00:00,  8.55it/s]"
          ]
        },
        {
          "output_type": "stream",
          "name": "stdout",
          "text": [
            "                   all         12         25      0.866      0.737       0.79      0.498\n"
          ]
        },
        {
          "output_type": "stream",
          "name": "stderr",
          "text": [
            "\n"
          ]
        },
        {
          "output_type": "stream",
          "name": "stdout",
          "text": [
            "\n",
            "      Epoch    GPU_mem   box_loss   cls_loss   dfl_loss  Instances       Size\n"
          ]
        },
        {
          "output_type": "stream",
          "name": "stderr",
          "text": [
            "    136/150      1.31G     0.7261     0.4947     0.9383          1        640: 100%|██████████| 22/22 [00:04<00:00,  4.69it/s]\n",
            "                 Class     Images  Instances      Box(P          R      mAP50  mAP50-95): 100%|██████████| 1/1 [00:00<00:00,  6.39it/s]"
          ]
        },
        {
          "output_type": "stream",
          "name": "stdout",
          "text": [
            "                   all         12         25      0.874      0.737      0.794        0.5\n"
          ]
        },
        {
          "output_type": "stream",
          "name": "stderr",
          "text": [
            "\n"
          ]
        },
        {
          "output_type": "stream",
          "name": "stdout",
          "text": [
            "\n",
            "      Epoch    GPU_mem   box_loss   cls_loss   dfl_loss  Instances       Size\n"
          ]
        },
        {
          "output_type": "stream",
          "name": "stderr",
          "text": [
            "    137/150      1.31G     0.7893     0.5161     0.9189          2        640: 100%|██████████| 22/22 [00:03<00:00,  6.72it/s]\n",
            "                 Class     Images  Instances      Box(P          R      mAP50  mAP50-95): 100%|██████████| 1/1 [00:00<00:00,  8.55it/s]"
          ]
        },
        {
          "output_type": "stream",
          "name": "stdout",
          "text": [
            "                   all         12         25      0.823      0.763      0.808      0.491\n"
          ]
        },
        {
          "output_type": "stream",
          "name": "stderr",
          "text": [
            "\n"
          ]
        },
        {
          "output_type": "stream",
          "name": "stdout",
          "text": [
            "\n",
            "      Epoch    GPU_mem   box_loss   cls_loss   dfl_loss  Instances       Size\n"
          ]
        },
        {
          "output_type": "stream",
          "name": "stderr",
          "text": [
            "    138/150       1.3G     0.7049     0.4879     0.9037          3        640: 100%|██████████| 22/22 [00:03<00:00,  6.92it/s]\n",
            "                 Class     Images  Instances      Box(P          R      mAP50  mAP50-95): 100%|██████████| 1/1 [00:00<00:00,  6.02it/s]\n"
          ]
        },
        {
          "output_type": "stream",
          "name": "stdout",
          "text": [
            "                   all         12         25      0.823      0.763      0.809      0.476\n",
            "\n",
            "      Epoch    GPU_mem   box_loss   cls_loss   dfl_loss  Instances       Size\n"
          ]
        },
        {
          "output_type": "stream",
          "name": "stderr",
          "text": [
            "    139/150      1.31G     0.6728      0.468     0.8823          5        640: 100%|██████████| 22/22 [00:05<00:00,  4.09it/s]\n",
            "                 Class     Images  Instances      Box(P          R      mAP50  mAP50-95): 100%|██████████| 1/1 [00:00<00:00,  4.80it/s]"
          ]
        },
        {
          "output_type": "stream",
          "name": "stdout",
          "text": [
            "                   all         12         25      0.812      0.763      0.808      0.486\n"
          ]
        },
        {
          "output_type": "stream",
          "name": "stderr",
          "text": [
            "\n"
          ]
        },
        {
          "output_type": "stream",
          "name": "stdout",
          "text": [
            "\n",
            "      Epoch    GPU_mem   box_loss   cls_loss   dfl_loss  Instances       Size\n"
          ]
        },
        {
          "output_type": "stream",
          "name": "stderr",
          "text": [
            "    140/150      1.31G     0.7067     0.4783     0.8908          3        640: 100%|██████████| 22/22 [00:03<00:00,  6.65it/s]\n",
            "                 Class     Images  Instances      Box(P          R      mAP50  mAP50-95): 100%|██████████| 1/1 [00:00<00:00,  8.42it/s]"
          ]
        },
        {
          "output_type": "stream",
          "name": "stdout",
          "text": [
            "                   all         12         25      0.869      0.737      0.805      0.485\n"
          ]
        },
        {
          "output_type": "stream",
          "name": "stderr",
          "text": [
            "\n"
          ]
        },
        {
          "output_type": "stream",
          "name": "stdout",
          "text": [
            "Closing dataloader mosaic\n",
            "\u001b[34m\u001b[1malbumentations: \u001b[0mBlur(p=0.01, blur_limit=(3, 7)), MedianBlur(p=0.01, blur_limit=(3, 7)), ToGray(p=0.01, num_output_channels=3, method='weighted_average'), CLAHE(p=0.01, clip_limit=(1.0, 4.0), tile_grid_size=(8, 8))\n",
            "\n",
            "      Epoch    GPU_mem   box_loss   cls_loss   dfl_loss  Instances       Size\n"
          ]
        },
        {
          "output_type": "stream",
          "name": "stderr",
          "text": [
            "    141/150      1.31G     0.6073     0.4322     0.8509          1        640: 100%|██████████| 22/22 [00:04<00:00,  5.30it/s]\n",
            "                 Class     Images  Instances      Box(P          R      mAP50  mAP50-95): 100%|██████████| 1/1 [00:00<00:00,  7.69it/s]"
          ]
        },
        {
          "output_type": "stream",
          "name": "stdout",
          "text": [
            "                   all         12         25       0.87      0.733      0.799      0.476\n"
          ]
        },
        {
          "output_type": "stream",
          "name": "stderr",
          "text": [
            "\n"
          ]
        },
        {
          "output_type": "stream",
          "name": "stdout",
          "text": [
            "\n",
            "      Epoch    GPU_mem   box_loss   cls_loss   dfl_loss  Instances       Size\n"
          ]
        },
        {
          "output_type": "stream",
          "name": "stderr",
          "text": [
            "    142/150       1.3G     0.6484     0.4186     0.8417          1        640: 100%|██████████| 22/22 [00:05<00:00,  4.38it/s]\n",
            "                 Class     Images  Instances      Box(P          R      mAP50  mAP50-95): 100%|██████████| 1/1 [00:00<00:00,  3.38it/s]"
          ]
        },
        {
          "output_type": "stream",
          "name": "stdout",
          "text": [
            "                   all         12         25      0.869      0.732      0.799      0.458\n"
          ]
        },
        {
          "output_type": "stream",
          "name": "stderr",
          "text": [
            "\n"
          ]
        },
        {
          "output_type": "stream",
          "name": "stdout",
          "text": [
            "\n",
            "      Epoch    GPU_mem   box_loss   cls_loss   dfl_loss  Instances       Size\n"
          ]
        },
        {
          "output_type": "stream",
          "name": "stderr",
          "text": [
            "    143/150      1.31G     0.6442     0.4687      0.888          1        640: 100%|██████████| 22/22 [00:04<00:00,  5.46it/s]\n",
            "                 Class     Images  Instances      Box(P          R      mAP50  mAP50-95): 100%|██████████| 1/1 [00:00<00:00, 11.55it/s]"
          ]
        },
        {
          "output_type": "stream",
          "name": "stdout",
          "text": [
            "                   all         12         25      0.863      0.737        0.8      0.454\n"
          ]
        },
        {
          "output_type": "stream",
          "name": "stderr",
          "text": [
            "\n"
          ]
        },
        {
          "output_type": "stream",
          "name": "stdout",
          "text": [
            "\n",
            "      Epoch    GPU_mem   box_loss   cls_loss   dfl_loss  Instances       Size\n"
          ]
        },
        {
          "output_type": "stream",
          "name": "stderr",
          "text": [
            "    144/150      1.31G     0.6193     0.4272     0.8459          1        640: 100%|██████████| 22/22 [00:03<00:00,  7.00it/s]\n",
            "                 Class     Images  Instances      Box(P          R      mAP50  mAP50-95): 100%|██████████| 1/1 [00:00<00:00,  8.90it/s]"
          ]
        },
        {
          "output_type": "stream",
          "name": "stdout",
          "text": [
            "                   all         12         25      0.857      0.735      0.801       0.46\n"
          ]
        },
        {
          "output_type": "stream",
          "name": "stderr",
          "text": [
            "\n"
          ]
        },
        {
          "output_type": "stream",
          "name": "stdout",
          "text": [
            "\n",
            "      Epoch    GPU_mem   box_loss   cls_loss   dfl_loss  Instances       Size\n"
          ]
        },
        {
          "output_type": "stream",
          "name": "stderr",
          "text": [
            "    145/150      1.31G     0.6481     0.4374     0.8679          1        640: 100%|██████████| 22/22 [00:03<00:00,  6.97it/s]\n",
            "                 Class     Images  Instances      Box(P          R      mAP50  mAP50-95): 100%|██████████| 1/1 [00:00<00:00, 10.42it/s]"
          ]
        },
        {
          "output_type": "stream",
          "name": "stdout",
          "text": [
            "                   all         12         25      0.867      0.733      0.806      0.466\n"
          ]
        },
        {
          "output_type": "stream",
          "name": "stderr",
          "text": [
            "\n"
          ]
        },
        {
          "output_type": "stream",
          "name": "stdout",
          "text": [
            "\n",
            "      Epoch    GPU_mem   box_loss   cls_loss   dfl_loss  Instances       Size\n"
          ]
        },
        {
          "output_type": "stream",
          "name": "stderr",
          "text": [
            "    146/150       1.3G     0.6664     0.5628     0.8544          1        640: 100%|██████████| 22/22 [00:05<00:00,  4.21it/s]\n",
            "                 Class     Images  Instances      Box(P          R      mAP50  mAP50-95): 100%|██████████| 1/1 [00:00<00:00,  4.12it/s]"
          ]
        },
        {
          "output_type": "stream",
          "name": "stdout",
          "text": [
            "                   all         12         25       0.91      0.732      0.809      0.482\n"
          ]
        },
        {
          "output_type": "stream",
          "name": "stderr",
          "text": [
            "\n"
          ]
        },
        {
          "output_type": "stream",
          "name": "stdout",
          "text": [
            "\n",
            "      Epoch    GPU_mem   box_loss   cls_loss   dfl_loss  Instances       Size\n"
          ]
        },
        {
          "output_type": "stream",
          "name": "stderr",
          "text": [
            "    147/150      1.31G     0.6444      0.447     0.8528          3        640: 100%|██████████| 22/22 [00:03<00:00,  7.05it/s]\n",
            "                 Class     Images  Instances      Box(P          R      mAP50  mAP50-95): 100%|██████████| 1/1 [00:00<00:00,  7.26it/s]"
          ]
        },
        {
          "output_type": "stream",
          "name": "stdout",
          "text": [
            "                   all         12         25       0.91      0.732      0.818      0.491\n"
          ]
        },
        {
          "output_type": "stream",
          "name": "stderr",
          "text": [
            "\n"
          ]
        },
        {
          "output_type": "stream",
          "name": "stdout",
          "text": [
            "\n",
            "      Epoch    GPU_mem   box_loss   cls_loss   dfl_loss  Instances       Size\n"
          ]
        },
        {
          "output_type": "stream",
          "name": "stderr",
          "text": [
            "    148/150      1.31G     0.6159     0.4243     0.8543          4        640: 100%|██████████| 22/22 [00:03<00:00,  7.03it/s]\n",
            "                 Class     Images  Instances      Box(P          R      mAP50  mAP50-95): 100%|██████████| 1/1 [00:00<00:00,  8.53it/s]"
          ]
        },
        {
          "output_type": "stream",
          "name": "stdout",
          "text": [
            "                   all         12         25      0.906       0.73      0.817      0.489\n"
          ]
        },
        {
          "output_type": "stream",
          "name": "stderr",
          "text": [
            "\n"
          ]
        },
        {
          "output_type": "stream",
          "name": "stdout",
          "text": [
            "\n",
            "      Epoch    GPU_mem   box_loss   cls_loss   dfl_loss  Instances       Size\n"
          ]
        },
        {
          "output_type": "stream",
          "name": "stderr",
          "text": [
            "    149/150      1.31G     0.6345     0.4405     0.8671          1        640: 100%|██████████| 22/22 [00:03<00:00,  6.29it/s]\n",
            "                 Class     Images  Instances      Box(P          R      mAP50  mAP50-95): 100%|██████████| 1/1 [00:00<00:00,  4.17it/s]"
          ]
        },
        {
          "output_type": "stream",
          "name": "stdout",
          "text": [
            "                   all         12         25      0.907      0.727      0.807      0.481\n"
          ]
        },
        {
          "output_type": "stream",
          "name": "stderr",
          "text": [
            "\n"
          ]
        },
        {
          "output_type": "stream",
          "name": "stdout",
          "text": [
            "\n",
            "      Epoch    GPU_mem   box_loss   cls_loss   dfl_loss  Instances       Size\n"
          ]
        },
        {
          "output_type": "stream",
          "name": "stderr",
          "text": [
            "    150/150       1.3G     0.6192     0.4111     0.8449          1        640: 100%|██████████| 22/22 [00:04<00:00,  4.48it/s]\n",
            "                 Class     Images  Instances      Box(P          R      mAP50  mAP50-95): 100%|██████████| 1/1 [00:00<00:00,  7.12it/s]"
          ]
        },
        {
          "output_type": "stream",
          "name": "stdout",
          "text": [
            "                   all         12         25      0.907      0.728       0.81      0.476\n"
          ]
        },
        {
          "output_type": "stream",
          "name": "stderr",
          "text": [
            "\n"
          ]
        },
        {
          "output_type": "stream",
          "name": "stdout",
          "text": [
            "\n",
            "150 epochs completed in 0.202 hours.\n",
            "Optimizer stripped from runs/detect/train3/weights/last.pt, 6.3MB\n",
            "Optimizer stripped from runs/detect/train3/weights/best.pt, 6.3MB\n",
            "\n",
            "Validating runs/detect/train3/weights/best.pt...\n",
            "Ultralytics 8.3.28 🚀 Python-3.10.12 torch-2.5.0+cu121 CUDA:0 (Tesla T4, 15102MiB)\n",
            "Model summary (fused): 168 layers, 3,006,233 parameters, 0 gradients, 8.1 GFLOPs\n"
          ]
        },
        {
          "output_type": "stream",
          "name": "stderr",
          "text": [
            "                 Class     Images  Instances      Box(P          R      mAP50  mAP50-95): 100%|██████████| 1/1 [00:00<00:00,  7.69it/s]\n"
          ]
        },
        {
          "output_type": "stream",
          "name": "stdout",
          "text": [
            "                   all         12         25      0.719      0.781      0.806      0.538\n",
            "                   eye          7         13      0.885      0.594      0.664      0.252\n",
            "            rubikscube          4          4      0.584          1      0.945      0.792\n",
            "            wristwatch          8          8      0.689       0.75       0.81      0.569\n",
            "Speed: 0.2ms preprocess, 2.0ms inference, 0.0ms loss, 1.0ms postprocess per image\n",
            "Results saved to \u001b[1mruns/detect/train3\u001b[0m\n"
          ]
        },
        {
          "output_type": "execute_result",
          "data": {
            "text/plain": [
              "ultralytics.utils.metrics.DetMetrics object with attributes:\n",
              "\n",
              "ap_class_index: array([0, 1, 2])\n",
              "box: ultralytics.utils.metrics.Metric object\n",
              "confusion_matrix: <ultralytics.utils.metrics.ConfusionMatrix object at 0x79b40f4f29e0>\n",
              "curves: ['Precision-Recall(B)', 'F1-Confidence(B)', 'Precision-Confidence(B)', 'Recall-Confidence(B)']\n",
              "curves_results: [[array([          0,    0.001001,    0.002002,    0.003003,    0.004004,    0.005005,    0.006006,    0.007007,    0.008008,    0.009009,     0.01001,    0.011011,    0.012012,    0.013013,    0.014014,    0.015015,    0.016016,    0.017017,    0.018018,    0.019019,     0.02002,    0.021021,    0.022022,    0.023023,\n",
              "          0.024024,    0.025025,    0.026026,    0.027027,    0.028028,    0.029029,     0.03003,    0.031031,    0.032032,    0.033033,    0.034034,    0.035035,    0.036036,    0.037037,    0.038038,    0.039039,     0.04004,    0.041041,    0.042042,    0.043043,    0.044044,    0.045045,    0.046046,    0.047047,\n",
              "          0.048048,    0.049049,     0.05005,    0.051051,    0.052052,    0.053053,    0.054054,    0.055055,    0.056056,    0.057057,    0.058058,    0.059059,     0.06006,    0.061061,    0.062062,    0.063063,    0.064064,    0.065065,    0.066066,    0.067067,    0.068068,    0.069069,     0.07007,    0.071071,\n",
              "          0.072072,    0.073073,    0.074074,    0.075075,    0.076076,    0.077077,    0.078078,    0.079079,     0.08008,    0.081081,    0.082082,    0.083083,    0.084084,    0.085085,    0.086086,    0.087087,    0.088088,    0.089089,     0.09009,    0.091091,    0.092092,    0.093093,    0.094094,    0.095095,\n",
              "          0.096096,    0.097097,    0.098098,    0.099099,      0.1001,      0.1011,      0.1021,      0.1031,      0.1041,     0.10511,     0.10611,     0.10711,     0.10811,     0.10911,     0.11011,     0.11111,     0.11211,     0.11311,     0.11411,     0.11512,     0.11612,     0.11712,     0.11812,     0.11912,\n",
              "           0.12012,     0.12112,     0.12212,     0.12312,     0.12412,     0.12513,     0.12613,     0.12713,     0.12813,     0.12913,     0.13013,     0.13113,     0.13213,     0.13313,     0.13413,     0.13514,     0.13614,     0.13714,     0.13814,     0.13914,     0.14014,     0.14114,     0.14214,     0.14314,\n",
              "           0.14414,     0.14515,     0.14615,     0.14715,     0.14815,     0.14915,     0.15015,     0.15115,     0.15215,     0.15315,     0.15415,     0.15516,     0.15616,     0.15716,     0.15816,     0.15916,     0.16016,     0.16116,     0.16216,     0.16316,     0.16416,     0.16517,     0.16617,     0.16717,\n",
              "           0.16817,     0.16917,     0.17017,     0.17117,     0.17217,     0.17317,     0.17417,     0.17518,     0.17618,     0.17718,     0.17818,     0.17918,     0.18018,     0.18118,     0.18218,     0.18318,     0.18418,     0.18519,     0.18619,     0.18719,     0.18819,     0.18919,     0.19019,     0.19119,\n",
              "           0.19219,     0.19319,     0.19419,      0.1952,      0.1962,      0.1972,      0.1982,      0.1992,      0.2002,      0.2012,      0.2022,      0.2032,      0.2042,     0.20521,     0.20621,     0.20721,     0.20821,     0.20921,     0.21021,     0.21121,     0.21221,     0.21321,     0.21421,     0.21522,\n",
              "           0.21622,     0.21722,     0.21822,     0.21922,     0.22022,     0.22122,     0.22222,     0.22322,     0.22422,     0.22523,     0.22623,     0.22723,     0.22823,     0.22923,     0.23023,     0.23123,     0.23223,     0.23323,     0.23423,     0.23524,     0.23624,     0.23724,     0.23824,     0.23924,\n",
              "           0.24024,     0.24124,     0.24224,     0.24324,     0.24424,     0.24525,     0.24625,     0.24725,     0.24825,     0.24925,     0.25025,     0.25125,     0.25225,     0.25325,     0.25425,     0.25526,     0.25626,     0.25726,     0.25826,     0.25926,     0.26026,     0.26126,     0.26226,     0.26326,\n",
              "           0.26426,     0.26527,     0.26627,     0.26727,     0.26827,     0.26927,     0.27027,     0.27127,     0.27227,     0.27327,     0.27427,     0.27528,     0.27628,     0.27728,     0.27828,     0.27928,     0.28028,     0.28128,     0.28228,     0.28328,     0.28428,     0.28529,     0.28629,     0.28729,\n",
              "           0.28829,     0.28929,     0.29029,     0.29129,     0.29229,     0.29329,     0.29429,      0.2953,      0.2963,      0.2973,      0.2983,      0.2993,      0.3003,      0.3013,      0.3023,      0.3033,      0.3043,     0.30531,     0.30631,     0.30731,     0.30831,     0.30931,     0.31031,     0.31131,\n",
              "           0.31231,     0.31331,     0.31431,     0.31532,     0.31632,     0.31732,     0.31832,     0.31932,     0.32032,     0.32132,     0.32232,     0.32332,     0.32432,     0.32533,     0.32633,     0.32733,     0.32833,     0.32933,     0.33033,     0.33133,     0.33233,     0.33333,     0.33433,     0.33534,\n",
              "           0.33634,     0.33734,     0.33834,     0.33934,     0.34034,     0.34134,     0.34234,     0.34334,     0.34434,     0.34535,     0.34635,     0.34735,     0.34835,     0.34935,     0.35035,     0.35135,     0.35235,     0.35335,     0.35435,     0.35536,     0.35636,     0.35736,     0.35836,     0.35936,\n",
              "           0.36036,     0.36136,     0.36236,     0.36336,     0.36436,     0.36537,     0.36637,     0.36737,     0.36837,     0.36937,     0.37037,     0.37137,     0.37237,     0.37337,     0.37437,     0.37538,     0.37638,     0.37738,     0.37838,     0.37938,     0.38038,     0.38138,     0.38238,     0.38338,\n",
              "           0.38438,     0.38539,     0.38639,     0.38739,     0.38839,     0.38939,     0.39039,     0.39139,     0.39239,     0.39339,     0.39439,      0.3954,      0.3964,      0.3974,      0.3984,      0.3994,      0.4004,      0.4014,      0.4024,      0.4034,      0.4044,     0.40541,     0.40641,     0.40741,\n",
              "           0.40841,     0.40941,     0.41041,     0.41141,     0.41241,     0.41341,     0.41441,     0.41542,     0.41642,     0.41742,     0.41842,     0.41942,     0.42042,     0.42142,     0.42242,     0.42342,     0.42442,     0.42543,     0.42643,     0.42743,     0.42843,     0.42943,     0.43043,     0.43143,\n",
              "           0.43243,     0.43343,     0.43443,     0.43544,     0.43644,     0.43744,     0.43844,     0.43944,     0.44044,     0.44144,     0.44244,     0.44344,     0.44444,     0.44545,     0.44645,     0.44745,     0.44845,     0.44945,     0.45045,     0.45145,     0.45245,     0.45345,     0.45445,     0.45546,\n",
              "           0.45646,     0.45746,     0.45846,     0.45946,     0.46046,     0.46146,     0.46246,     0.46346,     0.46446,     0.46547,     0.46647,     0.46747,     0.46847,     0.46947,     0.47047,     0.47147,     0.47247,     0.47347,     0.47447,     0.47548,     0.47648,     0.47748,     0.47848,     0.47948,\n",
              "           0.48048,     0.48148,     0.48248,     0.48348,     0.48448,     0.48549,     0.48649,     0.48749,     0.48849,     0.48949,     0.49049,     0.49149,     0.49249,     0.49349,     0.49449,      0.4955,      0.4965,      0.4975,      0.4985,      0.4995,      0.5005,      0.5015,      0.5025,      0.5035,\n",
              "            0.5045,     0.50551,     0.50651,     0.50751,     0.50851,     0.50951,     0.51051,     0.51151,     0.51251,     0.51351,     0.51451,     0.51552,     0.51652,     0.51752,     0.51852,     0.51952,     0.52052,     0.52152,     0.52252,     0.52352,     0.52452,     0.52553,     0.52653,     0.52753,\n",
              "           0.52853,     0.52953,     0.53053,     0.53153,     0.53253,     0.53353,     0.53453,     0.53554,     0.53654,     0.53754,     0.53854,     0.53954,     0.54054,     0.54154,     0.54254,     0.54354,     0.54454,     0.54555,     0.54655,     0.54755,     0.54855,     0.54955,     0.55055,     0.55155,\n",
              "           0.55255,     0.55355,     0.55455,     0.55556,     0.55656,     0.55756,     0.55856,     0.55956,     0.56056,     0.56156,     0.56256,     0.56356,     0.56456,     0.56557,     0.56657,     0.56757,     0.56857,     0.56957,     0.57057,     0.57157,     0.57257,     0.57357,     0.57457,     0.57558,\n",
              "           0.57658,     0.57758,     0.57858,     0.57958,     0.58058,     0.58158,     0.58258,     0.58358,     0.58458,     0.58559,     0.58659,     0.58759,     0.58859,     0.58959,     0.59059,     0.59159,     0.59259,     0.59359,     0.59459,      0.5956,      0.5966,      0.5976,      0.5986,      0.5996,\n",
              "            0.6006,      0.6016,      0.6026,      0.6036,      0.6046,     0.60561,     0.60661,     0.60761,     0.60861,     0.60961,     0.61061,     0.61161,     0.61261,     0.61361,     0.61461,     0.61562,     0.61662,     0.61762,     0.61862,     0.61962,     0.62062,     0.62162,     0.62262,     0.62362,\n",
              "           0.62462,     0.62563,     0.62663,     0.62763,     0.62863,     0.62963,     0.63063,     0.63163,     0.63263,     0.63363,     0.63463,     0.63564,     0.63664,     0.63764,     0.63864,     0.63964,     0.64064,     0.64164,     0.64264,     0.64364,     0.64464,     0.64565,     0.64665,     0.64765,\n",
              "           0.64865,     0.64965,     0.65065,     0.65165,     0.65265,     0.65365,     0.65465,     0.65566,     0.65666,     0.65766,     0.65866,     0.65966,     0.66066,     0.66166,     0.66266,     0.66366,     0.66466,     0.66567,     0.66667,     0.66767,     0.66867,     0.66967,     0.67067,     0.67167,\n",
              "           0.67267,     0.67367,     0.67467,     0.67568,     0.67668,     0.67768,     0.67868,     0.67968,     0.68068,     0.68168,     0.68268,     0.68368,     0.68468,     0.68569,     0.68669,     0.68769,     0.68869,     0.68969,     0.69069,     0.69169,     0.69269,     0.69369,     0.69469,      0.6957,\n",
              "            0.6967,      0.6977,      0.6987,      0.6997,      0.7007,      0.7017,      0.7027,      0.7037,      0.7047,     0.70571,     0.70671,     0.70771,     0.70871,     0.70971,     0.71071,     0.71171,     0.71271,     0.71371,     0.71471,     0.71572,     0.71672,     0.71772,     0.71872,     0.71972,\n",
              "           0.72072,     0.72172,     0.72272,     0.72372,     0.72472,     0.72573,     0.72673,     0.72773,     0.72873,     0.72973,     0.73073,     0.73173,     0.73273,     0.73373,     0.73473,     0.73574,     0.73674,     0.73774,     0.73874,     0.73974,     0.74074,     0.74174,     0.74274,     0.74374,\n",
              "           0.74474,     0.74575,     0.74675,     0.74775,     0.74875,     0.74975,     0.75075,     0.75175,     0.75275,     0.75375,     0.75475,     0.75576,     0.75676,     0.75776,     0.75876,     0.75976,     0.76076,     0.76176,     0.76276,     0.76376,     0.76476,     0.76577,     0.76677,     0.76777,\n",
              "           0.76877,     0.76977,     0.77077,     0.77177,     0.77277,     0.77377,     0.77477,     0.77578,     0.77678,     0.77778,     0.77878,     0.77978,     0.78078,     0.78178,     0.78278,     0.78378,     0.78478,     0.78579,     0.78679,     0.78779,     0.78879,     0.78979,     0.79079,     0.79179,\n",
              "           0.79279,     0.79379,     0.79479,      0.7958,      0.7968,      0.7978,      0.7988,      0.7998,      0.8008,      0.8018,      0.8028,      0.8038,      0.8048,     0.80581,     0.80681,     0.80781,     0.80881,     0.80981,     0.81081,     0.81181,     0.81281,     0.81381,     0.81481,     0.81582,\n",
              "           0.81682,     0.81782,     0.81882,     0.81982,     0.82082,     0.82182,     0.82282,     0.82382,     0.82482,     0.82583,     0.82683,     0.82783,     0.82883,     0.82983,     0.83083,     0.83183,     0.83283,     0.83383,     0.83483,     0.83584,     0.83684,     0.83784,     0.83884,     0.83984,\n",
              "           0.84084,     0.84184,     0.84284,     0.84384,     0.84484,     0.84585,     0.84685,     0.84785,     0.84885,     0.84985,     0.85085,     0.85185,     0.85285,     0.85385,     0.85485,     0.85586,     0.85686,     0.85786,     0.85886,     0.85986,     0.86086,     0.86186,     0.86286,     0.86386,\n",
              "           0.86486,     0.86587,     0.86687,     0.86787,     0.86887,     0.86987,     0.87087,     0.87187,     0.87287,     0.87387,     0.87487,     0.87588,     0.87688,     0.87788,     0.87888,     0.87988,     0.88088,     0.88188,     0.88288,     0.88388,     0.88488,     0.88589,     0.88689,     0.88789,\n",
              "           0.88889,     0.88989,     0.89089,     0.89189,     0.89289,     0.89389,     0.89489,      0.8959,      0.8969,      0.8979,      0.8989,      0.8999,      0.9009,      0.9019,      0.9029,      0.9039,      0.9049,     0.90591,     0.90691,     0.90791,     0.90891,     0.90991,     0.91091,     0.91191,\n",
              "           0.91291,     0.91391,     0.91491,     0.91592,     0.91692,     0.91792,     0.91892,     0.91992,     0.92092,     0.92192,     0.92292,     0.92392,     0.92492,     0.92593,     0.92693,     0.92793,     0.92893,     0.92993,     0.93093,     0.93193,     0.93293,     0.93393,     0.93493,     0.93594,\n",
              "           0.93694,     0.93794,     0.93894,     0.93994,     0.94094,     0.94194,     0.94294,     0.94394,     0.94494,     0.94595,     0.94695,     0.94795,     0.94895,     0.94995,     0.95095,     0.95195,     0.95295,     0.95395,     0.95495,     0.95596,     0.95696,     0.95796,     0.95896,     0.95996,\n",
              "           0.96096,     0.96196,     0.96296,     0.96396,     0.96496,     0.96597,     0.96697,     0.96797,     0.96897,     0.96997,     0.97097,     0.97197,     0.97297,     0.97397,     0.97497,     0.97598,     0.97698,     0.97798,     0.97898,     0.97998,     0.98098,     0.98198,     0.98298,     0.98398,\n",
              "           0.98498,     0.98599,     0.98699,     0.98799,     0.98899,     0.98999,     0.99099,     0.99199,     0.99299,     0.99399,     0.99499,       0.996,       0.997,       0.998,       0.999,           1]), array([[          1,           1,           1, ...,   0.0013309,  0.00066544,           0],\n",
              "       [          1,           1,           1, ...,         0.8,         0.8,           0],\n",
              "       [          1,           1,           1, ...,   0.0030301,    0.001515,           0]]), 'Recall', 'Precision'], [array([          0,    0.001001,    0.002002,    0.003003,    0.004004,    0.005005,    0.006006,    0.007007,    0.008008,    0.009009,     0.01001,    0.011011,    0.012012,    0.013013,    0.014014,    0.015015,    0.016016,    0.017017,    0.018018,    0.019019,     0.02002,    0.021021,    0.022022,    0.023023,\n",
              "          0.024024,    0.025025,    0.026026,    0.027027,    0.028028,    0.029029,     0.03003,    0.031031,    0.032032,    0.033033,    0.034034,    0.035035,    0.036036,    0.037037,    0.038038,    0.039039,     0.04004,    0.041041,    0.042042,    0.043043,    0.044044,    0.045045,    0.046046,    0.047047,\n",
              "          0.048048,    0.049049,     0.05005,    0.051051,    0.052052,    0.053053,    0.054054,    0.055055,    0.056056,    0.057057,    0.058058,    0.059059,     0.06006,    0.061061,    0.062062,    0.063063,    0.064064,    0.065065,    0.066066,    0.067067,    0.068068,    0.069069,     0.07007,    0.071071,\n",
              "          0.072072,    0.073073,    0.074074,    0.075075,    0.076076,    0.077077,    0.078078,    0.079079,     0.08008,    0.081081,    0.082082,    0.083083,    0.084084,    0.085085,    0.086086,    0.087087,    0.088088,    0.089089,     0.09009,    0.091091,    0.092092,    0.093093,    0.094094,    0.095095,\n",
              "          0.096096,    0.097097,    0.098098,    0.099099,      0.1001,      0.1011,      0.1021,      0.1031,      0.1041,     0.10511,     0.10611,     0.10711,     0.10811,     0.10911,     0.11011,     0.11111,     0.11211,     0.11311,     0.11411,     0.11512,     0.11612,     0.11712,     0.11812,     0.11912,\n",
              "           0.12012,     0.12112,     0.12212,     0.12312,     0.12412,     0.12513,     0.12613,     0.12713,     0.12813,     0.12913,     0.13013,     0.13113,     0.13213,     0.13313,     0.13413,     0.13514,     0.13614,     0.13714,     0.13814,     0.13914,     0.14014,     0.14114,     0.14214,     0.14314,\n",
              "           0.14414,     0.14515,     0.14615,     0.14715,     0.14815,     0.14915,     0.15015,     0.15115,     0.15215,     0.15315,     0.15415,     0.15516,     0.15616,     0.15716,     0.15816,     0.15916,     0.16016,     0.16116,     0.16216,     0.16316,     0.16416,     0.16517,     0.16617,     0.16717,\n",
              "           0.16817,     0.16917,     0.17017,     0.17117,     0.17217,     0.17317,     0.17417,     0.17518,     0.17618,     0.17718,     0.17818,     0.17918,     0.18018,     0.18118,     0.18218,     0.18318,     0.18418,     0.18519,     0.18619,     0.18719,     0.18819,     0.18919,     0.19019,     0.19119,\n",
              "           0.19219,     0.19319,     0.19419,      0.1952,      0.1962,      0.1972,      0.1982,      0.1992,      0.2002,      0.2012,      0.2022,      0.2032,      0.2042,     0.20521,     0.20621,     0.20721,     0.20821,     0.20921,     0.21021,     0.21121,     0.21221,     0.21321,     0.21421,     0.21522,\n",
              "           0.21622,     0.21722,     0.21822,     0.21922,     0.22022,     0.22122,     0.22222,     0.22322,     0.22422,     0.22523,     0.22623,     0.22723,     0.22823,     0.22923,     0.23023,     0.23123,     0.23223,     0.23323,     0.23423,     0.23524,     0.23624,     0.23724,     0.23824,     0.23924,\n",
              "           0.24024,     0.24124,     0.24224,     0.24324,     0.24424,     0.24525,     0.24625,     0.24725,     0.24825,     0.24925,     0.25025,     0.25125,     0.25225,     0.25325,     0.25425,     0.25526,     0.25626,     0.25726,     0.25826,     0.25926,     0.26026,     0.26126,     0.26226,     0.26326,\n",
              "           0.26426,     0.26527,     0.26627,     0.26727,     0.26827,     0.26927,     0.27027,     0.27127,     0.27227,     0.27327,     0.27427,     0.27528,     0.27628,     0.27728,     0.27828,     0.27928,     0.28028,     0.28128,     0.28228,     0.28328,     0.28428,     0.28529,     0.28629,     0.28729,\n",
              "           0.28829,     0.28929,     0.29029,     0.29129,     0.29229,     0.29329,     0.29429,      0.2953,      0.2963,      0.2973,      0.2983,      0.2993,      0.3003,      0.3013,      0.3023,      0.3033,      0.3043,     0.30531,     0.30631,     0.30731,     0.30831,     0.30931,     0.31031,     0.31131,\n",
              "           0.31231,     0.31331,     0.31431,     0.31532,     0.31632,     0.31732,     0.31832,     0.31932,     0.32032,     0.32132,     0.32232,     0.32332,     0.32432,     0.32533,     0.32633,     0.32733,     0.32833,     0.32933,     0.33033,     0.33133,     0.33233,     0.33333,     0.33433,     0.33534,\n",
              "           0.33634,     0.33734,     0.33834,     0.33934,     0.34034,     0.34134,     0.34234,     0.34334,     0.34434,     0.34535,     0.34635,     0.34735,     0.34835,     0.34935,     0.35035,     0.35135,     0.35235,     0.35335,     0.35435,     0.35536,     0.35636,     0.35736,     0.35836,     0.35936,\n",
              "           0.36036,     0.36136,     0.36236,     0.36336,     0.36436,     0.36537,     0.36637,     0.36737,     0.36837,     0.36937,     0.37037,     0.37137,     0.37237,     0.37337,     0.37437,     0.37538,     0.37638,     0.37738,     0.37838,     0.37938,     0.38038,     0.38138,     0.38238,     0.38338,\n",
              "           0.38438,     0.38539,     0.38639,     0.38739,     0.38839,     0.38939,     0.39039,     0.39139,     0.39239,     0.39339,     0.39439,      0.3954,      0.3964,      0.3974,      0.3984,      0.3994,      0.4004,      0.4014,      0.4024,      0.4034,      0.4044,     0.40541,     0.40641,     0.40741,\n",
              "           0.40841,     0.40941,     0.41041,     0.41141,     0.41241,     0.41341,     0.41441,     0.41542,     0.41642,     0.41742,     0.41842,     0.41942,     0.42042,     0.42142,     0.42242,     0.42342,     0.42442,     0.42543,     0.42643,     0.42743,     0.42843,     0.42943,     0.43043,     0.43143,\n",
              "           0.43243,     0.43343,     0.43443,     0.43544,     0.43644,     0.43744,     0.43844,     0.43944,     0.44044,     0.44144,     0.44244,     0.44344,     0.44444,     0.44545,     0.44645,     0.44745,     0.44845,     0.44945,     0.45045,     0.45145,     0.45245,     0.45345,     0.45445,     0.45546,\n",
              "           0.45646,     0.45746,     0.45846,     0.45946,     0.46046,     0.46146,     0.46246,     0.46346,     0.46446,     0.46547,     0.46647,     0.46747,     0.46847,     0.46947,     0.47047,     0.47147,     0.47247,     0.47347,     0.47447,     0.47548,     0.47648,     0.47748,     0.47848,     0.47948,\n",
              "           0.48048,     0.48148,     0.48248,     0.48348,     0.48448,     0.48549,     0.48649,     0.48749,     0.48849,     0.48949,     0.49049,     0.49149,     0.49249,     0.49349,     0.49449,      0.4955,      0.4965,      0.4975,      0.4985,      0.4995,      0.5005,      0.5015,      0.5025,      0.5035,\n",
              "            0.5045,     0.50551,     0.50651,     0.50751,     0.50851,     0.50951,     0.51051,     0.51151,     0.51251,     0.51351,     0.51451,     0.51552,     0.51652,     0.51752,     0.51852,     0.51952,     0.52052,     0.52152,     0.52252,     0.52352,     0.52452,     0.52553,     0.52653,     0.52753,\n",
              "           0.52853,     0.52953,     0.53053,     0.53153,     0.53253,     0.53353,     0.53453,     0.53554,     0.53654,     0.53754,     0.53854,     0.53954,     0.54054,     0.54154,     0.54254,     0.54354,     0.54454,     0.54555,     0.54655,     0.54755,     0.54855,     0.54955,     0.55055,     0.55155,\n",
              "           0.55255,     0.55355,     0.55455,     0.55556,     0.55656,     0.55756,     0.55856,     0.55956,     0.56056,     0.56156,     0.56256,     0.56356,     0.56456,     0.56557,     0.56657,     0.56757,     0.56857,     0.56957,     0.57057,     0.57157,     0.57257,     0.57357,     0.57457,     0.57558,\n",
              "           0.57658,     0.57758,     0.57858,     0.57958,     0.58058,     0.58158,     0.58258,     0.58358,     0.58458,     0.58559,     0.58659,     0.58759,     0.58859,     0.58959,     0.59059,     0.59159,     0.59259,     0.59359,     0.59459,      0.5956,      0.5966,      0.5976,      0.5986,      0.5996,\n",
              "            0.6006,      0.6016,      0.6026,      0.6036,      0.6046,     0.60561,     0.60661,     0.60761,     0.60861,     0.60961,     0.61061,     0.61161,     0.61261,     0.61361,     0.61461,     0.61562,     0.61662,     0.61762,     0.61862,     0.61962,     0.62062,     0.62162,     0.62262,     0.62362,\n",
              "           0.62462,     0.62563,     0.62663,     0.62763,     0.62863,     0.62963,     0.63063,     0.63163,     0.63263,     0.63363,     0.63463,     0.63564,     0.63664,     0.63764,     0.63864,     0.63964,     0.64064,     0.64164,     0.64264,     0.64364,     0.64464,     0.64565,     0.64665,     0.64765,\n",
              "           0.64865,     0.64965,     0.65065,     0.65165,     0.65265,     0.65365,     0.65465,     0.65566,     0.65666,     0.65766,     0.65866,     0.65966,     0.66066,     0.66166,     0.66266,     0.66366,     0.66466,     0.66567,     0.66667,     0.66767,     0.66867,     0.66967,     0.67067,     0.67167,\n",
              "           0.67267,     0.67367,     0.67467,     0.67568,     0.67668,     0.67768,     0.67868,     0.67968,     0.68068,     0.68168,     0.68268,     0.68368,     0.68468,     0.68569,     0.68669,     0.68769,     0.68869,     0.68969,     0.69069,     0.69169,     0.69269,     0.69369,     0.69469,      0.6957,\n",
              "            0.6967,      0.6977,      0.6987,      0.6997,      0.7007,      0.7017,      0.7027,      0.7037,      0.7047,     0.70571,     0.70671,     0.70771,     0.70871,     0.70971,     0.71071,     0.71171,     0.71271,     0.71371,     0.71471,     0.71572,     0.71672,     0.71772,     0.71872,     0.71972,\n",
              "           0.72072,     0.72172,     0.72272,     0.72372,     0.72472,     0.72573,     0.72673,     0.72773,     0.72873,     0.72973,     0.73073,     0.73173,     0.73273,     0.73373,     0.73473,     0.73574,     0.73674,     0.73774,     0.73874,     0.73974,     0.74074,     0.74174,     0.74274,     0.74374,\n",
              "           0.74474,     0.74575,     0.74675,     0.74775,     0.74875,     0.74975,     0.75075,     0.75175,     0.75275,     0.75375,     0.75475,     0.75576,     0.75676,     0.75776,     0.75876,     0.75976,     0.76076,     0.76176,     0.76276,     0.76376,     0.76476,     0.76577,     0.76677,     0.76777,\n",
              "           0.76877,     0.76977,     0.77077,     0.77177,     0.77277,     0.77377,     0.77477,     0.77578,     0.77678,     0.77778,     0.77878,     0.77978,     0.78078,     0.78178,     0.78278,     0.78378,     0.78478,     0.78579,     0.78679,     0.78779,     0.78879,     0.78979,     0.79079,     0.79179,\n",
              "           0.79279,     0.79379,     0.79479,      0.7958,      0.7968,      0.7978,      0.7988,      0.7998,      0.8008,      0.8018,      0.8028,      0.8038,      0.8048,     0.80581,     0.80681,     0.80781,     0.80881,     0.80981,     0.81081,     0.81181,     0.81281,     0.81381,     0.81481,     0.81582,\n",
              "           0.81682,     0.81782,     0.81882,     0.81982,     0.82082,     0.82182,     0.82282,     0.82382,     0.82482,     0.82583,     0.82683,     0.82783,     0.82883,     0.82983,     0.83083,     0.83183,     0.83283,     0.83383,     0.83483,     0.83584,     0.83684,     0.83784,     0.83884,     0.83984,\n",
              "           0.84084,     0.84184,     0.84284,     0.84384,     0.84484,     0.84585,     0.84685,     0.84785,     0.84885,     0.84985,     0.85085,     0.85185,     0.85285,     0.85385,     0.85485,     0.85586,     0.85686,     0.85786,     0.85886,     0.85986,     0.86086,     0.86186,     0.86286,     0.86386,\n",
              "           0.86486,     0.86587,     0.86687,     0.86787,     0.86887,     0.86987,     0.87087,     0.87187,     0.87287,     0.87387,     0.87487,     0.87588,     0.87688,     0.87788,     0.87888,     0.87988,     0.88088,     0.88188,     0.88288,     0.88388,     0.88488,     0.88589,     0.88689,     0.88789,\n",
              "           0.88889,     0.88989,     0.89089,     0.89189,     0.89289,     0.89389,     0.89489,      0.8959,      0.8969,      0.8979,      0.8989,      0.8999,      0.9009,      0.9019,      0.9029,      0.9039,      0.9049,     0.90591,     0.90691,     0.90791,     0.90891,     0.90991,     0.91091,     0.91191,\n",
              "           0.91291,     0.91391,     0.91491,     0.91592,     0.91692,     0.91792,     0.91892,     0.91992,     0.92092,     0.92192,     0.92292,     0.92392,     0.92492,     0.92593,     0.92693,     0.92793,     0.92893,     0.92993,     0.93093,     0.93193,     0.93293,     0.93393,     0.93493,     0.93594,\n",
              "           0.93694,     0.93794,     0.93894,     0.93994,     0.94094,     0.94194,     0.94294,     0.94394,     0.94494,     0.94595,     0.94695,     0.94795,     0.94895,     0.94995,     0.95095,     0.95195,     0.95295,     0.95395,     0.95495,     0.95596,     0.95696,     0.95796,     0.95896,     0.95996,\n",
              "           0.96096,     0.96196,     0.96296,     0.96396,     0.96496,     0.96597,     0.96697,     0.96797,     0.96897,     0.96997,     0.97097,     0.97197,     0.97297,     0.97397,     0.97497,     0.97598,     0.97698,     0.97798,     0.97898,     0.97998,     0.98098,     0.98198,     0.98298,     0.98398,\n",
              "           0.98498,     0.98599,     0.98699,     0.98799,     0.98899,     0.98999,     0.99099,     0.99199,     0.99299,     0.99399,     0.99499,       0.996,       0.997,       0.998,       0.999,           1]), array([[    0.31579,     0.31579,      0.4744, ...,           0,           0,           0],\n",
              "       [    0.19512,     0.19512,     0.35286, ...,           0,           0,           0],\n",
              "       [    0.31111,     0.31111,      0.3865, ...,           0,           0,           0]]), 'Confidence', 'F1'], [array([          0,    0.001001,    0.002002,    0.003003,    0.004004,    0.005005,    0.006006,    0.007007,    0.008008,    0.009009,     0.01001,    0.011011,    0.012012,    0.013013,    0.014014,    0.015015,    0.016016,    0.017017,    0.018018,    0.019019,     0.02002,    0.021021,    0.022022,    0.023023,\n",
              "          0.024024,    0.025025,    0.026026,    0.027027,    0.028028,    0.029029,     0.03003,    0.031031,    0.032032,    0.033033,    0.034034,    0.035035,    0.036036,    0.037037,    0.038038,    0.039039,     0.04004,    0.041041,    0.042042,    0.043043,    0.044044,    0.045045,    0.046046,    0.047047,\n",
              "          0.048048,    0.049049,     0.05005,    0.051051,    0.052052,    0.053053,    0.054054,    0.055055,    0.056056,    0.057057,    0.058058,    0.059059,     0.06006,    0.061061,    0.062062,    0.063063,    0.064064,    0.065065,    0.066066,    0.067067,    0.068068,    0.069069,     0.07007,    0.071071,\n",
              "          0.072072,    0.073073,    0.074074,    0.075075,    0.076076,    0.077077,    0.078078,    0.079079,     0.08008,    0.081081,    0.082082,    0.083083,    0.084084,    0.085085,    0.086086,    0.087087,    0.088088,    0.089089,     0.09009,    0.091091,    0.092092,    0.093093,    0.094094,    0.095095,\n",
              "          0.096096,    0.097097,    0.098098,    0.099099,      0.1001,      0.1011,      0.1021,      0.1031,      0.1041,     0.10511,     0.10611,     0.10711,     0.10811,     0.10911,     0.11011,     0.11111,     0.11211,     0.11311,     0.11411,     0.11512,     0.11612,     0.11712,     0.11812,     0.11912,\n",
              "           0.12012,     0.12112,     0.12212,     0.12312,     0.12412,     0.12513,     0.12613,     0.12713,     0.12813,     0.12913,     0.13013,     0.13113,     0.13213,     0.13313,     0.13413,     0.13514,     0.13614,     0.13714,     0.13814,     0.13914,     0.14014,     0.14114,     0.14214,     0.14314,\n",
              "           0.14414,     0.14515,     0.14615,     0.14715,     0.14815,     0.14915,     0.15015,     0.15115,     0.15215,     0.15315,     0.15415,     0.15516,     0.15616,     0.15716,     0.15816,     0.15916,     0.16016,     0.16116,     0.16216,     0.16316,     0.16416,     0.16517,     0.16617,     0.16717,\n",
              "           0.16817,     0.16917,     0.17017,     0.17117,     0.17217,     0.17317,     0.17417,     0.17518,     0.17618,     0.17718,     0.17818,     0.17918,     0.18018,     0.18118,     0.18218,     0.18318,     0.18418,     0.18519,     0.18619,     0.18719,     0.18819,     0.18919,     0.19019,     0.19119,\n",
              "           0.19219,     0.19319,     0.19419,      0.1952,      0.1962,      0.1972,      0.1982,      0.1992,      0.2002,      0.2012,      0.2022,      0.2032,      0.2042,     0.20521,     0.20621,     0.20721,     0.20821,     0.20921,     0.21021,     0.21121,     0.21221,     0.21321,     0.21421,     0.21522,\n",
              "           0.21622,     0.21722,     0.21822,     0.21922,     0.22022,     0.22122,     0.22222,     0.22322,     0.22422,     0.22523,     0.22623,     0.22723,     0.22823,     0.22923,     0.23023,     0.23123,     0.23223,     0.23323,     0.23423,     0.23524,     0.23624,     0.23724,     0.23824,     0.23924,\n",
              "           0.24024,     0.24124,     0.24224,     0.24324,     0.24424,     0.24525,     0.24625,     0.24725,     0.24825,     0.24925,     0.25025,     0.25125,     0.25225,     0.25325,     0.25425,     0.25526,     0.25626,     0.25726,     0.25826,     0.25926,     0.26026,     0.26126,     0.26226,     0.26326,\n",
              "           0.26426,     0.26527,     0.26627,     0.26727,     0.26827,     0.26927,     0.27027,     0.27127,     0.27227,     0.27327,     0.27427,     0.27528,     0.27628,     0.27728,     0.27828,     0.27928,     0.28028,     0.28128,     0.28228,     0.28328,     0.28428,     0.28529,     0.28629,     0.28729,\n",
              "           0.28829,     0.28929,     0.29029,     0.29129,     0.29229,     0.29329,     0.29429,      0.2953,      0.2963,      0.2973,      0.2983,      0.2993,      0.3003,      0.3013,      0.3023,      0.3033,      0.3043,     0.30531,     0.30631,     0.30731,     0.30831,     0.30931,     0.31031,     0.31131,\n",
              "           0.31231,     0.31331,     0.31431,     0.31532,     0.31632,     0.31732,     0.31832,     0.31932,     0.32032,     0.32132,     0.32232,     0.32332,     0.32432,     0.32533,     0.32633,     0.32733,     0.32833,     0.32933,     0.33033,     0.33133,     0.33233,     0.33333,     0.33433,     0.33534,\n",
              "           0.33634,     0.33734,     0.33834,     0.33934,     0.34034,     0.34134,     0.34234,     0.34334,     0.34434,     0.34535,     0.34635,     0.34735,     0.34835,     0.34935,     0.35035,     0.35135,     0.35235,     0.35335,     0.35435,     0.35536,     0.35636,     0.35736,     0.35836,     0.35936,\n",
              "           0.36036,     0.36136,     0.36236,     0.36336,     0.36436,     0.36537,     0.36637,     0.36737,     0.36837,     0.36937,     0.37037,     0.37137,     0.37237,     0.37337,     0.37437,     0.37538,     0.37638,     0.37738,     0.37838,     0.37938,     0.38038,     0.38138,     0.38238,     0.38338,\n",
              "           0.38438,     0.38539,     0.38639,     0.38739,     0.38839,     0.38939,     0.39039,     0.39139,     0.39239,     0.39339,     0.39439,      0.3954,      0.3964,      0.3974,      0.3984,      0.3994,      0.4004,      0.4014,      0.4024,      0.4034,      0.4044,     0.40541,     0.40641,     0.40741,\n",
              "           0.40841,     0.40941,     0.41041,     0.41141,     0.41241,     0.41341,     0.41441,     0.41542,     0.41642,     0.41742,     0.41842,     0.41942,     0.42042,     0.42142,     0.42242,     0.42342,     0.42442,     0.42543,     0.42643,     0.42743,     0.42843,     0.42943,     0.43043,     0.43143,\n",
              "           0.43243,     0.43343,     0.43443,     0.43544,     0.43644,     0.43744,     0.43844,     0.43944,     0.44044,     0.44144,     0.44244,     0.44344,     0.44444,     0.44545,     0.44645,     0.44745,     0.44845,     0.44945,     0.45045,     0.45145,     0.45245,     0.45345,     0.45445,     0.45546,\n",
              "           0.45646,     0.45746,     0.45846,     0.45946,     0.46046,     0.46146,     0.46246,     0.46346,     0.46446,     0.46547,     0.46647,     0.46747,     0.46847,     0.46947,     0.47047,     0.47147,     0.47247,     0.47347,     0.47447,     0.47548,     0.47648,     0.47748,     0.47848,     0.47948,\n",
              "           0.48048,     0.48148,     0.48248,     0.48348,     0.48448,     0.48549,     0.48649,     0.48749,     0.48849,     0.48949,     0.49049,     0.49149,     0.49249,     0.49349,     0.49449,      0.4955,      0.4965,      0.4975,      0.4985,      0.4995,      0.5005,      0.5015,      0.5025,      0.5035,\n",
              "            0.5045,     0.50551,     0.50651,     0.50751,     0.50851,     0.50951,     0.51051,     0.51151,     0.51251,     0.51351,     0.51451,     0.51552,     0.51652,     0.51752,     0.51852,     0.51952,     0.52052,     0.52152,     0.52252,     0.52352,     0.52452,     0.52553,     0.52653,     0.52753,\n",
              "           0.52853,     0.52953,     0.53053,     0.53153,     0.53253,     0.53353,     0.53453,     0.53554,     0.53654,     0.53754,     0.53854,     0.53954,     0.54054,     0.54154,     0.54254,     0.54354,     0.54454,     0.54555,     0.54655,     0.54755,     0.54855,     0.54955,     0.55055,     0.55155,\n",
              "           0.55255,     0.55355,     0.55455,     0.55556,     0.55656,     0.55756,     0.55856,     0.55956,     0.56056,     0.56156,     0.56256,     0.56356,     0.56456,     0.56557,     0.56657,     0.56757,     0.56857,     0.56957,     0.57057,     0.57157,     0.57257,     0.57357,     0.57457,     0.57558,\n",
              "           0.57658,     0.57758,     0.57858,     0.57958,     0.58058,     0.58158,     0.58258,     0.58358,     0.58458,     0.58559,     0.58659,     0.58759,     0.58859,     0.58959,     0.59059,     0.59159,     0.59259,     0.59359,     0.59459,      0.5956,      0.5966,      0.5976,      0.5986,      0.5996,\n",
              "            0.6006,      0.6016,      0.6026,      0.6036,      0.6046,     0.60561,     0.60661,     0.60761,     0.60861,     0.60961,     0.61061,     0.61161,     0.61261,     0.61361,     0.61461,     0.61562,     0.61662,     0.61762,     0.61862,     0.61962,     0.62062,     0.62162,     0.62262,     0.62362,\n",
              "           0.62462,     0.62563,     0.62663,     0.62763,     0.62863,     0.62963,     0.63063,     0.63163,     0.63263,     0.63363,     0.63463,     0.63564,     0.63664,     0.63764,     0.63864,     0.63964,     0.64064,     0.64164,     0.64264,     0.64364,     0.64464,     0.64565,     0.64665,     0.64765,\n",
              "           0.64865,     0.64965,     0.65065,     0.65165,     0.65265,     0.65365,     0.65465,     0.65566,     0.65666,     0.65766,     0.65866,     0.65966,     0.66066,     0.66166,     0.66266,     0.66366,     0.66466,     0.66567,     0.66667,     0.66767,     0.66867,     0.66967,     0.67067,     0.67167,\n",
              "           0.67267,     0.67367,     0.67467,     0.67568,     0.67668,     0.67768,     0.67868,     0.67968,     0.68068,     0.68168,     0.68268,     0.68368,     0.68468,     0.68569,     0.68669,     0.68769,     0.68869,     0.68969,     0.69069,     0.69169,     0.69269,     0.69369,     0.69469,      0.6957,\n",
              "            0.6967,      0.6977,      0.6987,      0.6997,      0.7007,      0.7017,      0.7027,      0.7037,      0.7047,     0.70571,     0.70671,     0.70771,     0.70871,     0.70971,     0.71071,     0.71171,     0.71271,     0.71371,     0.71471,     0.71572,     0.71672,     0.71772,     0.71872,     0.71972,\n",
              "           0.72072,     0.72172,     0.72272,     0.72372,     0.72472,     0.72573,     0.72673,     0.72773,     0.72873,     0.72973,     0.73073,     0.73173,     0.73273,     0.73373,     0.73473,     0.73574,     0.73674,     0.73774,     0.73874,     0.73974,     0.74074,     0.74174,     0.74274,     0.74374,\n",
              "           0.74474,     0.74575,     0.74675,     0.74775,     0.74875,     0.74975,     0.75075,     0.75175,     0.75275,     0.75375,     0.75475,     0.75576,     0.75676,     0.75776,     0.75876,     0.75976,     0.76076,     0.76176,     0.76276,     0.76376,     0.76476,     0.76577,     0.76677,     0.76777,\n",
              "           0.76877,     0.76977,     0.77077,     0.77177,     0.77277,     0.77377,     0.77477,     0.77578,     0.77678,     0.77778,     0.77878,     0.77978,     0.78078,     0.78178,     0.78278,     0.78378,     0.78478,     0.78579,     0.78679,     0.78779,     0.78879,     0.78979,     0.79079,     0.79179,\n",
              "           0.79279,     0.79379,     0.79479,      0.7958,      0.7968,      0.7978,      0.7988,      0.7998,      0.8008,      0.8018,      0.8028,      0.8038,      0.8048,     0.80581,     0.80681,     0.80781,     0.80881,     0.80981,     0.81081,     0.81181,     0.81281,     0.81381,     0.81481,     0.81582,\n",
              "           0.81682,     0.81782,     0.81882,     0.81982,     0.82082,     0.82182,     0.82282,     0.82382,     0.82482,     0.82583,     0.82683,     0.82783,     0.82883,     0.82983,     0.83083,     0.83183,     0.83283,     0.83383,     0.83483,     0.83584,     0.83684,     0.83784,     0.83884,     0.83984,\n",
              "           0.84084,     0.84184,     0.84284,     0.84384,     0.84484,     0.84585,     0.84685,     0.84785,     0.84885,     0.84985,     0.85085,     0.85185,     0.85285,     0.85385,     0.85485,     0.85586,     0.85686,     0.85786,     0.85886,     0.85986,     0.86086,     0.86186,     0.86286,     0.86386,\n",
              "           0.86486,     0.86587,     0.86687,     0.86787,     0.86887,     0.86987,     0.87087,     0.87187,     0.87287,     0.87387,     0.87487,     0.87588,     0.87688,     0.87788,     0.87888,     0.87988,     0.88088,     0.88188,     0.88288,     0.88388,     0.88488,     0.88589,     0.88689,     0.88789,\n",
              "           0.88889,     0.88989,     0.89089,     0.89189,     0.89289,     0.89389,     0.89489,      0.8959,      0.8969,      0.8979,      0.8989,      0.8999,      0.9009,      0.9019,      0.9029,      0.9039,      0.9049,     0.90591,     0.90691,     0.90791,     0.90891,     0.90991,     0.91091,     0.91191,\n",
              "           0.91291,     0.91391,     0.91491,     0.91592,     0.91692,     0.91792,     0.91892,     0.91992,     0.92092,     0.92192,     0.92292,     0.92392,     0.92492,     0.92593,     0.92693,     0.92793,     0.92893,     0.92993,     0.93093,     0.93193,     0.93293,     0.93393,     0.93493,     0.93594,\n",
              "           0.93694,     0.93794,     0.93894,     0.93994,     0.94094,     0.94194,     0.94294,     0.94394,     0.94494,     0.94595,     0.94695,     0.94795,     0.94895,     0.94995,     0.95095,     0.95195,     0.95295,     0.95395,     0.95495,     0.95596,     0.95696,     0.95796,     0.95896,     0.95996,\n",
              "           0.96096,     0.96196,     0.96296,     0.96396,     0.96496,     0.96597,     0.96697,     0.96797,     0.96897,     0.96997,     0.97097,     0.97197,     0.97297,     0.97397,     0.97497,     0.97598,     0.97698,     0.97798,     0.97898,     0.97998,     0.98098,     0.98198,     0.98298,     0.98398,\n",
              "           0.98498,     0.98599,     0.98699,     0.98799,     0.98899,     0.98999,     0.99099,     0.99199,     0.99299,     0.99399,     0.99499,       0.996,       0.997,       0.998,       0.999,           1]), array([[    0.20455,     0.20455,     0.36082, ...,           1,           1,           1],\n",
              "       [    0.10811,     0.10811,     0.21423, ...,           1,           1,           1],\n",
              "       [    0.18919,     0.18919,     0.24803, ...,           1,           1,           1]]), 'Confidence', 'Precision'], [array([          0,    0.001001,    0.002002,    0.003003,    0.004004,    0.005005,    0.006006,    0.007007,    0.008008,    0.009009,     0.01001,    0.011011,    0.012012,    0.013013,    0.014014,    0.015015,    0.016016,    0.017017,    0.018018,    0.019019,     0.02002,    0.021021,    0.022022,    0.023023,\n",
              "          0.024024,    0.025025,    0.026026,    0.027027,    0.028028,    0.029029,     0.03003,    0.031031,    0.032032,    0.033033,    0.034034,    0.035035,    0.036036,    0.037037,    0.038038,    0.039039,     0.04004,    0.041041,    0.042042,    0.043043,    0.044044,    0.045045,    0.046046,    0.047047,\n",
              "          0.048048,    0.049049,     0.05005,    0.051051,    0.052052,    0.053053,    0.054054,    0.055055,    0.056056,    0.057057,    0.058058,    0.059059,     0.06006,    0.061061,    0.062062,    0.063063,    0.064064,    0.065065,    0.066066,    0.067067,    0.068068,    0.069069,     0.07007,    0.071071,\n",
              "          0.072072,    0.073073,    0.074074,    0.075075,    0.076076,    0.077077,    0.078078,    0.079079,     0.08008,    0.081081,    0.082082,    0.083083,    0.084084,    0.085085,    0.086086,    0.087087,    0.088088,    0.089089,     0.09009,    0.091091,    0.092092,    0.093093,    0.094094,    0.095095,\n",
              "          0.096096,    0.097097,    0.098098,    0.099099,      0.1001,      0.1011,      0.1021,      0.1031,      0.1041,     0.10511,     0.10611,     0.10711,     0.10811,     0.10911,     0.11011,     0.11111,     0.11211,     0.11311,     0.11411,     0.11512,     0.11612,     0.11712,     0.11812,     0.11912,\n",
              "           0.12012,     0.12112,     0.12212,     0.12312,     0.12412,     0.12513,     0.12613,     0.12713,     0.12813,     0.12913,     0.13013,     0.13113,     0.13213,     0.13313,     0.13413,     0.13514,     0.13614,     0.13714,     0.13814,     0.13914,     0.14014,     0.14114,     0.14214,     0.14314,\n",
              "           0.14414,     0.14515,     0.14615,     0.14715,     0.14815,     0.14915,     0.15015,     0.15115,     0.15215,     0.15315,     0.15415,     0.15516,     0.15616,     0.15716,     0.15816,     0.15916,     0.16016,     0.16116,     0.16216,     0.16316,     0.16416,     0.16517,     0.16617,     0.16717,\n",
              "           0.16817,     0.16917,     0.17017,     0.17117,     0.17217,     0.17317,     0.17417,     0.17518,     0.17618,     0.17718,     0.17818,     0.17918,     0.18018,     0.18118,     0.18218,     0.18318,     0.18418,     0.18519,     0.18619,     0.18719,     0.18819,     0.18919,     0.19019,     0.19119,\n",
              "           0.19219,     0.19319,     0.19419,      0.1952,      0.1962,      0.1972,      0.1982,      0.1992,      0.2002,      0.2012,      0.2022,      0.2032,      0.2042,     0.20521,     0.20621,     0.20721,     0.20821,     0.20921,     0.21021,     0.21121,     0.21221,     0.21321,     0.21421,     0.21522,\n",
              "           0.21622,     0.21722,     0.21822,     0.21922,     0.22022,     0.22122,     0.22222,     0.22322,     0.22422,     0.22523,     0.22623,     0.22723,     0.22823,     0.22923,     0.23023,     0.23123,     0.23223,     0.23323,     0.23423,     0.23524,     0.23624,     0.23724,     0.23824,     0.23924,\n",
              "           0.24024,     0.24124,     0.24224,     0.24324,     0.24424,     0.24525,     0.24625,     0.24725,     0.24825,     0.24925,     0.25025,     0.25125,     0.25225,     0.25325,     0.25425,     0.25526,     0.25626,     0.25726,     0.25826,     0.25926,     0.26026,     0.26126,     0.26226,     0.26326,\n",
              "           0.26426,     0.26527,     0.26627,     0.26727,     0.26827,     0.26927,     0.27027,     0.27127,     0.27227,     0.27327,     0.27427,     0.27528,     0.27628,     0.27728,     0.27828,     0.27928,     0.28028,     0.28128,     0.28228,     0.28328,     0.28428,     0.28529,     0.28629,     0.28729,\n",
              "           0.28829,     0.28929,     0.29029,     0.29129,     0.29229,     0.29329,     0.29429,      0.2953,      0.2963,      0.2973,      0.2983,      0.2993,      0.3003,      0.3013,      0.3023,      0.3033,      0.3043,     0.30531,     0.30631,     0.30731,     0.30831,     0.30931,     0.31031,     0.31131,\n",
              "           0.31231,     0.31331,     0.31431,     0.31532,     0.31632,     0.31732,     0.31832,     0.31932,     0.32032,     0.32132,     0.32232,     0.32332,     0.32432,     0.32533,     0.32633,     0.32733,     0.32833,     0.32933,     0.33033,     0.33133,     0.33233,     0.33333,     0.33433,     0.33534,\n",
              "           0.33634,     0.33734,     0.33834,     0.33934,     0.34034,     0.34134,     0.34234,     0.34334,     0.34434,     0.34535,     0.34635,     0.34735,     0.34835,     0.34935,     0.35035,     0.35135,     0.35235,     0.35335,     0.35435,     0.35536,     0.35636,     0.35736,     0.35836,     0.35936,\n",
              "           0.36036,     0.36136,     0.36236,     0.36336,     0.36436,     0.36537,     0.36637,     0.36737,     0.36837,     0.36937,     0.37037,     0.37137,     0.37237,     0.37337,     0.37437,     0.37538,     0.37638,     0.37738,     0.37838,     0.37938,     0.38038,     0.38138,     0.38238,     0.38338,\n",
              "           0.38438,     0.38539,     0.38639,     0.38739,     0.38839,     0.38939,     0.39039,     0.39139,     0.39239,     0.39339,     0.39439,      0.3954,      0.3964,      0.3974,      0.3984,      0.3994,      0.4004,      0.4014,      0.4024,      0.4034,      0.4044,     0.40541,     0.40641,     0.40741,\n",
              "           0.40841,     0.40941,     0.41041,     0.41141,     0.41241,     0.41341,     0.41441,     0.41542,     0.41642,     0.41742,     0.41842,     0.41942,     0.42042,     0.42142,     0.42242,     0.42342,     0.42442,     0.42543,     0.42643,     0.42743,     0.42843,     0.42943,     0.43043,     0.43143,\n",
              "           0.43243,     0.43343,     0.43443,     0.43544,     0.43644,     0.43744,     0.43844,     0.43944,     0.44044,     0.44144,     0.44244,     0.44344,     0.44444,     0.44545,     0.44645,     0.44745,     0.44845,     0.44945,     0.45045,     0.45145,     0.45245,     0.45345,     0.45445,     0.45546,\n",
              "           0.45646,     0.45746,     0.45846,     0.45946,     0.46046,     0.46146,     0.46246,     0.46346,     0.46446,     0.46547,     0.46647,     0.46747,     0.46847,     0.46947,     0.47047,     0.47147,     0.47247,     0.47347,     0.47447,     0.47548,     0.47648,     0.47748,     0.47848,     0.47948,\n",
              "           0.48048,     0.48148,     0.48248,     0.48348,     0.48448,     0.48549,     0.48649,     0.48749,     0.48849,     0.48949,     0.49049,     0.49149,     0.49249,     0.49349,     0.49449,      0.4955,      0.4965,      0.4975,      0.4985,      0.4995,      0.5005,      0.5015,      0.5025,      0.5035,\n",
              "            0.5045,     0.50551,     0.50651,     0.50751,     0.50851,     0.50951,     0.51051,     0.51151,     0.51251,     0.51351,     0.51451,     0.51552,     0.51652,     0.51752,     0.51852,     0.51952,     0.52052,     0.52152,     0.52252,     0.52352,     0.52452,     0.52553,     0.52653,     0.52753,\n",
              "           0.52853,     0.52953,     0.53053,     0.53153,     0.53253,     0.53353,     0.53453,     0.53554,     0.53654,     0.53754,     0.53854,     0.53954,     0.54054,     0.54154,     0.54254,     0.54354,     0.54454,     0.54555,     0.54655,     0.54755,     0.54855,     0.54955,     0.55055,     0.55155,\n",
              "           0.55255,     0.55355,     0.55455,     0.55556,     0.55656,     0.55756,     0.55856,     0.55956,     0.56056,     0.56156,     0.56256,     0.56356,     0.56456,     0.56557,     0.56657,     0.56757,     0.56857,     0.56957,     0.57057,     0.57157,     0.57257,     0.57357,     0.57457,     0.57558,\n",
              "           0.57658,     0.57758,     0.57858,     0.57958,     0.58058,     0.58158,     0.58258,     0.58358,     0.58458,     0.58559,     0.58659,     0.58759,     0.58859,     0.58959,     0.59059,     0.59159,     0.59259,     0.59359,     0.59459,      0.5956,      0.5966,      0.5976,      0.5986,      0.5996,\n",
              "            0.6006,      0.6016,      0.6026,      0.6036,      0.6046,     0.60561,     0.60661,     0.60761,     0.60861,     0.60961,     0.61061,     0.61161,     0.61261,     0.61361,     0.61461,     0.61562,     0.61662,     0.61762,     0.61862,     0.61962,     0.62062,     0.62162,     0.62262,     0.62362,\n",
              "           0.62462,     0.62563,     0.62663,     0.62763,     0.62863,     0.62963,     0.63063,     0.63163,     0.63263,     0.63363,     0.63463,     0.63564,     0.63664,     0.63764,     0.63864,     0.63964,     0.64064,     0.64164,     0.64264,     0.64364,     0.64464,     0.64565,     0.64665,     0.64765,\n",
              "           0.64865,     0.64965,     0.65065,     0.65165,     0.65265,     0.65365,     0.65465,     0.65566,     0.65666,     0.65766,     0.65866,     0.65966,     0.66066,     0.66166,     0.66266,     0.66366,     0.66466,     0.66567,     0.66667,     0.66767,     0.66867,     0.66967,     0.67067,     0.67167,\n",
              "           0.67267,     0.67367,     0.67467,     0.67568,     0.67668,     0.67768,     0.67868,     0.67968,     0.68068,     0.68168,     0.68268,     0.68368,     0.68468,     0.68569,     0.68669,     0.68769,     0.68869,     0.68969,     0.69069,     0.69169,     0.69269,     0.69369,     0.69469,      0.6957,\n",
              "            0.6967,      0.6977,      0.6987,      0.6997,      0.7007,      0.7017,      0.7027,      0.7037,      0.7047,     0.70571,     0.70671,     0.70771,     0.70871,     0.70971,     0.71071,     0.71171,     0.71271,     0.71371,     0.71471,     0.71572,     0.71672,     0.71772,     0.71872,     0.71972,\n",
              "           0.72072,     0.72172,     0.72272,     0.72372,     0.72472,     0.72573,     0.72673,     0.72773,     0.72873,     0.72973,     0.73073,     0.73173,     0.73273,     0.73373,     0.73473,     0.73574,     0.73674,     0.73774,     0.73874,     0.73974,     0.74074,     0.74174,     0.74274,     0.74374,\n",
              "           0.74474,     0.74575,     0.74675,     0.74775,     0.74875,     0.74975,     0.75075,     0.75175,     0.75275,     0.75375,     0.75475,     0.75576,     0.75676,     0.75776,     0.75876,     0.75976,     0.76076,     0.76176,     0.76276,     0.76376,     0.76476,     0.76577,     0.76677,     0.76777,\n",
              "           0.76877,     0.76977,     0.77077,     0.77177,     0.77277,     0.77377,     0.77477,     0.77578,     0.77678,     0.77778,     0.77878,     0.77978,     0.78078,     0.78178,     0.78278,     0.78378,     0.78478,     0.78579,     0.78679,     0.78779,     0.78879,     0.78979,     0.79079,     0.79179,\n",
              "           0.79279,     0.79379,     0.79479,      0.7958,      0.7968,      0.7978,      0.7988,      0.7998,      0.8008,      0.8018,      0.8028,      0.8038,      0.8048,     0.80581,     0.80681,     0.80781,     0.80881,     0.80981,     0.81081,     0.81181,     0.81281,     0.81381,     0.81481,     0.81582,\n",
              "           0.81682,     0.81782,     0.81882,     0.81982,     0.82082,     0.82182,     0.82282,     0.82382,     0.82482,     0.82583,     0.82683,     0.82783,     0.82883,     0.82983,     0.83083,     0.83183,     0.83283,     0.83383,     0.83483,     0.83584,     0.83684,     0.83784,     0.83884,     0.83984,\n",
              "           0.84084,     0.84184,     0.84284,     0.84384,     0.84484,     0.84585,     0.84685,     0.84785,     0.84885,     0.84985,     0.85085,     0.85185,     0.85285,     0.85385,     0.85485,     0.85586,     0.85686,     0.85786,     0.85886,     0.85986,     0.86086,     0.86186,     0.86286,     0.86386,\n",
              "           0.86486,     0.86587,     0.86687,     0.86787,     0.86887,     0.86987,     0.87087,     0.87187,     0.87287,     0.87387,     0.87487,     0.87588,     0.87688,     0.87788,     0.87888,     0.87988,     0.88088,     0.88188,     0.88288,     0.88388,     0.88488,     0.88589,     0.88689,     0.88789,\n",
              "           0.88889,     0.88989,     0.89089,     0.89189,     0.89289,     0.89389,     0.89489,      0.8959,      0.8969,      0.8979,      0.8989,      0.8999,      0.9009,      0.9019,      0.9029,      0.9039,      0.9049,     0.90591,     0.90691,     0.90791,     0.90891,     0.90991,     0.91091,     0.91191,\n",
              "           0.91291,     0.91391,     0.91491,     0.91592,     0.91692,     0.91792,     0.91892,     0.91992,     0.92092,     0.92192,     0.92292,     0.92392,     0.92492,     0.92593,     0.92693,     0.92793,     0.92893,     0.92993,     0.93093,     0.93193,     0.93293,     0.93393,     0.93493,     0.93594,\n",
              "           0.93694,     0.93794,     0.93894,     0.93994,     0.94094,     0.94194,     0.94294,     0.94394,     0.94494,     0.94595,     0.94695,     0.94795,     0.94895,     0.94995,     0.95095,     0.95195,     0.95295,     0.95395,     0.95495,     0.95596,     0.95696,     0.95796,     0.95896,     0.95996,\n",
              "           0.96096,     0.96196,     0.96296,     0.96396,     0.96496,     0.96597,     0.96697,     0.96797,     0.96897,     0.96997,     0.97097,     0.97197,     0.97297,     0.97397,     0.97497,     0.97598,     0.97698,     0.97798,     0.97898,     0.97998,     0.98098,     0.98198,     0.98298,     0.98398,\n",
              "           0.98498,     0.98599,     0.98699,     0.98799,     0.98899,     0.98999,     0.99099,     0.99199,     0.99299,     0.99399,     0.99499,       0.996,       0.997,       0.998,       0.999,           1]), array([[    0.69231,     0.69231,     0.69231, ...,           0,           0,           0],\n",
              "       [          1,           1,           1, ...,           0,           0,           0],\n",
              "       [      0.875,       0.875,       0.875, ...,           0,           0,           0]]), 'Confidence', 'Recall']]\n",
              "fitness: 0.5644485430451311\n",
              "keys: ['metrics/precision(B)', 'metrics/recall(B)', 'metrics/mAP50(B)', 'metrics/mAP50-95(B)']\n",
              "maps: array([    0.25209,     0.79155,     0.56918])\n",
              "names: {0: 'eye', 1: 'rubikscube', 2: 'wristwatch'}\n",
              "plot: True\n",
              "results_dict: {'metrics/precision(B)': 0.719339244355584, 'metrics/recall(B)': 0.7814561074794993, 'metrics/mAP50(B)': 0.8060212191899692, 'metrics/mAP50-95(B)': 0.5376071345845935, 'fitness': 0.5644485430451311}\n",
              "save_dir: PosixPath('runs/detect/train3')\n",
              "speed: {'preprocess': 0.20662943522135416, 'inference': 2.004047234853109, 'loss': 0.0010331471761067708, 'postprocess': 0.9633898735046387}\n",
              "task: 'detect'"
            ]
          },
          "metadata": {},
          "execution_count": 9
        }
      ]
    },
    {
      "cell_type": "markdown",
      "source": [
        "![Снимок экрана 2024-11-10 215908.png](data:image/png;base64,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)\n"
      ],
      "metadata": {
        "id": "CKieCmwicTJB"
      }
    },
    {
      "cell_type": "markdown",
      "source": [
        "По итогу метрика mAP50 показывает, что почти по всем классам значение идентификации объекта с 50% перекрытием больше 65%, для часов 81%, для кубика рубика 95%. mAp(50-95) показывает среднее сначение с перекрытием от 50 до 95%. В данном случае только глаза показывают плохие результаты. Ниже для валидационных данных"
      ],
      "metadata": {
        "id": "CiaAy-fUdvAF"
      }
    },
    {
      "cell_type": "code",
      "source": [
        "Image(filename='/content/runs/detect/train/val_batch0_pred.jpg', width=600)"
      ],
      "metadata": {
        "colab": {
          "base_uri": "https://localhost:8080/",
          "height": 617
        },
        "id": "zSK1KWIWpCLR",
        "outputId": "6eb6f0dd-e8e9-400e-969d-b4e98a90e4d5",
        "collapsed": true
      },
      "execution_count": null,
      "outputs": [
        {
          "output_type": "execute_result",
          "data": {
            "image/jpeg": "[encoded data removed]",
            "text/plain": [
              "<IPython.core.display.Image object>"
            ]
          },
          "metadata": {
            "image/jpeg": {
              "width": 600
            }
          },
          "execution_count": 14
        }
      ]
    },
    {
      "cell_type": "code",
      "source": [
        "model = YOLO('/content/model2.pt')\n",
        "metrics = model.val()\n",
        "# print(metrics)"
      ],
      "metadata": {
        "colab": {
          "base_uri": "https://localhost:8080/"
        },
        "id": "S6eKifAuu4Y3",
        "outputId": "f393e836-3748-4189-d516-9af956efd539",
        "collapsed": true
      },
      "execution_count": null,
      "outputs": [
        {
          "output_type": "stream",
          "name": "stdout",
          "text": [
            "Ultralytics 8.3.28 🚀 Python-3.10.12 torch-2.5.0+cu121 CUDA:0 (Tesla T4, 15102MiB)\n",
            "Model summary (fused): 168 layers, 3,006,233 parameters, 0 gradients, 8.1 GFLOPs\n",
            "Downloading https://ultralytics.com/assets/Arial.ttf to '/root/.config/Ultralytics/Arial.ttf'...\n"
          ]
        },
        {
          "output_type": "stream",
          "name": "stderr",
          "text": [
            "100%|██████████| 755k/755k [00:00<00:00, 31.4MB/s]\n",
            "\u001b[34m\u001b[1mval: \u001b[0mScanning /content/First_project-1/valid/labels... 12 images, 0 backgrounds, 0 corrupt: 100%|██████████| 12/12 [00:00<00:00, 246.32it/s]"
          ]
        },
        {
          "output_type": "stream",
          "name": "stdout",
          "text": [
            "\u001b[34m\u001b[1mval: \u001b[0mNew cache created: /content/First_project-1/valid/labels.cache\n"
          ]
        },
        {
          "output_type": "stream",
          "name": "stderr",
          "text": [
            "\n",
            "                 Class     Images  Instances      Box(P          R      mAP50  mAP50-95): 100%|██████████| 1/1 [00:02<00:00,  2.53s/it]\n"
          ]
        },
        {
          "output_type": "stream",
          "name": "stdout",
          "text": [
            "                   all         12         25      0.865       0.68      0.786      0.538\n",
            "                   eye          7         13          1      0.416      0.594      0.248\n",
            "            rubikscube          4          4      0.729          1      0.945      0.792\n",
            "            wristwatch          8          8      0.867      0.625      0.817      0.575\n",
            "Speed: 0.2ms preprocess, 6.0ms inference, 0.0ms loss, 66.4ms postprocess per image\n",
            "Results saved to \u001b[1mruns/detect/val2\u001b[0m\n"
          ]
        }
      ]
    },
    {
      "cell_type": "markdown",
      "source": [
        "![Снимок экрана 2024-11-10 222230.png](data:image/png;base64,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)"
      ],
      "metadata": {
        "id": "_5Gcsm2KhzAE"
      }
    },
    {
      "cell_type": "markdown",
      "source": [
        "Рассмотрим все метрики, здесь precision, recall, mAP50 и mAP50-95.\n",
        "Метрика precision для всех классов стремится к единице. Метрика Recall для глаз и часов показывает значения меньше 0.5, это означает, что модель видит фантомные объекты. Метрики mAP не сильно отличаются от случая с тренировочными данными  \n"
      ],
      "metadata": {
        "id": "8mU64Ec_h43j"
      }
    },
    {
      "cell_type": "code",
      "source": [
        "model = YOLO('/content/runs/detect/train/weights/best.pt')"
      ],
      "metadata": {
        "id": "HJifIvBU0qav"
      },
      "execution_count": null,
      "outputs": []
    },
    {
      "cell_type": "code",
      "source": [
        "results = model.predict(source='/content/First_project-1/test/images', conf=0.1)"
      ],
      "metadata": {
        "colab": {
          "base_uri": "https://localhost:8080/"
        },
        "id": "0X-9eHkryMIn",
        "outputId": "0cfd47c0-6f41-47c3-baf7-45c94026e7fb"
      },
      "execution_count": null,
      "outputs": [
        {
          "output_type": "stream",
          "name": "stdout",
          "text": [
            "\n",
            "image 1/169 /content/First_project-1/train/images/00f14e1e0cc425cc3c56dee855cc1408_jpg.rf.0ca145c851d70ee86a3a0f82d3a43d54.jpg: 640x640 2 wristwatchs, 16.1ms\n",
            "image 2/169 /content/First_project-1/train/images/00f14e1e0cc425cc3c56dee855cc1408_jpg.rf.21538e9b5177eb32a98c772834498c76.jpg: 640x640 5 wristwatchs, 10.9ms\n",
            "image 3/169 /content/First_project-1/train/images/05e2f422941ff4151d4684228afcbbe4_jpg.rf.2ed0900647df5f196812290c98db8679.jpg: 640x640 2 eyes, 3 wristwatchs, 11.0ms\n",
            "image 4/169 /content/First_project-1/train/images/05e2f422941ff4151d4684228afcbbe4_jpg.rf.a0567f18b680413c611dd825d2e48fab.jpg: 640x640 3 eyes, 1 wristwatch, 9.9ms\n",
            "image 5/169 /content/First_project-1/train/images/0IOL_KMjRlA_jpg.rf.358e1fb012925bdd4c909aaf00f3ddf8.jpg: 640x640 1 rubikscube, 1 wristwatch, 10.2ms\n",
            "image 6/169 /content/First_project-1/train/images/0IOL_KMjRlA_jpg.rf.89e709243d36935dfcda4189ec5d62c5.jpg: 640x640 4 rubikscubes, 1 wristwatch, 10.2ms\n",
            "image 7/169 /content/First_project-1/train/images/0_jpg.rf.1cbdfaa723d3ba03e3bc155ce6e36f68.jpg: 640x640 1 eye, 1 rubikscube, 10.0ms\n",
            "image 8/169 /content/First_project-1/train/images/0_jpg.rf.76483b671ebc7b1aa1b751a21091bef3.jpg: 640x640 1 rubikscube, 10.1ms\n",
            "image 9/169 /content/First_project-1/train/images/1000_545_1620122870-6024_jpg.rf.1380bdd0c69cdc32f81de8b6326f7d40.jpg: 640x640 5 eyes, 1 wristwatch, 11.0ms\n",
            "image 10/169 /content/First_project-1/train/images/1000_545_1620122870-6024_jpg.rf.32aefb040e5270537100ec532e5201d0.jpg: 640x640 9 eyes, 1 wristwatch, 10.7ms\n",
            "image 11/169 /content/First_project-1/train/images/1200_5eba6ac482682c294ec51cc7_jpg.rf.0036ca3d011c028205d5bf4d59694ac5.jpg: 640x640 4 eyes, 1 rubikscube, 1 wristwatch, 10.7ms\n",
            "image 12/169 /content/First_project-1/train/images/1200_5eba6ac482682c294ec51cc7_jpg.rf.96ec6ca943628663fbf72946ad05f988.jpg: 640x640 3 eyes, 3 wristwatchs, 11.1ms\n",
            "image 13/169 /content/First_project-1/train/images/1400515296_neuderzhimye-na-brone-13_jpg.rf.4b44f1812ef8d09ea4a5de1c957bbce0.jpg: 640x640 2 wristwatchs, 7.4ms\n",
            "image 14/169 /content/First_project-1/train/images/1400515296_neuderzhimye-na-brone-13_jpg.rf.c3b220ce185c9d72fd708cf79373b1da.jpg: 640x640 3 wristwatchs, 7.4ms\n",
            "image 15/169 /content/First_project-1/train/images/164123022-krb_jpg.rf.a77412d5265256dbe5205accabaf8b88.jpg: 640x640 10 eyes, 1 rubikscube, 7.4ms\n",
            "image 16/169 /content/First_project-1/train/images/164123022-krb_jpg.rf.be3830ed836c33116f1b2d491d13d9a7.jpg: 640x640 5 eyes, 1 rubikscube, 3 wristwatchs, 7.4ms\n",
            "image 17/169 /content/First_project-1/train/images/1a6ac5cb729ca76754f12a3336d8_jpg.rf.2963d2910d49a5ef3d279c1fc432d94b.jpg: 640x640 1 eye, 1 rubikscube, 1 wristwatch, 7.4ms\n",
            "image 18/169 /content/First_project-1/train/images/1a6ac5cb729ca76754f12a3336d8_jpg.rf.f3a0cd947b9171ef57d1cbbe92cda5ae.jpg: 640x640 2 eyes, 1 rubikscube, 1 wristwatch, 7.4ms\n",
            "image 19/169 /content/First_project-1/train/images/2020-05-25_02-12-29__2f9d5c60-9e2d-11ea-ad92-771841612fe3_jpg.rf.9112300aac3fef77b7557f8bb26ea9f4.jpg: 640x640 5 eyes, 3 wristwatchs, 7.4ms\n",
            "image 20/169 /content/First_project-1/train/images/2020-05-25_02-12-29__2f9d5c60-9e2d-11ea-ad92-771841612fe3_jpg.rf.f8d73abbf69da3c46672ea3fcc6b6da4.jpg: 640x640 3 eyes, 5 wristwatchs, 7.4ms\n",
            "image 21/169 /content/First_project-1/train/images/3258d05da_jpg.rf.4ea51e935ccf5ece0624ecb8fcf182ef.jpg: 640x640 2 wristwatchs, 8.1ms\n",
            "image 22/169 /content/First_project-1/train/images/3258d05da_jpg.rf.8b0d909e5324bf8d3a0b78847b58b1d4.jpg: 640x640 1 rubikscube, 1 wristwatch, 9.0ms\n",
            "image 23/169 /content/First_project-1/train/images/32f4afed-bf22-4376-8ad5-145f2c9ae719_jack_jpg.rf.ce5181d9a3a085f380dfdd86f91b0280.jpg: 640x640 4 eyes, 2 rubikscubes, 1 wristwatch, 10.4ms\n",
            "image 24/169 /content/First_project-1/train/images/32f4afed-bf22-4376-8ad5-145f2c9ae719_jack_jpg.rf.ee947b7cbf7ed327c33c85326f2e0ab5.jpg: 640x640 1 eye, 2 rubikscubes, 1 wristwatch, 8.3ms\n",
            "image 25/169 /content/First_project-1/train/images/330f500e9adeb8502a7eb638c394574f_tn_jpg.rf.0dfbf5988fe9d30db658c05ce2c77609.jpg: 640x640 1 rubikscube, 2 wristwatchs, 9.7ms\n",
            "image 26/169 /content/First_project-1/train/images/330f500e9adeb8502a7eb638c394574f_tn_jpg.rf.37c051ba3ff7f14465085cc48e161ef1.jpg: 640x640 2 wristwatchs, 9.4ms\n",
            "image 27/169 /content/First_project-1/train/images/52c76c7408a1bc19b5ff6593f0e755c412_resize_640x480_fill_ffffff_8df5a0_jpg.rf.a65558de33d2b6bad5b6fbfe4b21cf69.jpg: 640x640 4 eyes, 1 rubikscube, 3 wristwatchs, 8.6ms\n",
            "image 28/169 /content/First_project-1/train/images/52c76c7408a1bc19b5ff6593f0e755c412_resize_640x480_fill_ffffff_8df5a0_jpg.rf.e6083ebd25c2f8fc6d7cad60e8437ecc.jpg: 640x640 4 eyes, 2 wristwatchs, 9.4ms\n",
            "image 29/169 /content/First_project-1/train/images/5d70a94f494f122ee08d895338769a19_jpg.rf.6fbd87cffeed55ae9181fa5ae701b34f.jpg: 640x640 2 wristwatchs, 9.3ms\n",
            "image 30/169 /content/First_project-1/train/images/5d70a94f494f122ee08d895338769a19_jpg.rf.774c2a18b76b988a1eb57a117f8ba6b4.jpg: 640x640 2 wristwatchs, 6.4ms\n",
            "image 31/169 /content/First_project-1/train/images/6367-970_jpg.rf.42ba9257fc757628b7a30c5026793f68.jpg: 640x640 2 eyes, 3 rubikscubes, 2 wristwatchs, 6.5ms\n",
            "image 32/169 /content/First_project-1/train/images/6367-970_jpg.rf.f298c22dbf4c1c8bb482205e52e03ec8.jpg: 640x640 2 eyes, 2 rubikscubes, 6.0ms\n",
            "image 33/169 /content/First_project-1/train/images/6393-970_jpg.rf.cad477b3ae3e25bb01421b4f427f25f9.jpg: 640x640 1 rubikscube, 6.0ms\n",
            "image 34/169 /content/First_project-1/train/images/6393-970_jpg.rf.ce712a18ebb46bf569482f11c4b11f60.jpg: 640x640 2 rubikscubes, 6.6ms\n",
            "image 35/169 /content/First_project-1/train/images/6415682324_jpg.rf.18492a1699a14b6e4720a72931dffeb4.jpg: 640x640 3 eyes, 3 wristwatchs, 6.0ms\n",
            "image 36/169 /content/First_project-1/train/images/7f2abe694c6f967fe0bca640da3cf944_jpg.rf.3f70d3734e2901199745096c8fa65023.jpg: 640x640 4 eyes, 1 wristwatch, 6.2ms\n",
            "image 37/169 /content/First_project-1/train/images/7f2abe694c6f967fe0bca640da3cf944_jpg.rf.983bdb799902ba02afbf7d78ece6c9fd.jpg: 640x640 3 eyes, 1 wristwatch, 6.0ms\n",
            "image 38/169 /content/First_project-1/train/images/Adriatica_A1290-5165Q-2-1000x1000_jpg.rf.5d5038b678fc0d80a3286ca2005ad40e.jpg: 640x640 1 wristwatch, 6.1ms\n",
            "image 39/169 /content/First_project-1/train/images/Adriatica_A1290-5165Q-2-1000x1000_jpg.rf.643064565f52d7a2ad0eb8c662430ddc.jpg: 640x640 1 wristwatch, 6.2ms\n",
            "image 40/169 /content/First_project-1/train/images/BLK3v5srhXQ_jpg.rf.021382f4816eb4f2adbda92ac7400635.jpg: 640x640 3 eyes, 2 wristwatchs, 6.0ms\n",
            "image 41/169 /content/First_project-1/train/images/BLK3v5srhXQ_jpg.rf.6da81386a01b177cd4bda667b4d84950.jpg: 640x640 2 eyes, 2 wristwatchs, 6.0ms\n",
            "image 42/169 /content/First_project-1/train/images/Bc4cH9bj0UqglQ5J8UfSO5Wdf3do-wJZjzWkoOMR9Vs-npC79l2YFwAUmWZOVr-QQ8usAXL5_jpg.rf.c0f87926f94e3d94370341f6a271342a.jpg: 640x640 1 eye, 5 wristwatchs, 6.1ms\n",
            "image 43/169 /content/First_project-1/train/images/Bc4cH9bj0UqglQ5J8UfSO5Wdf3do-wJZjzWkoOMR9Vs-npC79l2YFwAUmWZOVr-QQ8usAXL5_jpg.rf.e0de2166f88795b676a257cc27b7f756.jpg: 640x640 2 eyes, 3 wristwatchs, 6.0ms\n",
            "image 44/169 /content/First_project-1/train/images/Boy-9-breaks-Rubiks-cube-speed-record_jpg.rf.762d3eaf4fb6bcc407e8c416cceceee1.jpg: 640x640 1 rubikscube, 1 wristwatch, 6.0ms\n",
            "image 45/169 /content/First_project-1/train/images/Boy-9-breaks-Rubiks-cube-speed-record_jpg.rf.f2d2fd27e5837945d8f09cdcdcedb861.jpg: 640x640 1 rubikscube, 1 wristwatch, 5.9ms\n",
            "image 46/169 /content/First_project-1/train/images/Cgp1xH-GYj0_jpg.rf.7448805d9a5b4dbdf8ec1cbdea587e4c.jpg: 640x640 1 wristwatch, 5.7ms\n",
            "image 47/169 /content/First_project-1/train/images/Cgp1xH-GYj0_jpg.rf.7e6a7c89d04e246379534d8b2e7cadd0.jpg: 640x640 1 wristwatch, 6.5ms\n",
            "image 48/169 /content/First_project-1/train/images/DLiLZD9AFts_jpg.rf.080069d63675a3cac0eebf11de4b1d90.jpg: 640x640 4 eyes, 2 rubikscubes, 3 wristwatchs, 6.2ms\n",
            "image 49/169 /content/First_project-1/train/images/DLiLZD9AFts_jpg.rf.0b31660e2fe07c709e9a7ed23633cad7.jpg: 640x640 5 eyes, 1 rubikscube, 2 wristwatchs, 6.4ms\n",
            "image 50/169 /content/First_project-1/train/images/DbJX0rPW0AMqJuX_jpg.rf.1bfc661fdc5f0185074b1c8c855b4d87.jpg: 640x640 1 rubikscube, 1 wristwatch, 6.4ms\n",
            "image 51/169 /content/First_project-1/train/images/DbJX0rPW0AMqJuX_jpg.rf.f902f343c542fb6fd5dcd95013eaad6d.jpg: 640x640 1 rubikscube, 9.7ms\n",
            "image 52/169 /content/First_project-1/train/images/ELE64acde_DWC09_EUROPE_RUBIK_0715_11_jpg.rf.e78ced7e900cda97a0f0093b7fd2b977.jpg: 640x640 3 rubikscubes, 1 wristwatch, 10.3ms\n",
            "image 53/169 /content/First_project-1/train/images/Fec7oMJcJcs_jpg.rf.d189badc2788fe3658f80eb554e13ac2.jpg: 640x640 8 eyes, 1 wristwatch, 6.4ms\n",
            "image 54/169 /content/First_project-1/train/images/P-AOknFruw8_jpg.rf.8edf35f729ef500bf28c651f96b11d81.jpg: 640x640 4 wristwatchs, 6.6ms\n",
            "image 55/169 /content/First_project-1/train/images/P-AOknFruw8_jpg.rf.a3cf8c5b513aebf6296594864952b98a.jpg: 640x640 4 wristwatchs, 6.9ms\n",
            "image 56/169 /content/First_project-1/train/images/R61U5IEAmjPFRDFy28b-WYS1QCEZQwHAE4qZOEziHhOKHQ8vYwxov99JR1CQ1ZTOySaRQvclQsy-m9yEQlnvQQK0_jpg.rf.104dca62755196d05fc7c29a2f3f1bbb.jpg: 640x640 1 wristwatch, 6.7ms\n",
            "image 57/169 /content/First_project-1/train/images/TKw0X46U4dg_jpg.rf.2d20bf261d0bdd71c007ec4ccba077d6.jpg: 640x640 3 eyes, 6.3ms\n",
            "image 58/169 /content/First_project-1/train/images/TKw0X46U4dg_jpg.rf.b2398b9f69d4910f8efce9573cef5a32.jpg: 640x640 3 eyes, 1 wristwatch, 6.1ms\n",
            "image 59/169 /content/First_project-1/train/images/Untitled-11_jpg.rf.150e814f76b1bd28d3e71a24ff75edcc.jpg: 640x640 1 wristwatch, 8.0ms\n",
            "image 60/169 /content/First_project-1/train/images/W-218H-2AVEF_3_jpg.rf.df41630c799338f4f8bf0e9c39961513.jpg: 640x640 2 wristwatchs, 6.0ms\n",
            "image 61/169 /content/First_project-1/train/images/W-218H-2AVEF_3_jpg.rf.e9039318be6a4523b006cb6fb6c7b5b3.jpg: 640x640 2 wristwatchs, 6.2ms\n",
            "image 62/169 /content/First_project-1/train/images/_bRrlHLTlg4_jpg.rf.04e4e1601166a8441041b1c12ef8ec5d.jpg: 640x640 5 eyes, 2 wristwatchs, 6.3ms\n",
            "image 63/169 /content/First_project-1/train/images/_bRrlHLTlg4_jpg.rf.db01680f6a4f0993d4817b6ebfc7214c.jpg: 640x640 4 eyes, 1 rubikscube, 1 wristwatch, 6.2ms\n",
            "image 64/169 /content/First_project-1/train/images/_gmQ5KvY3PM_jpg.rf.6eba3ea55cfbb54558b964b52d9b0407.jpg: 640x640 5 eyes, 3 wristwatchs, 6.1ms\n",
            "image 65/169 /content/First_project-1/train/images/a1e6e0c7171d57b324100c1e2fca9554_jpg.rf.3d4d8959bda7f420bea3872c3572606f.jpg: 640x640 2 eyes, 4 rubikscubes, 1 wristwatch, 6.2ms\n",
            "image 66/169 /content/First_project-1/train/images/a1e6e0c7171d57b324100c1e2fca9554_jpg.rf.feb37355afe59e6ffe22915321bb8d96.jpg: 640x640 1 rubikscube, 5.9ms\n",
            "image 67/169 /content/First_project-1/train/images/ab4da3015c898e5c4b97c89595de937a_ce_2370x1244x0x53_cropped_1200x628_jpg.rf.0a621728412488f0887670af76bd5a8f.jpg: 640x640 3 eyes, 2 rubikscubes, 6.3ms\n",
            "image 68/169 /content/First_project-1/train/images/ab4da3015c898e5c4b97c89595de937a_ce_2370x1244x0x53_cropped_1200x628_jpg.rf.a83b65e650ed254b08da86dc62720af1.jpg: 640x640 3 eyes, 1 wristwatch, 5.9ms\n",
            "image 69/169 /content/First_project-1/train/images/apple-watch-s1-hero-768x512_jpg.rf.215d329511ae9d118103d359d1d3a8c5.jpg: 640x640 1 eye, 2 wristwatchs, 6.3ms\n",
            "image 70/169 /content/First_project-1/train/images/apple-watch-s1-hero-768x512_jpg.rf.bf609991b81734b0b0bdd0b4ea5a647d.jpg: 640x640 1 eye, 1 wristwatch, 6.1ms\n",
            "image 71/169 /content/First_project-1/train/images/c093d0638c68707b12aa0b6ee6c336fb_jpg.rf.76ac4883e1ec855b6cb540d14f38a664.jpg: 640x640 1 eye, 1 rubikscube, 5.9ms\n",
            "image 72/169 /content/First_project-1/train/images/c093d0638c68707b12aa0b6ee6c336fb_jpg.rf.cfd4a2c83aafd736c585e93fe8956f4b.jpg: 640x640 1 eye, 1 rubikscube, 6.1ms\n",
            "image 73/169 /content/First_project-1/train/images/d37cfdda7a9b9186840b50c03991e29b_jpg.rf.a989d5b49d488e601894c81cc7fe2f29.jpg: 640x640 5 eyes, 1 wristwatch, 6.0ms\n",
            "image 74/169 /content/First_project-1/train/images/d37cfdda7a9b9186840b50c03991e29b_jpg.rf.c71675a3c8b7da7e773b274fbdb6ee76.jpg: 640x640 7 eyes, 2 wristwatchs, 6.1ms\n",
            "image 75/169 /content/First_project-1/train/images/d3cqLRSXiCw_jpg.rf.5f7751562d76ee3fd26448016759b4e5.jpg: 640x640 2 rubikscubes, 7.1ms\n",
            "image 76/169 /content/First_project-1/train/images/d3cqLRSXiCw_jpg.rf.9977632e64f8a7ea25bb5e9102a38d8c.jpg: 640x640 3 rubikscubes, 1 wristwatch, 6.4ms\n",
            "image 77/169 /content/First_project-1/train/images/d3d2977b0afdc172587c75966a59d791_jpg.rf.50f0fb1e5edc80350bc10c30a0dabff2.jpg: 640x640 4 wristwatchs, 6.2ms\n",
            "image 78/169 /content/First_project-1/train/images/d3d2977b0afdc172587c75966a59d791_jpg.rf.ffd7e80a984d34cf72a630506d326af6.jpg: 640x640 4 wristwatchs, 6.0ms\n",
            "image 79/169 /content/First_project-1/train/images/e06b6f442f1abfbf71d600b696634440_jpg.rf.674943056af983542877b1c44cd87fe0.jpg: 640x640 4 eyes, 2 wristwatchs, 6.1ms\n",
            "image 80/169 /content/First_project-1/train/images/e06b6f442f1abfbf71d600b696634440_jpg.rf.7718b175938b9d825185852e1fa9c2f3.jpg: 640x640 5 eyes, 2 wristwatchs, 6.7ms\n",
            "image 81/169 /content/First_project-1/train/images/ecb2ef893c924c9b8f2e67660f29_jpg.rf.304576b81b0a543270aaf75eb058d875.jpg: 640x640 (no detections), 6.1ms\n",
            "image 82/169 /content/First_project-1/train/images/ecb2ef893c924c9b8f2e67660f29_jpg.rf.f2f09c04cbb05a2b85aaf864cd3801ce.jpg: 640x640 2 wristwatchs, 6.3ms\n",
            "image 83/169 /content/First_project-1/train/images/faad54_jpg.rf.421f65506e5f7038ed322be6ea223813.jpg: 640x640 1 wristwatch, 6.1ms\n",
            "image 84/169 /content/First_project-1/train/images/faad54_jpg.rf.a67a9ecc1a2157217c7ed1936f313dd5.jpg: 640x640 2 wristwatchs, 9.2ms\n",
            "image 85/169 /content/First_project-1/train/images/fcc2242afbdc6270fd71708476826aa3-apple-watch-style-fashion_jpg.rf.3aa6316ba11445138f47b681630b0951.jpg: 640x640 1 wristwatch, 6.4ms\n",
            "image 86/169 /content/First_project-1/train/images/fcc2242afbdc6270fd71708476826aa3-apple-watch-style-fashion_jpg.rf.a4ee923d6a5b70120f8060ff20b5dbaa.jpg: 640x640 4 wristwatchs, 6.1ms\n",
            "image 87/169 /content/First_project-1/train/images/freelancer_jpg.rf.daf119416c6c2056cd22a5fc68bdca9a.jpg: 640x640 1 rubikscube, 1 wristwatch, 6.3ms\n",
            "image 88/169 /content/First_project-1/train/images/hodinky-rosefield-the-elles-white-sunray-steel-silver-ocwss-o41-8720039335820-1586357159_jpg.rf.4d5b4ee101eca78468ae81ed911e380c.jpg: 640x640 4 wristwatchs, 6.3ms\n",
            "image 89/169 /content/First_project-1/train/images/hodinky-rosefield-the-elles-white-sunray-steel-silver-ocwss-o41-8720039335820-1586357159_jpg.rf.7e728b1d0e46ad282224d89b5f1f5a16.jpg: 640x640 1 wristwatch, 6.2ms\n",
            "image 90/169 /content/First_project-1/train/images/hqdefault-1-_jpg.rf.12f17c4c88a0c93ea5c6a152dff1935e.jpg: 640x640 4 eyes, 1 wristwatch, 6.1ms\n",
            "image 91/169 /content/First_project-1/train/images/hqdefault-1-_jpg.rf.9e66ea7c2c5faa4180b3b49e980b6151.jpg: 640x640 3 eyes, 2 wristwatchs, 9.4ms\n",
            "image 92/169 /content/First_project-1/train/images/hqdefault-2-_jpg.rf.ef43f315edd8c295fca56461cf5cc7d1.jpg: 640x640 5 eyes, 1 rubikscube, 9.0ms\n",
            "image 93/169 /content/First_project-1/train/images/hqdefault_jpg.rf.79a39e9ec15a8953ae50d9aead16cb1d.jpg: 640x640 3 rubikscubes, 8.8ms\n",
            "image 94/169 /content/First_project-1/train/images/hqdefault_jpg.rf.af167c53418749871730f0434d01e5e8.jpg: 640x640 2 rubikscubes, 8.4ms\n",
            "image 95/169 /content/First_project-1/train/images/image-20141203-3613-1xp8rl7_jpg.rf.0adc49074491538a82352e26f42b42a8.jpg: 640x640 1 eye, 1 rubikscube, 8.2ms\n",
            "image 96/169 /content/First_project-1/train/images/image-20141203-3613-1xp8rl7_jpg.rf.80129d9f4efa0f3c32fcbecd8be07fdb.jpg: 640x640 1 rubikscube, 8.5ms\n",
            "image 97/169 /content/First_project-1/train/images/image00001_146253349155_5951294cc202a_jpg.rf.085b0e31bad34e07c4194ce37625e5a5.jpg: 640x640 1 rubikscube, 2 wristwatchs, 9.8ms\n",
            "image 98/169 /content/First_project-1/train/images/inx960x640_jpg.rf.120f31f540d213b151a456db0fefbae8.jpg: 640x640 8 eyes, 1 rubikscube, 9.0ms\n",
            "image 99/169 /content/First_project-1/train/images/inx960x640_jpg.rf.406d8bd53197cb6cedff6ec06a85fd77.jpg: 640x640 5 eyes, 2 rubikscubes, 9.2ms\n",
            "image 100/169 /content/First_project-1/train/images/kadinlarin-garip-bir-sekilde-hastasi-oldugu-7-erkek-ozelligi_jpg.rf.c8ada9544ebc1344c47f276ac5b137d0.jpg: 640x640 3 wristwatchs, 8.6ms\n",
            "image 101/169 /content/First_project-1/train/images/kubikus-top-3x3-h-zhytomyr-cube-battle-2019_jpg.rf.6403fb4768370c625b66efaa5e3ff316.jpg: 640x640 4 eyes, 5 rubikscubes, 8.6ms\n",
            "image 102/169 /content/First_project-1/train/images/kubikus-top-3x3-h-zhytomyr-cube-battle-2019_jpg.rf.8088f1a34955c01cd3fc8860905b2774.jpg: 640x640 3 eyes, 6 rubikscubes, 9.2ms\n",
            "image 103/169 /content/First_project-1/train/images/mU-zBuRkRNc_jpg.rf.f0cca8c3c275d04571dc2555ac22c147.jpg: 640x640 3 eyes, 1 wristwatch, 9.4ms\n",
            "image 104/169 /content/First_project-1/train/images/maxresdefault-10-_jpg.rf.93e74bedf027d95604a488d2d9943176.jpg: 640x640 5 eyes, 6 rubikscubes, 9.2ms\n",
            "image 105/169 /content/First_project-1/train/images/maxresdefault-10-_jpg.rf.9e1d9d11b54ef812f29e658fd5f13fd8.jpg: 640x640 4 eyes, 1 rubikscube, 10.3ms\n",
            "image 106/169 /content/First_project-1/train/images/maxresdefault-11-_jpg.rf.b0a3498f970eff603aad6932e781640e.jpg: 640x640 1 rubikscube, 9.0ms\n",
            "image 107/169 /content/First_project-1/train/images/maxresdefault-12-_jpg.rf.9da7d15b58590d7a6fc816f16e21b975.jpg: 640x640 2 eyes, 1 rubikscube, 8.8ms\n",
            "image 108/169 /content/First_project-1/train/images/maxresdefault-13-_jpg.rf.e8301480d98f77a2f5e351238d1bc7af.jpg: 640x640 3 eyes, 3 rubikscubes, 9.1ms\n",
            "image 109/169 /content/First_project-1/train/images/maxresdefault-15-_jpg.rf.3edaa814a593fa941dd6b9a1c93b4e42.jpg: 640x640 4 eyes, 4 rubikscubes, 9.2ms\n",
            "image 110/169 /content/First_project-1/train/images/maxresdefault-15-_jpg.rf.ab040afe301f7d6ced805f80f7f559aa.jpg: 640x640 5 eyes, 7 rubikscubes, 6.5ms\n",
            "image 111/169 /content/First_project-1/train/images/maxresdefault-16-_jpg.rf.480eba95f2adafc4ec28c6c0994c10ae.jpg: 640x640 3 eyes, 2 rubikscubes, 6.0ms\n",
            "image 112/169 /content/First_project-1/train/images/maxresdefault-16-_jpg.rf.bb184c147db87592d2a26b6776d3b2ef.jpg: 640x640 4 eyes, 2 rubikscubes, 6.2ms\n",
            "image 113/169 /content/First_project-1/train/images/maxresdefault-18-_jpg.rf.2fffa68e89ecc30bb5b2a4f8e88b9d8f.jpg: 640x640 2 rubikscubes, 6.8ms\n",
            "image 114/169 /content/First_project-1/train/images/maxresdefault-18-_jpg.rf.da855eab5a94f23b562fbb9d7636c11a.jpg: 640x640 1 rubikscube, 6.3ms\n",
            "image 115/169 /content/First_project-1/train/images/maxresdefault-19-_jpg.rf.55883c253d32c11ad41e97ede24376cb.jpg: 640x640 2 eyes, 1 rubikscube, 6.2ms\n",
            "image 116/169 /content/First_project-1/train/images/maxresdefault-2-_jpg.rf.53984b3fe2e4c791776dd325c5fa4f54.jpg: 640x640 2 eyes, 3 rubikscubes, 6.5ms\n",
            "image 117/169 /content/First_project-1/train/images/maxresdefault-20-_jpg.rf.b1d6e70b5bed2113147f675096adef0a.jpg: 640x640 2 rubikscubes, 6.5ms\n",
            "image 118/169 /content/First_project-1/train/images/maxresdefault-20-_jpg.rf.b5e76950a6fa364554ca73800f42550f.jpg: 640x640 1 rubikscube, 1 wristwatch, 5.7ms\n",
            "image 119/169 /content/First_project-1/train/images/maxresdefault-21-_jpg.rf.46b053433ef4e715eb8552f61ee50ede.jpg: 640x640 1 eye, 7 rubikscubes, 10.3ms\n",
            "image 120/169 /content/First_project-1/train/images/maxresdefault-23-_jpg.rf.1122c761fcf88c6e1ffbf807dbaa0cab.jpg: 640x640 3 eyes, 1 rubikscube, 8.8ms\n",
            "image 121/169 /content/First_project-1/train/images/maxresdefault-23-_jpg.rf.93707ce00c4a10f0fcae5c3e7c2acac6.jpg: 640x640 2 eyes, 2 rubikscubes, 6.0ms\n",
            "image 122/169 /content/First_project-1/train/images/maxresdefault-3-_jpg.rf.cfe235191ba550e9241bc3ba33c61fbe.jpg: 640x640 3 eyes, 1 rubikscube, 5.8ms\n",
            "image 123/169 /content/First_project-1/train/images/maxresdefault-3-_jpg.rf.fd4c7f87225c96b2fcc3c9f0f70b42a0.jpg: 640x640 3 eyes, 4 rubikscubes, 1 wristwatch, 5.8ms\n",
            "image 124/169 /content/First_project-1/train/images/maxresdefault-4-_jpg.rf.905d50e34ce19897d09ee71b04573a5d.jpg: 640x640 1 eye, 1 rubikscube, 1 wristwatch, 5.9ms\n",
            "image 125/169 /content/First_project-1/train/images/maxresdefault-4-_jpg.rf.a0c1141569b33b015c9b54887539daee.jpg: 640x640 3 eyes, 2 rubikscubes, 3 wristwatchs, 5.8ms\n",
            "image 126/169 /content/First_project-1/train/images/maxresdefault-5-_jpg.rf.2e8cfd54d63ed6a96f394c4b6f91ff50.jpg: 640x640 2 rubikscubes, 5.9ms\n",
            "image 127/169 /content/First_project-1/train/images/maxresdefault-5-_jpg.rf.d398fdc51490f98647fabe9d3698dccd.jpg: 640x640 2 rubikscubes, 2 wristwatchs, 6.1ms\n",
            "image 128/169 /content/First_project-1/train/images/maxresdefault-6-_jpg.rf.2815ea00d22b5cfc86c2acca91fd323c.jpg: 640x640 1 rubikscube, 6.1ms\n",
            "image 129/169 /content/First_project-1/train/images/maxresdefault-6-_jpg.rf.89ef152e418aa7c294495ac02bc8efb5.jpg: 640x640 2 rubikscubes, 6.6ms\n",
            "image 130/169 /content/First_project-1/train/images/maxresdefault-7-_jpg.rf.78c662dccc834e327c8398569edad61c.jpg: 640x640 7 eyes, 1 rubikscube, 1 wristwatch, 6.0ms\n",
            "image 131/169 /content/First_project-1/train/images/maxresdefault-7-_jpg.rf.99f8d7d98e6851d00eac2d5fe0fd65cd.jpg: 640x640 4 eyes, 1 rubikscube, 1 wristwatch, 6.0ms\n",
            "image 132/169 /content/First_project-1/train/images/maxresdefault-8-_jpg.rf.a3408a21007b7501b66a6ad6e97a15f5.jpg: 640x640 3 eyes, 7 rubikscubes, 1 wristwatch, 6.0ms\n",
            "image 133/169 /content/First_project-1/train/images/maxresdefault-8-_jpg.rf.c3450121a2b4addade9508d3bc46df0c.jpg: 640x640 4 eyes, 4 rubikscubes, 5.7ms\n",
            "image 134/169 /content/First_project-1/train/images/maxresdefault-9-_jpg.rf.19a5764c351442cff9e234510ad33e52.jpg: 640x640 6 eyes, 1 rubikscube, 3 wristwatchs, 6.1ms\n",
            "image 135/169 /content/First_project-1/train/images/maxresdefault-9-_jpg.rf.ed83bf2827a35917204d4c7f51b19283.jpg: 640x640 6 eyes, 3 wristwatchs, 6.2ms\n",
            "image 136/169 /content/First_project-1/train/images/maxresdefault_jpg.rf.36454002846a065c695066be336a66e0.jpg: 640x640 1 eye, 4 rubikscubes, 6.2ms\n",
            "image 137/169 /content/First_project-1/train/images/maxresdefault_jpg.rf.ed67357ee6bdfb4add0530c33d5788ad.jpg: 640x640 4 rubikscubes, 6.5ms\n",
            "image 138/169 /content/First_project-1/train/images/men-watches-trend-2017-26-600x600_jpg.rf.a2041919d509f832c132cb53fad66c39.jpg: 640x640 3 wristwatchs, 6.3ms\n",
            "image 139/169 /content/First_project-1/train/images/men-watches-trend-2017-26-600x600_jpg.rf.a327fc81b0ac82a254c87800de1154a1.jpg: 640x640 2 wristwatchs, 6.2ms\n",
            "image 140/169 /content/First_project-1/train/images/ml3_jpg.rf.60f4884f4ed5c53dbebe25458ef17bc8.jpg: 640x640 4 wristwatchs, 5.9ms\n",
            "image 141/169 /content/First_project-1/train/images/ml3_jpg.rf.b00fecc7ac49ea14cbac7bbd60d51248.jpg: 640x640 3 wristwatchs, 6.1ms\n",
            "image 142/169 /content/First_project-1/train/images/moteriskas-laikrodis-rosefield-theboxy-qwgr-q12_310820151981_2769408_jpg.rf.63170dad2a6e8ffa39ca206f8c5de8e4.jpg: 640x640 4 wristwatchs, 7.3ms\n",
            "image 143/169 /content/First_project-1/train/images/moteriskas-laikrodis-rosefield-theboxy-qwgr-q12_310820151981_2769408_jpg.rf.782ea64af82e8ee3d77bf32834d3104f.jpg: 640x640 2 wristwatchs, 6.5ms\n",
            "image 144/169 /content/First_project-1/train/images/mqdefault_jpg.rf.1e7d8f865696721b43bd47c6cc65b16f.jpg: 640x640 7 eyes, 2 rubikscubes, 1 wristwatch, 6.5ms\n",
            "image 145/169 /content/First_project-1/train/images/mqdefault_jpg.rf.a483fd2803c0af719c4a303d42427ff3.jpg: 640x640 5 eyes, 1 rubikscube, 1 wristwatch, 6.1ms\n",
            "image 146/169 /content/First_project-1/train/images/nAgWUB67nUJkzJ7jP6aK-5L3nobt-dvtg32Qhv2YqzbZJC3PU2mcy3ou8dJV7UrDv9Pd-WmJN9ciBPC0yDMldXTOoXRGvUSGmj3rDRC2q2tOdTAEqyAzwW6_LRKfRTpQC7w-AfaQQwiKrj0sM-yLtogXw_jpg.rf.02a03c3e65b12168f33769a6ce4f436c.jpg: 640x640 2 eyes, 5 rubikscubes, 3 wristwatchs, 6.0ms\n",
            "image 147/169 /content/First_project-1/train/images/nAgWUB67nUJkzJ7jP6aK-5L3nobt-dvtg32Qhv2YqzbZJC3PU2mcy3ou8dJV7UrDv9Pd-WmJN9ciBPC0yDMldXTOoXRGvUSGmj3rDRC2q2tOdTAEqyAzwW6_LRKfRTpQC7w-AfaQQwiKrj0sM-yLtogXw_jpg.rf.7abbfe4bb86eada25c9c48f790345f2b.jpg: 640x640 2 eyes, 3 rubikscubes, 1 wristwatch, 5.9ms\n",
            "image 148/169 /content/First_project-1/train/images/nkbopyqkqyo0w8ksgs4_jpg.rf.2356d743b09c1fe5864b8ee1d4fed33a.jpg: 640x640 1 eye, 2 rubikscubes, 3 wristwatchs, 6.0ms\n",
            "image 149/169 /content/First_project-1/train/images/nkbopyqkqyo0w8ksgs4_jpg.rf.cb3707d9043ca21202c09a307b64935e.jpg: 640x640 2 eyes, 1 rubikscube, 1 wristwatch, 6.0ms\n",
            "image 150/169 /content/First_project-1/train/images/pexels-marko-blazevic-2875617-910x656_jpg.rf.8427ac1d72167547c37732850acddb48.jpg: 640x640 1 rubikscube, 6.2ms\n",
            "image 151/169 /content/First_project-1/train/images/pexels-marko-blazevic-2875617-910x656_jpg.rf.f02f5a1d47a3f76340c440abcaa5f336.jpg: 640x640 1 rubikscube, 6.1ms\n",
            "image 152/169 /content/First_project-1/train/images/pmcxjD1V8tw_jpg.rf.111598dad7a1afeffd26ca744f5d27da.jpg: 640x640 3 rubikscubes, 3 wristwatchs, 5.9ms\n",
            "image 153/169 /content/First_project-1/train/images/preview_w696zc1_jpg.rf.4cf6d56d050ddbbd01165019c26b9146.jpg: 640x640 1 rubikscube, 1 wristwatch, 5.9ms\n",
            "image 154/169 /content/First_project-1/train/images/preview_w696zc1_jpg.rf.4e2cfa7f7f8952666b2c0c85f37f5ea4.jpg: 640x640 2 rubikscubes, 1 wristwatch, 6.1ms\n",
            "image 155/169 /content/First_project-1/train/images/scale_1200-1-_jpg.rf.3281c11b24e45f6c62c6f4ca061106d9.jpg: 640x640 2 eyes, 1 wristwatch, 6.1ms\n",
            "image 156/169 /content/First_project-1/train/images/scale_1200-1-_jpg.rf.c00978fb6e43194f4fbddc3ec768553d.jpg: 640x640 1 eye, 2 wristwatchs, 7.1ms\n",
            "image 157/169 /content/First_project-1/train/images/scale_1200_jpg.rf.1a4d8aec6069a5a44f90751ec8810ba2.jpg: 640x640 3 eyes, 9.0ms\n",
            "image 158/169 /content/First_project-1/train/images/sddefault-1-_jpg.rf.0bb468eb1e1eb346f6504821919299c1.jpg: 640x640 3 eyes, 1 rubikscube, 1 wristwatch, 8.9ms\n",
            "image 159/169 /content/First_project-1/train/images/sddefault-1-_jpg.rf.4b6d2f76ad65d5565b5a2e16757a03d2.jpg: 640x640 5 eyes, 2 rubikscubes, 2 wristwatchs, 10.3ms\n",
            "image 160/169 /content/First_project-1/train/images/sddefault_jpg.rf.8bdaa09b6156535bf4574ba0592685e7.jpg: 640x640 4 rubikscubes, 2 wristwatchs, 8.9ms\n",
            "image 161/169 /content/First_project-1/train/images/sddefault_jpg.rf.db029791e156cc4be2e0f23186938951.jpg: 640x640 6 rubikscubes, 1 wristwatch, 8.9ms\n",
            "image 162/169 /content/First_project-1/train/images/stackmat_g4_6_jpg.rf.b4fd2b2ea9e22019efbcf74437f20f29.jpg: 640x640 2 rubikscubes, 8.5ms\n",
            "image 163/169 /content/First_project-1/train/images/stackmat_g4_6_jpg.rf.e40ded51969bb2fd18207ceadeccac40.jpg: 640x640 3 rubikscubes, 1 wristwatch, 9.1ms\n",
            "image 164/169 /content/First_project-1/train/images/uWtpmRsxTZI_jpg.rf.1de570bbf902319d2ce6dd23fd1287e4.jpg: 640x640 1 rubikscube, 1 wristwatch, 10.0ms\n",
            "image 165/169 /content/First_project-1/train/images/uWtpmRsxTZI_jpg.rf.e6bb9af6bd185bcb7b5f1f6ab1af2801.jpg: 640x640 3 rubikscubes, 1 wristwatch, 8.8ms\n",
            "image 166/169 /content/First_project-1/train/images/valuev-otvetil-podpischice-obvinivshej-ego-v-zhestokom-ubijstve-zhivotnyh_15888679531662793504_jpg.rf.2ab8a1e5c2ff3d1d746f21b6732e63d6.jpg: 640x640 2 eyes, 2 wristwatchs, 8.8ms\n",
            "image 167/169 /content/First_project-1/train/images/valuev-otvetil-podpischice-obvinivshej-ego-v-zhestokom-ubijstve-zhivotnyh_15888679531662793504_jpg.rf.d054d762427f3a5d440db3863db03216.jpg: 640x640 3 eyes, 1 wristwatch, 8.3ms\n",
            "image 168/169 /content/First_project-1/train/images/x_c418b2bc_jpg.rf.c47a526f006864418a9cca52723c7795.jpg: 640x640 2 eyes, 1 rubikscube, 2 wristwatchs, 10.0ms\n",
            "image 169/169 /content/First_project-1/train/images/x_c418b2bc_jpg.rf.e34aee241dd8d64d85d912023b2b4928.jpg: 640x640 3 eyes, 1 rubikscube, 2 wristwatchs, 8.7ms\n",
            "Speed: 2.2ms preprocess, 7.4ms inference, 1.3ms postprocess per image at shape (1, 3, 640, 640)\n"
          ]
        }
      ]
    },
    {
      "cell_type": "code",
      "source": [],
      "metadata": {
        "id": "Yx7ZJHaayMQ4"
      },
      "execution_count": null,
      "outputs": []
    }
  ],
  "metadata": {
    "colab": {
      "provenance": [],
      "gpuType": "T4",
      "include_colab_link": true
    },
    "kernelspec": {
      "display_name": "Python 3",
      "name": "python3"
    },
    "language_info": {
      "name": "python"
    },
    "accelerator": "GPU"
  },
  "nbformat": 4,
  "nbformat_minor": 0
}